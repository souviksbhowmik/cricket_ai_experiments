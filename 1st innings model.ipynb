{
 "cells": [
  {
   "cell_type": "code",
   "execution_count": 18,
   "metadata": {},
   "outputs": [],
   "source": [
    "import pandas as pd\n",
    "import numpy as np\n",
    "from datetime import datetime\n",
    "from matplotlib import pyplot as plt\n",
    "from sklearn.preprocessing import MinMaxScaler\n",
    "from tqdm.notebook import tqdm\n",
    "\n",
    "from sklearn.linear_model import LinearRegression\n",
    "from sklearn.preprocessing import StandardScaler,MinMaxScaler\n",
    "from sklearn.metrics import mean_absolute_error,mean_squared_error\n",
    "import pickle"
   ]
  },
  {
   "cell_type": "markdown",
   "metadata": {},
   "source": [
    "# LinearRegression"
   ]
  },
  {
   "cell_type": "markdown",
   "metadata": {},
   "source": [
    "Observations from initial linear regression\n",
    "\n",
    "\n",
    "1. The scores are more important than the trends\n",
    "\n",
    "2. All combined is the best model\n",
    "\n",
    "3. Only trends is worse\n",
    "\n",
    "4. Only scores is close\n",
    "\n",
    "5. There is no variance. (So increase features)"
   ]
  },
  {
   "cell_type": "code",
   "execution_count": 19,
   "metadata": {},
   "outputs": [],
   "source": [
    "def mape(y_true,y_predict):\n",
    "    return np.sum((np.abs(y_true-y_predict)/y_true)*100)/len(y_true)"
   ]
  },
  {
   "cell_type": "code",
   "execution_count": 20,
   "metadata": {},
   "outputs": [],
   "source": [
    "custom_date_parser = lambda x: datetime.strptime(x, \"%Y-%m-%d\")\n",
    "feature_df = pd.read_csv('csv_data/feature_first_innings.csv',parse_dates=['match_date'],date_parser=custom_date_parser)"
   ]
  },
  {
   "cell_type": "code",
   "execution_count": 21,
   "metadata": {},
   "outputs": [
    {
     "data": {
      "text/plain": [
       "array(['Australia', 'Sri Lanka', 'Zimbabwe', 'South Africa', 'India',\n",
       "       'New Zealand', 'England', 'Pakistan', 'West Indies', 'Bangladesh',\n",
       "       'Ireland', 'Scotland', 'Afghanistan', 'United Arab Emirates',\n",
       "       'Hong Kong', 'Papua New Guinea', 'United States of America'],\n",
       "      dtype=object)"
      ]
     },
     "execution_count": 21,
     "metadata": {},
     "output_type": "execute_result"
    }
   ],
   "source": [
    "feature_df['team'].unique()"
   ]
  },
  {
   "cell_type": "code",
   "execution_count": 22,
   "metadata": {},
   "outputs": [],
   "source": [
    "# cutoff_start_year = '2014'\n",
    "# cutoff_start_date = datetime.strptime(cutoff_start_year+'-01-01','%Y-%m-%d')\n",
    "# #feature_df=feature_df[feature_df['match_date']>cutoff_start_date]\n",
    "# feature_df=feature_df[feature_df['team']=='India']\n",
    "# feature_df=feature_df[feature_df['match_date']>cutoff_start_date]\n",
    "#feature_df = feature_df[feature_df['noise']==False]"
   ]
  },
  {
   "cell_type": "code",
   "execution_count": 23,
   "metadata": {},
   "outputs": [
    {
     "data": {
      "text/plain": [
       "Index(['match_id', 'match_date', 'team', 'opponent', 'location', 'team_score',\n",
       "       'opponent_score', 'opponent_base', 'opponent_trend',\n",
       "       'opponent_trend_predict', 'opponent_mean', 'location_base',\n",
       "       'location_trend', 'location_trend_predict', 'location_mean',\n",
       "       'current_base', 'current_trend', 'current_trend_predict',\n",
       "       'current_mean', 'batsman_mean', 'batsman_max', 'bowler_mean',\n",
       "       'bowler_max', 'is_train', 'noise', 'runs_scored'],\n",
       "      dtype='object')"
      ]
     },
     "execution_count": 23,
     "metadata": {},
     "output_type": "execute_result"
    }
   ],
   "source": [
    "feature_df.columns"
   ]
  },
  {
   "cell_type": "code",
   "execution_count": 24,
   "metadata": {},
   "outputs": [
    {
     "data": {
      "text/plain": [
       "match_id                  0\n",
       "match_date                0\n",
       "team                      0\n",
       "opponent                  0\n",
       "location                  0\n",
       "team_score                0\n",
       "opponent_score            0\n",
       "opponent_base             0\n",
       "opponent_trend            0\n",
       "opponent_trend_predict    0\n",
       "opponent_mean             0\n",
       "location_base             0\n",
       "location_trend            0\n",
       "location_trend_predict    0\n",
       "location_mean             0\n",
       "current_base              0\n",
       "current_trend             0\n",
       "current_trend_predict     0\n",
       "current_mean              0\n",
       "batsman_mean              0\n",
       "batsman_max               0\n",
       "bowler_mean               0\n",
       "bowler_max                0\n",
       "is_train                  0\n",
       "noise                     0\n",
       "runs_scored               0\n",
       "dtype: int64"
      ]
     },
     "execution_count": 24,
     "metadata": {},
     "output_type": "execute_result"
    }
   ],
   "source": [
    "feature_df.dropna(inplace=True)\n",
    "feature_df.isnull().sum()"
   ]
  },
  {
   "cell_type": "code",
   "execution_count": 25,
   "metadata": {},
   "outputs": [],
   "source": [
    "# feature_columns = ['team_score',\n",
    "#        'opponent_score', 'opponent_base', 'opponent_trend',\n",
    "#        'opponent_trend_predict', 'opponent_mean', 'location_base',\n",
    "#        'location_trend', 'location_trend_predict', 'location_mean',\n",
    "#        'current_base', 'current_trend', 'current_trend_predict',\n",
    "#        'current_mean', 'batsman_mean', 'batsman_max', 'bowler_mean',\n",
    "#        'bowler_max']\n",
    "pvalue selection : selected x1,x2,x7,x10,x15,x16,x17\n",
    "\n",
    "feature_columns = ['team_score', 'opponent_score', 'location_base', 'location_mean','batsman_mean', 'batsman_max', 'bowler_mean']\n",
    "       \n",
    "\n",
    "\n",
    "target_column = ['runs_scored']"
   ]
  },
  {
   "cell_type": "code",
   "execution_count": 26,
   "metadata": {},
   "outputs": [],
   "source": [
    "feature_df_train = feature_df[feature_df['is_train']==True]\n",
    "feature_df_test = feature_df[feature_df['is_train']==False]"
   ]
  },
  {
   "cell_type": "code",
   "execution_count": 27,
   "metadata": {},
   "outputs": [],
   "source": [
    "scaler = StandardScaler()\n",
    "y_scaler = StandardScaler()\n",
    "x_train = scaler.fit_transform(feature_df_train[feature_columns])\n",
    "y_train = feature_df_train[target_column]\n",
    "y_train_sc = y_scaler.fit_transform(feature_df_train[target_column])\n",
    "\n",
    "x_test = scaler.transform(feature_df_test[feature_columns])\n",
    "y_test = feature_df_test[target_column]\n",
    "y_test_sc = y_scaler.transform(feature_df_test[target_column])\n",
    "\n",
    "\n",
    "\n",
    "\n",
    "# x_train = np.array(feature_df_train[feature_columns])\n",
    "# y_train = np.array(feature_df_train[target_column])\n",
    "\n",
    "# x_test = np.array(feature_df_test[feature_columns])\n",
    "# y_test = np.array(feature_df_test[target_column])\n",
    "\n",
    "\n"
   ]
  },
  {
   "cell_type": "code",
   "execution_count": 11,
   "metadata": {},
   "outputs": [
    {
     "data": {
      "text/plain": [
       "LinearRegression()"
      ]
     },
     "execution_count": 11,
     "metadata": {},
     "output_type": "execute_result"
    }
   ],
   "source": [
    "lr = LinearRegression()\n",
    "lr.fit(x_train,y_train)"
   ]
  },
  {
   "cell_type": "code",
   "execution_count": 12,
   "metadata": {},
   "outputs": [],
   "source": [
    "y_train_predict = lr.predict(x_train)\n",
    "y_test_predict = lr.predict(x_test)"
   ]
  },
  {
   "cell_type": "code",
   "execution_count": 13,
   "metadata": {},
   "outputs": [
    {
     "data": {
      "text/plain": [
       "42.05695001923458"
      ]
     },
     "execution_count": 13,
     "metadata": {},
     "output_type": "execute_result"
    }
   ],
   "source": [
    "mean_absolute_error(y_train,y_train_predict)"
   ]
  },
  {
   "cell_type": "code",
   "execution_count": 14,
   "metadata": {},
   "outputs": [
    {
     "data": {
      "text/plain": [
       "46.288914601173744"
      ]
     },
     "execution_count": 14,
     "metadata": {},
     "output_type": "execute_result"
    }
   ],
   "source": [
    "mean_absolute_error(y_test,y_test_predict)"
   ]
  },
  {
   "cell_type": "code",
   "execution_count": 15,
   "metadata": {},
   "outputs": [
    {
     "data": {
      "text/plain": [
       "19.921629717476897"
      ]
     },
     "execution_count": 15,
     "metadata": {},
     "output_type": "execute_result"
    }
   ],
   "source": [
    "mape(np.array(y_train),np.array(y_train_predict))"
   ]
  },
  {
   "cell_type": "code",
   "execution_count": 16,
   "metadata": {},
   "outputs": [
    {
     "data": {
      "text/plain": [
       "22.4293955796168"
      ]
     },
     "execution_count": 16,
     "metadata": {},
     "output_type": "execute_result"
    }
   ],
   "source": [
    "mape(np.array(y_test),np.array(y_test_predict))"
   ]
  },
  {
   "cell_type": "code",
   "execution_count": 17,
   "metadata": {},
   "outputs": [
    {
     "data": {
      "text/plain": [
       "3441.572405244475"
      ]
     },
     "execution_count": 17,
     "metadata": {},
     "output_type": "execute_result"
    }
   ],
   "source": [
    "mean_squared_error(y_test,y_test_predict)"
   ]
  },
  {
   "cell_type": "code",
   "execution_count": 161,
   "metadata": {},
   "outputs": [],
   "source": [
    "#pickle.dump(lr,open('first_innings_linear_regression.pkl','wb'))"
   ]
  },
  {
   "cell_type": "code",
   "execution_count": 164,
   "metadata": {},
   "outputs": [],
   "source": [
    "#pickle.dump(scaler,open('first_innings_linear_regression_scaler.pkl','wb'))"
   ]
  },
  {
   "cell_type": "code",
   "execution_count": 163,
   "metadata": {},
   "outputs": [],
   "source": [
    "result_df_train=pd.DataFrame(feature_df_train)\n",
    "result_df_test =pd.DataFrame(feature_df_test)\n",
    "result_df_train['first_innings_prediction']=y_train_predict\n",
    "result_df_test['first_innings_prediction']=y_test_predict\n",
    "\n",
    "result_df_train.to_csv('csv_data/result_df_tran.csv',index=False)\n",
    "result_df_test.to_csv('csv_data/result_df_test.csv',index=False)"
   ]
  },
  {
   "cell_type": "code",
   "execution_count": 67,
   "metadata": {},
   "outputs": [
    {
     "data": {
      "text/html": [
       "<div>\n",
       "<style scoped>\n",
       "    .dataframe tbody tr th:only-of-type {\n",
       "        vertical-align: middle;\n",
       "    }\n",
       "\n",
       "    .dataframe tbody tr th {\n",
       "        vertical-align: top;\n",
       "    }\n",
       "\n",
       "    .dataframe thead th {\n",
       "        text-align: right;\n",
       "    }\n",
       "</style>\n",
       "<table border=\"1\" class=\"dataframe\">\n",
       "  <thead>\n",
       "    <tr style=\"text-align: right;\">\n",
       "      <th></th>\n",
       "      <th>runs_scored</th>\n",
       "    </tr>\n",
       "  </thead>\n",
       "  <tbody>\n",
       "    <tr>\n",
       "      <th>723</th>\n",
       "      <td>371</td>\n",
       "    </tr>\n",
       "    <tr>\n",
       "      <th>724</th>\n",
       "      <td>319</td>\n",
       "    </tr>\n",
       "    <tr>\n",
       "      <th>725</th>\n",
       "      <td>364</td>\n",
       "    </tr>\n",
       "    <tr>\n",
       "      <th>726</th>\n",
       "      <td>266</td>\n",
       "    </tr>\n",
       "    <tr>\n",
       "      <th>727</th>\n",
       "      <td>203</td>\n",
       "    </tr>\n",
       "    <tr>\n",
       "      <th>...</th>\n",
       "      <td>...</td>\n",
       "    </tr>\n",
       "    <tr>\n",
       "      <th>827</th>\n",
       "      <td>294</td>\n",
       "    </tr>\n",
       "    <tr>\n",
       "      <th>828</th>\n",
       "      <td>231</td>\n",
       "    </tr>\n",
       "    <tr>\n",
       "      <th>829</th>\n",
       "      <td>302</td>\n",
       "    </tr>\n",
       "    <tr>\n",
       "      <th>830</th>\n",
       "      <td>374</td>\n",
       "    </tr>\n",
       "    <tr>\n",
       "      <th>831</th>\n",
       "      <td>389</td>\n",
       "    </tr>\n",
       "  </tbody>\n",
       "</table>\n",
       "<p>109 rows × 1 columns</p>\n",
       "</div>"
      ],
      "text/plain": [
       "     runs_scored\n",
       "723          371\n",
       "724          319\n",
       "725          364\n",
       "726          266\n",
       "727          203\n",
       "..           ...\n",
       "827          294\n",
       "828          231\n",
       "829          302\n",
       "830          374\n",
       "831          389\n",
       "\n",
       "[109 rows x 1 columns]"
      ]
     },
     "execution_count": 67,
     "metadata": {},
     "output_type": "execute_result"
    }
   ],
   "source": [
    "y_test"
   ]
  },
  {
   "cell_type": "code",
   "execution_count": 68,
   "metadata": {},
   "outputs": [],
   "source": [
    "compare_df = pd.DataFrame()\n",
    "compare_df['actual']=y_test['runs_scored']\n",
    "compare_df['predicted']=y_test_predict.reshape(-1)"
   ]
  },
  {
   "cell_type": "code",
   "execution_count": 69,
   "metadata": {},
   "outputs": [],
   "source": [
    "compare_df['percentage_error']=abs(compare_df['actual']-compare_df['predicted'])/compare_df['actual']"
   ]
  },
  {
   "cell_type": "code",
   "execution_count": 70,
   "metadata": {},
   "outputs": [
    {
     "data": {
      "text/html": [
       "<div>\n",
       "<style scoped>\n",
       "    .dataframe tbody tr th:only-of-type {\n",
       "        vertical-align: middle;\n",
       "    }\n",
       "\n",
       "    .dataframe tbody tr th {\n",
       "        vertical-align: top;\n",
       "    }\n",
       "\n",
       "    .dataframe thead th {\n",
       "        text-align: right;\n",
       "    }\n",
       "</style>\n",
       "<table border=\"1\" class=\"dataframe\">\n",
       "  <thead>\n",
       "    <tr style=\"text-align: right;\">\n",
       "      <th></th>\n",
       "      <th>actual</th>\n",
       "      <th>predicted</th>\n",
       "      <th>percentage_error</th>\n",
       "    </tr>\n",
       "  </thead>\n",
       "  <tbody>\n",
       "    <tr>\n",
       "      <th>723</th>\n",
       "      <td>371</td>\n",
       "      <td>287.470210</td>\n",
       "      <td>0.225148</td>\n",
       "    </tr>\n",
       "    <tr>\n",
       "      <th>724</th>\n",
       "      <td>319</td>\n",
       "      <td>276.350358</td>\n",
       "      <td>0.133698</td>\n",
       "    </tr>\n",
       "    <tr>\n",
       "      <th>725</th>\n",
       "      <td>364</td>\n",
       "      <td>294.862849</td>\n",
       "      <td>0.189937</td>\n",
       "    </tr>\n",
       "    <tr>\n",
       "      <th>726</th>\n",
       "      <td>266</td>\n",
       "      <td>297.507207</td>\n",
       "      <td>0.118448</td>\n",
       "    </tr>\n",
       "    <tr>\n",
       "      <th>727</th>\n",
       "      <td>203</td>\n",
       "      <td>246.928023</td>\n",
       "      <td>0.216394</td>\n",
       "    </tr>\n",
       "    <tr>\n",
       "      <th>...</th>\n",
       "      <td>...</td>\n",
       "      <td>...</td>\n",
       "      <td>...</td>\n",
       "    </tr>\n",
       "    <tr>\n",
       "      <th>827</th>\n",
       "      <td>294</td>\n",
       "      <td>235.756259</td>\n",
       "      <td>0.198108</td>\n",
       "    </tr>\n",
       "    <tr>\n",
       "      <th>828</th>\n",
       "      <td>231</td>\n",
       "      <td>249.803472</td>\n",
       "      <td>0.081400</td>\n",
       "    </tr>\n",
       "    <tr>\n",
       "      <th>829</th>\n",
       "      <td>302</td>\n",
       "      <td>262.209381</td>\n",
       "      <td>0.131757</td>\n",
       "    </tr>\n",
       "    <tr>\n",
       "      <th>830</th>\n",
       "      <td>374</td>\n",
       "      <td>278.053649</td>\n",
       "      <td>0.256541</td>\n",
       "    </tr>\n",
       "    <tr>\n",
       "      <th>831</th>\n",
       "      <td>389</td>\n",
       "      <td>321.077767</td>\n",
       "      <td>0.174607</td>\n",
       "    </tr>\n",
       "  </tbody>\n",
       "</table>\n",
       "<p>109 rows × 3 columns</p>\n",
       "</div>"
      ],
      "text/plain": [
       "     actual   predicted  percentage_error\n",
       "723     371  287.470210          0.225148\n",
       "724     319  276.350358          0.133698\n",
       "725     364  294.862849          0.189937\n",
       "726     266  297.507207          0.118448\n",
       "727     203  246.928023          0.216394\n",
       "..      ...         ...               ...\n",
       "827     294  235.756259          0.198108\n",
       "828     231  249.803472          0.081400\n",
       "829     302  262.209381          0.131757\n",
       "830     374  278.053649          0.256541\n",
       "831     389  321.077767          0.174607\n",
       "\n",
       "[109 rows x 3 columns]"
      ]
     },
     "execution_count": 70,
     "metadata": {},
     "output_type": "execute_result"
    }
   ],
   "source": [
    "compare_df"
   ]
  },
  {
   "cell_type": "code",
   "execution_count": 71,
   "metadata": {},
   "outputs": [],
   "source": [
    "compare_df['is_less']=compare_df['actual']>compare_df['predicted']"
   ]
  },
  {
   "cell_type": "code",
   "execution_count": 72,
   "metadata": {},
   "outputs": [
    {
     "data": {
      "text/plain": [
       "((65, 4), (109, 4))"
      ]
     },
     "execution_count": 72,
     "metadata": {},
     "output_type": "execute_result"
    }
   ],
   "source": [
    "compare_df[compare_df['is_less']==True].shape,compare_df.shape"
   ]
  },
  {
   "cell_type": "code",
   "execution_count": 73,
   "metadata": {},
   "outputs": [],
   "source": [
    "result_df =pd.concat([feature_df_test,compare_df],axis=1)"
   ]
  },
  {
   "cell_type": "code",
   "execution_count": 74,
   "metadata": {},
   "outputs": [
    {
     "data": {
      "text/html": [
       "<div>\n",
       "<style scoped>\n",
       "    .dataframe tbody tr th:only-of-type {\n",
       "        vertical-align: middle;\n",
       "    }\n",
       "\n",
       "    .dataframe tbody tr th {\n",
       "        vertical-align: top;\n",
       "    }\n",
       "\n",
       "    .dataframe thead th {\n",
       "        text-align: right;\n",
       "    }\n",
       "</style>\n",
       "<table border=\"1\" class=\"dataframe\">\n",
       "  <thead>\n",
       "    <tr style=\"text-align: right;\">\n",
       "      <th></th>\n",
       "      <th>match_id</th>\n",
       "      <th>match_date</th>\n",
       "      <th>team</th>\n",
       "      <th>opponent</th>\n",
       "      <th>location</th>\n",
       "      <th>team_score</th>\n",
       "      <th>opponent_score</th>\n",
       "      <th>opponent_base</th>\n",
       "      <th>opponent_trend</th>\n",
       "      <th>opponent_trend_predict</th>\n",
       "      <th>...</th>\n",
       "      <th>batsman_max</th>\n",
       "      <th>bowler_mean</th>\n",
       "      <th>bowler_max</th>\n",
       "      <th>is_train</th>\n",
       "      <th>noise</th>\n",
       "      <th>runs_scored</th>\n",
       "      <th>actual</th>\n",
       "      <th>predicted</th>\n",
       "      <th>percentage_error</th>\n",
       "      <th>is_less</th>\n",
       "    </tr>\n",
       "  </thead>\n",
       "  <tbody>\n",
       "    <tr>\n",
       "      <th>724</th>\n",
       "      <td>1153841</td>\n",
       "      <td>2019-01-05</td>\n",
       "      <td>New Zealand</td>\n",
       "      <td>Sri Lanka</td>\n",
       "      <td>Mount Maunganui</td>\n",
       "      <td>2.407534</td>\n",
       "      <td>1.809724</td>\n",
       "      <td>294.9</td>\n",
       "      <td>7.5</td>\n",
       "      <td>339.9</td>\n",
       "      <td>...</td>\n",
       "      <td>4.993700</td>\n",
       "      <td>2.810098</td>\n",
       "      <td>3.745236</td>\n",
       "      <td>False</td>\n",
       "      <td>False</td>\n",
       "      <td>319</td>\n",
       "      <td>319</td>\n",
       "      <td>276.350358</td>\n",
       "      <td>0.133698</td>\n",
       "      <td>True</td>\n",
       "    </tr>\n",
       "    <tr>\n",
       "      <th>726</th>\n",
       "      <td>1144156</td>\n",
       "      <td>2019-01-19</td>\n",
       "      <td>South Africa</td>\n",
       "      <td>Pakistan</td>\n",
       "      <td>Port Elizabeth</td>\n",
       "      <td>2.279248</td>\n",
       "      <td>2.745555</td>\n",
       "      <td>196.7</td>\n",
       "      <td>15.1</td>\n",
       "      <td>287.3</td>\n",
       "      <td>...</td>\n",
       "      <td>3.353053</td>\n",
       "      <td>3.327420</td>\n",
       "      <td>4.287456</td>\n",
       "      <td>False</td>\n",
       "      <td>False</td>\n",
       "      <td>266</td>\n",
       "      <td>266</td>\n",
       "      <td>297.507207</td>\n",
       "      <td>0.118448</td>\n",
       "      <td>False</td>\n",
       "    </tr>\n",
       "    <tr>\n",
       "      <th>729</th>\n",
       "      <td>1153693</td>\n",
       "      <td>2019-01-28</td>\n",
       "      <td>New Zealand</td>\n",
       "      <td>India</td>\n",
       "      <td>Mount Maunganui</td>\n",
       "      <td>2.407534</td>\n",
       "      <td>3.597041</td>\n",
       "      <td>212.0</td>\n",
       "      <td>9.8</td>\n",
       "      <td>270.8</td>\n",
       "      <td>...</td>\n",
       "      <td>4.993700</td>\n",
       "      <td>4.287744</td>\n",
       "      <td>6.077775</td>\n",
       "      <td>False</td>\n",
       "      <td>False</td>\n",
       "      <td>243</td>\n",
       "      <td>243</td>\n",
       "      <td>250.877114</td>\n",
       "      <td>0.032416</td>\n",
       "      <td>False</td>\n",
       "    </tr>\n",
       "    <tr>\n",
       "      <th>730</th>\n",
       "      <td>1144160</td>\n",
       "      <td>2019-01-30</td>\n",
       "      <td>Pakistan</td>\n",
       "      <td>South Africa</td>\n",
       "      <td>Cape Town</td>\n",
       "      <td>2.745555</td>\n",
       "      <td>2.279248</td>\n",
       "      <td>229.5</td>\n",
       "      <td>-5.1</td>\n",
       "      <td>198.9</td>\n",
       "      <td>...</td>\n",
       "      <td>4.962897</td>\n",
       "      <td>3.423204</td>\n",
       "      <td>4.023650</td>\n",
       "      <td>False</td>\n",
       "      <td>False</td>\n",
       "      <td>240</td>\n",
       "      <td>240</td>\n",
       "      <td>224.345770</td>\n",
       "      <td>0.065226</td>\n",
       "      <td>True</td>\n",
       "    </tr>\n",
       "    <tr>\n",
       "      <th>732</th>\n",
       "      <td>1153695</td>\n",
       "      <td>2019-02-03</td>\n",
       "      <td>India</td>\n",
       "      <td>New Zealand</td>\n",
       "      <td>Wellington</td>\n",
       "      <td>3.597041</td>\n",
       "      <td>2.407534</td>\n",
       "      <td>353.4</td>\n",
       "      <td>-31.0</td>\n",
       "      <td>167.4</td>\n",
       "      <td>...</td>\n",
       "      <td>5.731100</td>\n",
       "      <td>3.801929</td>\n",
       "      <td>4.644827</td>\n",
       "      <td>False</td>\n",
       "      <td>True</td>\n",
       "      <td>252</td>\n",
       "      <td>252</td>\n",
       "      <td>217.528811</td>\n",
       "      <td>0.136790</td>\n",
       "      <td>True</td>\n",
       "    </tr>\n",
       "    <tr>\n",
       "      <th>...</th>\n",
       "      <td>...</td>\n",
       "      <td>...</td>\n",
       "      <td>...</td>\n",
       "      <td>...</td>\n",
       "      <td>...</td>\n",
       "      <td>...</td>\n",
       "      <td>...</td>\n",
       "      <td>...</td>\n",
       "      <td>...</td>\n",
       "      <td>...</td>\n",
       "      <td>...</td>\n",
       "      <td>...</td>\n",
       "      <td>...</td>\n",
       "      <td>...</td>\n",
       "      <td>...</td>\n",
       "      <td>...</td>\n",
       "      <td>...</td>\n",
       "      <td>...</td>\n",
       "      <td>...</td>\n",
       "      <td>...</td>\n",
       "      <td>...</td>\n",
       "    </tr>\n",
       "    <tr>\n",
       "      <th>822</th>\n",
       "      <td>1185321</td>\n",
       "      <td>2020-03-07</td>\n",
       "      <td>Australia</td>\n",
       "      <td>South Africa</td>\n",
       "      <td>Potchefstroom</td>\n",
       "      <td>3.440821</td>\n",
       "      <td>2.292825</td>\n",
       "      <td>279.2</td>\n",
       "      <td>-13.6</td>\n",
       "      <td>197.6</td>\n",
       "      <td>...</td>\n",
       "      <td>5.071416</td>\n",
       "      <td>4.084507</td>\n",
       "      <td>4.482480</td>\n",
       "      <td>False</td>\n",
       "      <td>True</td>\n",
       "      <td>254</td>\n",
       "      <td>254</td>\n",
       "      <td>267.397895</td>\n",
       "      <td>0.052748</td>\n",
       "      <td>False</td>\n",
       "    </tr>\n",
       "    <tr>\n",
       "      <th>823</th>\n",
       "      <td>1183537</td>\n",
       "      <td>2020-03-13</td>\n",
       "      <td>Australia</td>\n",
       "      <td>New Zealand</td>\n",
       "      <td>Sydney</td>\n",
       "      <td>3.440821</td>\n",
       "      <td>3.156275</td>\n",
       "      <td>234.8</td>\n",
       "      <td>12.4</td>\n",
       "      <td>309.2</td>\n",
       "      <td>...</td>\n",
       "      <td>5.071416</td>\n",
       "      <td>4.830566</td>\n",
       "      <td>6.031234</td>\n",
       "      <td>False</td>\n",
       "      <td>False</td>\n",
       "      <td>258</td>\n",
       "      <td>258</td>\n",
       "      <td>260.952098</td>\n",
       "      <td>0.011442</td>\n",
       "      <td>False</td>\n",
       "    </tr>\n",
       "    <tr>\n",
       "      <th>825</th>\n",
       "      <td>1198248</td>\n",
       "      <td>2020-08-01</td>\n",
       "      <td>Ireland</td>\n",
       "      <td>England</td>\n",
       "      <td>Southampton</td>\n",
       "      <td>1.694051</td>\n",
       "      <td>3.682456</td>\n",
       "      <td>246.0</td>\n",
       "      <td>-21.9</td>\n",
       "      <td>136.5</td>\n",
       "      <td>...</td>\n",
       "      <td>3.056867</td>\n",
       "      <td>4.018376</td>\n",
       "      <td>5.344566</td>\n",
       "      <td>False</td>\n",
       "      <td>False</td>\n",
       "      <td>212</td>\n",
       "      <td>212</td>\n",
       "      <td>203.061060</td>\n",
       "      <td>0.042165</td>\n",
       "      <td>True</td>\n",
       "    </tr>\n",
       "    <tr>\n",
       "      <th>828</th>\n",
       "      <td>1198239</td>\n",
       "      <td>2020-09-13</td>\n",
       "      <td>England</td>\n",
       "      <td>Australia</td>\n",
       "      <td>Manchester</td>\n",
       "      <td>3.682456</td>\n",
       "      <td>3.440821</td>\n",
       "      <td>164.8</td>\n",
       "      <td>50.4</td>\n",
       "      <td>467.2</td>\n",
       "      <td>...</td>\n",
       "      <td>5.038464</td>\n",
       "      <td>5.402401</td>\n",
       "      <td>6.041895</td>\n",
       "      <td>False</td>\n",
       "      <td>False</td>\n",
       "      <td>231</td>\n",
       "      <td>231</td>\n",
       "      <td>249.803472</td>\n",
       "      <td>0.081400</td>\n",
       "      <td>False</td>\n",
       "    </tr>\n",
       "    <tr>\n",
       "      <th>829</th>\n",
       "      <td>1198240</td>\n",
       "      <td>2020-09-16</td>\n",
       "      <td>England</td>\n",
       "      <td>Australia</td>\n",
       "      <td>Manchester</td>\n",
       "      <td>3.682456</td>\n",
       "      <td>3.440821</td>\n",
       "      <td>214.2</td>\n",
       "      <td>29.2</td>\n",
       "      <td>389.4</td>\n",
       "      <td>...</td>\n",
       "      <td>5.038464</td>\n",
       "      <td>5.227850</td>\n",
       "      <td>6.041895</td>\n",
       "      <td>False</td>\n",
       "      <td>False</td>\n",
       "      <td>302</td>\n",
       "      <td>302</td>\n",
       "      <td>262.209381</td>\n",
       "      <td>0.131757</td>\n",
       "      <td>True</td>\n",
       "    </tr>\n",
       "  </tbody>\n",
       "</table>\n",
       "<p>64 rows × 30 columns</p>\n",
       "</div>"
      ],
      "text/plain": [
       "     match_id match_date          team      opponent         location  \\\n",
       "724   1153841 2019-01-05   New Zealand     Sri Lanka  Mount Maunganui   \n",
       "726   1144156 2019-01-19  South Africa      Pakistan   Port Elizabeth   \n",
       "729   1153693 2019-01-28   New Zealand         India  Mount Maunganui   \n",
       "730   1144160 2019-01-30      Pakistan  South Africa        Cape Town   \n",
       "732   1153695 2019-02-03         India   New Zealand       Wellington   \n",
       "..        ...        ...           ...           ...              ...   \n",
       "822   1185321 2020-03-07     Australia  South Africa    Potchefstroom   \n",
       "823   1183537 2020-03-13     Australia   New Zealand           Sydney   \n",
       "825   1198248 2020-08-01       Ireland       England      Southampton   \n",
       "828   1198239 2020-09-13       England     Australia       Manchester   \n",
       "829   1198240 2020-09-16       England     Australia       Manchester   \n",
       "\n",
       "     team_score  opponent_score  opponent_base  opponent_trend  \\\n",
       "724    2.407534        1.809724          294.9             7.5   \n",
       "726    2.279248        2.745555          196.7            15.1   \n",
       "729    2.407534        3.597041          212.0             9.8   \n",
       "730    2.745555        2.279248          229.5            -5.1   \n",
       "732    3.597041        2.407534          353.4           -31.0   \n",
       "..          ...             ...            ...             ...   \n",
       "822    3.440821        2.292825          279.2           -13.6   \n",
       "823    3.440821        3.156275          234.8            12.4   \n",
       "825    1.694051        3.682456          246.0           -21.9   \n",
       "828    3.682456        3.440821          164.8            50.4   \n",
       "829    3.682456        3.440821          214.2            29.2   \n",
       "\n",
       "     opponent_trend_predict  ...  batsman_max  bowler_mean  bowler_max  \\\n",
       "724                   339.9  ...     4.993700     2.810098    3.745236   \n",
       "726                   287.3  ...     3.353053     3.327420    4.287456   \n",
       "729                   270.8  ...     4.993700     4.287744    6.077775   \n",
       "730                   198.9  ...     4.962897     3.423204    4.023650   \n",
       "732                   167.4  ...     5.731100     3.801929    4.644827   \n",
       "..                      ...  ...          ...          ...         ...   \n",
       "822                   197.6  ...     5.071416     4.084507    4.482480   \n",
       "823                   309.2  ...     5.071416     4.830566    6.031234   \n",
       "825                   136.5  ...     3.056867     4.018376    5.344566   \n",
       "828                   467.2  ...     5.038464     5.402401    6.041895   \n",
       "829                   389.4  ...     5.038464     5.227850    6.041895   \n",
       "\n",
       "     is_train  noise  runs_scored  actual   predicted  percentage_error  \\\n",
       "724     False  False          319     319  276.350358          0.133698   \n",
       "726     False  False          266     266  297.507207          0.118448   \n",
       "729     False  False          243     243  250.877114          0.032416   \n",
       "730     False  False          240     240  224.345770          0.065226   \n",
       "732     False   True          252     252  217.528811          0.136790   \n",
       "..        ...    ...          ...     ...         ...               ...   \n",
       "822     False   True          254     254  267.397895          0.052748   \n",
       "823     False  False          258     258  260.952098          0.011442   \n",
       "825     False  False          212     212  203.061060          0.042165   \n",
       "828     False  False          231     231  249.803472          0.081400   \n",
       "829     False  False          302     302  262.209381          0.131757   \n",
       "\n",
       "     is_less  \n",
       "724     True  \n",
       "726    False  \n",
       "729    False  \n",
       "730     True  \n",
       "732     True  \n",
       "..       ...  \n",
       "822    False  \n",
       "823    False  \n",
       "825     True  \n",
       "828    False  \n",
       "829     True  \n",
       "\n",
       "[64 rows x 30 columns]"
      ]
     },
     "execution_count": 74,
     "metadata": {},
     "output_type": "execute_result"
    }
   ],
   "source": [
    "result_df[result_df['percentage_error']<0.15]"
   ]
  },
  {
   "cell_type": "code",
   "execution_count": 75,
   "metadata": {},
   "outputs": [
    {
     "name": "stdout",
     "output_type": "stream",
     "text": [
      "New Zealand 13.46871574437135\n",
      "South Africa 21.536531467019987\n",
      "Pakistan 31.83534224113266\n",
      "India 24.34581476078308\n",
      "Bangladesh 11.776267116083451\n",
      "West Indies 13.066617441772507\n",
      "Australia 13.155988629337028\n",
      "Sri Lanka 21.50163433439312\n",
      "Afghanistan 20.351210150310695\n",
      "United Arab Emirates 83.43339095478932\n",
      "Ireland 7.904914695676502\n",
      "England 10.77402879188841\n",
      "Papua New Guinea 12.136828649392898\n",
      "Scotland 9.629465339140028\n",
      "United States of America 471.30531818433514\n"
     ]
    }
   ],
   "source": [
    "for country in result_df['team'].unique():\n",
    "    predicted_series=result_df[result_df['team']==country]['predicted']\n",
    "    actual_series=result_df[result_df['team']==country]['actual']\n",
    "\n",
    "    print(country,mape(np.array(actual_series),np.array(predicted_series)))"
   ]
  },
  {
   "cell_type": "code",
   "execution_count": 76,
   "metadata": {},
   "outputs": [
    {
     "name": "stdout",
     "output_type": "stream",
     "text": [
      "New Zealand 54.58894009735288\n",
      "South Africa 39.92373682290727\n",
      "Pakistan 78.25059460192975\n",
      "India 74.65657637210802\n",
      "Bangladesh 47.44119166575253\n",
      "West Indies 50.84271966424635\n",
      "Australia 49.0285631035624\n",
      "Sri Lanka 66.35565331810642\n",
      "Afghanistan 35.7794168016566\n",
      "United Arab Emirates nan\n",
      "Ireland 51.05389309347525\n",
      "England 51.46508083598573\n",
      "Papua New Guinea nan\n",
      "Scotland 15.556349186104045\n",
      "United States of America nan\n"
     ]
    }
   ],
   "source": [
    "for country in result_df['team'].unique():\n",
    "    std = result_df[result_df['team']==country]['actual'].std()\n",
    "    print(country,std)"
   ]
  },
  {
   "cell_type": "markdown",
   "metadata": {},
   "source": [
    "# lasso"
   ]
  },
  {
   "cell_type": "code",
   "execution_count": 77,
   "metadata": {},
   "outputs": [],
   "source": [
    "from sklearn import linear_model"
   ]
  },
  {
   "cell_type": "code",
   "execution_count": 78,
   "metadata": {},
   "outputs": [
    {
     "data": {
      "text/plain": [
       "Lasso(alpha=0.3)"
      ]
     },
     "execution_count": 78,
     "metadata": {},
     "output_type": "execute_result"
    }
   ],
   "source": [
    "las = linear_model.Lasso(alpha=0.3)\n",
    "las.fit(x_train,y_train_sc)"
   ]
  },
  {
   "cell_type": "code",
   "execution_count": 79,
   "metadata": {},
   "outputs": [],
   "source": [
    "y_test_predict_ls = las.predict(x_test)\n",
    "y_train_predict_ls = las.predict(x_train)"
   ]
  },
  {
   "cell_type": "code",
   "execution_count": 80,
   "metadata": {},
   "outputs": [
    {
     "data": {
      "text/plain": [
       "64.19679606050401"
      ]
     },
     "execution_count": 80,
     "metadata": {},
     "output_type": "execute_result"
    }
   ],
   "source": [
    "mape(np.array(y_train_sc).reshape(-1),np.array(y_train_predict_ls))"
   ]
  },
  {
   "cell_type": "code",
   "execution_count": 81,
   "metadata": {},
   "outputs": [
    {
     "data": {
      "text/plain": [
       "43.392242971798865"
      ]
     },
     "execution_count": 81,
     "metadata": {},
     "output_type": "execute_result"
    }
   ],
   "source": [
    "mape(np.array(y_test_sc).reshape(-1),np.array(y_test_predict_ls))"
   ]
  },
  {
   "cell_type": "code",
   "execution_count": 82,
   "metadata": {},
   "outputs": [],
   "source": [
    "y_test_predict_original=y_scaler.inverse_transform(y_test_predict_ls)\n",
    "#y_test_original = feature_df_test[target_column]"
   ]
  },
  {
   "cell_type": "code",
   "execution_count": 83,
   "metadata": {},
   "outputs": [
    {
     "data": {
      "text/plain": [
       "25.675439359472517"
      ]
     },
     "execution_count": 83,
     "metadata": {},
     "output_type": "execute_result"
    }
   ],
   "source": [
    "mape(np.array(y_test).reshape(-1),np.array(y_test_predict_original))"
   ]
  },
  {
   "cell_type": "code",
   "execution_count": 84,
   "metadata": {},
   "outputs": [
    {
     "data": {
      "text/plain": [
       "array([ 0.10423353,  0.07712387,  0.10423353,  0.02567081,  0.02276296,\n",
       "       -0.04799696,  0.05441921,  0.0300646 ,  0.07107828,  0.11913245,\n",
       "        0.06076495,  0.06076495,  0.10355943,  0.04720952, -0.05614589,\n",
       "       -0.09070187,  0.16090654, -0.07370439,  0.06475524,  0.11214081,\n",
       "        0.07999769, -0.06552653, -0.12200739,  0.01791544, -0.03948215,\n",
       "       -0.03675088, -0.04976564, -0.1945434 , -0.06334171,  0.05619411,\n",
       "       -0.02907993,  0.05914411,  0.30659055, -0.05004346,  0.03689991,\n",
       "       -0.02557812,  0.07219484, -0.07861812,  0.12998278,  0.12806247,\n",
       "        0.17092101,  0.01616185,  0.08220739, -0.07979251,  0.12273314,\n",
       "        0.06413997,  0.08843853, -0.04662902, -0.10760601,  0.18640159,\n",
       "        0.2494473 , -0.00334339, -0.08520959,  0.17180247, -0.00295773,\n",
       "       -0.05978177, -0.10074244,  0.09849947,  0.05297882, -0.09701586,\n",
       "        0.14889848, -0.07979251,  0.0707801 , -0.12003632,  0.18640159,\n",
       "       -0.0400163 ,  0.13139447,  0.16662871,  0.07148172, -0.05424031,\n",
       "        0.03058789, -0.02315998,  0.10284014, -0.06235384,  0.06428312,\n",
       "       -0.10987966, -0.22328202, -0.03870334,  0.11119258, -0.22415618,\n",
       "        0.09674484, -0.03406019,  0.15681453,  0.17321717,  0.07403747,\n",
       "       -0.20558897,  0.11460634,  0.15671983,  0.09412135,  0.1462092 ,\n",
       "        0.16172615,  0.06132631, -0.08410157,  0.13371905, -0.17139201,\n",
       "       -0.02854713, -0.09105075, -0.14064138, -0.178014  ,  0.15044356,\n",
       "        0.12192554, -0.19320087, -0.16748575,  0.07721291,  0.09868088,\n",
       "        0.13944438,  0.16854436,  0.15072073,  0.24338657])"
      ]
     },
     "execution_count": 84,
     "metadata": {},
     "output_type": "execute_result"
    }
   ],
   "source": [
    "y_test_predict_ls"
   ]
  },
  {
   "cell_type": "code",
   "execution_count": 85,
   "metadata": {},
   "outputs": [
    {
     "data": {
      "text/plain": [
       "array([371, 319, 364, 266, 203, 164, 243, 240,  92, 252, 232, 226, 330,\n",
       "       289, 236, 231, 250, 251, 223, 358, 216, 189, 272, 284, 266, 277,\n",
       "       327, 110, 198, 381, 261, 327, 373, 247, 358, 292, 340, 210, 351,\n",
       "       305, 311, 105, 207, 136, 330, 348, 244, 227, 288, 386, 352, 212,\n",
       "       334, 397, 241, 381, 232, 224, 308, 285, 268, 203, 227, 243, 337,\n",
       "       338, 314, 305, 311, 242, 315, 264, 239, 314, 238, 294, 205, 242,\n",
       "       305, 297, 249, 220, 287, 387, 315, 237, 255, 340, 286, 258, 347,\n",
       "       273, 256, 296,  35, 289, 345, 291, 322, 254, 258, 172, 212, 328,\n",
       "       294, 231, 302, 374, 389])"
      ]
     },
     "execution_count": 85,
     "metadata": {},
     "output_type": "execute_result"
    }
   ],
   "source": [
    "np.array(y_test).reshape(-1)"
   ]
  },
  {
   "cell_type": "markdown",
   "metadata": {},
   "source": [
    "# XGBOOST"
   ]
  },
  {
   "cell_type": "code",
   "execution_count": 86,
   "metadata": {},
   "outputs": [],
   "source": [
    "import xgboost as xg"
   ]
  },
  {
   "cell_type": "code",
   "execution_count": 87,
   "metadata": {},
   "outputs": [],
   "source": [
    "train_dmatrix = xg.DMatrix(data = x_train, label = y_train) \n",
    "test_dmatrix = xg.DMatrix(data = x_test, label = y_test) "
   ]
  },
  {
   "cell_type": "code",
   "execution_count": 88,
   "metadata": {},
   "outputs": [],
   "source": [
    "param = {\"booster\":\"gblinear\", \"objective\":\"reg:linear\"} "
   ]
  },
  {
   "cell_type": "code",
   "execution_count": 89,
   "metadata": {},
   "outputs": [
    {
     "name": "stdout",
     "output_type": "stream",
     "text": [
      "[20:50:27] WARNING: /Users/travis/build/dmlc/xgboost/src/objective/regression_obj.cu:174: reg:linear is now deprecated in favor of reg:squarederror.\n",
      "[20:50:27] WARNING: /Users/travis/build/dmlc/xgboost/src/objective/regression_obj.cu:174: reg:linear is now deprecated in favor of reg:squarederror.\n"
     ]
    }
   ],
   "source": [
    "xgb_r = xg.train(params = param, dtrain = train_dmatrix, num_boost_round = 10) \n"
   ]
  },
  {
   "cell_type": "code",
   "execution_count": 90,
   "metadata": {},
   "outputs": [],
   "source": [
    "y_test_predict_xg = xgb_r.predict(test_dmatrix)\n",
    "y_train_predict_xg = xgb_r.predict(train_dmatrix)"
   ]
  },
  {
   "cell_type": "code",
   "execution_count": 91,
   "metadata": {},
   "outputs": [],
   "source": [
    "# y_train_predict_dt = dt.predict(x_train)\n",
    "# y_test_predict_dt = dt.predict(x_test)"
   ]
  },
  {
   "cell_type": "code",
   "execution_count": 92,
   "metadata": {},
   "outputs": [
    {
     "data": {
      "text/plain": [
       "45.5171721572176"
      ]
     },
     "execution_count": 92,
     "metadata": {},
     "output_type": "execute_result"
    }
   ],
   "source": [
    "mean_absolute_error(np.array(y_test),np.array(y_test_predict_xg))"
   ]
  },
  {
   "cell_type": "code",
   "execution_count": 93,
   "metadata": {},
   "outputs": [
    {
     "data": {
      "text/plain": [
       "22.65944162359071"
      ]
     },
     "execution_count": 93,
     "metadata": {},
     "output_type": "execute_result"
    }
   ],
   "source": [
    "mape(np.array(y_test).reshape(-1),y_test_predict_xg)"
   ]
  },
  {
   "cell_type": "code",
   "execution_count": 94,
   "metadata": {},
   "outputs": [
    {
     "data": {
      "text/plain": [
       "20.25278265779196"
      ]
     },
     "execution_count": 94,
     "metadata": {},
     "output_type": "execute_result"
    }
   ],
   "source": [
    "mape(np.array(y_train).reshape(-1),y_train_predict_xg)"
   ]
  },
  {
   "cell_type": "code",
   "execution_count": 95,
   "metadata": {},
   "outputs": [],
   "source": [
    "#y_test_predict_xg"
   ]
  },
  {
   "cell_type": "markdown",
   "metadata": {},
   "source": [
    "# Randomforest"
   ]
  },
  {
   "cell_type": "code",
   "execution_count": 96,
   "metadata": {},
   "outputs": [],
   "source": [
    "from sklearn.ensemble import RandomForestRegressor"
   ]
  },
  {
   "cell_type": "code",
   "execution_count": 97,
   "metadata": {},
   "outputs": [],
   "source": [
    "rf = RandomForestRegressor(max_depth=8,n_estimators=50,criterion='mae')"
   ]
  },
  {
   "cell_type": "code",
   "execution_count": 98,
   "metadata": {},
   "outputs": [
    {
     "name": "stderr",
     "output_type": "stream",
     "text": [
      "<ipython-input-98-895403b03771>:1: DataConversionWarning: A column-vector y was passed when a 1d array was expected. Please change the shape of y to (n_samples,), for example using ravel().\n",
      "  rf.fit(x_train,y_train)\n"
     ]
    },
    {
     "data": {
      "text/plain": [
       "RandomForestRegressor(criterion='mae', max_depth=8, n_estimators=50)"
      ]
     },
     "execution_count": 98,
     "metadata": {},
     "output_type": "execute_result"
    }
   ],
   "source": [
    "rf.fit(x_train,y_train)"
   ]
  },
  {
   "cell_type": "code",
   "execution_count": 99,
   "metadata": {},
   "outputs": [],
   "source": [
    "y_train_predict_rf=rf.predict(x_train)\n",
    "y_test_predict_rf= rf.predict(x_test)"
   ]
  },
  {
   "cell_type": "code",
   "execution_count": 100,
   "metadata": {},
   "outputs": [
    {
     "data": {
      "text/plain": [
       "23.281510548596753"
      ]
     },
     "execution_count": 100,
     "metadata": {},
     "output_type": "execute_result"
    }
   ],
   "source": [
    "mape(np.array(y_test).reshape(-1),y_test_predict_rf)"
   ]
  },
  {
   "cell_type": "code",
   "execution_count": 101,
   "metadata": {},
   "outputs": [
    {
     "data": {
      "text/plain": [
       "13.462300581977942"
      ]
     },
     "execution_count": 101,
     "metadata": {},
     "output_type": "execute_result"
    }
   ],
   "source": [
    "mape(np.array(y_train).reshape(-1),y_train_predict_rf)"
   ]
  },
  {
   "cell_type": "code",
   "execution_count": null,
   "metadata": {},
   "outputs": [],
   "source": []
  },
  {
   "cell_type": "code",
   "execution_count": null,
   "metadata": {},
   "outputs": [],
   "source": []
  },
  {
   "cell_type": "markdown",
   "metadata": {},
   "source": [
    "# statsmodel"
   ]
  },
  {
   "cell_type": "code",
   "execution_count": 28,
   "metadata": {},
   "outputs": [],
   "source": [
    "import statsmodels.api as sm"
   ]
  },
  {
   "cell_type": "code",
   "execution_count": 29,
   "metadata": {},
   "outputs": [],
   "source": [
    "model = sm.OLS(y_train, sm.add_constant(x_train)).fit()"
   ]
  },
  {
   "cell_type": "code",
   "execution_count": 30,
   "metadata": {},
   "outputs": [],
   "source": [
    "y_test_predicted_sm=model.predict(sm.add_constant(x_test))"
   ]
  },
  {
   "cell_type": "code",
   "execution_count": 31,
   "metadata": {},
   "outputs": [
    {
     "data": {
      "text/html": [
       "<table class=\"simpletable\">\n",
       "<caption>OLS Regression Results</caption>\n",
       "<tr>\n",
       "  <th>Dep. Variable:</th>       <td>runs_scored</td>   <th>  R-squared:         </th> <td>   0.287</td>\n",
       "</tr>\n",
       "<tr>\n",
       "  <th>Model:</th>                   <td>OLS</td>       <th>  Adj. R-squared:    </th> <td>   0.272</td>\n",
       "</tr>\n",
       "<tr>\n",
       "  <th>Method:</th>             <td>Least Squares</td>  <th>  F-statistic:       </th> <td>   18.98</td>\n",
       "</tr>\n",
       "<tr>\n",
       "  <th>Date:</th>             <td>Fri, 01 Jan 2021</td> <th>  Prob (F-statistic):</th> <td>7.27e-43</td>\n",
       "</tr>\n",
       "<tr>\n",
       "  <th>Time:</th>                 <td>23:13:15</td>     <th>  Log-Likelihood:    </th> <td> -3916.2</td>\n",
       "</tr>\n",
       "<tr>\n",
       "  <th>No. Observations:</th>      <td>   723</td>      <th>  AIC:               </th> <td>   7864.</td>\n",
       "</tr>\n",
       "<tr>\n",
       "  <th>Df Residuals:</th>          <td>   707</td>      <th>  BIC:               </th> <td>   7938.</td>\n",
       "</tr>\n",
       "<tr>\n",
       "  <th>Df Model:</th>              <td>    15</td>      <th>                     </th>     <td> </td>   \n",
       "</tr>\n",
       "<tr>\n",
       "  <th>Covariance Type:</th>      <td>nonrobust</td>    <th>                     </th>     <td> </td>   \n",
       "</tr>\n",
       "</table>\n",
       "<table class=\"simpletable\">\n",
       "<tr>\n",
       "    <td></td>       <th>coef</th>     <th>std err</th>      <th>t</th>      <th>P>|t|</th>  <th>[0.025</th>    <th>0.975]</th>  \n",
       "</tr>\n",
       "<tr>\n",
       "  <th>const</th> <td>  255.8728</td> <td>    2.048</td> <td>  124.907</td> <td> 0.000</td> <td>  251.851</td> <td>  259.895</td>\n",
       "</tr>\n",
       "<tr>\n",
       "  <th>x1</th>    <td>   -9.0921</td> <td>    3.352</td> <td>   -2.712</td> <td> 0.007</td> <td>  -15.673</td> <td>   -2.511</td>\n",
       "</tr>\n",
       "<tr>\n",
       "  <th>x2</th>    <td>    7.4274</td> <td>    3.097</td> <td>    2.398</td> <td> 0.017</td> <td>    1.347</td> <td>   13.507</td>\n",
       "</tr>\n",
       "<tr>\n",
       "  <th>x3</th>    <td>    1.3299</td> <td>    4.247</td> <td>    0.313</td> <td> 0.754</td> <td>   -7.008</td> <td>    9.668</td>\n",
       "</tr>\n",
       "<tr>\n",
       "  <th>x4</th>    <td>    2.0869</td> <td>    7.099</td> <td>    0.294</td> <td> 0.769</td> <td>  -11.850</td> <td>   16.024</td>\n",
       "</tr>\n",
       "<tr>\n",
       "  <th>x5</th>    <td>    0.4358</td> <td>    4.262</td> <td>    0.102</td> <td> 0.919</td> <td>   -7.931</td> <td>    8.803</td>\n",
       "</tr>\n",
       "<tr>\n",
       "  <th>x6</th>    <td>    1.7270</td> <td>    1.567</td> <td>    1.102</td> <td> 0.271</td> <td>   -1.349</td> <td>    4.803</td>\n",
       "</tr>\n",
       "<tr>\n",
       "  <th>x7</th>    <td>   12.4907</td> <td>    5.957</td> <td>    2.097</td> <td> 0.036</td> <td>    0.795</td> <td>   24.187</td>\n",
       "</tr>\n",
       "<tr>\n",
       "  <th>x8</th>    <td>   14.4552</td> <td>    8.949</td> <td>    1.615</td> <td> 0.107</td> <td>   -3.115</td> <td>   32.025</td>\n",
       "</tr>\n",
       "<tr>\n",
       "  <th>x9</th>    <td>   -8.0592</td> <td>    5.834</td> <td>   -1.381</td> <td> 0.168</td> <td>  -19.513</td> <td>    3.394</td>\n",
       "</tr>\n",
       "<tr>\n",
       "  <th>x10</th>   <td>    2.6796</td> <td>    1.260</td> <td>    2.126</td> <td> 0.034</td> <td>    0.205</td> <td>    5.154</td>\n",
       "</tr>\n",
       "<tr>\n",
       "  <th>x11</th>   <td>   20.1053</td> <td>   36.501</td> <td>    0.551</td> <td> 0.582</td> <td>  -51.557</td> <td>   91.768</td>\n",
       "</tr>\n",
       "<tr>\n",
       "  <th>x12</th>   <td>   34.7721</td> <td>   62.954</td> <td>    0.552</td> <td> 0.581</td> <td>  -88.827</td> <td>  158.371</td>\n",
       "</tr>\n",
       "<tr>\n",
       "  <th>x13</th>   <td>  -19.3525</td> <td>   36.608</td> <td>   -0.529</td> <td> 0.597</td> <td>  -91.226</td> <td>   52.521</td>\n",
       "</tr>\n",
       "<tr>\n",
       "  <th>x14</th>   <td>    0.9323</td> <td>    1.737</td> <td>    0.537</td> <td> 0.592</td> <td>   -2.478</td> <td>    4.343</td>\n",
       "</tr>\n",
       "<tr>\n",
       "  <th>x15</th>   <td>   55.4294</td> <td>    4.578</td> <td>   12.109</td> <td> 0.000</td> <td>   46.442</td> <td>   64.417</td>\n",
       "</tr>\n",
       "<tr>\n",
       "  <th>x16</th>   <td>  -27.3444</td> <td>    3.874</td> <td>   -7.059</td> <td> 0.000</td> <td>  -34.950</td> <td>  -19.739</td>\n",
       "</tr>\n",
       "<tr>\n",
       "  <th>x17</th>   <td>  -19.8676</td> <td>    4.620</td> <td>   -4.300</td> <td> 0.000</td> <td>  -28.938</td> <td>  -10.797</td>\n",
       "</tr>\n",
       "<tr>\n",
       "  <th>x18</th>   <td>    6.3210</td> <td>    4.005</td> <td>    1.578</td> <td> 0.115</td> <td>   -1.541</td> <td>   14.183</td>\n",
       "</tr>\n",
       "</table>\n",
       "<table class=\"simpletable\">\n",
       "<tr>\n",
       "  <th>Omnibus:</th>       <td>12.311</td> <th>  Durbin-Watson:     </th> <td>   1.850</td>\n",
       "</tr>\n",
       "<tr>\n",
       "  <th>Prob(Omnibus):</th> <td> 0.002</td> <th>  Jarque-Bera (JB):  </th> <td>  13.775</td>\n",
       "</tr>\n",
       "<tr>\n",
       "  <th>Skew:</th>          <td>-0.246</td> <th>  Prob(JB):          </th> <td> 0.00102</td>\n",
       "</tr>\n",
       "<tr>\n",
       "  <th>Kurtosis:</th>      <td> 3.464</td> <th>  Cond. No.          </th> <td>9.12e+15</td>\n",
       "</tr>\n",
       "</table><br/><br/>Warnings:<br/>[1] Standard Errors assume that the covariance matrix of the errors is correctly specified.<br/>[2] The smallest eigenvalue is 3.62e-29. This might indicate that there are<br/>strong multicollinearity problems or that the design matrix is singular."
      ],
      "text/plain": [
       "<class 'statsmodels.iolib.summary.Summary'>\n",
       "\"\"\"\n",
       "                            OLS Regression Results                            \n",
       "==============================================================================\n",
       "Dep. Variable:            runs_scored   R-squared:                       0.287\n",
       "Model:                            OLS   Adj. R-squared:                  0.272\n",
       "Method:                 Least Squares   F-statistic:                     18.98\n",
       "Date:                Fri, 01 Jan 2021   Prob (F-statistic):           7.27e-43\n",
       "Time:                        23:13:15   Log-Likelihood:                -3916.2\n",
       "No. Observations:                 723   AIC:                             7864.\n",
       "Df Residuals:                     707   BIC:                             7938.\n",
       "Df Model:                          15                                         \n",
       "Covariance Type:            nonrobust                                         \n",
       "==============================================================================\n",
       "                 coef    std err          t      P>|t|      [0.025      0.975]\n",
       "------------------------------------------------------------------------------\n",
       "const        255.8728      2.048    124.907      0.000     251.851     259.895\n",
       "x1            -9.0921      3.352     -2.712      0.007     -15.673      -2.511\n",
       "x2             7.4274      3.097      2.398      0.017       1.347      13.507\n",
       "x3             1.3299      4.247      0.313      0.754      -7.008       9.668\n",
       "x4             2.0869      7.099      0.294      0.769     -11.850      16.024\n",
       "x5             0.4358      4.262      0.102      0.919      -7.931       8.803\n",
       "x6             1.7270      1.567      1.102      0.271      -1.349       4.803\n",
       "x7            12.4907      5.957      2.097      0.036       0.795      24.187\n",
       "x8            14.4552      8.949      1.615      0.107      -3.115      32.025\n",
       "x9            -8.0592      5.834     -1.381      0.168     -19.513       3.394\n",
       "x10            2.6796      1.260      2.126      0.034       0.205       5.154\n",
       "x11           20.1053     36.501      0.551      0.582     -51.557      91.768\n",
       "x12           34.7721     62.954      0.552      0.581     -88.827     158.371\n",
       "x13          -19.3525     36.608     -0.529      0.597     -91.226      52.521\n",
       "x14            0.9323      1.737      0.537      0.592      -2.478       4.343\n",
       "x15           55.4294      4.578     12.109      0.000      46.442      64.417\n",
       "x16          -27.3444      3.874     -7.059      0.000     -34.950     -19.739\n",
       "x17          -19.8676      4.620     -4.300      0.000     -28.938     -10.797\n",
       "x18            6.3210      4.005      1.578      0.115      -1.541      14.183\n",
       "==============================================================================\n",
       "Omnibus:                       12.311   Durbin-Watson:                   1.850\n",
       "Prob(Omnibus):                  0.002   Jarque-Bera (JB):               13.775\n",
       "Skew:                          -0.246   Prob(JB):                      0.00102\n",
       "Kurtosis:                       3.464   Cond. No.                     9.12e+15\n",
       "==============================================================================\n",
       "\n",
       "Warnings:\n",
       "[1] Standard Errors assume that the covariance matrix of the errors is correctly specified.\n",
       "[2] The smallest eigenvalue is 3.62e-29. This might indicate that there are\n",
       "strong multicollinearity problems or that the design matrix is singular.\n",
       "\"\"\""
      ]
     },
     "execution_count": 31,
     "metadata": {},
     "output_type": "execute_result"
    }
   ],
   "source": [
    "model.summary()"
   ]
  },
  {
   "cell_type": "markdown",
   "metadata": {},
   "source": [
    "selected x1,x2,x7,x10,x15,x16,x17"
   ]
  },
  {
   "cell_type": "code",
   "execution_count": 32,
   "metadata": {},
   "outputs": [
    {
     "data": {
      "text/plain": [
       "22.039536421362772"
      ]
     },
     "execution_count": 32,
     "metadata": {},
     "output_type": "execute_result"
    }
   ],
   "source": [
    "mape(np.array(y_test).reshape(-1),y_test_predicted_sm)\n"
   ]
  },
  {
   "cell_type": "code",
   "execution_count": 33,
   "metadata": {},
   "outputs": [
    {
     "data": {
      "text/plain": [
       "45.43723924019558"
      ]
     },
     "execution_count": 33,
     "metadata": {},
     "output_type": "execute_result"
    }
   ],
   "source": [
    "mean_absolute_error(np.array(y_test).reshape(-1),y_test_predicted_sm)"
   ]
  },
  {
   "cell_type": "code",
   "execution_count": 44,
   "metadata": {},
   "outputs": [
    {
     "data": {
      "text/plain": [
       "(array([ 0,  1,  2,  7, 10, 15, 16, 17]),)"
      ]
     },
     "execution_count": 44,
     "metadata": {},
     "output_type": "execute_result"
    }
   ],
   "source": [
    "np.where(np.array(model.pvalues)<0.05)"
   ]
  },
  {
   "cell_type": "markdown",
   "metadata": {},
   "source": [
    "# with PCA"
   ]
  },
  {
   "cell_type": "code",
   "execution_count": 108,
   "metadata": {},
   "outputs": [],
   "source": [
    "from sklearn.decomposition import PCA\n",
    "from sklearn.linear_model import LinearRegression"
   ]
  },
  {
   "cell_type": "code",
   "execution_count": 109,
   "metadata": {},
   "outputs": [],
   "source": [
    "pca_scaler = StandardScaler()"
   ]
  },
  {
   "cell_type": "code",
   "execution_count": 110,
   "metadata": {},
   "outputs": [],
   "source": [
    "pca = PCA(n_components=2)"
   ]
  },
  {
   "cell_type": "code",
   "execution_count": 111,
   "metadata": {},
   "outputs": [],
   "source": [
    "x_train_pca=pca.fit_transform(pca_scaler.fit_transform(x_train))"
   ]
  },
  {
   "cell_type": "code",
   "execution_count": 112,
   "metadata": {},
   "outputs": [
    {
     "data": {
      "text/plain": [
       "LinearRegression()"
      ]
     },
     "execution_count": 112,
     "metadata": {},
     "output_type": "execute_result"
    }
   ],
   "source": [
    "lr_pca = LinearRegression()\n",
    "lr_pca.fit(x_train_pca,y_train)"
   ]
  },
  {
   "cell_type": "code",
   "execution_count": 113,
   "metadata": {},
   "outputs": [],
   "source": [
    "y_test_predict_pca =lr_pca.predict(pca.transform(pca_scaler.transform(x_test)))"
   ]
  },
  {
   "cell_type": "code",
   "execution_count": 114,
   "metadata": {},
   "outputs": [
    {
     "data": {
      "text/plain": [
       "24.557551133830028"
      ]
     },
     "execution_count": 114,
     "metadata": {},
     "output_type": "execute_result"
    }
   ],
   "source": [
    "mape(np.array(y_test),y_test_predict_pca)"
   ]
  },
  {
   "cell_type": "code",
   "execution_count": 115,
   "metadata": {},
   "outputs": [],
   "source": [
    "#y_test_predict_pca.shape"
   ]
  },
  {
   "cell_type": "code",
   "execution_count": 116,
   "metadata": {},
   "outputs": [],
   "source": [
    "#np.array(y_test).reshape(-1).shape"
   ]
  },
  {
   "cell_type": "markdown",
   "metadata": {},
   "source": [
    "# SVM"
   ]
  },
  {
   "cell_type": "code",
   "execution_count": 117,
   "metadata": {},
   "outputs": [],
   "source": [
    "from sklearn.svm import SVR"
   ]
  },
  {
   "cell_type": "code",
   "execution_count": 118,
   "metadata": {},
   "outputs": [],
   "source": [
    "svr = SVR(C=0.5, epsilon=0.01)"
   ]
  },
  {
   "cell_type": "code",
   "execution_count": 119,
   "metadata": {},
   "outputs": [
    {
     "name": "stderr",
     "output_type": "stream",
     "text": [
      "/opt/anaconda3/lib/python3.8/site-packages/sklearn/utils/validation.py:73: DataConversionWarning: A column-vector y was passed when a 1d array was expected. Please change the shape of y to (n_samples, ), for example using ravel().\n",
      "  return f(**kwargs)\n"
     ]
    },
    {
     "data": {
      "text/plain": [
       "SVR(C=0.5, epsilon=0.01)"
      ]
     },
     "execution_count": 119,
     "metadata": {},
     "output_type": "execute_result"
    }
   ],
   "source": [
    "svr.fit(x_train,y_train)"
   ]
  },
  {
   "cell_type": "code",
   "execution_count": 120,
   "metadata": {},
   "outputs": [],
   "source": [
    "y_test_predict_svr =svr.predict(x_test)"
   ]
  },
  {
   "cell_type": "code",
   "execution_count": 121,
   "metadata": {},
   "outputs": [
    {
     "data": {
      "text/plain": [
       "25.846783163229134"
      ]
     },
     "execution_count": 121,
     "metadata": {},
     "output_type": "execute_result"
    }
   ],
   "source": [
    "mape(np.array(y_test).reshape(-1),y_test_predict_svr)"
   ]
  },
  {
   "cell_type": "code",
   "execution_count": null,
   "metadata": {},
   "outputs": [],
   "source": []
  },
  {
   "cell_type": "markdown",
   "metadata": {},
   "source": [
    "# polynomial regression"
   ]
  },
  {
   "cell_type": "code",
   "execution_count": 122,
   "metadata": {},
   "outputs": [],
   "source": [
    "from sklearn import linear_model\n",
    "from sklearn.preprocessing import PolynomialFeatures"
   ]
  },
  {
   "cell_type": "code",
   "execution_count": 132,
   "metadata": {},
   "outputs": [],
   "source": [
    "poly = PolynomialFeatures(3)"
   ]
  },
  {
   "cell_type": "code",
   "execution_count": 133,
   "metadata": {},
   "outputs": [],
   "source": [
    "x_train_poly = poly.fit_transform(x_train)"
   ]
  },
  {
   "cell_type": "code",
   "execution_count": 134,
   "metadata": {},
   "outputs": [],
   "source": [
    "lr_poly = LinearRegression()"
   ]
  },
  {
   "cell_type": "code",
   "execution_count": 135,
   "metadata": {},
   "outputs": [
    {
     "data": {
      "text/plain": [
       "LinearRegression()"
      ]
     },
     "execution_count": 135,
     "metadata": {},
     "output_type": "execute_result"
    }
   ],
   "source": [
    "lr_poly.fit(x_train_poly,y_train)"
   ]
  },
  {
   "cell_type": "code",
   "execution_count": 136,
   "metadata": {},
   "outputs": [],
   "source": [
    "y_test_predict_poly = lr_poly.predict(poly.transform(x_test))\n",
    "y_train_predict_poly = lr_poly.predict(poly.transform(x_train))"
   ]
  },
  {
   "cell_type": "code",
   "execution_count": 137,
   "metadata": {},
   "outputs": [
    {
     "data": {
      "text/plain": [
       "187.18202146462477"
      ]
     },
     "execution_count": 137,
     "metadata": {},
     "output_type": "execute_result"
    }
   ],
   "source": [
    "mape(np.array(y_test),y_test_predict_poly)"
   ]
  },
  {
   "cell_type": "code",
   "execution_count": 138,
   "metadata": {},
   "outputs": [
    {
     "data": {
      "text/plain": [
       "3.0130001924180565"
      ]
     },
     "execution_count": 138,
     "metadata": {},
     "output_type": "execute_result"
    }
   ],
   "source": [
    "mape(np.array(y_train),y_train_predict_poly)"
   ]
  },
  {
   "cell_type": "code",
   "execution_count": 139,
   "metadata": {},
   "outputs": [],
   "source": [
    "compare_df = pd.DataFrame()\n",
    "compare_df['actual']=np.array(y_test).reshape(-1)\n",
    "compare_df['predict']=np.array(y_test_predict_poly)"
   ]
  },
  {
   "cell_type": "code",
   "execution_count": 140,
   "metadata": {},
   "outputs": [
    {
     "data": {
      "text/html": [
       "<div>\n",
       "<style scoped>\n",
       "    .dataframe tbody tr th:only-of-type {\n",
       "        vertical-align: middle;\n",
       "    }\n",
       "\n",
       "    .dataframe tbody tr th {\n",
       "        vertical-align: top;\n",
       "    }\n",
       "\n",
       "    .dataframe thead th {\n",
       "        text-align: right;\n",
       "    }\n",
       "</style>\n",
       "<table border=\"1\" class=\"dataframe\">\n",
       "  <thead>\n",
       "    <tr style=\"text-align: right;\">\n",
       "      <th></th>\n",
       "      <th>actual</th>\n",
       "      <th>predict</th>\n",
       "    </tr>\n",
       "  </thead>\n",
       "  <tbody>\n",
       "    <tr>\n",
       "      <th>0</th>\n",
       "      <td>371</td>\n",
       "      <td>606.328315</td>\n",
       "    </tr>\n",
       "    <tr>\n",
       "      <th>1</th>\n",
       "      <td>319</td>\n",
       "      <td>489.073878</td>\n",
       "    </tr>\n",
       "    <tr>\n",
       "      <th>2</th>\n",
       "      <td>364</td>\n",
       "      <td>343.832440</td>\n",
       "    </tr>\n",
       "    <tr>\n",
       "      <th>3</th>\n",
       "      <td>266</td>\n",
       "      <td>344.225914</td>\n",
       "    </tr>\n",
       "    <tr>\n",
       "      <th>4</th>\n",
       "      <td>203</td>\n",
       "      <td>369.945787</td>\n",
       "    </tr>\n",
       "    <tr>\n",
       "      <th>...</th>\n",
       "      <td>...</td>\n",
       "      <td>...</td>\n",
       "    </tr>\n",
       "    <tr>\n",
       "      <th>104</th>\n",
       "      <td>294</td>\n",
       "      <td>520.875259</td>\n",
       "    </tr>\n",
       "    <tr>\n",
       "      <th>105</th>\n",
       "      <td>231</td>\n",
       "      <td>229.444440</td>\n",
       "    </tr>\n",
       "    <tr>\n",
       "      <th>106</th>\n",
       "      <td>302</td>\n",
       "      <td>295.823723</td>\n",
       "    </tr>\n",
       "    <tr>\n",
       "      <th>107</th>\n",
       "      <td>374</td>\n",
       "      <td>650.466732</td>\n",
       "    </tr>\n",
       "    <tr>\n",
       "      <th>108</th>\n",
       "      <td>389</td>\n",
       "      <td>1022.584975</td>\n",
       "    </tr>\n",
       "  </tbody>\n",
       "</table>\n",
       "<p>109 rows × 2 columns</p>\n",
       "</div>"
      ],
      "text/plain": [
       "     actual      predict\n",
       "0       371   606.328315\n",
       "1       319   489.073878\n",
       "2       364   343.832440\n",
       "3       266   344.225914\n",
       "4       203   369.945787\n",
       "..      ...          ...\n",
       "104     294   520.875259\n",
       "105     231   229.444440\n",
       "106     302   295.823723\n",
       "107     374   650.466732\n",
       "108     389  1022.584975\n",
       "\n",
       "[109 rows x 2 columns]"
      ]
     },
     "execution_count": 140,
     "metadata": {},
     "output_type": "execute_result"
    }
   ],
   "source": [
    "compare_df"
   ]
  },
  {
   "cell_type": "code",
   "execution_count": 141,
   "metadata": {},
   "outputs": [
    {
     "data": {
      "text/plain": [
       "(109,)"
      ]
     },
     "execution_count": 141,
     "metadata": {},
     "output_type": "execute_result"
    }
   ],
   "source": [
    "np.array(y_test).reshape(-1).shape"
   ]
  },
  {
   "cell_type": "markdown",
   "metadata": {},
   "source": [
    "# Comparing trend predictions"
   ]
  },
  {
   "cell_type": "code",
   "execution_count": 142,
   "metadata": {},
   "outputs": [
    {
     "data": {
      "text/plain": [
       "Index(['match_id', 'match_date', 'team', 'opponent', 'location', 'team_score',\n",
       "       'opponent_score', 'opponent_base', 'opponent_trend',\n",
       "       'opponent_trend_predict', 'opponent_mean', 'location_base',\n",
       "       'location_trend', 'location_trend_predict', 'location_mean',\n",
       "       'current_base', 'current_trend', 'current_trend_predict',\n",
       "       'current_mean', 'batsman_mean', 'batsman_max', 'bowler_mean',\n",
       "       'bowler_max', 'is_train', 'noise', 'runs_scored'],\n",
       "      dtype='object')"
      ]
     },
     "execution_count": 142,
     "metadata": {},
     "output_type": "execute_result"
    }
   ],
   "source": [
    "feature_df.columns"
   ]
  },
  {
   "cell_type": "code",
   "execution_count": 143,
   "metadata": {},
   "outputs": [
    {
     "data": {
      "text/html": [
       "<div>\n",
       "<style scoped>\n",
       "    .dataframe tbody tr th:only-of-type {\n",
       "        vertical-align: middle;\n",
       "    }\n",
       "\n",
       "    .dataframe tbody tr th {\n",
       "        vertical-align: top;\n",
       "    }\n",
       "\n",
       "    .dataframe thead th {\n",
       "        text-align: right;\n",
       "    }\n",
       "</style>\n",
       "<table border=\"1\" class=\"dataframe\">\n",
       "  <thead>\n",
       "    <tr style=\"text-align: right;\">\n",
       "      <th></th>\n",
       "      <th>opponent_trend_predict</th>\n",
       "      <th>runs_scored</th>\n",
       "    </tr>\n",
       "  </thead>\n",
       "  <tbody>\n",
       "    <tr>\n",
       "      <th>0</th>\n",
       "      <td>377.0</td>\n",
       "      <td>271</td>\n",
       "    </tr>\n",
       "    <tr>\n",
       "      <th>1</th>\n",
       "      <td>165.0</td>\n",
       "      <td>249</td>\n",
       "    </tr>\n",
       "    <tr>\n",
       "      <th>2</th>\n",
       "      <td>302.0</td>\n",
       "      <td>219</td>\n",
       "    </tr>\n",
       "    <tr>\n",
       "      <th>3</th>\n",
       "      <td>136.0</td>\n",
       "      <td>290</td>\n",
       "    </tr>\n",
       "    <tr>\n",
       "      <th>4</th>\n",
       "      <td>205.0</td>\n",
       "      <td>119</td>\n",
       "    </tr>\n",
       "    <tr>\n",
       "      <th>...</th>\n",
       "      <td>...</td>\n",
       "      <td>...</td>\n",
       "    </tr>\n",
       "    <tr>\n",
       "      <th>827</th>\n",
       "      <td>245.3</td>\n",
       "      <td>294</td>\n",
       "    </tr>\n",
       "    <tr>\n",
       "      <th>828</th>\n",
       "      <td>467.2</td>\n",
       "      <td>231</td>\n",
       "    </tr>\n",
       "    <tr>\n",
       "      <th>829</th>\n",
       "      <td>389.4</td>\n",
       "      <td>302</td>\n",
       "    </tr>\n",
       "    <tr>\n",
       "      <th>830</th>\n",
       "      <td>311.8</td>\n",
       "      <td>374</td>\n",
       "    </tr>\n",
       "    <tr>\n",
       "      <th>831</th>\n",
       "      <td>370.9</td>\n",
       "      <td>389</td>\n",
       "    </tr>\n",
       "  </tbody>\n",
       "</table>\n",
       "<p>832 rows × 2 columns</p>\n",
       "</div>"
      ],
      "text/plain": [
       "     opponent_trend_predict  runs_scored\n",
       "0                     377.0          271\n",
       "1                     165.0          249\n",
       "2                     302.0          219\n",
       "3                     136.0          290\n",
       "4                     205.0          119\n",
       "..                      ...          ...\n",
       "827                   245.3          294\n",
       "828                   467.2          231\n",
       "829                   389.4          302\n",
       "830                   311.8          374\n",
       "831                   370.9          389\n",
       "\n",
       "[832 rows x 2 columns]"
      ]
     },
     "execution_count": 143,
     "metadata": {},
     "output_type": "execute_result"
    }
   ],
   "source": [
    "feature_df[['opponent_trend_predict','runs_scored']]"
   ]
  },
  {
   "cell_type": "code",
   "execution_count": 144,
   "metadata": {},
   "outputs": [],
   "source": [
    "opponent_trend_predict = np.array(feature_df['opponent_trend_predict'])\n",
    "current_trend_predict = np.array(feature_df['current_trend_predict'])\n",
    "location_trend_predict = np.array(feature_df['location_trend_predict'])\n",
    "runs_scored = np.array(feature_df['runs_scored'])"
   ]
  },
  {
   "cell_type": "code",
   "execution_count": 145,
   "metadata": {},
   "outputs": [
    {
     "data": {
      "text/plain": [
       "(33.14884160652851, 31.552384325510975, 36.28616640575539)"
      ]
     },
     "execution_count": 145,
     "metadata": {},
     "output_type": "execute_result"
    }
   ],
   "source": [
    "mape(runs_scored,opponent_trend_predict),mape(runs_scored,current_trend_predict),mape(runs_scored,location_trend_predict)"
   ]
  },
  {
   "cell_type": "code",
   "execution_count": 146,
   "metadata": {},
   "outputs": [],
   "source": [
    "max_predict = np.max(np.array(feature_df[['opponent_trend_predict','current_trend_predict','location_trend_predict']]),axis=1)\n",
    "min_predict = np.min(np.array(feature_df[['opponent_trend_predict','current_trend_predict','location_trend_predict']]),axis=1)\n",
    "mean_predict = np.mean(np.array(feature_df[['opponent_trend_predict','current_trend_predict','location_trend_predict']]),axis=1)\n"
   ]
  },
  {
   "cell_type": "code",
   "execution_count": 147,
   "metadata": {},
   "outputs": [
    {
     "data": {
      "text/plain": [
       "(39.83091281447402, 32.73509820997395, 28.048566843159747)"
      ]
     },
     "execution_count": 147,
     "metadata": {},
     "output_type": "execute_result"
    }
   ],
   "source": [
    "mape(runs_scored,max_predict),mape(runs_scored,min_predict),mape(runs_scored,mean_predict)"
   ]
  },
  {
   "cell_type": "code",
   "execution_count": null,
   "metadata": {},
   "outputs": [],
   "source": []
  }
 ],
 "metadata": {
  "kernelspec": {
   "display_name": "Python 3",
   "language": "python",
   "name": "python3"
  },
  "language_info": {
   "codemirror_mode": {
    "name": "ipython",
    "version": 3
   },
   "file_extension": ".py",
   "mimetype": "text/x-python",
   "name": "python",
   "nbconvert_exporter": "python",
   "pygments_lexer": "ipython3",
   "version": "3.8.3"
  }
 },
 "nbformat": 4,
 "nbformat_minor": 4
}
