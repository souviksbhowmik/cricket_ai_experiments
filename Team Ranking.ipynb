{
 "cells": [
  {
   "cell_type": "code",
   "execution_count": 14,
   "metadata": {},
   "outputs": [],
   "source": [
    "import pandas as pd\n",
    "import numpy as np\n",
    "from datetime import datetime\n",
    "from matplotlib import pyplot as plt\n",
    "from sklearn.preprocessing import MinMaxScaler\n",
    "from tqdm.notebook import tqdm"
   ]
  },
  {
   "cell_type": "code",
   "execution_count": 15,
   "metadata": {},
   "outputs": [],
   "source": [
    "custom_date_parser = lambda x: datetime.strptime(x, \"%Y-%m-%d\")"
   ]
  },
  {
   "cell_type": "code",
   "execution_count": 16,
   "metadata": {},
   "outputs": [],
   "source": [
    "match_list_df = pd.read_csv('csv_data/match_list.csv',parse_dates=['date'],date_parser=custom_date_parser)\n",
    "#match_list_df = pd.read_csv('csv_data/match_list.csv')"
   ]
  },
  {
   "cell_type": "code",
   "execution_count": 17,
   "metadata": {},
   "outputs": [],
   "source": [
    "#match_list_train = match_list_df[match_list_df['train_data']==True]\n",
    "match_list_train=match_list_df"
   ]
  },
  {
   "cell_type": "markdown",
   "metadata": {},
   "source": [
    "# Jump to Loop"
   ]
  },
  {
   "cell_type": "code",
   "execution_count": 5,
   "metadata": {},
   "outputs": [],
   "source": [
    "# def convert_date(x):\n",
    "#     print(x)\n",
    "#     return datetime.strptime(x, \"%Y-%m-%d\")"
   ]
  },
  {
   "cell_type": "code",
   "execution_count": 6,
   "metadata": {},
   "outputs": [],
   "source": [
    "#match_list_train['date']=match_list_train['date'].apply(convert_date,1)"
   ]
  },
  {
   "cell_type": "code",
   "execution_count": 7,
   "metadata": {},
   "outputs": [],
   "source": [
    "year='2013'\n",
    "performance_cutoff_date_start = datetime.strptime(year+'-01-01','%Y-%m-%d')\n",
    "performance_cutoff_date_end = datetime.strptime(year+'-12-31','%Y-%m-%d')"
   ]
  },
  {
   "cell_type": "code",
   "execution_count": 8,
   "metadata": {},
   "outputs": [],
   "source": [
    "match_list_train=match_list_train[(match_list_train['date']>=performance_cutoff_date_start)&(match_list_train['date']<=performance_cutoff_date_end)]"
   ]
  },
  {
   "cell_type": "code",
   "execution_count": 9,
   "metadata": {},
   "outputs": [
    {
     "data": {
      "text/plain": [
       "Index(['match_id', 'date', 'location', 'first_innings', 'second_innings',\n",
       "       'winner', 'win_by', 'win_dif', 'toss_winner', 'player_of_match',\n",
       "       'train_data'],\n",
       "      dtype='object')"
      ]
     },
     "execution_count": 9,
     "metadata": {},
     "output_type": "execute_result"
    }
   ],
   "source": [
    "match_list_train.columns"
   ]
  },
  {
   "cell_type": "code",
   "execution_count": 10,
   "metadata": {},
   "outputs": [
    {
     "data": {
      "text/plain": [
       "array(['runs', 'wickets'], dtype=object)"
      ]
     },
     "execution_count": 10,
     "metadata": {},
     "output_type": "execute_result"
    }
   ],
   "source": [
    "match_list_train['win_by'].unique()"
   ]
  },
  {
   "cell_type": "code",
   "execution_count": 11,
   "metadata": {},
   "outputs": [],
   "source": [
    "country_set=set(match_list_train['first_innings'].unique()).union(set(match_list_train['first_innings'].unique()))"
   ]
  },
  {
   "cell_type": "code",
   "execution_count": 12,
   "metadata": {},
   "outputs": [
    {
     "data": {
      "text/plain": [
       "13"
      ]
     },
     "execution_count": 12,
     "metadata": {},
     "output_type": "execute_result"
    }
   ],
   "source": [
    "country_list = list(country_set)\n",
    "len(country_list)"
   ]
  },
  {
   "cell_type": "code",
   "execution_count": 13,
   "metadata": {},
   "outputs": [],
   "source": [
    "#selected_country=country_list[0]"
   ]
  },
  {
   "cell_type": "code",
   "execution_count": null,
   "metadata": {},
   "outputs": [],
   "source": []
  },
  {
   "cell_type": "code",
   "execution_count": null,
   "metadata": {},
   "outputs": [],
   "source": []
  },
  {
   "cell_type": "code",
   "execution_count": null,
   "metadata": {},
   "outputs": [],
   "source": []
  },
  {
   "cell_type": "code",
   "execution_count": null,
   "metadata": {},
   "outputs": [],
   "source": []
  },
  {
   "cell_type": "code",
   "execution_count": 14,
   "metadata": {},
   "outputs": [],
   "source": [
    "# win_count = match_list_train[match_list_train['winner']==selected_country].shape[0]\n",
    "# matches_played = match_list_train[(match_list_train['first_innings']==selected_country) | (match_list_train['second_inings']==selected_country)].shape[0]\n",
    "# total_win_by_runs = match_list_train[(match_list_train['win_by']=='runs')]['win_dif'].sum()\n",
    "# total_win_by_wickets = match_list_train[(match_list_train['win_by']=='wickets')]['win_dif'].sum()\n",
    "# win_ratio = win_count/matches_played\n",
    "\n",
    "\n",
    "# win_count,matches_played,win_ratio,total_win_by_runs,total_win_by_wickets"
   ]
  },
  {
   "cell_type": "code",
   "execution_count": 15,
   "metadata": {},
   "outputs": [],
   "source": [
    "rank_list = []\n",
    "for selected_country in country_list:\n",
    "    win_count = match_list_train[match_list_train['winner']==selected_country].shape[0]\n",
    "    matches_played = match_list_train[(match_list_train['first_innings']==selected_country) | (match_list_train['second_innings']==selected_country)].shape[0]\n",
    "    total_win_by_runs = match_list_train[(match_list_train['winner']==selected_country) & (match_list_train['win_by']=='runs')]['win_dif'].sum()\n",
    "    total_win_by_wickets = match_list_train[(match_list_train['winner']==selected_country) & (match_list_train['win_by']=='wickets')]['win_dif'].sum()\n",
    "    win_ratio = win_count/matches_played\n",
    "    total_loss_by_runs = match_list_train[((match_list_train['first_innings']==selected_country) | (match_list_train['second_innings']==selected_country))\n",
    "                    & (match_list_train['winner']!=selected_country)& (match_list_train['win_by']=='runs')]['win_dif'].sum()\n",
    "    total_loss_by_wickets = match_list_train[((match_list_train['first_innings']==selected_country) | (match_list_train['second_innings']==selected_country))\n",
    "                    & (match_list_train['winner']!=selected_country)& (match_list_train['win_by']=='wickets')]['win_dif'].sum()\n",
    "    \n",
    "    \n",
    "    rank_dict = {'country':selected_country,\n",
    "                 'win_ratio':win_ratio,\n",
    "                 #'total_win_by_runs':total_win_by_runs,\n",
    "                 #'total_loss_by_runs':total_loss_by_runs,\n",
    "                 #'total_win_by_wickets':total_win_by_wickets,\n",
    "                 #'total_loss_by_wickets':total_loss_by_wickets,\n",
    "                 'effective_win_by_runs':total_win_by_runs-total_loss_by_runs,\n",
    "                 'effective_win_by_wickets':total_win_by_wickets-total_loss_by_wickets,\n",
    "                 'matches_played':matches_played,\n",
    "                 'win_count':win_count,\n",
    "\n",
    "                }\n",
    "    rank_list.append(rank_dict)\n",
    "    "
   ]
  },
  {
   "cell_type": "code",
   "execution_count": 16,
   "metadata": {},
   "outputs": [
    {
     "data": {
      "text/html": [
       "<div>\n",
       "<style scoped>\n",
       "    .dataframe tbody tr th:only-of-type {\n",
       "        vertical-align: middle;\n",
       "    }\n",
       "\n",
       "    .dataframe tbody tr th {\n",
       "        vertical-align: top;\n",
       "    }\n",
       "\n",
       "    .dataframe thead th {\n",
       "        text-align: right;\n",
       "    }\n",
       "</style>\n",
       "<table border=\"1\" class=\"dataframe\">\n",
       "  <thead>\n",
       "    <tr style=\"text-align: right;\">\n",
       "      <th></th>\n",
       "      <th>country</th>\n",
       "      <th>win_ratio</th>\n",
       "      <th>effective_win_by_runs</th>\n",
       "      <th>effective_win_by_wickets</th>\n",
       "      <th>matches_played</th>\n",
       "      <th>win_count</th>\n",
       "    </tr>\n",
       "  </thead>\n",
       "  <tbody>\n",
       "    <tr>\n",
       "      <th>7</th>\n",
       "      <td>India</td>\n",
       "      <td>0.655172</td>\n",
       "      <td>-319</td>\n",
       "      <td>70</td>\n",
       "      <td>29</td>\n",
       "      <td>19</td>\n",
       "    </tr>\n",
       "    <tr>\n",
       "      <th>10</th>\n",
       "      <td>Bangladesh</td>\n",
       "      <td>0.600000</td>\n",
       "      <td>161</td>\n",
       "      <td>-9</td>\n",
       "      <td>5</td>\n",
       "      <td>3</td>\n",
       "    </tr>\n",
       "    <tr>\n",
       "      <th>2</th>\n",
       "      <td>Australia</td>\n",
       "      <td>0.578947</td>\n",
       "      <td>333</td>\n",
       "      <td>-12</td>\n",
       "      <td>19</td>\n",
       "      <td>11</td>\n",
       "    </tr>\n",
       "    <tr>\n",
       "      <th>8</th>\n",
       "      <td>South Africa</td>\n",
       "      <td>0.541667</td>\n",
       "      <td>320</td>\n",
       "      <td>-8</td>\n",
       "      <td>24</td>\n",
       "      <td>13</td>\n",
       "    </tr>\n",
       "    <tr>\n",
       "      <th>3</th>\n",
       "      <td>Ireland</td>\n",
       "      <td>0.500000</td>\n",
       "      <td>88</td>\n",
       "      <td>-7</td>\n",
       "      <td>4</td>\n",
       "      <td>2</td>\n",
       "    </tr>\n",
       "    <tr>\n",
       "      <th>4</th>\n",
       "      <td>England</td>\n",
       "      <td>0.500000</td>\n",
       "      <td>-254</td>\n",
       "      <td>9</td>\n",
       "      <td>20</td>\n",
       "      <td>10</td>\n",
       "    </tr>\n",
       "    <tr>\n",
       "      <th>11</th>\n",
       "      <td>Sri Lanka</td>\n",
       "      <td>0.500000</td>\n",
       "      <td>170</td>\n",
       "      <td>7</td>\n",
       "      <td>20</td>\n",
       "      <td>10</td>\n",
       "    </tr>\n",
       "    <tr>\n",
       "      <th>12</th>\n",
       "      <td>Pakistan</td>\n",
       "      <td>0.482759</td>\n",
       "      <td>232</td>\n",
       "      <td>-6</td>\n",
       "      <td>29</td>\n",
       "      <td>14</td>\n",
       "    </tr>\n",
       "    <tr>\n",
       "      <th>0</th>\n",
       "      <td>West Indies</td>\n",
       "      <td>0.444444</td>\n",
       "      <td>-43</td>\n",
       "      <td>-19</td>\n",
       "      <td>18</td>\n",
       "      <td>8</td>\n",
       "    </tr>\n",
       "    <tr>\n",
       "      <th>9</th>\n",
       "      <td>New Zealand</td>\n",
       "      <td>0.428571</td>\n",
       "      <td>29</td>\n",
       "      <td>-10</td>\n",
       "      <td>14</td>\n",
       "      <td>6</td>\n",
       "    </tr>\n",
       "    <tr>\n",
       "      <th>5</th>\n",
       "      <td>Zimbabwe</td>\n",
       "      <td>0.230769</td>\n",
       "      <td>-533</td>\n",
       "      <td>-14</td>\n",
       "      <td>13</td>\n",
       "      <td>3</td>\n",
       "    </tr>\n",
       "    <tr>\n",
       "      <th>1</th>\n",
       "      <td>Canada</td>\n",
       "      <td>0.000000</td>\n",
       "      <td>0</td>\n",
       "      <td>-15</td>\n",
       "      <td>2</td>\n",
       "      <td>0</td>\n",
       "    </tr>\n",
       "    <tr>\n",
       "      <th>6</th>\n",
       "      <td>Scotland</td>\n",
       "      <td>0.000000</td>\n",
       "      <td>-96</td>\n",
       "      <td>-1</td>\n",
       "      <td>2</td>\n",
       "      <td>0</td>\n",
       "    </tr>\n",
       "  </tbody>\n",
       "</table>\n",
       "</div>"
      ],
      "text/plain": [
       "         country  win_ratio  effective_win_by_runs  effective_win_by_wickets  \\\n",
       "7          India   0.655172                   -319                        70   \n",
       "10    Bangladesh   0.600000                    161                        -9   \n",
       "2      Australia   0.578947                    333                       -12   \n",
       "8   South Africa   0.541667                    320                        -8   \n",
       "3        Ireland   0.500000                     88                        -7   \n",
       "4        England   0.500000                   -254                         9   \n",
       "11     Sri Lanka   0.500000                    170                         7   \n",
       "12      Pakistan   0.482759                    232                        -6   \n",
       "0    West Indies   0.444444                    -43                       -19   \n",
       "9    New Zealand   0.428571                     29                       -10   \n",
       "5       Zimbabwe   0.230769                   -533                       -14   \n",
       "1         Canada   0.000000                      0                       -15   \n",
       "6       Scotland   0.000000                    -96                        -1   \n",
       "\n",
       "    matches_played  win_count  \n",
       "7               29         19  \n",
       "10               5          3  \n",
       "2               19         11  \n",
       "8               24         13  \n",
       "3                4          2  \n",
       "4               20         10  \n",
       "11              20         10  \n",
       "12              29         14  \n",
       "0               18          8  \n",
       "9               14          6  \n",
       "5               13          3  \n",
       "1                2          0  \n",
       "6                2          0  "
      ]
     },
     "execution_count": 16,
     "metadata": {},
     "output_type": "execute_result"
    }
   ],
   "source": [
    "score_df = pd.DataFrame(rank_list).sort_values('win_ratio',ascending=False)\n",
    "score_df"
   ]
  },
  {
   "cell_type": "code",
   "execution_count": 17,
   "metadata": {},
   "outputs": [],
   "source": [
    "#plt.scatter(score_df['matches_played'],range(score_df.shape[0]))"
   ]
  },
  {
   "cell_type": "code",
   "execution_count": 18,
   "metadata": {},
   "outputs": [],
   "source": [
    "#score_df['matches_played'].mean()"
   ]
  },
  {
   "cell_type": "code",
   "execution_count": 19,
   "metadata": {},
   "outputs": [],
   "source": [
    "#score_df['matches_played'].std()"
   ]
  },
  {
   "cell_type": "code",
   "execution_count": 20,
   "metadata": {},
   "outputs": [],
   "source": [
    "#score_df['matches_played'].mean()+score_df['matches_played'].std()"
   ]
  },
  {
   "cell_type": "code",
   "execution_count": 21,
   "metadata": {},
   "outputs": [],
   "source": [
    "scaler = MinMaxScaler()\n"
   ]
  },
  {
   "cell_type": "code",
   "execution_count": 22,
   "metadata": {},
   "outputs": [],
   "source": [
    "score_df['score']=scaler.fit_transform(score_df[['win_ratio','effective_win_by_runs','effective_win_by_wickets','matches_played']]).sum(axis=1)"
   ]
  },
  {
   "cell_type": "code",
   "execution_count": 23,
   "metadata": {},
   "outputs": [
    {
     "data": {
      "text/html": [
       "<div>\n",
       "<style scoped>\n",
       "    .dataframe tbody tr th:only-of-type {\n",
       "        vertical-align: middle;\n",
       "    }\n",
       "\n",
       "    .dataframe tbody tr th {\n",
       "        vertical-align: top;\n",
       "    }\n",
       "\n",
       "    .dataframe thead th {\n",
       "        text-align: right;\n",
       "    }\n",
       "</style>\n",
       "<table border=\"1\" class=\"dataframe\">\n",
       "  <thead>\n",
       "    <tr style=\"text-align: right;\">\n",
       "      <th></th>\n",
       "      <th>country</th>\n",
       "      <th>win_ratio</th>\n",
       "      <th>effective_win_by_runs</th>\n",
       "      <th>effective_win_by_wickets</th>\n",
       "      <th>matches_played</th>\n",
       "      <th>win_count</th>\n",
       "      <th>score</th>\n",
       "    </tr>\n",
       "  </thead>\n",
       "  <tbody>\n",
       "    <tr>\n",
       "      <th>7</th>\n",
       "      <td>India</td>\n",
       "      <td>0.655172</td>\n",
       "      <td>-319</td>\n",
       "      <td>70</td>\n",
       "      <td>29</td>\n",
       "      <td>19</td>\n",
       "      <td>3.247113</td>\n",
       "    </tr>\n",
       "    <tr>\n",
       "      <th>12</th>\n",
       "      <td>Pakistan</td>\n",
       "      <td>0.482759</td>\n",
       "      <td>232</td>\n",
       "      <td>-6</td>\n",
       "      <td>29</td>\n",
       "      <td>14</td>\n",
       "      <td>2.766281</td>\n",
       "    </tr>\n",
       "    <tr>\n",
       "      <th>8</th>\n",
       "      <td>South Africa</td>\n",
       "      <td>0.541667</td>\n",
       "      <td>320</td>\n",
       "      <td>-8</td>\n",
       "      <td>24</td>\n",
       "      <td>13</td>\n",
       "      <td>2.750153</td>\n",
       "    </tr>\n",
       "    <tr>\n",
       "      <th>2</th>\n",
       "      <td>Australia</td>\n",
       "      <td>0.578947</td>\n",
       "      <td>333</td>\n",
       "      <td>-12</td>\n",
       "      <td>19</td>\n",
       "      <td>11</td>\n",
       "      <td>2.591938</td>\n",
       "    </tr>\n",
       "    <tr>\n",
       "      <th>11</th>\n",
       "      <td>Sri Lanka</td>\n",
       "      <td>0.500000</td>\n",
       "      <td>170</td>\n",
       "      <td>7</td>\n",
       "      <td>20</td>\n",
       "      <td>10</td>\n",
       "      <td>2.533738</td>\n",
       "    </tr>\n",
       "    <tr>\n",
       "      <th>4</th>\n",
       "      <td>England</td>\n",
       "      <td>0.500000</td>\n",
       "      <td>-254</td>\n",
       "      <td>9</td>\n",
       "      <td>20</td>\n",
       "      <td>10</td>\n",
       "      <td>2.066602</td>\n",
       "    </tr>\n",
       "    <tr>\n",
       "      <th>10</th>\n",
       "      <td>Bangladesh</td>\n",
       "      <td>0.600000</td>\n",
       "      <td>161</td>\n",
       "      <td>-9</td>\n",
       "      <td>5</td>\n",
       "      <td>3</td>\n",
       "      <td>1.940646</td>\n",
       "    </tr>\n",
       "    <tr>\n",
       "      <th>9</th>\n",
       "      <td>New Zealand</td>\n",
       "      <td>0.428571</td>\n",
       "      <td>29</td>\n",
       "      <td>-10</td>\n",
       "      <td>14</td>\n",
       "      <td>6</td>\n",
       "      <td>1.848664</td>\n",
       "    </tr>\n",
       "    <tr>\n",
       "      <th>0</th>\n",
       "      <td>West Indies</td>\n",
       "      <td>0.444444</td>\n",
       "      <td>-43</td>\n",
       "      <td>-19</td>\n",
       "      <td>18</td>\n",
       "      <td>8</td>\n",
       "      <td>1.836775</td>\n",
       "    </tr>\n",
       "    <tr>\n",
       "      <th>3</th>\n",
       "      <td>Ireland</td>\n",
       "      <td>0.500000</td>\n",
       "      <td>88</td>\n",
       "      <td>-7</td>\n",
       "      <td>4</td>\n",
       "      <td>2</td>\n",
       "      <td>1.689153</td>\n",
       "    </tr>\n",
       "    <tr>\n",
       "      <th>5</th>\n",
       "      <td>Zimbabwe</td>\n",
       "      <td>0.230769</td>\n",
       "      <td>-533</td>\n",
       "      <td>-14</td>\n",
       "      <td>13</td>\n",
       "      <td>3</td>\n",
       "      <td>0.815814</td>\n",
       "    </tr>\n",
       "    <tr>\n",
       "      <th>6</th>\n",
       "      <td>Scotland</td>\n",
       "      <td>0.000000</td>\n",
       "      <td>-96</td>\n",
       "      <td>-1</td>\n",
       "      <td>2</td>\n",
       "      <td>0</td>\n",
       "      <td>0.706866</td>\n",
       "    </tr>\n",
       "    <tr>\n",
       "      <th>1</th>\n",
       "      <td>Canada</td>\n",
       "      <td>0.000000</td>\n",
       "      <td>0</td>\n",
       "      <td>-15</td>\n",
       "      <td>2</td>\n",
       "      <td>0</td>\n",
       "      <td>0.660417</td>\n",
       "    </tr>\n",
       "  </tbody>\n",
       "</table>\n",
       "</div>"
      ],
      "text/plain": [
       "         country  win_ratio  effective_win_by_runs  effective_win_by_wickets  \\\n",
       "7          India   0.655172                   -319                        70   \n",
       "12      Pakistan   0.482759                    232                        -6   \n",
       "8   South Africa   0.541667                    320                        -8   \n",
       "2      Australia   0.578947                    333                       -12   \n",
       "11     Sri Lanka   0.500000                    170                         7   \n",
       "4        England   0.500000                   -254                         9   \n",
       "10    Bangladesh   0.600000                    161                        -9   \n",
       "9    New Zealand   0.428571                     29                       -10   \n",
       "0    West Indies   0.444444                    -43                       -19   \n",
       "3        Ireland   0.500000                     88                        -7   \n",
       "5       Zimbabwe   0.230769                   -533                       -14   \n",
       "6       Scotland   0.000000                    -96                        -1   \n",
       "1         Canada   0.000000                      0                       -15   \n",
       "\n",
       "    matches_played  win_count     score  \n",
       "7               29         19  3.247113  \n",
       "12              29         14  2.766281  \n",
       "8               24         13  2.750153  \n",
       "2               19         11  2.591938  \n",
       "11              20         10  2.533738  \n",
       "4               20         10  2.066602  \n",
       "10               5          3  1.940646  \n",
       "9               14          6  1.848664  \n",
       "0               18          8  1.836775  \n",
       "3                4          2  1.689153  \n",
       "5               13          3  0.815814  \n",
       "6                2          0  0.706866  \n",
       "1                2          0  0.660417  "
      ]
     },
     "execution_count": 23,
     "metadata": {},
     "output_type": "execute_result"
    }
   ],
   "source": [
    "score_df=score_df.sort_values('score',ascending=False)\n",
    "score_df"
   ]
  },
  {
   "cell_type": "code",
   "execution_count": 24,
   "metadata": {},
   "outputs": [],
   "source": [
    "score_df['rank'] = range(1,score_df.shape[0]+1)"
   ]
  },
  {
   "cell_type": "code",
   "execution_count": 25,
   "metadata": {},
   "outputs": [
    {
     "data": {
      "text/html": [
       "<div>\n",
       "<style scoped>\n",
       "    .dataframe tbody tr th:only-of-type {\n",
       "        vertical-align: middle;\n",
       "    }\n",
       "\n",
       "    .dataframe tbody tr th {\n",
       "        vertical-align: top;\n",
       "    }\n",
       "\n",
       "    .dataframe thead th {\n",
       "        text-align: right;\n",
       "    }\n",
       "</style>\n",
       "<table border=\"1\" class=\"dataframe\">\n",
       "  <thead>\n",
       "    <tr style=\"text-align: right;\">\n",
       "      <th></th>\n",
       "      <th>country</th>\n",
       "      <th>win_ratio</th>\n",
       "      <th>effective_win_by_runs</th>\n",
       "      <th>effective_win_by_wickets</th>\n",
       "      <th>matches_played</th>\n",
       "      <th>win_count</th>\n",
       "      <th>score</th>\n",
       "      <th>rank</th>\n",
       "    </tr>\n",
       "  </thead>\n",
       "  <tbody>\n",
       "    <tr>\n",
       "      <th>7</th>\n",
       "      <td>India</td>\n",
       "      <td>0.655172</td>\n",
       "      <td>-319</td>\n",
       "      <td>70</td>\n",
       "      <td>29</td>\n",
       "      <td>19</td>\n",
       "      <td>3.247113</td>\n",
       "      <td>1</td>\n",
       "    </tr>\n",
       "    <tr>\n",
       "      <th>12</th>\n",
       "      <td>Pakistan</td>\n",
       "      <td>0.482759</td>\n",
       "      <td>232</td>\n",
       "      <td>-6</td>\n",
       "      <td>29</td>\n",
       "      <td>14</td>\n",
       "      <td>2.766281</td>\n",
       "      <td>2</td>\n",
       "    </tr>\n",
       "    <tr>\n",
       "      <th>8</th>\n",
       "      <td>South Africa</td>\n",
       "      <td>0.541667</td>\n",
       "      <td>320</td>\n",
       "      <td>-8</td>\n",
       "      <td>24</td>\n",
       "      <td>13</td>\n",
       "      <td>2.750153</td>\n",
       "      <td>3</td>\n",
       "    </tr>\n",
       "    <tr>\n",
       "      <th>2</th>\n",
       "      <td>Australia</td>\n",
       "      <td>0.578947</td>\n",
       "      <td>333</td>\n",
       "      <td>-12</td>\n",
       "      <td>19</td>\n",
       "      <td>11</td>\n",
       "      <td>2.591938</td>\n",
       "      <td>4</td>\n",
       "    </tr>\n",
       "    <tr>\n",
       "      <th>11</th>\n",
       "      <td>Sri Lanka</td>\n",
       "      <td>0.500000</td>\n",
       "      <td>170</td>\n",
       "      <td>7</td>\n",
       "      <td>20</td>\n",
       "      <td>10</td>\n",
       "      <td>2.533738</td>\n",
       "      <td>5</td>\n",
       "    </tr>\n",
       "    <tr>\n",
       "      <th>4</th>\n",
       "      <td>England</td>\n",
       "      <td>0.500000</td>\n",
       "      <td>-254</td>\n",
       "      <td>9</td>\n",
       "      <td>20</td>\n",
       "      <td>10</td>\n",
       "      <td>2.066602</td>\n",
       "      <td>6</td>\n",
       "    </tr>\n",
       "    <tr>\n",
       "      <th>10</th>\n",
       "      <td>Bangladesh</td>\n",
       "      <td>0.600000</td>\n",
       "      <td>161</td>\n",
       "      <td>-9</td>\n",
       "      <td>5</td>\n",
       "      <td>3</td>\n",
       "      <td>1.940646</td>\n",
       "      <td>7</td>\n",
       "    </tr>\n",
       "    <tr>\n",
       "      <th>9</th>\n",
       "      <td>New Zealand</td>\n",
       "      <td>0.428571</td>\n",
       "      <td>29</td>\n",
       "      <td>-10</td>\n",
       "      <td>14</td>\n",
       "      <td>6</td>\n",
       "      <td>1.848664</td>\n",
       "      <td>8</td>\n",
       "    </tr>\n",
       "    <tr>\n",
       "      <th>0</th>\n",
       "      <td>West Indies</td>\n",
       "      <td>0.444444</td>\n",
       "      <td>-43</td>\n",
       "      <td>-19</td>\n",
       "      <td>18</td>\n",
       "      <td>8</td>\n",
       "      <td>1.836775</td>\n",
       "      <td>9</td>\n",
       "    </tr>\n",
       "    <tr>\n",
       "      <th>3</th>\n",
       "      <td>Ireland</td>\n",
       "      <td>0.500000</td>\n",
       "      <td>88</td>\n",
       "      <td>-7</td>\n",
       "      <td>4</td>\n",
       "      <td>2</td>\n",
       "      <td>1.689153</td>\n",
       "      <td>10</td>\n",
       "    </tr>\n",
       "    <tr>\n",
       "      <th>5</th>\n",
       "      <td>Zimbabwe</td>\n",
       "      <td>0.230769</td>\n",
       "      <td>-533</td>\n",
       "      <td>-14</td>\n",
       "      <td>13</td>\n",
       "      <td>3</td>\n",
       "      <td>0.815814</td>\n",
       "      <td>11</td>\n",
       "    </tr>\n",
       "    <tr>\n",
       "      <th>6</th>\n",
       "      <td>Scotland</td>\n",
       "      <td>0.000000</td>\n",
       "      <td>-96</td>\n",
       "      <td>-1</td>\n",
       "      <td>2</td>\n",
       "      <td>0</td>\n",
       "      <td>0.706866</td>\n",
       "      <td>12</td>\n",
       "    </tr>\n",
       "    <tr>\n",
       "      <th>1</th>\n",
       "      <td>Canada</td>\n",
       "      <td>0.000000</td>\n",
       "      <td>0</td>\n",
       "      <td>-15</td>\n",
       "      <td>2</td>\n",
       "      <td>0</td>\n",
       "      <td>0.660417</td>\n",
       "      <td>13</td>\n",
       "    </tr>\n",
       "  </tbody>\n",
       "</table>\n",
       "</div>"
      ],
      "text/plain": [
       "         country  win_ratio  effective_win_by_runs  effective_win_by_wickets  \\\n",
       "7          India   0.655172                   -319                        70   \n",
       "12      Pakistan   0.482759                    232                        -6   \n",
       "8   South Africa   0.541667                    320                        -8   \n",
       "2      Australia   0.578947                    333                       -12   \n",
       "11     Sri Lanka   0.500000                    170                         7   \n",
       "4        England   0.500000                   -254                         9   \n",
       "10    Bangladesh   0.600000                    161                        -9   \n",
       "9    New Zealand   0.428571                     29                       -10   \n",
       "0    West Indies   0.444444                    -43                       -19   \n",
       "3        Ireland   0.500000                     88                        -7   \n",
       "5       Zimbabwe   0.230769                   -533                       -14   \n",
       "6       Scotland   0.000000                    -96                        -1   \n",
       "1         Canada   0.000000                      0                       -15   \n",
       "\n",
       "    matches_played  win_count     score  rank  \n",
       "7               29         19  3.247113     1  \n",
       "12              29         14  2.766281     2  \n",
       "8               24         13  2.750153     3  \n",
       "2               19         11  2.591938     4  \n",
       "11              20         10  2.533738     5  \n",
       "4               20         10  2.066602     6  \n",
       "10               5          3  1.940646     7  \n",
       "9               14          6  1.848664     8  \n",
       "0               18          8  1.836775     9  \n",
       "3                4          2  1.689153    10  \n",
       "5               13          3  0.815814    11  \n",
       "6                2          0  0.706866    12  \n",
       "1                2          0  0.660417    13  "
      ]
     },
     "execution_count": 25,
     "metadata": {},
     "output_type": "execute_result"
    }
   ],
   "source": [
    "score_df"
   ]
  },
  {
   "cell_type": "code",
   "execution_count": 154,
   "metadata": {},
   "outputs": [],
   "source": [
    "score_df.to_csv('csv_data/country_rank_'+year+'.csv',index=False)"
   ]
  },
  {
   "cell_type": "code",
   "execution_count": null,
   "metadata": {},
   "outputs": [],
   "source": []
  },
  {
   "cell_type": "markdown",
   "metadata": {},
   "source": [
    "# Loop"
   ]
  },
  {
   "cell_type": "code",
   "execution_count": 19,
   "metadata": {},
   "outputs": [
    {
     "data": {
      "application/vnd.jupyter.widget-view+json": {
       "model_id": "6d5ab55ee2c64393a9565600e8dc25dd",
       "version_major": 2,
       "version_minor": 0
      },
      "text/plain": [
       "HBox(children=(FloatProgress(value=0.0, max=12.0), HTML(value='')))"
      ]
     },
     "metadata": {},
     "output_type": "display_data"
    },
    {
     "data": {
      "application/vnd.jupyter.widget-view+json": {
       "model_id": "79b5a870b3d443988139e1cef6d5be18",
       "version_major": 2,
       "version_minor": 0
      },
      "text/plain": [
       "HBox(children=(FloatProgress(value=0.0, max=11.0), HTML(value='')))"
      ]
     },
     "metadata": {},
     "output_type": "display_data"
    },
    {
     "name": "stdout",
     "output_type": "stream",
     "text": [
      "\n"
     ]
    },
    {
     "data": {
      "application/vnd.jupyter.widget-view+json": {
       "model_id": "1d4ae02b90e6477bac863b40fde3125d",
       "version_major": 2,
       "version_minor": 0
      },
      "text/plain": [
       "HBox(children=(FloatProgress(value=0.0, max=14.0), HTML(value='')))"
      ]
     },
     "metadata": {},
     "output_type": "display_data"
    },
    {
     "name": "stdout",
     "output_type": "stream",
     "text": [
      "\n"
     ]
    },
    {
     "data": {
      "application/vnd.jupyter.widget-view+json": {
       "model_id": "5faf929c391c403ca2b249b3add1bda5",
       "version_major": 2,
       "version_minor": 0
      },
      "text/plain": [
       "HBox(children=(FloatProgress(value=0.0, max=14.0), HTML(value='')))"
      ]
     },
     "metadata": {},
     "output_type": "display_data"
    },
    {
     "name": "stdout",
     "output_type": "stream",
     "text": [
      "\n"
     ]
    },
    {
     "data": {
      "application/vnd.jupyter.widget-view+json": {
       "model_id": "2303d735a6ee4a9f902f51be84387646",
       "version_major": 2,
       "version_minor": 0
      },
      "text/plain": [
       "HBox(children=(FloatProgress(value=0.0, max=14.0), HTML(value='')))"
      ]
     },
     "metadata": {},
     "output_type": "display_data"
    },
    {
     "name": "stdout",
     "output_type": "stream",
     "text": [
      "\n"
     ]
    },
    {
     "data": {
      "application/vnd.jupyter.widget-view+json": {
       "model_id": "6ce1584f6d8b47299eba2cddf26ef6e6",
       "version_major": 2,
       "version_minor": 0
      },
      "text/plain": [
       "HBox(children=(FloatProgress(value=0.0, max=11.0), HTML(value='')))"
      ]
     },
     "metadata": {},
     "output_type": "display_data"
    },
    {
     "name": "stdout",
     "output_type": "stream",
     "text": [
      "\n"
     ]
    },
    {
     "data": {
      "application/vnd.jupyter.widget-view+json": {
       "model_id": "726db4e137ca4a6b8f89263553f1934e",
       "version_major": 2,
       "version_minor": 0
      },
      "text/plain": [
       "HBox(children=(FloatProgress(value=0.0, max=13.0), HTML(value='')))"
      ]
     },
     "metadata": {},
     "output_type": "display_data"
    },
    {
     "name": "stdout",
     "output_type": "stream",
     "text": [
      "\n"
     ]
    },
    {
     "data": {
      "application/vnd.jupyter.widget-view+json": {
       "model_id": "5be8060dd3b24a23b738b6e4a7a14c99",
       "version_major": 2,
       "version_minor": 0
      },
      "text/plain": [
       "HBox(children=(FloatProgress(value=0.0, max=17.0), HTML(value='')))"
      ]
     },
     "metadata": {},
     "output_type": "display_data"
    },
    {
     "name": "stdout",
     "output_type": "stream",
     "text": [
      "\n"
     ]
    },
    {
     "data": {
      "application/vnd.jupyter.widget-view+json": {
       "model_id": "39f6e4752c6b425f9c23d236f184a1e2",
       "version_major": 2,
       "version_minor": 0
      },
      "text/plain": [
       "HBox(children=(FloatProgress(value=0.0, max=15.0), HTML(value='')))"
      ]
     },
     "metadata": {},
     "output_type": "display_data"
    },
    {
     "name": "stdout",
     "output_type": "stream",
     "text": [
      "\n"
     ]
    },
    {
     "data": {
      "application/vnd.jupyter.widget-view+json": {
       "model_id": "f14680b3c6ae4fa584ad754caad3da8c",
       "version_major": 2,
       "version_minor": 0
      },
      "text/plain": [
       "HBox(children=(FloatProgress(value=0.0, max=16.0), HTML(value='')))"
      ]
     },
     "metadata": {},
     "output_type": "display_data"
    },
    {
     "name": "stdout",
     "output_type": "stream",
     "text": [
      "\n"
     ]
    },
    {
     "data": {
      "application/vnd.jupyter.widget-view+json": {
       "model_id": "ff3a5896845d4d7f9ebff4c3bcc8139f",
       "version_major": 2,
       "version_minor": 0
      },
      "text/plain": [
       "HBox(children=(FloatProgress(value=0.0, max=16.0), HTML(value='')))"
      ]
     },
     "metadata": {},
     "output_type": "display_data"
    },
    {
     "name": "stdout",
     "output_type": "stream",
     "text": [
      "\n"
     ]
    },
    {
     "data": {
      "application/vnd.jupyter.widget-view+json": {
       "model_id": "16627a7d791f443cb2ced4bf8703c718",
       "version_major": 2,
       "version_minor": 0
      },
      "text/plain": [
       "HBox(children=(FloatProgress(value=0.0, max=16.0), HTML(value='')))"
      ]
     },
     "metadata": {},
     "output_type": "display_data"
    },
    {
     "name": "stdout",
     "output_type": "stream",
     "text": [
      "\n"
     ]
    },
    {
     "data": {
      "application/vnd.jupyter.widget-view+json": {
       "model_id": "b8a6dcdbabfe4fb4bce09960644afd35",
       "version_major": 2,
       "version_minor": 0
      },
      "text/plain": [
       "HBox(children=(FloatProgress(value=0.0, max=18.0), HTML(value='')))"
      ]
     },
     "metadata": {},
     "output_type": "display_data"
    },
    {
     "name": "stdout",
     "output_type": "stream",
     "text": [
      "\n",
      "\n"
     ]
    }
   ],
   "source": [
    "for year in tqdm(['2008','2009','2010','2011','2012','2013','2014','2015','2016','2017','2018','2019']):\n",
    "    performance_cutoff_date_start = datetime.strptime(year+'-01-01','%Y-%m-%d')\n",
    "    performance_cutoff_date_end = datetime.strptime(year+'-12-31','%Y-%m-%d')\n",
    "    match_list_year=match_list_train[(match_list_train['date']>=performance_cutoff_date_start)&(match_list_train['date']<=performance_cutoff_date_end)]\n",
    "    country_set=set(match_list_year['first_innings'].unique()).union(set(match_list_year['first_innings'].unique()))\n",
    "    country_list = list(country_set)\n",
    "    #print(country_list)\n",
    "    country_rank_list = []\n",
    "    #print(year,country_rank_list)\n",
    "    #ab=[]\n",
    "    for selected_country in tqdm(country_list):\n",
    "        #print(selected_country)\n",
    "        win_count = match_list_year[match_list_year['winner']==selected_country].shape[0]\n",
    "        matches_played = match_list_year[(match_list_year['first_innings']==selected_country) | (match_list_year['second_innings']==selected_country)].shape[0]\n",
    "        total_win_by_runs = match_list_year[(match_list_year['winner']==selected_country) & (match_list_year['win_by']=='runs')]['win_dif'].sum()\n",
    "        total_win_by_wickets = match_list_year[(match_list_year['winner']==selected_country) & (match_list_year['win_by']=='wickets')]['win_dif'].sum()\n",
    "        win_ratio = win_count/matches_played\n",
    "        total_loss_by_runs = match_list_year[((match_list_year['first_innings']==selected_country) | (match_list_year['second_innings']==selected_country))\n",
    "                        & (match_list_year['winner']!=selected_country)& (match_list_year['win_by']=='runs')]['win_dif'].sum()\n",
    "        total_loss_by_wickets = match_list_year[((match_list_year['first_innings']==selected_country) | (match_list_year['second_innings']==selected_country))\n",
    "                        & (match_list_year['winner']!=selected_country)& (match_list_year['win_by']=='wickets')]['win_dif'].sum()\n",
    "\n",
    "\n",
    "        rank_dict = {'country':selected_country,\n",
    "                     'win_ratio':win_ratio,\n",
    "                     #'total_win_by_runs':total_win_by_runs,\n",
    "                     #'total_loss_by_runs':total_loss_by_runs,\n",
    "                     #'total_win_by_wickets':total_win_by_wickets,\n",
    "                     #'total_loss_by_wickets':total_loss_by_wickets,\n",
    "                     'effective_win_by_runs':total_win_by_runs-total_loss_by_runs,\n",
    "                     'effective_win_by_wickets':total_win_by_wickets-total_loss_by_wickets,\n",
    "                     'matches_played':matches_played,\n",
    "                     'win_count':win_count,\n",
    "\n",
    "                    }\n",
    "        #print('dict',selected_country,rank_dict)\n",
    "        country_rank_list.append(rank_dict)\n",
    "        #print('updated_list',country_rank_list)\n",
    "        #ab.append(rank_dict)\n",
    "    #print(country_rank_list)\n",
    "        \n",
    "    score_df = pd.DataFrame(country_rank_list).sort_values('win_ratio',ascending=False)\n",
    "    scaler = MinMaxScaler()\n",
    "    \n",
    "    score_df['score']=scaler.fit_transform(score_df[['win_ratio','effective_win_by_runs','effective_win_by_wickets','matches_played']]).sum(axis=1)\n",
    "    \n",
    "    score_df=score_df.sort_values('score',ascending=False)\n",
    "    score_df['rank'] = range(1,score_df.shape[0]+1)\n",
    "    score_df.to_csv('csv_data/country_rank_'+year+'.csv',index=False)\n",
    "    "
   ]
  },
  {
   "cell_type": "code",
   "execution_count": 18,
   "metadata": {},
   "outputs": [
    {
     "data": {
      "text/html": [
       "<div>\n",
       "<style scoped>\n",
       "    .dataframe tbody tr th:only-of-type {\n",
       "        vertical-align: middle;\n",
       "    }\n",
       "\n",
       "    .dataframe tbody tr th {\n",
       "        vertical-align: top;\n",
       "    }\n",
       "\n",
       "    .dataframe thead th {\n",
       "        text-align: right;\n",
       "    }\n",
       "</style>\n",
       "<table border=\"1\" class=\"dataframe\">\n",
       "  <thead>\n",
       "    <tr style=\"text-align: right;\">\n",
       "      <th></th>\n",
       "      <th>match_id</th>\n",
       "      <th>date</th>\n",
       "      <th>location</th>\n",
       "      <th>first_innings</th>\n",
       "      <th>second_innings</th>\n",
       "      <th>winner</th>\n",
       "      <th>win_by</th>\n",
       "      <th>win_dif</th>\n",
       "      <th>toss_winner</th>\n",
       "      <th>player_of_match</th>\n",
       "      <th>train_data</th>\n",
       "    </tr>\n",
       "  </thead>\n",
       "  <tbody>\n",
       "    <tr>\n",
       "      <th>0</th>\n",
       "      <td>251492</td>\n",
       "      <td>2007-01-06</td>\n",
       "      <td>Auckland</td>\n",
       "      <td>Sri Lanka</td>\n",
       "      <td>New Zealand</td>\n",
       "      <td>Sri Lanka</td>\n",
       "      <td>runs</td>\n",
       "      <td>189</td>\n",
       "      <td>Sri Lanka</td>\n",
       "      <td>ST Jayasuriya</td>\n",
       "      <td>True</td>\n",
       "    </tr>\n",
       "    <tr>\n",
       "      <th>1</th>\n",
       "      <td>249232</td>\n",
       "      <td>2007-01-12</td>\n",
       "      <td>Melbourne Cricket Ground</td>\n",
       "      <td>England</td>\n",
       "      <td>Australia</td>\n",
       "      <td>Australia</td>\n",
       "      <td>wickets</td>\n",
       "      <td>8</td>\n",
       "      <td>England</td>\n",
       "      <td>AC Gilchrist</td>\n",
       "      <td>True</td>\n",
       "    </tr>\n",
       "    <tr>\n",
       "      <th>2</th>\n",
       "      <td>249228</td>\n",
       "      <td>2007-01-14</td>\n",
       "      <td>Hobart</td>\n",
       "      <td>Australia</td>\n",
       "      <td>New Zealand</td>\n",
       "      <td>Australia</td>\n",
       "      <td>runs</td>\n",
       "      <td>105</td>\n",
       "      <td>Australia</td>\n",
       "      <td>A Symonds</td>\n",
       "      <td>True</td>\n",
       "    </tr>\n",
       "    <tr>\n",
       "      <th>3</th>\n",
       "      <td>249236</td>\n",
       "      <td>2007-01-16</td>\n",
       "      <td>Hobart</td>\n",
       "      <td>New Zealand</td>\n",
       "      <td>England</td>\n",
       "      <td>England</td>\n",
       "      <td>wickets</td>\n",
       "      <td>3</td>\n",
       "      <td>New Zealand</td>\n",
       "      <td>A Flintoff</td>\n",
       "      <td>True</td>\n",
       "    </tr>\n",
       "    <tr>\n",
       "      <th>4</th>\n",
       "      <td>249233</td>\n",
       "      <td>2007-01-19</td>\n",
       "      <td>Brisbane</td>\n",
       "      <td>England</td>\n",
       "      <td>Australia</td>\n",
       "      <td>Australia</td>\n",
       "      <td>wickets</td>\n",
       "      <td>4</td>\n",
       "      <td>England</td>\n",
       "      <td>MEK Hussey</td>\n",
       "      <td>True</td>\n",
       "    </tr>\n",
       "    <tr>\n",
       "      <th>...</th>\n",
       "      <td>...</td>\n",
       "      <td>...</td>\n",
       "      <td>...</td>\n",
       "      <td>...</td>\n",
       "      <td>...</td>\n",
       "      <td>...</td>\n",
       "      <td>...</td>\n",
       "      <td>...</td>\n",
       "      <td>...</td>\n",
       "      <td>...</td>\n",
       "      <td>...</td>\n",
       "    </tr>\n",
       "    <tr>\n",
       "      <th>1372</th>\n",
       "      <td>1198240</td>\n",
       "      <td>2020-09-16</td>\n",
       "      <td>Manchester</td>\n",
       "      <td>England</td>\n",
       "      <td>Australia</td>\n",
       "      <td>Australia</td>\n",
       "      <td>wickets</td>\n",
       "      <td>3</td>\n",
       "      <td>England</td>\n",
       "      <td>GJ Maxwell</td>\n",
       "      <td>False</td>\n",
       "    </tr>\n",
       "    <tr>\n",
       "      <th>1373</th>\n",
       "      <td>1233461</td>\n",
       "      <td>2020-10-30</td>\n",
       "      <td>Rawalpindi Cricket Stadium</td>\n",
       "      <td>Pakistan</td>\n",
       "      <td>Zimbabwe</td>\n",
       "      <td>Pakistan</td>\n",
       "      <td>runs</td>\n",
       "      <td>26</td>\n",
       "      <td>Pakistan</td>\n",
       "      <td>BRM Taylor</td>\n",
       "      <td>False</td>\n",
       "    </tr>\n",
       "    <tr>\n",
       "      <th>1374</th>\n",
       "      <td>1233462</td>\n",
       "      <td>2020-11-01</td>\n",
       "      <td>Rawalpindi Cricket Stadium</td>\n",
       "      <td>Zimbabwe</td>\n",
       "      <td>Pakistan</td>\n",
       "      <td>Pakistan</td>\n",
       "      <td>wickets</td>\n",
       "      <td>6</td>\n",
       "      <td>Zimbabwe</td>\n",
       "      <td>Iftikhar Ahmed</td>\n",
       "      <td>False</td>\n",
       "    </tr>\n",
       "    <tr>\n",
       "      <th>1375</th>\n",
       "      <td>1223955</td>\n",
       "      <td>2020-11-27</td>\n",
       "      <td>Sydney Cricket Ground</td>\n",
       "      <td>Australia</td>\n",
       "      <td>India</td>\n",
       "      <td>Australia</td>\n",
       "      <td>runs</td>\n",
       "      <td>66</td>\n",
       "      <td>Australia</td>\n",
       "      <td>SPD Smith</td>\n",
       "      <td>False</td>\n",
       "    </tr>\n",
       "    <tr>\n",
       "      <th>1376</th>\n",
       "      <td>1223956</td>\n",
       "      <td>2020-11-29</td>\n",
       "      <td>Sydney Cricket Ground</td>\n",
       "      <td>Australia</td>\n",
       "      <td>India</td>\n",
       "      <td>Australia</td>\n",
       "      <td>runs</td>\n",
       "      <td>51</td>\n",
       "      <td>Australia</td>\n",
       "      <td>SPD Smith</td>\n",
       "      <td>False</td>\n",
       "    </tr>\n",
       "  </tbody>\n",
       "</table>\n",
       "<p>1377 rows × 11 columns</p>\n",
       "</div>"
      ],
      "text/plain": [
       "      match_id       date                    location first_innings  \\\n",
       "0       251492 2007-01-06                    Auckland     Sri Lanka   \n",
       "1       249232 2007-01-12    Melbourne Cricket Ground       England   \n",
       "2       249228 2007-01-14                      Hobart     Australia   \n",
       "3       249236 2007-01-16                      Hobart   New Zealand   \n",
       "4       249233 2007-01-19                    Brisbane       England   \n",
       "...        ...        ...                         ...           ...   \n",
       "1372   1198240 2020-09-16                  Manchester       England   \n",
       "1373   1233461 2020-10-30  Rawalpindi Cricket Stadium      Pakistan   \n",
       "1374   1233462 2020-11-01  Rawalpindi Cricket Stadium      Zimbabwe   \n",
       "1375   1223955 2020-11-27       Sydney Cricket Ground     Australia   \n",
       "1376   1223956 2020-11-29       Sydney Cricket Ground     Australia   \n",
       "\n",
       "     second_innings     winner   win_by  win_dif  toss_winner player_of_match  \\\n",
       "0       New Zealand  Sri Lanka     runs      189    Sri Lanka   ST Jayasuriya   \n",
       "1         Australia  Australia  wickets        8      England    AC Gilchrist   \n",
       "2       New Zealand  Australia     runs      105    Australia       A Symonds   \n",
       "3           England    England  wickets        3  New Zealand      A Flintoff   \n",
       "4         Australia  Australia  wickets        4      England      MEK Hussey   \n",
       "...             ...        ...      ...      ...          ...             ...   \n",
       "1372      Australia  Australia  wickets        3      England      GJ Maxwell   \n",
       "1373       Zimbabwe   Pakistan     runs       26     Pakistan      BRM Taylor   \n",
       "1374       Pakistan   Pakistan  wickets        6     Zimbabwe  Iftikhar Ahmed   \n",
       "1375          India  Australia     runs       66    Australia       SPD Smith   \n",
       "1376          India  Australia     runs       51    Australia       SPD Smith   \n",
       "\n",
       "      train_data  \n",
       "0           True  \n",
       "1           True  \n",
       "2           True  \n",
       "3           True  \n",
       "4           True  \n",
       "...          ...  \n",
       "1372       False  \n",
       "1373       False  \n",
       "1374       False  \n",
       "1375       False  \n",
       "1376       False  \n",
       "\n",
       "[1377 rows x 11 columns]"
      ]
     },
     "execution_count": 18,
     "metadata": {},
     "output_type": "execute_result"
    }
   ],
   "source": [
    "match_list_train"
   ]
  },
  {
   "cell_type": "code",
   "execution_count": null,
   "metadata": {},
   "outputs": [],
   "source": []
  }
 ],
 "metadata": {
  "kernelspec": {
   "display_name": "Python 3",
   "language": "python",
   "name": "python3"
  },
  "language_info": {
   "codemirror_mode": {
    "name": "ipython",
    "version": 3
   },
   "file_extension": ".py",
   "mimetype": "text/x-python",
   "name": "python",
   "nbconvert_exporter": "python",
   "pygments_lexer": "ipython3",
   "version": "3.8.3"
  }
 },
 "nbformat": 4,
 "nbformat_minor": 4
}
