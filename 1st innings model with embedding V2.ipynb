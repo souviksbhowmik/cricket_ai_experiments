{
 "cells": [
  {
   "cell_type": "code",
   "execution_count": 1,
   "metadata": {},
   "outputs": [],
   "source": [
    "import pandas as pd\n",
    "import numpy as np\n",
    "from datetime import datetime\n",
    "from matplotlib import pyplot as plt\n",
    "from sklearn.preprocessing import MinMaxScaler\n",
    "from tqdm.notebook import tqdm\n",
    "\n",
    "from sklearn.linear_model import LinearRegression\n",
    "from sklearn.preprocessing import StandardScaler,MinMaxScaler\n",
    "from sklearn.metrics import mean_absolute_error,mean_squared_error\n",
    "import pickle\n",
    "\n",
    "from keras.models import model_from_json"
   ]
  },
  {
   "cell_type": "markdown",
   "metadata": {},
   "source": [
    "# LinearRegression"
   ]
  },
  {
   "cell_type": "code",
   "execution_count": 2,
   "metadata": {},
   "outputs": [],
   "source": [
    "def mape(y_true,y_predict):\n",
    "    return np.sum((np.abs(y_true-y_predict)/y_true)*100)/len(y_true)"
   ]
  },
  {
   "cell_type": "code",
   "execution_count": 3,
   "metadata": {},
   "outputs": [],
   "source": [
    "custom_date_parser = lambda x: datetime.strptime(x, \"%Y-%m-%d\")\n",
    "feature_df = pd.read_csv('csv_data/feature_first_innings.csv',parse_dates=['match_date'],date_parser=custom_date_parser)"
   ]
  },
  {
   "cell_type": "code",
   "execution_count": 4,
   "metadata": {},
   "outputs": [
    {
     "data": {
      "text/plain": [
       "array(['Australia', 'Sri Lanka', 'Zimbabwe', 'South Africa', 'India',\n",
       "       'New Zealand', 'England', 'Pakistan', 'West Indies', 'Bangladesh',\n",
       "       'Ireland', 'Scotland', 'Afghanistan', 'United Arab Emirates',\n",
       "       'Hong Kong', 'Papua New Guinea', 'United States of America'],\n",
       "      dtype=object)"
      ]
     },
     "execution_count": 4,
     "metadata": {},
     "output_type": "execute_result"
    }
   ],
   "source": [
    "feature_df['team'].unique()"
   ]
  },
  {
   "cell_type": "code",
   "execution_count": 5,
   "metadata": {},
   "outputs": [],
   "source": [
    "# cutoff_start_year = '2014'\n",
    "# cutoff_start_date = datetime.strptime(cutoff_start_year+'-01-01','%Y-%m-%d')\n",
    "# #feature_df=feature_df[feature_df['match_date']>cutoff_start_date]\n",
    "# feature_df=feature_df[feature_df['team']=='India']\n",
    "# feature_df=feature_df[feature_df['match_date']>cutoff_start_date]\n",
    "#feature_df = feature_df[feature_df['noise']==False]"
   ]
  },
  {
   "cell_type": "code",
   "execution_count": 6,
   "metadata": {},
   "outputs": [
    {
     "data": {
      "text/plain": [
       "Index(['match_id', 'match_date', 'team', 'opponent', 'location', 'team_score',\n",
       "       'opponent_score', 'opponent_base', 'opponent_trend',\n",
       "       'opponent_trend_predict', 'opponent_mean', 'location_base',\n",
       "       'location_trend', 'location_trend_predict', 'location_mean',\n",
       "       'current_base', 'current_trend', 'current_trend_predict',\n",
       "       'current_mean', 'batsman_mean', 'batsman_max', 'bowler_mean',\n",
       "       'bowler_max', 'is_train', 'noise', 'runs_scored'],\n",
       "      dtype='object')"
      ]
     },
     "execution_count": 6,
     "metadata": {},
     "output_type": "execute_result"
    }
   ],
   "source": [
    "feature_df.columns"
   ]
  },
  {
   "cell_type": "code",
   "execution_count": 7,
   "metadata": {},
   "outputs": [
    {
     "data": {
      "text/plain": [
       "match_id                  0\n",
       "match_date                0\n",
       "team                      0\n",
       "opponent                  0\n",
       "location                  0\n",
       "team_score                0\n",
       "opponent_score            0\n",
       "opponent_base             0\n",
       "opponent_trend            0\n",
       "opponent_trend_predict    0\n",
       "opponent_mean             0\n",
       "location_base             0\n",
       "location_trend            0\n",
       "location_trend_predict    0\n",
       "location_mean             0\n",
       "current_base              0\n",
       "current_trend             0\n",
       "current_trend_predict     0\n",
       "current_mean              0\n",
       "batsman_mean              0\n",
       "batsman_max               0\n",
       "bowler_mean               0\n",
       "bowler_max                0\n",
       "is_train                  0\n",
       "noise                     0\n",
       "runs_scored               0\n",
       "dtype: int64"
      ]
     },
     "execution_count": 7,
     "metadata": {},
     "output_type": "execute_result"
    }
   ],
   "source": [
    "feature_df.dropna(inplace=True)\n",
    "feature_df.isnull().sum()"
   ]
  },
  {
   "cell_type": "code",
   "execution_count": 8,
   "metadata": {},
   "outputs": [],
   "source": [
    "# feature_columns = ['team_score',\n",
    "#        'opponent_score', 'opponent_base', 'opponent_trend',\n",
    "#        'opponent_trend_predict', 'opponent_mean', 'location_base',\n",
    "#        'location_trend', 'location_trend_predict', 'location_mean',\n",
    "#        'current_base', 'current_trend', 'current_trend_predict',\n",
    "#        'current_mean', 'batsman_mean', 'batsman_max', 'bowler_mean',\n",
    "#        'bowler_max']\n",
    "#pvalue selection : selected x1,x2,x7,x10,x15,x16,x17\n",
    "\n",
    "feature_columns = ['team_score', 'opponent_score', 'location_base', 'location_mean','batsman_mean', 'batsman_max', 'bowler_mean']\n",
    "       \n",
    "\n",
    "\n",
    "target_column = ['runs_scored']"
   ]
  },
  {
   "cell_type": "code",
   "execution_count": 9,
   "metadata": {},
   "outputs": [],
   "source": [
    "feature_df_train = feature_df[feature_df['is_train']==True]\n",
    "feature_df_test = feature_df[feature_df['is_train']==False]"
   ]
  },
  {
   "cell_type": "code",
   "execution_count": 10,
   "metadata": {},
   "outputs": [],
   "source": [
    "#enc_map = pickle.load(open('country_enc_map.pkl','rb'))\n",
    "# pickle.dump(country_enc_map,open('country_enc_map.pkl','wb'))\n",
    "# pickle.dump(loc_enc_map,open('loc_enc_map.pkl','wb'))\n",
    "# pickle.dump(enc_country_map,open('enc_country_map.pkl','wb'))\n",
    "# pickle.dump(enc_loc_map,open('enc_loc_map.pkl','wb'))\n",
    "\n",
    "country_enc_map=pickle.load(open('country_enc_map.pkl','rb'))\n",
    "loc_enc_map=pickle.load(open('loc_enc_map.pkl','rb'))"
   ]
  },
  {
   "cell_type": "code",
   "execution_count": 49,
   "metadata": {},
   "outputs": [],
   "source": [
    "#group_enc_model=load_model()"
   ]
  },
  {
   "cell_type": "code",
   "execution_count": 11,
   "metadata": {},
   "outputs": [],
   "source": [
    "def load_model(model_name):\n",
    "    # load json and create model\n",
    "    json_file = open(model_name+'.json', 'r')\n",
    "    loaded_model_json = json_file.read()\n",
    "    json_file.close()\n",
    "    loaded_model = model_from_json(loaded_model_json)\n",
    "    # load weights into new model\n",
    "    loaded_model.load_weights(model_name+\".h5\")\n",
    "    return loaded_model"
   ]
  },
  {
   "cell_type": "code",
   "execution_count": 60,
   "metadata": {},
   "outputs": [],
   "source": [
    "group_encode_model = load_model('group_encode_model_V2')"
   ]
  },
  {
   "cell_type": "code",
   "execution_count": 61,
   "metadata": {},
   "outputs": [
    {
     "data": {
      "text/html": [
       "<div>\n",
       "<style scoped>\n",
       "    .dataframe tbody tr th:only-of-type {\n",
       "        vertical-align: middle;\n",
       "    }\n",
       "\n",
       "    .dataframe tbody tr th {\n",
       "        vertical-align: top;\n",
       "    }\n",
       "\n",
       "    .dataframe thead th {\n",
       "        text-align: right;\n",
       "    }\n",
       "</style>\n",
       "<table border=\"1\" class=\"dataframe\">\n",
       "  <thead>\n",
       "    <tr style=\"text-align: right;\">\n",
       "      <th></th>\n",
       "      <th>match_id</th>\n",
       "      <th>match_date</th>\n",
       "      <th>team</th>\n",
       "      <th>opponent</th>\n",
       "      <th>location</th>\n",
       "      <th>team_score</th>\n",
       "      <th>opponent_score</th>\n",
       "      <th>opponent_base</th>\n",
       "      <th>opponent_trend</th>\n",
       "      <th>opponent_trend_predict</th>\n",
       "      <th>...</th>\n",
       "      <th>current_trend</th>\n",
       "      <th>current_trend_predict</th>\n",
       "      <th>current_mean</th>\n",
       "      <th>batsman_mean</th>\n",
       "      <th>batsman_max</th>\n",
       "      <th>bowler_mean</th>\n",
       "      <th>bowler_max</th>\n",
       "      <th>is_train</th>\n",
       "      <th>noise</th>\n",
       "      <th>runs_scored</th>\n",
       "    </tr>\n",
       "  </thead>\n",
       "  <tbody>\n",
       "    <tr>\n",
       "      <th>0</th>\n",
       "      <td>351684</td>\n",
       "      <td>2009-01-16</td>\n",
       "      <td>Australia</td>\n",
       "      <td>South Africa</td>\n",
       "      <td>Melbourne Cricket Ground</td>\n",
       "      <td>3.150979</td>\n",
       "      <td>2.903334</td>\n",
       "      <td>377.0</td>\n",
       "      <td>0.0</td>\n",
       "      <td>377.0</td>\n",
       "      <td>...</td>\n",
       "      <td>-17.8</td>\n",
       "      <td>216.2</td>\n",
       "      <td>269.6</td>\n",
       "      <td>2.813601</td>\n",
       "      <td>3.685827</td>\n",
       "      <td>3.783969</td>\n",
       "      <td>4.455548</td>\n",
       "      <td>True</td>\n",
       "      <td>False</td>\n",
       "      <td>271</td>\n",
       "    </tr>\n",
       "    <tr>\n",
       "      <th>1</th>\n",
       "      <td>351685</td>\n",
       "      <td>2009-01-18</td>\n",
       "      <td>Australia</td>\n",
       "      <td>South Africa</td>\n",
       "      <td>Hobart</td>\n",
       "      <td>3.150979</td>\n",
       "      <td>2.903334</td>\n",
       "      <td>483.0</td>\n",
       "      <td>-106.0</td>\n",
       "      <td>165.0</td>\n",
       "      <td>...</td>\n",
       "      <td>-16.5</td>\n",
       "      <td>219.7</td>\n",
       "      <td>269.2</td>\n",
       "      <td>2.843284</td>\n",
       "      <td>3.685827</td>\n",
       "      <td>3.557268</td>\n",
       "      <td>4.455548</td>\n",
       "      <td>True</td>\n",
       "      <td>False</td>\n",
       "      <td>249</td>\n",
       "    </tr>\n",
       "    <tr>\n",
       "      <th>2</th>\n",
       "      <td>385749</td>\n",
       "      <td>2009-01-20</td>\n",
       "      <td>Sri Lanka</td>\n",
       "      <td>Pakistan</td>\n",
       "      <td>Karachi</td>\n",
       "      <td>2.902562</td>\n",
       "      <td>3.531763</td>\n",
       "      <td>302.0</td>\n",
       "      <td>0.0</td>\n",
       "      <td>302.0</td>\n",
       "      <td>...</td>\n",
       "      <td>-24.2</td>\n",
       "      <td>104.4</td>\n",
       "      <td>177.0</td>\n",
       "      <td>3.100178</td>\n",
       "      <td>5.015920</td>\n",
       "      <td>5.099186</td>\n",
       "      <td>5.450619</td>\n",
       "      <td>True</td>\n",
       "      <td>False</td>\n",
       "      <td>219</td>\n",
       "    </tr>\n",
       "    <tr>\n",
       "      <th>3</th>\n",
       "      <td>385750</td>\n",
       "      <td>2009-01-21</td>\n",
       "      <td>Sri Lanka</td>\n",
       "      <td>Pakistan</td>\n",
       "      <td>Karachi</td>\n",
       "      <td>2.902562</td>\n",
       "      <td>3.531763</td>\n",
       "      <td>385.0</td>\n",
       "      <td>-83.0</td>\n",
       "      <td>136.0</td>\n",
       "      <td>...</td>\n",
       "      <td>13.0</td>\n",
       "      <td>205.2</td>\n",
       "      <td>166.2</td>\n",
       "      <td>3.200293</td>\n",
       "      <td>5.015920</td>\n",
       "      <td>5.099186</td>\n",
       "      <td>5.450619</td>\n",
       "      <td>True</td>\n",
       "      <td>False</td>\n",
       "      <td>290</td>\n",
       "    </tr>\n",
       "    <tr>\n",
       "      <th>4</th>\n",
       "      <td>378759</td>\n",
       "      <td>2009-01-23</td>\n",
       "      <td>Zimbabwe</td>\n",
       "      <td>Bangladesh</td>\n",
       "      <td>Mirpur</td>\n",
       "      <td>1.294306</td>\n",
       "      <td>0.797861</td>\n",
       "      <td>205.0</td>\n",
       "      <td>0.0</td>\n",
       "      <td>205.0</td>\n",
       "      <td>...</td>\n",
       "      <td>-18.8</td>\n",
       "      <td>120.2</td>\n",
       "      <td>176.6</td>\n",
       "      <td>2.046474</td>\n",
       "      <td>3.238383</td>\n",
       "      <td>2.749104</td>\n",
       "      <td>3.034771</td>\n",
       "      <td>True</td>\n",
       "      <td>False</td>\n",
       "      <td>119</td>\n",
       "    </tr>\n",
       "  </tbody>\n",
       "</table>\n",
       "<p>5 rows × 26 columns</p>\n",
       "</div>"
      ],
      "text/plain": [
       "   match_id match_date       team      opponent                  location  \\\n",
       "0    351684 2009-01-16  Australia  South Africa  Melbourne Cricket Ground   \n",
       "1    351685 2009-01-18  Australia  South Africa                    Hobart   \n",
       "2    385749 2009-01-20  Sri Lanka      Pakistan                   Karachi   \n",
       "3    385750 2009-01-21  Sri Lanka      Pakistan                   Karachi   \n",
       "4    378759 2009-01-23   Zimbabwe    Bangladesh                    Mirpur   \n",
       "\n",
       "   team_score  opponent_score  opponent_base  opponent_trend  \\\n",
       "0    3.150979        2.903334          377.0             0.0   \n",
       "1    3.150979        2.903334          483.0          -106.0   \n",
       "2    2.902562        3.531763          302.0             0.0   \n",
       "3    2.902562        3.531763          385.0           -83.0   \n",
       "4    1.294306        0.797861          205.0             0.0   \n",
       "\n",
       "   opponent_trend_predict  ...  current_trend  current_trend_predict  \\\n",
       "0                   377.0  ...          -17.8                  216.2   \n",
       "1                   165.0  ...          -16.5                  219.7   \n",
       "2                   302.0  ...          -24.2                  104.4   \n",
       "3                   136.0  ...           13.0                  205.2   \n",
       "4                   205.0  ...          -18.8                  120.2   \n",
       "\n",
       "   current_mean  batsman_mean  batsman_max  bowler_mean  bowler_max  is_train  \\\n",
       "0         269.6      2.813601     3.685827     3.783969    4.455548      True   \n",
       "1         269.2      2.843284     3.685827     3.557268    4.455548      True   \n",
       "2         177.0      3.100178     5.015920     5.099186    5.450619      True   \n",
       "3         166.2      3.200293     5.015920     5.099186    5.450619      True   \n",
       "4         176.6      2.046474     3.238383     2.749104    3.034771      True   \n",
       "\n",
       "   noise  runs_scored  \n",
       "0  False          271  \n",
       "1  False          249  \n",
       "2  False          219  \n",
       "3  False          290  \n",
       "4  False          119  \n",
       "\n",
       "[5 rows x 26 columns]"
      ]
     },
     "execution_count": 61,
     "metadata": {},
     "output_type": "execute_result"
    }
   ],
   "source": [
    "feature_df_train.head()"
   ]
  },
  {
   "cell_type": "code",
   "execution_count": 62,
   "metadata": {},
   "outputs": [
    {
     "data": {
      "text/plain": [
       "(714, 26)"
      ]
     },
     "execution_count": 62,
     "metadata": {},
     "output_type": "execute_result"
    }
   ],
   "source": [
    "feature_df_train.shape"
   ]
  },
  {
   "cell_type": "code",
   "execution_count": 63,
   "metadata": {},
   "outputs": [],
   "source": [
    "team_loc_list = list(loc_enc_map.keys())\n",
    "#df.drop(df[df['Age'] < 25].index, inplace = True) \n",
    "feature_df_train=feature_df_train[feature_df_train['location'].isin(team_loc_list)]\n"
   ]
  },
  {
   "cell_type": "code",
   "execution_count": 64,
   "metadata": {},
   "outputs": [],
   "source": [
    "feature_df_test=feature_df_test[feature_df_test['location'].isin(team_loc_list)]"
   ]
  },
  {
   "cell_type": "code",
   "execution_count": 65,
   "metadata": {},
   "outputs": [],
   "source": [
    "team_oh_list=[]\n",
    "opponent_oh_list=[]\n",
    "loc_oh_list=[]\n",
    "for ind in range(feature_df_train.shape[0]):\n",
    "    team_oh_list.append(country_enc_map[feature_df_train.iloc[ind]['team']])\n",
    "    opponent_oh_list.append(country_enc_map[feature_df_train.iloc[ind]['opponent']])\n",
    "    loc_oh_list.append(loc_enc_map[feature_df_train.iloc[ind]['location']])\n",
    "\n",
    "team_oh = np.stack(team_oh_list)\n",
    "opponent_oh = np.stack(opponent_oh_list)\n",
    "loc_oh = np.stack(loc_oh_list)\n",
    "\n",
    "group_enc_train = group_encode_model.predict([team_oh,opponent_oh,loc_oh])\n"
   ]
  },
  {
   "cell_type": "code",
   "execution_count": 66,
   "metadata": {},
   "outputs": [],
   "source": [
    "team_oh_list_test=[]\n",
    "opponent_oh_list_test=[]\n",
    "loc_oh_list_test=[]\n",
    "for ind in range(feature_df_test.shape[0]):\n",
    "    team_oh_list_test.append(country_enc_map[feature_df_test.iloc[ind]['team']])\n",
    "    opponent_oh_list_test.append(country_enc_map[feature_df_test.iloc[ind]['opponent']])\n",
    "    loc_oh_list_test.append(loc_enc_map[feature_df_test.iloc[ind]['location']])\n",
    "\n",
    "team_oh_test = np.stack(team_oh_list_test)\n",
    "opponent_oh_test = np.stack(opponent_oh_list_test)\n",
    "loc_oh_test = np.stack(loc_oh_list_test)\n",
    "\n",
    "group_enc_test = group_encode_model.predict([team_oh_test,opponent_oh_test,loc_oh_test])\n",
    "\n"
   ]
  },
  {
   "cell_type": "code",
   "execution_count": 67,
   "metadata": {},
   "outputs": [],
   "source": [
    "#group_enc_train[0]"
   ]
  },
  {
   "cell_type": "code",
   "execution_count": 68,
   "metadata": {},
   "outputs": [],
   "source": [
    "scaler = StandardScaler()\n",
    "#y_scaler = StandardScaler()\n",
    "x_train_features = np.array(feature_df_train[feature_columns])\n",
    "x_train_full = np.concatenate([x_train_features,group_enc_train],axis=1)\n",
    "x_train = scaler.fit_transform(x_train_full)\n",
    "y_train = np.array(feature_df_train[target_column])\n",
    "#y_train_sc = y_scaler.fit_transform(feature_df_train[target_column])\n",
    "\n",
    "x_test_features = np.array(feature_df_test[feature_columns])\n",
    "x_test_full = np.concatenate([x_test_features,group_enc_test],axis=1)\n",
    "x_test = scaler.fit_transform(x_test_full)\n",
    "y_test = np.array(feature_df_test[target_column])\n",
    "#y_test_sc = y_scaler.transform(feature_df_test[target_column])\n",
    "\n",
    "\n",
    "\n",
    "\n",
    "# x_train = np.array(feature_df_train[feature_columns])\n",
    "# y_train = np.array(feature_df_train[target_column])\n",
    "\n",
    "# x_test = np.array(feature_df_test[feature_columns])\n",
    "# y_test = np.array(feature_df_test[target_column])\n",
    "\n",
    "\n"
   ]
  },
  {
   "cell_type": "code",
   "execution_count": 69,
   "metadata": {},
   "outputs": [
    {
     "data": {
      "text/plain": [
       "LinearRegression()"
      ]
     },
     "execution_count": 69,
     "metadata": {},
     "output_type": "execute_result"
    }
   ],
   "source": [
    "lr = LinearRegression()\n",
    "lr.fit(x_train,y_train)"
   ]
  },
  {
   "cell_type": "code",
   "execution_count": 70,
   "metadata": {},
   "outputs": [],
   "source": [
    "y_train_predict = lr.predict(x_train)\n",
    "y_test_predict = lr.predict(x_test)"
   ]
  },
  {
   "cell_type": "code",
   "execution_count": 71,
   "metadata": {},
   "outputs": [
    {
     "data": {
      "text/plain": [
       "40.27986618270431"
      ]
     },
     "execution_count": 71,
     "metadata": {},
     "output_type": "execute_result"
    }
   ],
   "source": [
    "mean_absolute_error(y_train,y_train_predict)"
   ]
  },
  {
   "cell_type": "code",
   "execution_count": 72,
   "metadata": {},
   "outputs": [
    {
     "data": {
      "text/plain": [
       "44.90991908413388"
      ]
     },
     "execution_count": 72,
     "metadata": {},
     "output_type": "execute_result"
    }
   ],
   "source": [
    "mean_absolute_error(y_test,y_test_predict)"
   ]
  },
  {
   "cell_type": "code",
   "execution_count": 73,
   "metadata": {},
   "outputs": [
    {
     "data": {
      "text/plain": [
       "19.019358180580642"
      ]
     },
     "execution_count": 73,
     "metadata": {},
     "output_type": "execute_result"
    }
   ],
   "source": [
    "mape(np.array(y_train),np.array(y_train_predict))"
   ]
  },
  {
   "cell_type": "code",
   "execution_count": 74,
   "metadata": {},
   "outputs": [
    {
     "data": {
      "text/plain": [
       "20.834507566792386"
      ]
     },
     "execution_count": 74,
     "metadata": {},
     "output_type": "execute_result"
    }
   ],
   "source": [
    "mape(np.array(y_test),np.array(y_test_predict))"
   ]
  },
  {
   "cell_type": "code",
   "execution_count": 75,
   "metadata": {},
   "outputs": [
    {
     "data": {
      "text/plain": [
       "3252.4563958807944"
      ]
     },
     "execution_count": 75,
     "metadata": {},
     "output_type": "execute_result"
    }
   ],
   "source": [
    "mean_squared_error(y_test,y_test_predict)"
   ]
  },
  {
   "cell_type": "code",
   "execution_count": 70,
   "metadata": {},
   "outputs": [],
   "source": [
    "pickle.dump(lr,open('first_innings_linear_regression_enc_V2.pkl','wb'))"
   ]
  },
  {
   "cell_type": "code",
   "execution_count": 76,
   "metadata": {},
   "outputs": [],
   "source": [
    "pickle.dump(scaler,open('first_innings_linear_regression_scaler_enc_V2.pkl','wb'))"
   ]
  },
  {
   "cell_type": "code",
   "execution_count": 77,
   "metadata": {},
   "outputs": [],
   "source": [
    "result_df_train=pd.DataFrame(feature_df_train)\n",
    "result_df_test =pd.DataFrame(feature_df_test)\n",
    "result_df_train['first_innings_prediction']=y_train_predict\n",
    "result_df_test['first_innings_prediction']=y_test_predict\n",
    "\n",
    "result_df_train.to_csv('csv_data/result_df_tran.csv',index=False)\n",
    "result_df_test.to_csv('csv_data/result_df_test.csv',index=False)"
   ]
  },
  {
   "cell_type": "code",
   "execution_count": 74,
   "metadata": {},
   "outputs": [],
   "source": [
    "#y_test"
   ]
  },
  {
   "cell_type": "code",
   "execution_count": 76,
   "metadata": {},
   "outputs": [],
   "source": [
    "# compare_df = pd.DataFrame()\n",
    "# compare_df['actual']=y_test['runs_scored']\n",
    "# compare_df['predicted']=y_test_predict.reshape(-1)"
   ]
  },
  {
   "cell_type": "code",
   "execution_count": 77,
   "metadata": {},
   "outputs": [],
   "source": [
    "#compare_df['percentage_error']=abs(compare_df['actual']-compare_df['predicted'])/compare_df['actual']"
   ]
  },
  {
   "cell_type": "code",
   "execution_count": 79,
   "metadata": {},
   "outputs": [],
   "source": [
    "#compare_df"
   ]
  },
  {
   "cell_type": "markdown",
   "metadata": {},
   "source": [
    "# lasso"
   ]
  },
  {
   "cell_type": "code",
   "execution_count": 80,
   "metadata": {},
   "outputs": [],
   "source": [
    "from sklearn import linear_model"
   ]
  },
  {
   "cell_type": "code",
   "execution_count": 85,
   "metadata": {},
   "outputs": [
    {
     "data": {
      "text/plain": [
       "Lasso(alpha=0.3)"
      ]
     },
     "execution_count": 85,
     "metadata": {},
     "output_type": "execute_result"
    }
   ],
   "source": [
    "las = linear_model.Lasso(alpha=0.3)\n",
    "las.fit(x_train,y_train)"
   ]
  },
  {
   "cell_type": "code",
   "execution_count": 83,
   "metadata": {},
   "outputs": [],
   "source": [
    "y_test_predict_ls = las.predict(x_test)\n",
    "y_train_predict_ls = las.predict(x_train)"
   ]
  },
  {
   "cell_type": "code",
   "execution_count": 87,
   "metadata": {},
   "outputs": [
    {
     "data": {
      "text/plain": [
       "18.75695495696914"
      ]
     },
     "execution_count": 87,
     "metadata": {},
     "output_type": "execute_result"
    }
   ],
   "source": [
    "mape(y_train,y_train_predict)"
   ]
  },
  {
   "cell_type": "code",
   "execution_count": 94,
   "metadata": {},
   "outputs": [
    {
     "data": {
      "text/plain": [
       "20.716980239553493"
      ]
     },
     "execution_count": 94,
     "metadata": {},
     "output_type": "execute_result"
    }
   ],
   "source": [
    "mape(y_test,y_test_predict_ls.reshape(-1,1))"
   ]
  },
  {
   "cell_type": "code",
   "execution_count": 95,
   "metadata": {},
   "outputs": [
    {
     "data": {
      "text/plain": [
       "((109, 1), (109,))"
      ]
     },
     "execution_count": 95,
     "metadata": {},
     "output_type": "execute_result"
    }
   ],
   "source": [
    "y_test.shape,y_test_predict_ls.shape"
   ]
  },
  {
   "cell_type": "markdown",
   "metadata": {},
   "source": [
    "# XGBOOST"
   ]
  },
  {
   "cell_type": "code",
   "execution_count": 86,
   "metadata": {},
   "outputs": [],
   "source": [
    "import xgboost as xg"
   ]
  },
  {
   "cell_type": "code",
   "execution_count": 87,
   "metadata": {},
   "outputs": [],
   "source": [
    "train_dmatrix = xg.DMatrix(data = x_train, label = y_train) \n",
    "test_dmatrix = xg.DMatrix(data = x_test, label = y_test) "
   ]
  },
  {
   "cell_type": "code",
   "execution_count": 88,
   "metadata": {},
   "outputs": [],
   "source": [
    "param = {\"booster\":\"gblinear\", \"objective\":\"reg:linear\"} "
   ]
  },
  {
   "cell_type": "code",
   "execution_count": 89,
   "metadata": {},
   "outputs": [
    {
     "name": "stdout",
     "output_type": "stream",
     "text": [
      "[20:50:27] WARNING: /Users/travis/build/dmlc/xgboost/src/objective/regression_obj.cu:174: reg:linear is now deprecated in favor of reg:squarederror.\n",
      "[20:50:27] WARNING: /Users/travis/build/dmlc/xgboost/src/objective/regression_obj.cu:174: reg:linear is now deprecated in favor of reg:squarederror.\n"
     ]
    }
   ],
   "source": [
    "xgb_r = xg.train(params = param, dtrain = train_dmatrix, num_boost_round = 10) \n"
   ]
  },
  {
   "cell_type": "code",
   "execution_count": 90,
   "metadata": {},
   "outputs": [],
   "source": [
    "y_test_predict_xg = xgb_r.predict(test_dmatrix)\n",
    "y_train_predict_xg = xgb_r.predict(train_dmatrix)"
   ]
  },
  {
   "cell_type": "code",
   "execution_count": 91,
   "metadata": {},
   "outputs": [],
   "source": [
    "# y_train_predict_dt = dt.predict(x_train)\n",
    "# y_test_predict_dt = dt.predict(x_test)"
   ]
  },
  {
   "cell_type": "code",
   "execution_count": 92,
   "metadata": {},
   "outputs": [
    {
     "data": {
      "text/plain": [
       "45.5171721572176"
      ]
     },
     "execution_count": 92,
     "metadata": {},
     "output_type": "execute_result"
    }
   ],
   "source": [
    "mean_absolute_error(np.array(y_test),np.array(y_test_predict_xg))"
   ]
  },
  {
   "cell_type": "code",
   "execution_count": 93,
   "metadata": {},
   "outputs": [
    {
     "data": {
      "text/plain": [
       "22.65944162359071"
      ]
     },
     "execution_count": 93,
     "metadata": {},
     "output_type": "execute_result"
    }
   ],
   "source": [
    "mape(np.array(y_test).reshape(-1),y_test_predict_xg)"
   ]
  },
  {
   "cell_type": "code",
   "execution_count": 94,
   "metadata": {},
   "outputs": [
    {
     "data": {
      "text/plain": [
       "20.25278265779196"
      ]
     },
     "execution_count": 94,
     "metadata": {},
     "output_type": "execute_result"
    }
   ],
   "source": [
    "mape(np.array(y_train).reshape(-1),y_train_predict_xg)"
   ]
  },
  {
   "cell_type": "code",
   "execution_count": 95,
   "metadata": {},
   "outputs": [],
   "source": [
    "#y_test_predict_xg"
   ]
  },
  {
   "cell_type": "markdown",
   "metadata": {},
   "source": [
    "# Randomforest"
   ]
  },
  {
   "cell_type": "code",
   "execution_count": 96,
   "metadata": {},
   "outputs": [],
   "source": [
    "from sklearn.ensemble import RandomForestRegressor"
   ]
  },
  {
   "cell_type": "code",
   "execution_count": 97,
   "metadata": {},
   "outputs": [],
   "source": [
    "rf = RandomForestRegressor(max_depth=8,n_estimators=50,criterion='mae')"
   ]
  },
  {
   "cell_type": "code",
   "execution_count": 98,
   "metadata": {},
   "outputs": [
    {
     "name": "stderr",
     "output_type": "stream",
     "text": [
      "<ipython-input-98-895403b03771>:1: DataConversionWarning: A column-vector y was passed when a 1d array was expected. Please change the shape of y to (n_samples,), for example using ravel().\n",
      "  rf.fit(x_train,y_train)\n"
     ]
    },
    {
     "data": {
      "text/plain": [
       "RandomForestRegressor(criterion='mae', max_depth=8, n_estimators=50)"
      ]
     },
     "execution_count": 98,
     "metadata": {},
     "output_type": "execute_result"
    }
   ],
   "source": [
    "rf.fit(x_train,y_train)"
   ]
  },
  {
   "cell_type": "code",
   "execution_count": 99,
   "metadata": {},
   "outputs": [],
   "source": [
    "y_train_predict_rf=rf.predict(x_train)\n",
    "y_test_predict_rf= rf.predict(x_test)"
   ]
  },
  {
   "cell_type": "code",
   "execution_count": 100,
   "metadata": {},
   "outputs": [
    {
     "data": {
      "text/plain": [
       "23.281510548596753"
      ]
     },
     "execution_count": 100,
     "metadata": {},
     "output_type": "execute_result"
    }
   ],
   "source": [
    "mape(np.array(y_test).reshape(-1),y_test_predict_rf)"
   ]
  },
  {
   "cell_type": "code",
   "execution_count": 101,
   "metadata": {},
   "outputs": [
    {
     "data": {
      "text/plain": [
       "13.462300581977942"
      ]
     },
     "execution_count": 101,
     "metadata": {},
     "output_type": "execute_result"
    }
   ],
   "source": [
    "mape(np.array(y_train).reshape(-1),y_train_predict_rf)"
   ]
  },
  {
   "cell_type": "code",
   "execution_count": null,
   "metadata": {},
   "outputs": [],
   "source": []
  },
  {
   "cell_type": "code",
   "execution_count": null,
   "metadata": {},
   "outputs": [],
   "source": []
  },
  {
   "cell_type": "markdown",
   "metadata": {},
   "source": [
    "# statsmodel"
   ]
  },
  {
   "cell_type": "code",
   "execution_count": 102,
   "metadata": {},
   "outputs": [],
   "source": [
    "import statsmodels.api as sm"
   ]
  },
  {
   "cell_type": "code",
   "execution_count": 103,
   "metadata": {},
   "outputs": [],
   "source": [
    "model = sm.OLS(y_train, sm.add_constant(x_train)).fit()"
   ]
  },
  {
   "cell_type": "code",
   "execution_count": 104,
   "metadata": {},
   "outputs": [],
   "source": [
    "y_test_predicted_sm=model.predict(sm.add_constant(x_test))"
   ]
  },
  {
   "cell_type": "code",
   "execution_count": 105,
   "metadata": {},
   "outputs": [
    {
     "data": {
      "text/html": [
       "<table class=\"simpletable\">\n",
       "<caption>OLS Regression Results</caption>\n",
       "<tr>\n",
       "  <th>Dep. Variable:</th>       <td>runs_scored</td>   <th>  R-squared:         </th> <td>   0.287</td>\n",
       "</tr>\n",
       "<tr>\n",
       "  <th>Model:</th>                   <td>OLS</td>       <th>  Adj. R-squared:    </th> <td>   0.272</td>\n",
       "</tr>\n",
       "<tr>\n",
       "  <th>Method:</th>             <td>Least Squares</td>  <th>  F-statistic:       </th> <td>   18.98</td>\n",
       "</tr>\n",
       "<tr>\n",
       "  <th>Date:</th>             <td>Sat, 12 Dec 2020</td> <th>  Prob (F-statistic):</th> <td>7.27e-43</td>\n",
       "</tr>\n",
       "<tr>\n",
       "  <th>Time:</th>                 <td>20:50:43</td>     <th>  Log-Likelihood:    </th> <td> -3916.2</td>\n",
       "</tr>\n",
       "<tr>\n",
       "  <th>No. Observations:</th>      <td>   723</td>      <th>  AIC:               </th> <td>   7864.</td>\n",
       "</tr>\n",
       "<tr>\n",
       "  <th>Df Residuals:</th>          <td>   707</td>      <th>  BIC:               </th> <td>   7938.</td>\n",
       "</tr>\n",
       "<tr>\n",
       "  <th>Df Model:</th>              <td>    15</td>      <th>                     </th>     <td> </td>   \n",
       "</tr>\n",
       "<tr>\n",
       "  <th>Covariance Type:</th>      <td>nonrobust</td>    <th>                     </th>     <td> </td>   \n",
       "</tr>\n",
       "</table>\n",
       "<table class=\"simpletable\">\n",
       "<tr>\n",
       "    <td></td>       <th>coef</th>     <th>std err</th>      <th>t</th>      <th>P>|t|</th>  <th>[0.025</th>    <th>0.975]</th>  \n",
       "</tr>\n",
       "<tr>\n",
       "  <th>const</th> <td>  255.8728</td> <td>    2.048</td> <td>  124.907</td> <td> 0.000</td> <td>  251.851</td> <td>  259.895</td>\n",
       "</tr>\n",
       "<tr>\n",
       "  <th>x1</th>    <td>   -9.0921</td> <td>    3.352</td> <td>   -2.712</td> <td> 0.007</td> <td>  -15.673</td> <td>   -2.511</td>\n",
       "</tr>\n",
       "<tr>\n",
       "  <th>x2</th>    <td>    7.4274</td> <td>    3.097</td> <td>    2.398</td> <td> 0.017</td> <td>    1.347</td> <td>   13.507</td>\n",
       "</tr>\n",
       "<tr>\n",
       "  <th>x3</th>    <td>    1.3299</td> <td>    4.247</td> <td>    0.313</td> <td> 0.754</td> <td>   -7.008</td> <td>    9.668</td>\n",
       "</tr>\n",
       "<tr>\n",
       "  <th>x4</th>    <td>    2.0869</td> <td>    7.099</td> <td>    0.294</td> <td> 0.769</td> <td>  -11.850</td> <td>   16.024</td>\n",
       "</tr>\n",
       "<tr>\n",
       "  <th>x5</th>    <td>    0.4358</td> <td>    4.262</td> <td>    0.102</td> <td> 0.919</td> <td>   -7.931</td> <td>    8.803</td>\n",
       "</tr>\n",
       "<tr>\n",
       "  <th>x6</th>    <td>    1.7270</td> <td>    1.567</td> <td>    1.102</td> <td> 0.271</td> <td>   -1.349</td> <td>    4.803</td>\n",
       "</tr>\n",
       "<tr>\n",
       "  <th>x7</th>    <td>   12.4907</td> <td>    5.957</td> <td>    2.097</td> <td> 0.036</td> <td>    0.795</td> <td>   24.187</td>\n",
       "</tr>\n",
       "<tr>\n",
       "  <th>x8</th>    <td>   14.4552</td> <td>    8.949</td> <td>    1.615</td> <td> 0.107</td> <td>   -3.115</td> <td>   32.025</td>\n",
       "</tr>\n",
       "<tr>\n",
       "  <th>x9</th>    <td>   -8.0592</td> <td>    5.834</td> <td>   -1.381</td> <td> 0.168</td> <td>  -19.513</td> <td>    3.394</td>\n",
       "</tr>\n",
       "<tr>\n",
       "  <th>x10</th>   <td>    2.6796</td> <td>    1.260</td> <td>    2.126</td> <td> 0.034</td> <td>    0.205</td> <td>    5.154</td>\n",
       "</tr>\n",
       "<tr>\n",
       "  <th>x11</th>   <td>   20.1053</td> <td>   36.501</td> <td>    0.551</td> <td> 0.582</td> <td>  -51.557</td> <td>   91.768</td>\n",
       "</tr>\n",
       "<tr>\n",
       "  <th>x12</th>   <td>   34.7721</td> <td>   62.954</td> <td>    0.552</td> <td> 0.581</td> <td>  -88.827</td> <td>  158.371</td>\n",
       "</tr>\n",
       "<tr>\n",
       "  <th>x13</th>   <td>  -19.3525</td> <td>   36.608</td> <td>   -0.529</td> <td> 0.597</td> <td>  -91.226</td> <td>   52.521</td>\n",
       "</tr>\n",
       "<tr>\n",
       "  <th>x14</th>   <td>    0.9323</td> <td>    1.737</td> <td>    0.537</td> <td> 0.592</td> <td>   -2.478</td> <td>    4.343</td>\n",
       "</tr>\n",
       "<tr>\n",
       "  <th>x15</th>   <td>   55.4294</td> <td>    4.578</td> <td>   12.109</td> <td> 0.000</td> <td>   46.442</td> <td>   64.417</td>\n",
       "</tr>\n",
       "<tr>\n",
       "  <th>x16</th>   <td>  -27.3444</td> <td>    3.874</td> <td>   -7.059</td> <td> 0.000</td> <td>  -34.950</td> <td>  -19.739</td>\n",
       "</tr>\n",
       "<tr>\n",
       "  <th>x17</th>   <td>  -19.8676</td> <td>    4.620</td> <td>   -4.300</td> <td> 0.000</td> <td>  -28.938</td> <td>  -10.797</td>\n",
       "</tr>\n",
       "<tr>\n",
       "  <th>x18</th>   <td>    6.3210</td> <td>    4.005</td> <td>    1.578</td> <td> 0.115</td> <td>   -1.541</td> <td>   14.183</td>\n",
       "</tr>\n",
       "</table>\n",
       "<table class=\"simpletable\">\n",
       "<tr>\n",
       "  <th>Omnibus:</th>       <td>12.311</td> <th>  Durbin-Watson:     </th> <td>   1.850</td>\n",
       "</tr>\n",
       "<tr>\n",
       "  <th>Prob(Omnibus):</th> <td> 0.002</td> <th>  Jarque-Bera (JB):  </th> <td>  13.775</td>\n",
       "</tr>\n",
       "<tr>\n",
       "  <th>Skew:</th>          <td>-0.246</td> <th>  Prob(JB):          </th> <td> 0.00102</td>\n",
       "</tr>\n",
       "<tr>\n",
       "  <th>Kurtosis:</th>      <td> 3.464</td> <th>  Cond. No.          </th> <td>9.12e+15</td>\n",
       "</tr>\n",
       "</table><br/><br/>Warnings:<br/>[1] Standard Errors assume that the covariance matrix of the errors is correctly specified.<br/>[2] The smallest eigenvalue is 3.62e-29. This might indicate that there are<br/>strong multicollinearity problems or that the design matrix is singular."
      ],
      "text/plain": [
       "<class 'statsmodels.iolib.summary.Summary'>\n",
       "\"\"\"\n",
       "                            OLS Regression Results                            \n",
       "==============================================================================\n",
       "Dep. Variable:            runs_scored   R-squared:                       0.287\n",
       "Model:                            OLS   Adj. R-squared:                  0.272\n",
       "Method:                 Least Squares   F-statistic:                     18.98\n",
       "Date:                Sat, 12 Dec 2020   Prob (F-statistic):           7.27e-43\n",
       "Time:                        20:50:43   Log-Likelihood:                -3916.2\n",
       "No. Observations:                 723   AIC:                             7864.\n",
       "Df Residuals:                     707   BIC:                             7938.\n",
       "Df Model:                          15                                         \n",
       "Covariance Type:            nonrobust                                         \n",
       "==============================================================================\n",
       "                 coef    std err          t      P>|t|      [0.025      0.975]\n",
       "------------------------------------------------------------------------------\n",
       "const        255.8728      2.048    124.907      0.000     251.851     259.895\n",
       "x1            -9.0921      3.352     -2.712      0.007     -15.673      -2.511\n",
       "x2             7.4274      3.097      2.398      0.017       1.347      13.507\n",
       "x3             1.3299      4.247      0.313      0.754      -7.008       9.668\n",
       "x4             2.0869      7.099      0.294      0.769     -11.850      16.024\n",
       "x5             0.4358      4.262      0.102      0.919      -7.931       8.803\n",
       "x6             1.7270      1.567      1.102      0.271      -1.349       4.803\n",
       "x7            12.4907      5.957      2.097      0.036       0.795      24.187\n",
       "x8            14.4552      8.949      1.615      0.107      -3.115      32.025\n",
       "x9            -8.0592      5.834     -1.381      0.168     -19.513       3.394\n",
       "x10            2.6796      1.260      2.126      0.034       0.205       5.154\n",
       "x11           20.1053     36.501      0.551      0.582     -51.557      91.768\n",
       "x12           34.7721     62.954      0.552      0.581     -88.827     158.371\n",
       "x13          -19.3525     36.608     -0.529      0.597     -91.226      52.521\n",
       "x14            0.9323      1.737      0.537      0.592      -2.478       4.343\n",
       "x15           55.4294      4.578     12.109      0.000      46.442      64.417\n",
       "x16          -27.3444      3.874     -7.059      0.000     -34.950     -19.739\n",
       "x17          -19.8676      4.620     -4.300      0.000     -28.938     -10.797\n",
       "x18            6.3210      4.005      1.578      0.115      -1.541      14.183\n",
       "==============================================================================\n",
       "Omnibus:                       12.311   Durbin-Watson:                   1.850\n",
       "Prob(Omnibus):                  0.002   Jarque-Bera (JB):               13.775\n",
       "Skew:                          -0.246   Prob(JB):                      0.00102\n",
       "Kurtosis:                       3.464   Cond. No.                     9.12e+15\n",
       "==============================================================================\n",
       "\n",
       "Warnings:\n",
       "[1] Standard Errors assume that the covariance matrix of the errors is correctly specified.\n",
       "[2] The smallest eigenvalue is 3.62e-29. This might indicate that there are\n",
       "strong multicollinearity problems or that the design matrix is singular.\n",
       "\"\"\""
      ]
     },
     "execution_count": 105,
     "metadata": {},
     "output_type": "execute_result"
    }
   ],
   "source": [
    "model.summary()"
   ]
  },
  {
   "cell_type": "markdown",
   "metadata": {},
   "source": [
    "selected x1,x2,x7,x10,x15,x16,x17"
   ]
  },
  {
   "cell_type": "code",
   "execution_count": 106,
   "metadata": {},
   "outputs": [
    {
     "data": {
      "text/plain": [
       "22.039536421362772"
      ]
     },
     "execution_count": 106,
     "metadata": {},
     "output_type": "execute_result"
    }
   ],
   "source": [
    "mape(np.array(y_test).reshape(-1),y_test_predicted_sm)\n"
   ]
  },
  {
   "cell_type": "code",
   "execution_count": 107,
   "metadata": {},
   "outputs": [
    {
     "data": {
      "text/plain": [
       "45.43723924019558"
      ]
     },
     "execution_count": 107,
     "metadata": {},
     "output_type": "execute_result"
    }
   ],
   "source": [
    "mean_absolute_error(np.array(y_test).reshape(-1),y_test_predicted_sm)"
   ]
  },
  {
   "cell_type": "markdown",
   "metadata": {},
   "source": [
    "# with PCA"
   ]
  },
  {
   "cell_type": "code",
   "execution_count": 108,
   "metadata": {},
   "outputs": [],
   "source": [
    "from sklearn.decomposition import PCA\n",
    "from sklearn.linear_model import LinearRegression"
   ]
  },
  {
   "cell_type": "code",
   "execution_count": 109,
   "metadata": {},
   "outputs": [],
   "source": [
    "pca_scaler = StandardScaler()"
   ]
  },
  {
   "cell_type": "code",
   "execution_count": 110,
   "metadata": {},
   "outputs": [],
   "source": [
    "pca = PCA(n_components=2)"
   ]
  },
  {
   "cell_type": "code",
   "execution_count": 111,
   "metadata": {},
   "outputs": [],
   "source": [
    "x_train_pca=pca.fit_transform(pca_scaler.fit_transform(x_train))"
   ]
  },
  {
   "cell_type": "code",
   "execution_count": 112,
   "metadata": {},
   "outputs": [
    {
     "data": {
      "text/plain": [
       "LinearRegression()"
      ]
     },
     "execution_count": 112,
     "metadata": {},
     "output_type": "execute_result"
    }
   ],
   "source": [
    "lr_pca = LinearRegression()\n",
    "lr_pca.fit(x_train_pca,y_train)"
   ]
  },
  {
   "cell_type": "code",
   "execution_count": 113,
   "metadata": {},
   "outputs": [],
   "source": [
    "y_test_predict_pca =lr_pca.predict(pca.transform(pca_scaler.transform(x_test)))"
   ]
  },
  {
   "cell_type": "code",
   "execution_count": 114,
   "metadata": {},
   "outputs": [
    {
     "data": {
      "text/plain": [
       "24.557551133830028"
      ]
     },
     "execution_count": 114,
     "metadata": {},
     "output_type": "execute_result"
    }
   ],
   "source": [
    "mape(np.array(y_test),y_test_predict_pca)"
   ]
  },
  {
   "cell_type": "code",
   "execution_count": 115,
   "metadata": {},
   "outputs": [],
   "source": [
    "#y_test_predict_pca.shape"
   ]
  },
  {
   "cell_type": "code",
   "execution_count": 116,
   "metadata": {},
   "outputs": [],
   "source": [
    "#np.array(y_test).reshape(-1).shape"
   ]
  },
  {
   "cell_type": "markdown",
   "metadata": {},
   "source": [
    "# SVM"
   ]
  },
  {
   "cell_type": "code",
   "execution_count": 117,
   "metadata": {},
   "outputs": [],
   "source": [
    "from sklearn.svm import SVR"
   ]
  },
  {
   "cell_type": "code",
   "execution_count": 118,
   "metadata": {},
   "outputs": [],
   "source": [
    "svr = SVR(C=0.5, epsilon=0.01)"
   ]
  },
  {
   "cell_type": "code",
   "execution_count": 119,
   "metadata": {},
   "outputs": [
    {
     "name": "stderr",
     "output_type": "stream",
     "text": [
      "/opt/anaconda3/lib/python3.8/site-packages/sklearn/utils/validation.py:73: DataConversionWarning: A column-vector y was passed when a 1d array was expected. Please change the shape of y to (n_samples, ), for example using ravel().\n",
      "  return f(**kwargs)\n"
     ]
    },
    {
     "data": {
      "text/plain": [
       "SVR(C=0.5, epsilon=0.01)"
      ]
     },
     "execution_count": 119,
     "metadata": {},
     "output_type": "execute_result"
    }
   ],
   "source": [
    "svr.fit(x_train,y_train)"
   ]
  },
  {
   "cell_type": "code",
   "execution_count": 120,
   "metadata": {},
   "outputs": [],
   "source": [
    "y_test_predict_svr =svr.predict(x_test)"
   ]
  },
  {
   "cell_type": "code",
   "execution_count": 121,
   "metadata": {},
   "outputs": [
    {
     "data": {
      "text/plain": [
       "25.846783163229134"
      ]
     },
     "execution_count": 121,
     "metadata": {},
     "output_type": "execute_result"
    }
   ],
   "source": [
    "mape(np.array(y_test).reshape(-1),y_test_predict_svr)"
   ]
  },
  {
   "cell_type": "code",
   "execution_count": null,
   "metadata": {},
   "outputs": [],
   "source": []
  },
  {
   "cell_type": "markdown",
   "metadata": {},
   "source": [
    "# polynomial regression"
   ]
  },
  {
   "cell_type": "code",
   "execution_count": 122,
   "metadata": {},
   "outputs": [],
   "source": [
    "from sklearn import linear_model\n",
    "from sklearn.preprocessing import PolynomialFeatures"
   ]
  },
  {
   "cell_type": "code",
   "execution_count": 132,
   "metadata": {},
   "outputs": [],
   "source": [
    "poly = PolynomialFeatures(3)"
   ]
  },
  {
   "cell_type": "code",
   "execution_count": 133,
   "metadata": {},
   "outputs": [],
   "source": [
    "x_train_poly = poly.fit_transform(x_train)"
   ]
  },
  {
   "cell_type": "code",
   "execution_count": 134,
   "metadata": {},
   "outputs": [],
   "source": [
    "lr_poly = LinearRegression()"
   ]
  },
  {
   "cell_type": "code",
   "execution_count": 135,
   "metadata": {},
   "outputs": [
    {
     "data": {
      "text/plain": [
       "LinearRegression()"
      ]
     },
     "execution_count": 135,
     "metadata": {},
     "output_type": "execute_result"
    }
   ],
   "source": [
    "lr_poly.fit(x_train_poly,y_train)"
   ]
  },
  {
   "cell_type": "code",
   "execution_count": 136,
   "metadata": {},
   "outputs": [],
   "source": [
    "y_test_predict_poly = lr_poly.predict(poly.transform(x_test))\n",
    "y_train_predict_poly = lr_poly.predict(poly.transform(x_train))"
   ]
  },
  {
   "cell_type": "code",
   "execution_count": 137,
   "metadata": {},
   "outputs": [
    {
     "data": {
      "text/plain": [
       "187.18202146462477"
      ]
     },
     "execution_count": 137,
     "metadata": {},
     "output_type": "execute_result"
    }
   ],
   "source": [
    "mape(np.array(y_test),y_test_predict_poly)"
   ]
  },
  {
   "cell_type": "code",
   "execution_count": 138,
   "metadata": {},
   "outputs": [
    {
     "data": {
      "text/plain": [
       "3.0130001924180565"
      ]
     },
     "execution_count": 138,
     "metadata": {},
     "output_type": "execute_result"
    }
   ],
   "source": [
    "mape(np.array(y_train),y_train_predict_poly)"
   ]
  },
  {
   "cell_type": "code",
   "execution_count": 139,
   "metadata": {},
   "outputs": [],
   "source": [
    "compare_df = pd.DataFrame()\n",
    "compare_df['actual']=np.array(y_test).reshape(-1)\n",
    "compare_df['predict']=np.array(y_test_predict_poly)"
   ]
  },
  {
   "cell_type": "code",
   "execution_count": 140,
   "metadata": {},
   "outputs": [
    {
     "data": {
      "text/html": [
       "<div>\n",
       "<style scoped>\n",
       "    .dataframe tbody tr th:only-of-type {\n",
       "        vertical-align: middle;\n",
       "    }\n",
       "\n",
       "    .dataframe tbody tr th {\n",
       "        vertical-align: top;\n",
       "    }\n",
       "\n",
       "    .dataframe thead th {\n",
       "        text-align: right;\n",
       "    }\n",
       "</style>\n",
       "<table border=\"1\" class=\"dataframe\">\n",
       "  <thead>\n",
       "    <tr style=\"text-align: right;\">\n",
       "      <th></th>\n",
       "      <th>actual</th>\n",
       "      <th>predict</th>\n",
       "    </tr>\n",
       "  </thead>\n",
       "  <tbody>\n",
       "    <tr>\n",
       "      <th>0</th>\n",
       "      <td>371</td>\n",
       "      <td>606.328315</td>\n",
       "    </tr>\n",
       "    <tr>\n",
       "      <th>1</th>\n",
       "      <td>319</td>\n",
       "      <td>489.073878</td>\n",
       "    </tr>\n",
       "    <tr>\n",
       "      <th>2</th>\n",
       "      <td>364</td>\n",
       "      <td>343.832440</td>\n",
       "    </tr>\n",
       "    <tr>\n",
       "      <th>3</th>\n",
       "      <td>266</td>\n",
       "      <td>344.225914</td>\n",
       "    </tr>\n",
       "    <tr>\n",
       "      <th>4</th>\n",
       "      <td>203</td>\n",
       "      <td>369.945787</td>\n",
       "    </tr>\n",
       "    <tr>\n",
       "      <th>...</th>\n",
       "      <td>...</td>\n",
       "      <td>...</td>\n",
       "    </tr>\n",
       "    <tr>\n",
       "      <th>104</th>\n",
       "      <td>294</td>\n",
       "      <td>520.875259</td>\n",
       "    </tr>\n",
       "    <tr>\n",
       "      <th>105</th>\n",
       "      <td>231</td>\n",
       "      <td>229.444440</td>\n",
       "    </tr>\n",
       "    <tr>\n",
       "      <th>106</th>\n",
       "      <td>302</td>\n",
       "      <td>295.823723</td>\n",
       "    </tr>\n",
       "    <tr>\n",
       "      <th>107</th>\n",
       "      <td>374</td>\n",
       "      <td>650.466732</td>\n",
       "    </tr>\n",
       "    <tr>\n",
       "      <th>108</th>\n",
       "      <td>389</td>\n",
       "      <td>1022.584975</td>\n",
       "    </tr>\n",
       "  </tbody>\n",
       "</table>\n",
       "<p>109 rows × 2 columns</p>\n",
       "</div>"
      ],
      "text/plain": [
       "     actual      predict\n",
       "0       371   606.328315\n",
       "1       319   489.073878\n",
       "2       364   343.832440\n",
       "3       266   344.225914\n",
       "4       203   369.945787\n",
       "..      ...          ...\n",
       "104     294   520.875259\n",
       "105     231   229.444440\n",
       "106     302   295.823723\n",
       "107     374   650.466732\n",
       "108     389  1022.584975\n",
       "\n",
       "[109 rows x 2 columns]"
      ]
     },
     "execution_count": 140,
     "metadata": {},
     "output_type": "execute_result"
    }
   ],
   "source": [
    "compare_df"
   ]
  },
  {
   "cell_type": "code",
   "execution_count": 141,
   "metadata": {},
   "outputs": [
    {
     "data": {
      "text/plain": [
       "(109,)"
      ]
     },
     "execution_count": 141,
     "metadata": {},
     "output_type": "execute_result"
    }
   ],
   "source": [
    "np.array(y_test).reshape(-1).shape"
   ]
  },
  {
   "cell_type": "markdown",
   "metadata": {},
   "source": [
    "# Comparing trend predictions"
   ]
  },
  {
   "cell_type": "code",
   "execution_count": 142,
   "metadata": {},
   "outputs": [
    {
     "data": {
      "text/plain": [
       "Index(['match_id', 'match_date', 'team', 'opponent', 'location', 'team_score',\n",
       "       'opponent_score', 'opponent_base', 'opponent_trend',\n",
       "       'opponent_trend_predict', 'opponent_mean', 'location_base',\n",
       "       'location_trend', 'location_trend_predict', 'location_mean',\n",
       "       'current_base', 'current_trend', 'current_trend_predict',\n",
       "       'current_mean', 'batsman_mean', 'batsman_max', 'bowler_mean',\n",
       "       'bowler_max', 'is_train', 'noise', 'runs_scored'],\n",
       "      dtype='object')"
      ]
     },
     "execution_count": 142,
     "metadata": {},
     "output_type": "execute_result"
    }
   ],
   "source": [
    "feature_df.columns"
   ]
  },
  {
   "cell_type": "code",
   "execution_count": 143,
   "metadata": {},
   "outputs": [
    {
     "data": {
      "text/html": [
       "<div>\n",
       "<style scoped>\n",
       "    .dataframe tbody tr th:only-of-type {\n",
       "        vertical-align: middle;\n",
       "    }\n",
       "\n",
       "    .dataframe tbody tr th {\n",
       "        vertical-align: top;\n",
       "    }\n",
       "\n",
       "    .dataframe thead th {\n",
       "        text-align: right;\n",
       "    }\n",
       "</style>\n",
       "<table border=\"1\" class=\"dataframe\">\n",
       "  <thead>\n",
       "    <tr style=\"text-align: right;\">\n",
       "      <th></th>\n",
       "      <th>opponent_trend_predict</th>\n",
       "      <th>runs_scored</th>\n",
       "    </tr>\n",
       "  </thead>\n",
       "  <tbody>\n",
       "    <tr>\n",
       "      <th>0</th>\n",
       "      <td>377.0</td>\n",
       "      <td>271</td>\n",
       "    </tr>\n",
       "    <tr>\n",
       "      <th>1</th>\n",
       "      <td>165.0</td>\n",
       "      <td>249</td>\n",
       "    </tr>\n",
       "    <tr>\n",
       "      <th>2</th>\n",
       "      <td>302.0</td>\n",
       "      <td>219</td>\n",
       "    </tr>\n",
       "    <tr>\n",
       "      <th>3</th>\n",
       "      <td>136.0</td>\n",
       "      <td>290</td>\n",
       "    </tr>\n",
       "    <tr>\n",
       "      <th>4</th>\n",
       "      <td>205.0</td>\n",
       "      <td>119</td>\n",
       "    </tr>\n",
       "    <tr>\n",
       "      <th>...</th>\n",
       "      <td>...</td>\n",
       "      <td>...</td>\n",
       "    </tr>\n",
       "    <tr>\n",
       "      <th>827</th>\n",
       "      <td>245.3</td>\n",
       "      <td>294</td>\n",
       "    </tr>\n",
       "    <tr>\n",
       "      <th>828</th>\n",
       "      <td>467.2</td>\n",
       "      <td>231</td>\n",
       "    </tr>\n",
       "    <tr>\n",
       "      <th>829</th>\n",
       "      <td>389.4</td>\n",
       "      <td>302</td>\n",
       "    </tr>\n",
       "    <tr>\n",
       "      <th>830</th>\n",
       "      <td>311.8</td>\n",
       "      <td>374</td>\n",
       "    </tr>\n",
       "    <tr>\n",
       "      <th>831</th>\n",
       "      <td>370.9</td>\n",
       "      <td>389</td>\n",
       "    </tr>\n",
       "  </tbody>\n",
       "</table>\n",
       "<p>832 rows × 2 columns</p>\n",
       "</div>"
      ],
      "text/plain": [
       "     opponent_trend_predict  runs_scored\n",
       "0                     377.0          271\n",
       "1                     165.0          249\n",
       "2                     302.0          219\n",
       "3                     136.0          290\n",
       "4                     205.0          119\n",
       "..                      ...          ...\n",
       "827                   245.3          294\n",
       "828                   467.2          231\n",
       "829                   389.4          302\n",
       "830                   311.8          374\n",
       "831                   370.9          389\n",
       "\n",
       "[832 rows x 2 columns]"
      ]
     },
     "execution_count": 143,
     "metadata": {},
     "output_type": "execute_result"
    }
   ],
   "source": [
    "feature_df[['opponent_trend_predict','runs_scored']]"
   ]
  },
  {
   "cell_type": "code",
   "execution_count": 144,
   "metadata": {},
   "outputs": [],
   "source": [
    "opponent_trend_predict = np.array(feature_df['opponent_trend_predict'])\n",
    "current_trend_predict = np.array(feature_df['current_trend_predict'])\n",
    "location_trend_predict = np.array(feature_df['location_trend_predict'])\n",
    "runs_scored = np.array(feature_df['runs_scored'])"
   ]
  },
  {
   "cell_type": "code",
   "execution_count": 145,
   "metadata": {},
   "outputs": [
    {
     "data": {
      "text/plain": [
       "(33.14884160652851, 31.552384325510975, 36.28616640575539)"
      ]
     },
     "execution_count": 145,
     "metadata": {},
     "output_type": "execute_result"
    }
   ],
   "source": [
    "mape(runs_scored,opponent_trend_predict),mape(runs_scored,current_trend_predict),mape(runs_scored,location_trend_predict)"
   ]
  },
  {
   "cell_type": "code",
   "execution_count": 146,
   "metadata": {},
   "outputs": [],
   "source": [
    "max_predict = np.max(np.array(feature_df[['opponent_trend_predict','current_trend_predict','location_trend_predict']]),axis=1)\n",
    "min_predict = np.min(np.array(feature_df[['opponent_trend_predict','current_trend_predict','location_trend_predict']]),axis=1)\n",
    "mean_predict = np.mean(np.array(feature_df[['opponent_trend_predict','current_trend_predict','location_trend_predict']]),axis=1)\n"
   ]
  },
  {
   "cell_type": "code",
   "execution_count": 147,
   "metadata": {},
   "outputs": [
    {
     "data": {
      "text/plain": [
       "(39.83091281447402, 32.73509820997395, 28.048566843159747)"
      ]
     },
     "execution_count": 147,
     "metadata": {},
     "output_type": "execute_result"
    }
   ],
   "source": [
    "mape(runs_scored,max_predict),mape(runs_scored,min_predict),mape(runs_scored,mean_predict)"
   ]
  },
  {
   "cell_type": "code",
   "execution_count": null,
   "metadata": {},
   "outputs": [],
   "source": []
  }
 ],
 "metadata": {
  "kernelspec": {
   "display_name": "tensor230",
   "language": "python",
   "name": "tensor230"
  },
  "language_info": {
   "codemirror_mode": {
    "name": "ipython",
    "version": 3
   },
   "file_extension": ".py",
   "mimetype": "text/x-python",
   "name": "python",
   "nbconvert_exporter": "python",
   "pygments_lexer": "ipython3",
   "version": "3.6.10"
  }
 },
 "nbformat": 4,
 "nbformat_minor": 4
}
