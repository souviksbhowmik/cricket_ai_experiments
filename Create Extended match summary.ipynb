{
 "cells": [
  {
   "cell_type": "code",
   "execution_count": 1,
   "metadata": {},
   "outputs": [],
   "source": [
    "import pandas as pd\n",
    "import numpy as np\n",
    "from datetime import datetime\n",
    "from matplotlib import pyplot as plt\n",
    "from sklearn.preprocessing import MinMaxScaler\n",
    "from tqdm.notebook import tqdm\n",
    "import dateutil\n",
    "from sklearn.linear_model import LinearRegression\n",
    "from sklearn.preprocessing import OneHotEncoder\n",
    "\n",
    "from sklearn.metrics.pairwise import cosine_similarity\n",
    "import json\n",
    "import pickle"
   ]
  },
  {
   "cell_type": "code",
   "execution_count": 2,
   "metadata": {},
   "outputs": [],
   "source": [
    "custom_date_parser = lambda x: datetime.strptime(x, \"%Y-%m-%d\")"
   ]
  },
  {
   "cell_type": "code",
   "execution_count": 3,
   "metadata": {},
   "outputs": [],
   "source": [
    "cutoff_start_year = '2013'\n",
    "cutoff_start_date = datetime.strptime(cutoff_start_year+'-01-01','%Y-%m-%d')"
   ]
  },
  {
   "cell_type": "code",
   "execution_count": 4,
   "metadata": {},
   "outputs": [
    {
     "data": {
      "text/plain": [
       "(781, 11)"
      ]
     },
     "execution_count": 4,
     "metadata": {},
     "output_type": "execute_result"
    }
   ],
   "source": [
    "match_summary_df = pd.read_csv('csv_data/match_list.csv',parse_dates=['date'],date_parser=custom_date_parser)\n",
    "recent_match_summary_df = match_summary_df[match_summary_df['date']>=cutoff_start_date]\n",
    "recent_match_summary_df.shape"
   ]
  },
  {
   "cell_type": "code",
   "execution_count": 5,
   "metadata": {},
   "outputs": [],
   "source": [
    "match_id_list = list(recent_match_summary_df['match_id'].unique())"
   ]
  },
  {
   "cell_type": "markdown",
   "metadata": {},
   "source": [
    "# Jump to LOOP"
   ]
  },
  {
   "cell_type": "code",
   "execution_count": 6,
   "metadata": {},
   "outputs": [],
   "source": [
    "selected_match_id = match_id_list[0]"
   ]
  },
  {
   "cell_type": "code",
   "execution_count": 8,
   "metadata": {},
   "outputs": [],
   "source": [
    "is_train = recent_match_summary_df[recent_match_summary_df['match_id']==selected_match_id]['train_data'].values[0]\n",
    "\n",
    "if is_train:\n",
    "    match_detail_df = pd.read_csv('csv_data/train/'+str(selected_match_id)+'.csv')\n",
    "else:\n",
    "    match_detail_df = pd.read_csv('csv_data/test/'+str(selected_match_id)+'.csv')\n",
    "\n",
    "\n"
   ]
  },
  {
   "cell_type": "code",
   "execution_count": 9,
   "metadata": {},
   "outputs": [
    {
     "data": {
      "text/plain": [
       "Index(['match_id', 'innings', 'team', 'opponent', 'ball', 'batsman',\n",
       "       'non_striker', 'bowler', 'scored_runs', 'extras', 'total', 'extra_type',\n",
       "       'wicket', 'wicket_type', 'player_out', 'fielders', 'winner'],\n",
       "      dtype='object')"
      ]
     },
     "execution_count": 9,
     "metadata": {},
     "output_type": "execute_result"
    }
   ],
   "source": [
    "match_detail_df.columns"
   ]
  },
  {
   "cell_type": "code",
   "execution_count": 10,
   "metadata": {},
   "outputs": [
    {
     "data": {
      "text/plain": [
       "Index(['match_id', 'date', 'location', 'first_innings', 'second_innings',\n",
       "       'winner', 'win_by', 'win_dif', 'toss_winner', 'player_of_match',\n",
       "       'train_data'],\n",
       "      dtype='object')"
      ]
     },
     "execution_count": 10,
     "metadata": {},
     "output_type": "execute_result"
    }
   ],
   "source": [
    "recent_match_summary_df.columns"
   ]
  },
  {
   "cell_type": "code",
   "execution_count": 18,
   "metadata": {},
   "outputs": [],
   "source": [
    "first_innings = recent_match_summary_df[recent_match_summary_df['match_id']==selected_match_id]['first_innings'].values[0]\n",
    "second_innings= recent_match_summary_df[recent_match_summary_df['match_id']==selected_match_id]['second_innings'].values[0]\n",
    "\n",
    "first_innings_team_batsman_list = list(match_detail_df[match_detail_df['team']==first_innings]['batsman'].unique())\n",
    "first_innings_team_bowler_list = list(match_detail_df[match_detail_df['team']==second_innings]['bowler'].unique())\n",
    "\n",
    "\n",
    "first_innings_team_stats = {}\n",
    "first_innings_team_stats['match_id']=selected_match_id\n",
    "first_innings_team_stats['team_statistics']=first_innings\n",
    "\n",
    "   \n",
    "for bi in range(11):\n",
    "    if bi<len(first_innings_team_batsman_list):\n",
    "        batsman = first_innings_team_batsman_list[bi]\n",
    "        first_innings_team_stats['batsman_'+str(bi+1)]= batsman\n",
    "        first_innings_team_stats['batsman_'+str(bi+1)+'_runs']= match_detail_df[match_detail_df['batsman']==batsman]['scored_runs'].sum()\n",
    "    else:\n",
    "        first_innings_team_stats['batsman_'+str(bi+1)]= 'not_batted'\n",
    "        first_innings_team_stats['batsman_'+str(bi+1)+'_runs']= 0\n",
    "        \n",
    "for boi in range(7):\n",
    "    if boi<len(first_innings_team_bowler_list):\n",
    "        bowler = first_innings_team_bowler_list[boi]\n",
    "        first_innings_team_stats['bowler_'+str(boi+1)]= bowler\n",
    "        first_innings_team_stats['bowler_'+str(boi+1)+'_wickets']= \\\n",
    "        match_detail_df[match_detail_df['bowler']==bowler]['wicket'].sum() -\\\n",
    "        match_detail_df[(match_detail_df['bowler']==bowler) & (match_detail_df['wicket_type']=='run out')].shape[0]\n",
    "        \n",
    "    else:\n",
    "        first_innings_team_stats['bowler_'+str(boi+1)]= 'not_bowled'\n",
    "        first_innings_team_stats['bowler_'+str(boi+1)+'_wickets']= 0\n",
    "        \n",
    "first_innings_team_stats['total_run']=match_detail_df[match_detail_df['team']==first_innings]['total'].sum()\n",
    "first_innings_team_stats['total_wickets']=match_detail_df[match_detail_df['team']==second_innings]['wicket'].sum()\n",
    "\n",
    "\n",
    "\n",
    "    \n",
    "        \n",
    "    \n",
    "\n",
    "\n",
    "\n"
   ]
  },
  {
   "cell_type": "code",
   "execution_count": 14,
   "metadata": {},
   "outputs": [
    {
     "data": {
      "text/plain": [
       "{'match_id': 661689,\n",
       " 'team_statistics': 'New Zealand',\n",
       " 'batsman_1': 'MJ Guptill',\n",
       " 'batsman_1_runs': 1,\n",
       " 'batsman_2': 'JD Ryder',\n",
       " 'batsman_2_runs': 104,\n",
       " 'batsman_3': 'BB McCullum',\n",
       " 'batsman_3_runs': 33,\n",
       " 'batsman_4': 'LRPL Taylor',\n",
       " 'batsman_4_runs': 9,\n",
       " 'batsman_5': 'CJ Anderson',\n",
       " 'batsman_5_runs': 131,\n",
       " 'batsman_6': 'L Ronchi',\n",
       " 'batsman_6_runs': 3,\n",
       " 'batsman_7': 'not_batted',\n",
       " 'batsman_7_runs': 0,\n",
       " 'batsman_8': 'not_batted',\n",
       " 'batsman_8_runs': 0,\n",
       " 'batsman_9': 'not_batted',\n",
       " 'batsman_9_runs': 0,\n",
       " 'batsman_10': 'not_batted',\n",
       " 'batsman_10_runs': 0,\n",
       " 'batsman_11': 'not_batted',\n",
       " 'batsman_11_runs': 0,\n",
       " 'bowler_1': 'KD Mills',\n",
       " 'bowler_1_wickets': 1,\n",
       " 'bowler_2': 'MJ McClenaghan',\n",
       " 'bowler_2_wickets': 2,\n",
       " 'bowler_3': 'NL McCullum',\n",
       " 'bowler_3_wickets': 0,\n",
       " 'bowler_4': 'JD Ryder',\n",
       " 'bowler_4_wickets': 1,\n",
       " 'bowler_5': 'JDS Neesham',\n",
       " 'bowler_5_wickets': 1,\n",
       " 'bowler_6': 'MJ Guptill',\n",
       " 'bowler_6_wickets': 0,\n",
       " 'bowler_7': 'AF Milne',\n",
       " 'bowler_7_wickets': 0,\n",
       " 'total_run': 283,\n",
       " 'total_wickets': 5}"
      ]
     },
     "execution_count": 14,
     "metadata": {},
     "output_type": "execute_result"
    }
   ],
   "source": [
    "first_innings_team_stats"
   ]
  },
  {
   "cell_type": "code",
   "execution_count": 22,
   "metadata": {},
   "outputs": [
    {
     "name": "stdout",
     "output_type": "stream",
     "text": [
      "{'match_id': 661689, 'team_statistics': 'New Zealand', 'batsman_1': 'MJ Guptill', 'batsman_1_runs': 1, 'batsman_2': 'JD Ryder', 'batsman_2_runs': 104, 'batsman_3': 'BB McCullum', 'batsman_3_runs': 33, 'batsman_4': 'LRPL Taylor', 'batsman_4_runs': 9, 'batsman_5': 'CJ Anderson', 'batsman_5_runs': 131, 'batsman_6': 'L Ronchi', 'batsman_6_runs': 3, 'batsman_7': 'not_batted', 'batsman_7_runs': 0, 'batsman_8': 'not_batted', 'batsman_8_runs': 0, 'batsman_9': 'not_batted', 'batsman_9_runs': 0, 'batsman_10': 'not_batted', 'batsman_10_runs': 0, 'batsman_11': 'not_batted', 'batsman_11_runs': 0, 'bowler_1': 'KD Mills', 'bowler_1_wickets': 1, 'bowler_2': 'MJ McClenaghan', 'bowler_2_wickets': 2, 'bowler_3': 'NL McCullum', 'bowler_3_wickets': 0, 'bowler_4': 'JD Ryder', 'bowler_4_wickets': 1, 'bowler_5': 'JDS Neesham', 'bowler_5_wickets': 1, 'bowler_6': 'MJ Guptill', 'bowler_6_wickets': 0, 'bowler_7': 'AF Milne', 'bowler_7_wickets': 0, 'total_run': 283, 'total_wickets': 5}\n",
      "==============\n",
      "{'match_id': 661689, 'team_statistics': 'West Indies', 'batsman_1': 'J Charles', 'batsman_1_runs': 0, 'batsman_2': 'LMP Simmons', 'batsman_2_runs': 13, 'batsman_3': 'CAK Walton', 'batsman_3_runs': 17, 'batsman_4': 'KOA Powell', 'batsman_4_runs': 1, 'batsman_5': 'DJ Bravo', 'batsman_5_runs': 56, 'batsman_6': 'N Deonarine', 'batsman_6_runs': 29, 'batsman_7': 'D Ramdin', 'batsman_7_runs': 1, 'batsman_8': 'not_batted', 'batsman_8_runs': 0, 'batsman_9': 'not_batted', 'batsman_9_runs': 0, 'batsman_10': 'not_batted', 'batsman_10_runs': 0, 'batsman_11': 'not_batted', 'batsman_11_runs': 0, 'bowler_1': 'SP Narine', 'bowler_1_wickets': 1, 'bowler_2': 'JO Holder', 'bowler_2_wickets': 2, 'bowler_3': 'R Rampaul', 'bowler_3_wickets': 0, 'bowler_4': 'NO Miller', 'bowler_4_wickets': 1, 'bowler_5': 'DJ Bravo', 'bowler_5_wickets': 0, 'bowler_6': 'LMP Simmons', 'bowler_6_wickets': 0, 'bowler_7': 'not_bowled', 'bowler_7_wickets': 0, 'total_run': 124, 'total_wickets': 4}\n",
      "==============\n"
     ]
    }
   ],
   "source": [
    "first_innings = recent_match_summary_df[recent_match_summary_df['match_id']==selected_match_id]['first_innings'].values[0]\n",
    "second_innings= recent_match_summary_df[recent_match_summary_df['match_id']==selected_match_id]['second_innings'].values[0]\n",
    "\n",
    "\n",
    "for batting_innings,bowling_innings in zip([first_innings,second_innings],[second_innings,first_innings]):\n",
    "    \n",
    "    team_batsman_list = list(match_detail_df[match_detail_df['team']==batting_innings]['batsman'].unique())\n",
    "    team_bowler_list = list(match_detail_df[match_detail_df['team']==bowling_innings]['bowler'].unique())\n",
    "\n",
    "\n",
    "    team_stats = {}\n",
    "    team_stats['match_id']=selected_match_id\n",
    "    team_stats['team_statistics']=batting_innings\n",
    "\n",
    "   \n",
    "    for bi in range(11):\n",
    "        if bi<len(team_batsman_list):\n",
    "            batsman = team_batsman_list[bi]\n",
    "            team_stats['batsman_'+str(bi+1)]= batsman\n",
    "            team_stats['batsman_'+str(bi+1)+'_runs']= match_detail_df[match_detail_df['batsman']==batsman]['scored_runs'].sum()\n",
    "        else:\n",
    "            team_stats['batsman_'+str(bi+1)]= 'not_batted'\n",
    "            team_stats['batsman_'+str(bi+1)+'_runs']= 0\n",
    "        \n",
    "    for boi in range(11):\n",
    "        if boi<len(team_bowler_list):\n",
    "            bowler = team_bowler_list[boi]\n",
    "            team_stats['bowler_'+str(boi+1)]= bowler\n",
    "            team_stats['bowler_'+str(boi+1)+'_wickets']= \\\n",
    "            match_detail_df[match_detail_df['bowler']==bowler]['wicket'].sum() -\\\n",
    "            match_detail_df[(match_detail_df['bowler']==bowler) & (match_detail_df['wicket_type']=='run out')].shape[0]\n",
    "\n",
    "        else:\n",
    "            team_stats['bowler_'+str(boi+1)]= 'not_bowled'\n",
    "            team_stats['bowler_'+str(boi+1)+'_wickets']= 0\n",
    "\n",
    "    team_stats['total_run']=match_detail_df[match_detail_df['team']==batting_innings]['total'].sum()\n",
    "    team_stats['total_wickets']=match_detail_df[match_detail_df['team']==bowling_innings]['wicket'].sum()\n",
    "    \n",
    "    print(team_stats)\n",
    "    print(\"==============\")\n",
    "\n",
    "\n",
    "\n"
   ]
  },
  {
   "cell_type": "markdown",
   "metadata": {},
   "source": [
    "# Loop"
   ]
  },
  {
   "cell_type": "code",
   "execution_count": 6,
   "metadata": {},
   "outputs": [
    {
     "data": {
      "application/vnd.jupyter.widget-view+json": {
       "model_id": "c40f607ae9454e7e8f77e34c2194cc38",
       "version_major": 2,
       "version_minor": 0
      },
      "text/plain": [
       "HBox(children=(FloatProgress(value=0.0, max=781.0), HTML(value='')))"
      ]
     },
     "metadata": {},
     "output_type": "display_data"
    },
    {
     "name": "stdout",
     "output_type": "stream",
     "text": [
      "\n"
     ]
    }
   ],
   "source": [
    "match_stat_list = []\n",
    "batsman_set = set()\n",
    "bowler_set = set()\n",
    "for selected_match_id in tqdm(match_id_list):\n",
    "    \n",
    "    is_train = recent_match_summary_df[recent_match_summary_df['match_id']==selected_match_id]['train_data'].values[0]\n",
    "\n",
    "    if is_train:\n",
    "        match_detail_df = pd.read_csv('csv_data/train/'+str(selected_match_id)+'.csv')\n",
    "    else:\n",
    "        match_detail_df = pd.read_csv('csv_data/test/'+str(selected_match_id)+'.csv')\n",
    "\n",
    "\n",
    "\n",
    "    first_innings = recent_match_summary_df[recent_match_summary_df['match_id']==selected_match_id]['first_innings'].values[0]\n",
    "    second_innings= recent_match_summary_df[recent_match_summary_df['match_id']==selected_match_id]['second_innings'].values[0]\n",
    "\n",
    "\n",
    "    for batting_innings,bowling_innings in zip([first_innings,second_innings],[second_innings,first_innings]):\n",
    "\n",
    "        team_batsman_list = list(match_detail_df[match_detail_df['team']==batting_innings]['batsman'].unique())\n",
    "        team_bowler_list = list(match_detail_df[match_detail_df['team']==bowling_innings]['bowler'].unique())\n",
    "\n",
    "\n",
    "        team_stats = {}\n",
    "        team_stats['match_id']=selected_match_id\n",
    "        team_stats['team_statistics']=batting_innings\n",
    "        #batsman_set=batsman_set.union(set(team_batsman_list))\n",
    "        #bowler_set=bowler_set.union(set(team_bowler_list))\n",
    "        concatenated_batsman_list = []\n",
    "        concatenated_bowler_list = []\n",
    "        for bi in range(11):\n",
    "            if bi<len(team_batsman_list):\n",
    "                batsman = team_batsman_list[bi]\n",
    "                team_stats['batsman_'+str(bi+1)]= batsman\n",
    "                team_stats['batsman_'+str(bi+1)+'_runs']= match_detail_df[match_detail_df['batsman']==batsman]['scored_runs'].sum()\n",
    "                concatenated_batsman_list.append(batting_innings.strip()+' '+batsman.strip())\n",
    "            else:\n",
    "                team_stats['batsman_'+str(bi+1)]= 'not_batted'\n",
    "                team_stats['batsman_'+str(bi+1)+'_runs']= 0\n",
    "\n",
    "        for boi in range(11):\n",
    "            if boi<len(team_bowler_list):\n",
    "                bowler = team_bowler_list[boi]\n",
    "                team_stats['bowler_'+str(boi+1)]= bowler\n",
    "                team_stats['bowler_'+str(boi+1)+'_wickets']= \\\n",
    "                match_detail_df[match_detail_df['bowler']==bowler]['wicket'].sum() -\\\n",
    "                match_detail_df[(match_detail_df['bowler']==bowler) & (match_detail_df['wicket_type']=='run out')].shape[0]\n",
    "                concatenated_bowler_list.append(batting_innings.strip()+' '+bowler.strip())\n",
    "                \n",
    "            else:\n",
    "                team_stats['bowler_'+str(boi+1)]= 'not_bowled'\n",
    "                team_stats['bowler_'+str(boi+1)+'_wickets']= 0\n",
    "        batsman_set=batsman_set.union(set(concatenated_batsman_list))\n",
    "        bowler_set=bowler_set.union(set(concatenated_bowler_list))\n",
    "        \n",
    "        team_stats['total_run']=match_detail_df[match_detail_df['team']==batting_innings]['total'].sum()\n",
    "        team_stats['total_wickets']=match_detail_df[match_detail_df['team']==bowling_innings]['wicket'].sum()\n",
    "        match_stat_list.append(team_stats)\n",
    "        \n",
    "match_stats_df = pd.DataFrame(match_stat_list)\n",
    "match_stats_df.to_csv('csv_data/match_stats.csv',index=False)\n"
   ]
  },
  {
   "cell_type": "code",
   "execution_count": 7,
   "metadata": {},
   "outputs": [
    {
     "data": {
      "text/html": [
       "<div>\n",
       "<style scoped>\n",
       "    .dataframe tbody tr th:only-of-type {\n",
       "        vertical-align: middle;\n",
       "    }\n",
       "\n",
       "    .dataframe tbody tr th {\n",
       "        vertical-align: top;\n",
       "    }\n",
       "\n",
       "    .dataframe thead th {\n",
       "        text-align: right;\n",
       "    }\n",
       "</style>\n",
       "<table border=\"1\" class=\"dataframe\">\n",
       "  <thead>\n",
       "    <tr style=\"text-align: right;\">\n",
       "      <th></th>\n",
       "      <th>match_id</th>\n",
       "      <th>team_statistics</th>\n",
       "      <th>batsman_1</th>\n",
       "      <th>batsman_1_runs</th>\n",
       "      <th>batsman_2</th>\n",
       "      <th>batsman_2_runs</th>\n",
       "      <th>batsman_3</th>\n",
       "      <th>batsman_3_runs</th>\n",
       "      <th>batsman_4</th>\n",
       "      <th>batsman_4_runs</th>\n",
       "      <th>...</th>\n",
       "      <th>bowler_8</th>\n",
       "      <th>bowler_8_wickets</th>\n",
       "      <th>bowler_9</th>\n",
       "      <th>bowler_9_wickets</th>\n",
       "      <th>bowler_10</th>\n",
       "      <th>bowler_10_wickets</th>\n",
       "      <th>bowler_11</th>\n",
       "      <th>bowler_11_wickets</th>\n",
       "      <th>total_run</th>\n",
       "      <th>total_wickets</th>\n",
       "    </tr>\n",
       "  </thead>\n",
       "  <tbody>\n",
       "    <tr>\n",
       "      <th>0</th>\n",
       "      <td>589309</td>\n",
       "      <td>Pakistan</td>\n",
       "      <td>Nasir Jamshed</td>\n",
       "      <td>106</td>\n",
       "      <td>Mohammad Hafeez</td>\n",
       "      <td>76</td>\n",
       "      <td>Azhar Ali</td>\n",
       "      <td>2</td>\n",
       "      <td>Younis Khan</td>\n",
       "      <td>10</td>\n",
       "      <td>...</td>\n",
       "      <td>not_bowled</td>\n",
       "      <td>0</td>\n",
       "      <td>not_bowled</td>\n",
       "      <td>0</td>\n",
       "      <td>not_bowled</td>\n",
       "      <td>0</td>\n",
       "      <td>not_bowled</td>\n",
       "      <td>0</td>\n",
       "      <td>250</td>\n",
       "      <td>10</td>\n",
       "    </tr>\n",
       "    <tr>\n",
       "      <th>1</th>\n",
       "      <td>589309</td>\n",
       "      <td>India</td>\n",
       "      <td>G Gambhir</td>\n",
       "      <td>11</td>\n",
       "      <td>V Sehwag</td>\n",
       "      <td>31</td>\n",
       "      <td>V Kohli</td>\n",
       "      <td>6</td>\n",
       "      <td>Yuvraj Singh</td>\n",
       "      <td>9</td>\n",
       "      <td>...</td>\n",
       "      <td>not_bowled</td>\n",
       "      <td>0</td>\n",
       "      <td>not_bowled</td>\n",
       "      <td>0</td>\n",
       "      <td>not_bowled</td>\n",
       "      <td>0</td>\n",
       "      <td>not_bowled</td>\n",
       "      <td>0</td>\n",
       "      <td>165</td>\n",
       "      <td>10</td>\n",
       "    </tr>\n",
       "    <tr>\n",
       "      <th>2</th>\n",
       "      <td>589310</td>\n",
       "      <td>India</td>\n",
       "      <td>G Gambhir</td>\n",
       "      <td>15</td>\n",
       "      <td>AM Rahane</td>\n",
       "      <td>4</td>\n",
       "      <td>V Kohli</td>\n",
       "      <td>7</td>\n",
       "      <td>Yuvraj Singh</td>\n",
       "      <td>23</td>\n",
       "      <td>...</td>\n",
       "      <td>not_bowled</td>\n",
       "      <td>0</td>\n",
       "      <td>not_bowled</td>\n",
       "      <td>0</td>\n",
       "      <td>not_bowled</td>\n",
       "      <td>0</td>\n",
       "      <td>not_bowled</td>\n",
       "      <td>0</td>\n",
       "      <td>167</td>\n",
       "      <td>10</td>\n",
       "    </tr>\n",
       "    <tr>\n",
       "      <th>3</th>\n",
       "      <td>589310</td>\n",
       "      <td>Pakistan</td>\n",
       "      <td>Nasir Jamshed</td>\n",
       "      <td>34</td>\n",
       "      <td>Kamran Akmal</td>\n",
       "      <td>0</td>\n",
       "      <td>Younis Khan</td>\n",
       "      <td>6</td>\n",
       "      <td>Misbah-ul-Haq</td>\n",
       "      <td>39</td>\n",
       "      <td>...</td>\n",
       "      <td>not_bowled</td>\n",
       "      <td>0</td>\n",
       "      <td>not_bowled</td>\n",
       "      <td>0</td>\n",
       "      <td>not_bowled</td>\n",
       "      <td>0</td>\n",
       "      <td>not_bowled</td>\n",
       "      <td>0</td>\n",
       "      <td>157</td>\n",
       "      <td>10</td>\n",
       "    </tr>\n",
       "    <tr>\n",
       "      <th>4</th>\n",
       "      <td>565812</td>\n",
       "      <td>England</td>\n",
       "      <td>AN Cook</td>\n",
       "      <td>75</td>\n",
       "      <td>IR Bell</td>\n",
       "      <td>85</td>\n",
       "      <td>KP Pietersen</td>\n",
       "      <td>44</td>\n",
       "      <td>EJG Morgan</td>\n",
       "      <td>41</td>\n",
       "      <td>...</td>\n",
       "      <td>not_bowled</td>\n",
       "      <td>0</td>\n",
       "      <td>not_bowled</td>\n",
       "      <td>0</td>\n",
       "      <td>not_bowled</td>\n",
       "      <td>0</td>\n",
       "      <td>not_bowled</td>\n",
       "      <td>0</td>\n",
       "      <td>325</td>\n",
       "      <td>9</td>\n",
       "    </tr>\n",
       "  </tbody>\n",
       "</table>\n",
       "<p>5 rows × 48 columns</p>\n",
       "</div>"
      ],
      "text/plain": [
       "   match_id team_statistics      batsman_1  batsman_1_runs        batsman_2  \\\n",
       "0    589309        Pakistan  Nasir Jamshed             106  Mohammad Hafeez   \n",
       "1    589309           India      G Gambhir              11         V Sehwag   \n",
       "2    589310           India      G Gambhir              15        AM Rahane   \n",
       "3    589310        Pakistan  Nasir Jamshed              34     Kamran Akmal   \n",
       "4    565812         England        AN Cook              75          IR Bell   \n",
       "\n",
       "   batsman_2_runs     batsman_3  batsman_3_runs      batsman_4  \\\n",
       "0              76     Azhar Ali               2    Younis Khan   \n",
       "1              31       V Kohli               6   Yuvraj Singh   \n",
       "2               4       V Kohli               7   Yuvraj Singh   \n",
       "3               0   Younis Khan               6  Misbah-ul-Haq   \n",
       "4              85  KP Pietersen              44     EJG Morgan   \n",
       "\n",
       "   batsman_4_runs  ...    bowler_8  bowler_8_wickets    bowler_9  \\\n",
       "0              10  ...  not_bowled                 0  not_bowled   \n",
       "1               9  ...  not_bowled                 0  not_bowled   \n",
       "2              23  ...  not_bowled                 0  not_bowled   \n",
       "3              39  ...  not_bowled                 0  not_bowled   \n",
       "4              41  ...  not_bowled                 0  not_bowled   \n",
       "\n",
       "   bowler_9_wickets   bowler_10  bowler_10_wickets   bowler_11  \\\n",
       "0                 0  not_bowled                  0  not_bowled   \n",
       "1                 0  not_bowled                  0  not_bowled   \n",
       "2                 0  not_bowled                  0  not_bowled   \n",
       "3                 0  not_bowled                  0  not_bowled   \n",
       "4                 0  not_bowled                  0  not_bowled   \n",
       "\n",
       "   bowler_11_wickets total_run  total_wickets  \n",
       "0                  0       250             10  \n",
       "1                  0       165             10  \n",
       "2                  0       167             10  \n",
       "3                  0       157             10  \n",
       "4                  0       325              9  \n",
       "\n",
       "[5 rows x 48 columns]"
      ]
     },
     "execution_count": 7,
     "metadata": {},
     "output_type": "execute_result"
    }
   ],
   "source": [
    "match_stats_df.head()"
   ]
  },
  {
   "cell_type": "code",
   "execution_count": 8,
   "metadata": {},
   "outputs": [
    {
     "data": {
      "text/plain": [
       "845"
      ]
     },
     "execution_count": 8,
     "metadata": {},
     "output_type": "execute_result"
    }
   ],
   "source": [
    "len(list(batsman_set))"
   ]
  },
  {
   "cell_type": "code",
   "execution_count": 9,
   "metadata": {},
   "outputs": [
    {
     "data": {
      "text/plain": [
       "649"
      ]
     },
     "execution_count": 9,
     "metadata": {},
     "output_type": "execute_result"
    }
   ],
   "source": [
    "len(list(bowler_set))"
   ]
  },
  {
   "cell_type": "code",
   "execution_count": 15,
   "metadata": {},
   "outputs": [],
   "source": [
    "pickle.dump(list(batsman_set),open('batsman_list.pkl','wb'))\n",
    "pickle.dump(list(bowler_set),open('bowler_list.pkl','wb'))"
   ]
  },
  {
   "cell_type": "code",
   "execution_count": 13,
   "metadata": {},
   "outputs": [],
   "source": [
    "#batsman_set"
   ]
  },
  {
   "cell_type": "code",
   "execution_count": null,
   "metadata": {},
   "outputs": [],
   "source": []
  }
 ],
 "metadata": {
  "kernelspec": {
   "display_name": "tensor230",
   "language": "python",
   "name": "tensor230"
  },
  "language_info": {
   "codemirror_mode": {
    "name": "ipython",
    "version": 3
   },
   "file_extension": ".py",
   "mimetype": "text/x-python",
   "name": "python",
   "nbconvert_exporter": "python",
   "pygments_lexer": "ipython3",
   "version": "3.6.10"
  }
 },
 "nbformat": 4,
 "nbformat_minor": 4
}
