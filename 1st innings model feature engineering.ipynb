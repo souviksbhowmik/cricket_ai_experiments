{
 "cells": [
  {
   "cell_type": "code",
   "execution_count": 1,
   "metadata": {},
   "outputs": [],
   "source": [
    "import pandas as pd\n",
    "import numpy as np\n",
    "from datetime import datetime\n",
    "from matplotlib import pyplot as plt\n",
    "from sklearn.preprocessing import MinMaxScaler\n",
    "from tqdm.notebook import tqdm\n",
    "\n",
    "from sklearn.linear_model import LinearRegression"
   ]
  },
  {
   "cell_type": "code",
   "execution_count": 13,
   "metadata": {},
   "outputs": [
    {
     "name": "stdout",
     "output_type": "stream",
     "text": [
      "batsman_perfromance_2008.csv       country_rank_2007.csv\r\n",
      "batsman_perfromance_2009.csv       country_rank_2008.csv\r\n",
      "batsman_perfromance_2010.csv       country_rank_2009.csv\r\n",
      "batsman_perfromance_2011.csv       country_rank_2010.csv\r\n",
      "batsman_perfromance_2012.csv       country_rank_2011.csv\r\n",
      "batsman_perfromance_2013.csv       country_rank_2012.csv\r\n",
      "batsman_perfromance_2014.csv       country_rank_2013.csv\r\n",
      "batsman_perfromance_2015.csv       country_rank_2014.csv\r\n",
      "batsman_perfromance_2016.csv       country_rank_2015.csv\r\n",
      "batsman_perfromance_2017.csv       country_rank_2016.csv\r\n",
      "batsman_perfromance_2018.csv       country_rank_2017.csv\r\n",
      "batsman_perfromance_2019.csv       country_rank_2018.csv\r\n",
      "bowler_perfromance_2008.csv        country_rank_2019.csv\r\n",
      "bowler_perfromance_2009.csv        feature.csv\r\n",
      "bowler_perfromance_2010.csv        feature_first_innings.csv\r\n",
      "bowler_perfromance_2011.csv        first_innings_batsman.csv\r\n",
      "bowler_perfromance_2012.csv        first_innings_feature_expanded.csv\r\n",
      "bowler_perfromance_2013.csv        first_innings_opponent.csv\r\n",
      "bowler_perfromance_2014.csv        first_innings_opponent_bowler.csv\r\n",
      "bowler_perfromance_2015.csv        first_innings_team.csv\r\n",
      "bowler_perfromance_2016.csv        match_list.csv\r\n",
      "bowler_perfromance_2017.csv        \u001b[34mtest\u001b[m\u001b[m\r\n",
      "bowler_perfromance_2018.csv        \u001b[34mtrain\u001b[m\u001b[m\r\n",
      "bowler_perfromance_2019.csv\r\n"
     ]
    }
   ],
   "source": [
    "!ls csv_data/"
   ]
  },
  {
   "cell_type": "code",
   "execution_count": 2,
   "metadata": {},
   "outputs": [],
   "source": [
    "custom_date_parser = lambda x: datetime.strptime(x, \"%Y-%m-%d\")"
   ]
  },
  {
   "cell_type": "code",
   "execution_count": 3,
   "metadata": {},
   "outputs": [],
   "source": [
    "cutoff_start_year = '2009'\n",
    "cutoff_start_date = datetime.strptime(cutoff_start_year+'-01-01','%Y-%m-%d')"
   ]
  },
  {
   "cell_type": "code",
   "execution_count": 4,
   "metadata": {},
   "outputs": [],
   "source": [
    "match_summary_df = pd.read_csv('csv_data/match_list.csv',parse_dates=['date'],date_parser=custom_date_parser)\n",
    "#country_rank_df = pd.read_csv('csv_data/')"
   ]
  },
  {
   "cell_type": "code",
   "execution_count": 5,
   "metadata": {},
   "outputs": [
    {
     "data": {
      "text/plain": [
       "(1171, 11)"
      ]
     },
     "execution_count": 5,
     "metadata": {},
     "output_type": "execute_result"
    }
   ],
   "source": [
    "recent_match_summary_df = match_summary_df[match_summary_df['date']>=cutoff_start_date]\n",
    "recent_match_summary_df.shape"
   ]
  },
  {
   "cell_type": "code",
   "execution_count": 6,
   "metadata": {},
   "outputs": [
    {
     "data": {
      "text/html": [
       "<div>\n",
       "<style scoped>\n",
       "    .dataframe tbody tr th:only-of-type {\n",
       "        vertical-align: middle;\n",
       "    }\n",
       "\n",
       "    .dataframe tbody tr th {\n",
       "        vertical-align: top;\n",
       "    }\n",
       "\n",
       "    .dataframe thead th {\n",
       "        text-align: right;\n",
       "    }\n",
       "</style>\n",
       "<table border=\"1\" class=\"dataframe\">\n",
       "  <thead>\n",
       "    <tr style=\"text-align: right;\">\n",
       "      <th></th>\n",
       "      <th>match_id</th>\n",
       "      <th>date</th>\n",
       "      <th>location</th>\n",
       "      <th>first_innings</th>\n",
       "      <th>second_innings</th>\n",
       "      <th>winner</th>\n",
       "      <th>win_by</th>\n",
       "      <th>win_dif</th>\n",
       "      <th>toss_winner</th>\n",
       "      <th>player_of_match</th>\n",
       "      <th>train_data</th>\n",
       "    </tr>\n",
       "  </thead>\n",
       "  <tbody>\n",
       "    <tr>\n",
       "      <th>206</th>\n",
       "      <td>366711</td>\n",
       "      <td>2009-01-07</td>\n",
       "      <td>Wellington</td>\n",
       "      <td>West Indies</td>\n",
       "      <td>New Zealand</td>\n",
       "      <td>New Zealand</td>\n",
       "      <td>wickets</td>\n",
       "      <td>7</td>\n",
       "      <td>New Zealand</td>\n",
       "      <td>DL Vettori</td>\n",
       "      <td>True</td>\n",
       "    </tr>\n",
       "    <tr>\n",
       "      <th>207</th>\n",
       "      <td>378753</td>\n",
       "      <td>2009-01-10</td>\n",
       "      <td>Mirpur</td>\n",
       "      <td>Zimbabwe</td>\n",
       "      <td>Bangladesh</td>\n",
       "      <td>Zimbabwe</td>\n",
       "      <td>runs</td>\n",
       "      <td>38</td>\n",
       "      <td>Bangladesh</td>\n",
       "      <td>E Chigumbura</td>\n",
       "      <td>True</td>\n",
       "    </tr>\n",
       "    <tr>\n",
       "      <th>208</th>\n",
       "      <td>378755</td>\n",
       "      <td>2009-01-14</td>\n",
       "      <td>Mirpur</td>\n",
       "      <td>Sri Lanka</td>\n",
       "      <td>Bangladesh</td>\n",
       "      <td>Bangladesh</td>\n",
       "      <td>wickets</td>\n",
       "      <td>5</td>\n",
       "      <td>Bangladesh</td>\n",
       "      <td>Shakib Al Hasan</td>\n",
       "      <td>True</td>\n",
       "    </tr>\n",
       "    <tr>\n",
       "      <th>209</th>\n",
       "      <td>351684</td>\n",
       "      <td>2009-01-16</td>\n",
       "      <td>Melbourne Cricket Ground</td>\n",
       "      <td>Australia</td>\n",
       "      <td>South Africa</td>\n",
       "      <td>South Africa</td>\n",
       "      <td>wickets</td>\n",
       "      <td>3</td>\n",
       "      <td>Australia</td>\n",
       "      <td>JA Morkel</td>\n",
       "      <td>True</td>\n",
       "    </tr>\n",
       "    <tr>\n",
       "      <th>210</th>\n",
       "      <td>351685</td>\n",
       "      <td>2009-01-18</td>\n",
       "      <td>Hobart</td>\n",
       "      <td>Australia</td>\n",
       "      <td>South Africa</td>\n",
       "      <td>Australia</td>\n",
       "      <td>runs</td>\n",
       "      <td>5</td>\n",
       "      <td>South Africa</td>\n",
       "      <td>SE Marsh</td>\n",
       "      <td>True</td>\n",
       "    </tr>\n",
       "    <tr>\n",
       "      <th>...</th>\n",
       "      <td>...</td>\n",
       "      <td>...</td>\n",
       "      <td>...</td>\n",
       "      <td>...</td>\n",
       "      <td>...</td>\n",
       "      <td>...</td>\n",
       "      <td>...</td>\n",
       "      <td>...</td>\n",
       "      <td>...</td>\n",
       "      <td>...</td>\n",
       "      <td>...</td>\n",
       "    </tr>\n",
       "    <tr>\n",
       "      <th>1372</th>\n",
       "      <td>1198240</td>\n",
       "      <td>2020-09-16</td>\n",
       "      <td>Manchester</td>\n",
       "      <td>England</td>\n",
       "      <td>Australia</td>\n",
       "      <td>Australia</td>\n",
       "      <td>wickets</td>\n",
       "      <td>3</td>\n",
       "      <td>England</td>\n",
       "      <td>GJ Maxwell</td>\n",
       "      <td>False</td>\n",
       "    </tr>\n",
       "    <tr>\n",
       "      <th>1373</th>\n",
       "      <td>1233461</td>\n",
       "      <td>2020-10-30</td>\n",
       "      <td>Rawalpindi Cricket Stadium</td>\n",
       "      <td>Pakistan</td>\n",
       "      <td>Zimbabwe</td>\n",
       "      <td>Pakistan</td>\n",
       "      <td>runs</td>\n",
       "      <td>26</td>\n",
       "      <td>Pakistan</td>\n",
       "      <td>BRM Taylor</td>\n",
       "      <td>False</td>\n",
       "    </tr>\n",
       "    <tr>\n",
       "      <th>1374</th>\n",
       "      <td>1233462</td>\n",
       "      <td>2020-11-01</td>\n",
       "      <td>Rawalpindi Cricket Stadium</td>\n",
       "      <td>Zimbabwe</td>\n",
       "      <td>Pakistan</td>\n",
       "      <td>Pakistan</td>\n",
       "      <td>wickets</td>\n",
       "      <td>6</td>\n",
       "      <td>Zimbabwe</td>\n",
       "      <td>Iftikhar Ahmed</td>\n",
       "      <td>False</td>\n",
       "    </tr>\n",
       "    <tr>\n",
       "      <th>1375</th>\n",
       "      <td>1223955</td>\n",
       "      <td>2020-11-27</td>\n",
       "      <td>Sydney Cricket Ground</td>\n",
       "      <td>Australia</td>\n",
       "      <td>India</td>\n",
       "      <td>Australia</td>\n",
       "      <td>runs</td>\n",
       "      <td>66</td>\n",
       "      <td>Australia</td>\n",
       "      <td>SPD Smith</td>\n",
       "      <td>False</td>\n",
       "    </tr>\n",
       "    <tr>\n",
       "      <th>1376</th>\n",
       "      <td>1223956</td>\n",
       "      <td>2020-11-29</td>\n",
       "      <td>Sydney Cricket Ground</td>\n",
       "      <td>Australia</td>\n",
       "      <td>India</td>\n",
       "      <td>Australia</td>\n",
       "      <td>runs</td>\n",
       "      <td>51</td>\n",
       "      <td>Australia</td>\n",
       "      <td>SPD Smith</td>\n",
       "      <td>False</td>\n",
       "    </tr>\n",
       "  </tbody>\n",
       "</table>\n",
       "<p>1171 rows × 11 columns</p>\n",
       "</div>"
      ],
      "text/plain": [
       "      match_id       date                    location first_innings  \\\n",
       "206     366711 2009-01-07                  Wellington   West Indies   \n",
       "207     378753 2009-01-10                      Mirpur      Zimbabwe   \n",
       "208     378755 2009-01-14                      Mirpur     Sri Lanka   \n",
       "209     351684 2009-01-16    Melbourne Cricket Ground     Australia   \n",
       "210     351685 2009-01-18                      Hobart     Australia   \n",
       "...        ...        ...                         ...           ...   \n",
       "1372   1198240 2020-09-16                  Manchester       England   \n",
       "1373   1233461 2020-10-30  Rawalpindi Cricket Stadium      Pakistan   \n",
       "1374   1233462 2020-11-01  Rawalpindi Cricket Stadium      Zimbabwe   \n",
       "1375   1223955 2020-11-27       Sydney Cricket Ground     Australia   \n",
       "1376   1223956 2020-11-29       Sydney Cricket Ground     Australia   \n",
       "\n",
       "     second_innings        winner   win_by  win_dif   toss_winner  \\\n",
       "206     New Zealand   New Zealand  wickets        7   New Zealand   \n",
       "207      Bangladesh      Zimbabwe     runs       38    Bangladesh   \n",
       "208      Bangladesh    Bangladesh  wickets        5    Bangladesh   \n",
       "209    South Africa  South Africa  wickets        3     Australia   \n",
       "210    South Africa     Australia     runs        5  South Africa   \n",
       "...             ...           ...      ...      ...           ...   \n",
       "1372      Australia     Australia  wickets        3       England   \n",
       "1373       Zimbabwe      Pakistan     runs       26      Pakistan   \n",
       "1374       Pakistan      Pakistan  wickets        6      Zimbabwe   \n",
       "1375          India     Australia     runs       66     Australia   \n",
       "1376          India     Australia     runs       51     Australia   \n",
       "\n",
       "      player_of_match  train_data  \n",
       "206        DL Vettori        True  \n",
       "207      E Chigumbura        True  \n",
       "208   Shakib Al Hasan        True  \n",
       "209         JA Morkel        True  \n",
       "210          SE Marsh        True  \n",
       "...               ...         ...  \n",
       "1372       GJ Maxwell       False  \n",
       "1373       BRM Taylor       False  \n",
       "1374   Iftikhar Ahmed       False  \n",
       "1375        SPD Smith       False  \n",
       "1376        SPD Smith       False  \n",
       "\n",
       "[1171 rows x 11 columns]"
      ]
     },
     "execution_count": 6,
     "metadata": {},
     "output_type": "execute_result"
    }
   ],
   "source": [
    "recent_match_summary_df"
   ]
  },
  {
   "cell_type": "code",
   "execution_count": 7,
   "metadata": {},
   "outputs": [],
   "source": [
    "match_id_list = list(recent_match_summary_df['match_id'])"
   ]
  },
  {
   "cell_type": "markdown",
   "metadata": {},
   "source": [
    "# Feature Engineering functions"
   ]
  },
  {
   "cell_type": "code",
   "execution_count": 8,
   "metadata": {},
   "outputs": [],
   "source": [
    "def get_trend(input_df,team_opponent,team_name,target_field):\n",
    "    input_df.rename(columns={'winner':'winning_team'},inplace=True)\n",
    "\n",
    "    selected_match_id_list = list(input_df['match_id'])\n",
    "    match_detail_list = []\n",
    "    for match_id in selected_match_id_list:\n",
    "        if input_df[input_df['match_id']==match_id]['train_data'].values[0]==True:\n",
    "            match_info = pd.read_csv('csv_data/train/'+str(match_id)+'.csv')\n",
    "        else:\n",
    "            match_info = pd.read_csv('csv_data/test/'+str(match_id)+'.csv')\n",
    "        match_detail_list.append(match_info)\n",
    "    match_detail_df = pd.concat(match_detail_list)\n",
    "    match_detail_df.fillna('NA',inplace=True)\n",
    "\n",
    "    match_detail_df = input_df.merge(match_detail_df,how='inner',on='match_id')\n",
    "\n",
    "\n",
    "    sorted_df = match_detail_df[match_detail_df[team_opponent].isin(team_name)].groupby('match_id').agg({'date': 'min', target_field: 'sum'}).reset_index()\n",
    "    sorted_df.sort_values('date',inplace=True)\n",
    "\n",
    "    y=np.array(sorted_df[target_field])\n",
    "    x=np.array(range(sorted_df.shape[0])).reshape(-1,1)+1\n",
    "    linear_trend_model = LinearRegression()\n",
    "    linear_trend_model.fit(x,y)\n",
    "    next_instance_num = x.shape[0]+1\n",
    "    \n",
    "    base = linear_trend_model.intercept_\n",
    "    trend = linear_trend_model.coef_[0]\n",
    "    trend_predict = linear_trend_model.predict(np.array([next_instance_num]).reshape(-1,1))[0]\n",
    "    mean = sorted_df[target_field].mean()\n",
    "    \n",
    "    return base,trend,trend_predict,mean\n",
    "\n",
    "\n",
    "    \n",
    "    "
   ]
  },
  {
   "cell_type": "code",
   "execution_count": 35,
   "metadata": {},
   "outputs": [],
   "source": [
    "%matplotlib inline\n",
    "from matplotlib import pyplot as plt\n",
    "def get_trend_debug(input_df,team_opponent,team_name,target_field):\n",
    "    input_df.rename(columns={'winner':'winning_team'},inplace=True)\n",
    "\n",
    "    selected_match_id_list = list(input_df['match_id'])\n",
    "    match_detail_list = []\n",
    "    for match_id in selected_match_id_list:\n",
    "        if input_df[input_df['match_id']==match_id]['train_data'].values[0]==True:\n",
    "            match_info = pd.read_csv('csv_data/train/'+str(match_id)+'.csv')\n",
    "        else:\n",
    "            match_info = pd.read_csv('csv_data/test/'+str(match_id)+'.csv')\n",
    "        match_detail_list.append(match_info)\n",
    "    match_detail_df = pd.concat(match_detail_list)\n",
    "    match_detail_df.fillna('NA',inplace=True)\n",
    "\n",
    "    match_detail_df = input_df.merge(match_detail_df,how='inner',on='match_id')\n",
    "\n",
    "\n",
    "    sorted_df = match_detail_df[match_detail_df[team_opponent].isin(team_name)].groupby('match_id').agg({'date': 'min', target_field: 'sum'}).reset_index()\n",
    "    sorted_df.sort_values('date',inplace=True)\n",
    "\n",
    "    y=np.array(sorted_df[target_field])\n",
    "    x=np.array(range(sorted_df.shape[0])).reshape(-1,1)+1\n",
    "    \n",
    "    plt.scatter(x,y)\n",
    "    \n",
    "    linear_trend_model = LinearRegression()\n",
    "    linear_trend_model.fit(x,y)\n",
    "    next_instance_num = x.shape[0]+2\n",
    "    \n",
    "    \n",
    "    new_x = np.array(range(x.shape[0]+2)).reshape(-1,1)\n",
    "    y_preds = linear_trend_model.predict(new_x)\n",
    "    plt.plot(y_preds)\n",
    "    plt.scatter(new_x,y_preds,color='red')\n",
    "        \n",
    "    \n",
    "    base = linear_trend_model.intercept_\n",
    "    trend = linear_trend_model.coef_[0]\n",
    "    trend_predict = linear_trend_model.predict(np.array([next_instance_num]).reshape(-1,1))[0]\n",
    "    mean = sorted_df[target_field].mean()\n",
    "    \n",
    "    return base,trend,trend_predict,mean"
   ]
  },
  {
   "cell_type": "code",
   "execution_count": 31,
   "metadata": {},
   "outputs": [],
   "source": [
    "def find_similar_team(search_country,country_rank_df):\n",
    "    search_rank = country_rank_df[country_rank_df['country']==search_country]['rank'].values[0]\n",
    "    if search_rank == 1:\n",
    "        similar_rank_list = [2]\n",
    "    elif search_rank == country_rank_df['rank'].max():\n",
    "        similar_rank_list = [country_rank_df['rank'].max()-1]\n",
    "    else:\n",
    "        similar_rank_list = [search_rank-1,search_rank+1]\n",
    "    return list(country_rank_df[country_rank_df['rank'].isin(similar_rank_list)]['country'])\n",
    "    "
   ]
  },
  {
   "cell_type": "markdown",
   "metadata": {},
   "source": [
    "# Jump to loop"
   ]
  },
  {
   "cell_type": "code",
   "execution_count": 16,
   "metadata": {},
   "outputs": [],
   "source": [
    "selected_match_id = match_id_list[2]"
   ]
  },
  {
   "cell_type": "code",
   "execution_count": 17,
   "metadata": {},
   "outputs": [
    {
     "data": {
      "text/plain": [
       "(numpy.datetime64('2009-01-14T00:00:00.000000000'),\n",
       " 'Sri Lanka',\n",
       " 'Bangladesh',\n",
       " 'Mirpur',\n",
       " 2.9025623238876253,\n",
       " 0.7978609625668449,\n",
       " 147,\n",
       " 2.9960622611279457,\n",
       " 5.015920318670156,\n",
       " 2.8837921054702376,\n",
       " 3.0347709617253065)"
      ]
     },
     "execution_count": 17,
     "metadata": {},
     "output_type": "execute_result"
    }
   ],
   "source": [
    "match_date = recent_match_summary_df[recent_match_summary_df['match_id']==selected_match_id]['date'].values[0]\n",
    "team = recent_match_summary_df[recent_match_summary_df['match_id']==selected_match_id]['first_innings'].values[0]\n",
    "opponent = recent_match_summary_df[recent_match_summary_df['match_id']==selected_match_id]['second_innings'].values[0]\n",
    "location = recent_match_summary_df[recent_match_summary_df['match_id']==selected_match_id]['location'].values[0]\n",
    "\n",
    "match_year=pd.to_datetime(match_date).year\n",
    "previous_year = match_year-1\n",
    "country_rank_df = pd.read_csv('csv_data/country_rank_'+str(previous_year)+'.csv')\n",
    "\n",
    "team_score = country_rank_df[country_rank_df['country']==team]['score'].values[0]\n",
    "opponent_score = country_rank_df[country_rank_df['country']==opponent]['score'].values[0]\n",
    "\n",
    "#selected_match_details = pd.read_csv('csv_data')\n",
    "if recent_match_summary_df[recent_match_summary_df['match_id']==selected_match_id]['train_data'].values[0]==True:\n",
    "    selected_match_details = pd.read_csv('csv_data/train/'+str(selected_match_id)+'.csv')\n",
    "else:\n",
    "    selected_match_details = pd.read_csv('csv_data/test/'+str(selected_match_id)+'.csv')\n",
    "runs_scored=selected_match_details[selected_match_details['team']==team]['total'].sum()\n",
    "\n",
    "#team batting strength\n",
    "team_batsmaan_list = list(selected_match_details[selected_match_details['team']==team]['batsman'].unique())\n",
    "batsman_rank_df = pd.read_csv('csv_data/batsman_perfromance_'+str(previous_year)+'.csv')\n",
    "batsman_mean=batsman_rank_df[batsman_rank_df['batsman'].isin(team_batsmaan_list)]['batsman_score'].mean()\n",
    "batsman_max=batsman_rank_df[batsman_rank_df['batsman'].isin(team_batsmaan_list)]['batsman_score'].max()\n",
    "\n",
    "#opponent bawling strength\n",
    "opponent_bowler_list = list(selected_match_details[selected_match_details['team']==team]['bowler'].unique())\n",
    "bowler_rank_df = pd.read_csv('csv_data/bowler_perfromance_'+str(previous_year)+'.csv')\n",
    "bowler_mean=bowler_rank_df[bowler_rank_df['bowler'].isin(opponent_bowler_list)]['bowler_score'].mean()\n",
    "bowler_max=bowler_rank_df[bowler_rank_df['bowler'].isin(opponent_bowler_list)]['bowler_score'].max()\n",
    "\n",
    "match_date,team,opponent,location,team_score,opponent_score,runs_scored,batsman_mean,batsman_max,bowler_mean,bowler_max"
   ]
  },
  {
   "cell_type": "code",
   "execution_count": 18,
   "metadata": {},
   "outputs": [
    {
     "data": {
      "text/plain": [
       "Index(['match_id', 'innings', 'team', 'opponent', 'ball', 'batsman',\n",
       "       'non_striker', 'bowler', 'scored_runs', 'extras', 'total', 'extra_type',\n",
       "       'wicket', 'wicket_type', 'player_out', 'fielders', 'winner'],\n",
       "      dtype='object')"
      ]
     },
     "execution_count": 18,
     "metadata": {},
     "output_type": "execute_result"
    }
   ],
   "source": [
    "selected_match_details.columns"
   ]
  },
  {
   "cell_type": "code",
   "execution_count": 19,
   "metadata": {},
   "outputs": [
    {
     "ename": "ValueError",
     "evalue": "No objects to concatenate",
     "output_type": "error",
     "traceback": [
      "\u001b[0;31m---------------------------------------------------------------------------\u001b[0m",
      "\u001b[0;31mValueError\u001b[0m                                Traceback (most recent call last)",
      "\u001b[0;32m<ipython-input-19-d07f8a8fc8bb>\u001b[0m in \u001b[0;36m<module>\u001b[0;34m\u001b[0m\n\u001b[1;32m     32\u001b[0m \u001b[0;34m\u001b[0m\u001b[0m\n\u001b[1;32m     33\u001b[0m \u001b[0mopponent_base\u001b[0m\u001b[0;34m,\u001b[0m\u001b[0mopponent_trend\u001b[0m\u001b[0;34m,\u001b[0m\u001b[0mopponent_trend_predict\u001b[0m\u001b[0;34m,\u001b[0m\u001b[0mopponent_mean\u001b[0m \u001b[0;34m=\u001b[0m \u001b[0mget_trend\u001b[0m\u001b[0;34m(\u001b[0m\u001b[0mlast_5_opponent\u001b[0m\u001b[0;34m,\u001b[0m\u001b[0;34m'team'\u001b[0m\u001b[0;34m,\u001b[0m\u001b[0;34m[\u001b[0m\u001b[0mteam\u001b[0m\u001b[0;34m]\u001b[0m\u001b[0;34m,\u001b[0m\u001b[0;34m'total'\u001b[0m\u001b[0;34m)\u001b[0m\u001b[0;34m\u001b[0m\u001b[0;34m\u001b[0m\u001b[0m\n\u001b[0;32m---> 34\u001b[0;31m \u001b[0mlocation_base\u001b[0m\u001b[0;34m,\u001b[0m\u001b[0mlocation_trend\u001b[0m\u001b[0;34m,\u001b[0m\u001b[0mlocation_trend_predict\u001b[0m\u001b[0;34m,\u001b[0m\u001b[0mlocation_mean\u001b[0m \u001b[0;34m=\u001b[0m \u001b[0mget_trend\u001b[0m\u001b[0;34m(\u001b[0m\u001b[0mlast_5_location\u001b[0m\u001b[0;34m,\u001b[0m\u001b[0;34m'team'\u001b[0m\u001b[0;34m,\u001b[0m\u001b[0mlocation_team_list\u001b[0m\u001b[0;34m,\u001b[0m\u001b[0;34m'total'\u001b[0m\u001b[0;34m)\u001b[0m\u001b[0;34m\u001b[0m\u001b[0;34m\u001b[0m\u001b[0m\n\u001b[0m\u001b[1;32m     35\u001b[0m \u001b[0mcurrent_base\u001b[0m\u001b[0;34m,\u001b[0m\u001b[0mcurrent_trend\u001b[0m\u001b[0;34m,\u001b[0m\u001b[0mcurrent_trend_predict\u001b[0m\u001b[0;34m,\u001b[0m\u001b[0mcurrent_mean\u001b[0m \u001b[0;34m=\u001b[0m \u001b[0mget_trend\u001b[0m\u001b[0;34m(\u001b[0m\u001b[0mlast_5_match\u001b[0m\u001b[0;34m,\u001b[0m\u001b[0;34m'team'\u001b[0m\u001b[0;34m,\u001b[0m\u001b[0;34m[\u001b[0m\u001b[0mteam\u001b[0m\u001b[0;34m]\u001b[0m\u001b[0;34m,\u001b[0m\u001b[0;34m'total'\u001b[0m\u001b[0;34m)\u001b[0m\u001b[0;34m\u001b[0m\u001b[0;34m\u001b[0m\u001b[0m\n\u001b[1;32m     36\u001b[0m \u001b[0;34m\u001b[0m\u001b[0m\n",
      "\u001b[0;32m<ipython-input-8-2a04d864eb2a>\u001b[0m in \u001b[0;36mget_trend\u001b[0;34m(input_df, team_opponent, team_name, target_field)\u001b[0m\n\u001b[1;32m     10\u001b[0m             \u001b[0mmatch_info\u001b[0m \u001b[0;34m=\u001b[0m \u001b[0mpd\u001b[0m\u001b[0;34m.\u001b[0m\u001b[0mread_csv\u001b[0m\u001b[0;34m(\u001b[0m\u001b[0;34m'csv_data/test/'\u001b[0m\u001b[0;34m+\u001b[0m\u001b[0mstr\u001b[0m\u001b[0;34m(\u001b[0m\u001b[0mmatch_id\u001b[0m\u001b[0;34m)\u001b[0m\u001b[0;34m+\u001b[0m\u001b[0;34m'.csv'\u001b[0m\u001b[0;34m)\u001b[0m\u001b[0;34m\u001b[0m\u001b[0;34m\u001b[0m\u001b[0m\n\u001b[1;32m     11\u001b[0m         \u001b[0mmatch_detail_list\u001b[0m\u001b[0;34m.\u001b[0m\u001b[0mappend\u001b[0m\u001b[0;34m(\u001b[0m\u001b[0mmatch_info\u001b[0m\u001b[0;34m)\u001b[0m\u001b[0;34m\u001b[0m\u001b[0;34m\u001b[0m\u001b[0m\n\u001b[0;32m---> 12\u001b[0;31m     \u001b[0mmatch_detail_df\u001b[0m \u001b[0;34m=\u001b[0m \u001b[0mpd\u001b[0m\u001b[0;34m.\u001b[0m\u001b[0mconcat\u001b[0m\u001b[0;34m(\u001b[0m\u001b[0mmatch_detail_list\u001b[0m\u001b[0;34m)\u001b[0m\u001b[0;34m\u001b[0m\u001b[0;34m\u001b[0m\u001b[0m\n\u001b[0m\u001b[1;32m     13\u001b[0m     \u001b[0mmatch_detail_df\u001b[0m\u001b[0;34m.\u001b[0m\u001b[0mfillna\u001b[0m\u001b[0;34m(\u001b[0m\u001b[0;34m'NA'\u001b[0m\u001b[0;34m,\u001b[0m\u001b[0minplace\u001b[0m\u001b[0;34m=\u001b[0m\u001b[0;32mTrue\u001b[0m\u001b[0;34m)\u001b[0m\u001b[0;34m\u001b[0m\u001b[0;34m\u001b[0m\u001b[0m\n\u001b[1;32m     14\u001b[0m \u001b[0;34m\u001b[0m\u001b[0m\n",
      "\u001b[0;32m/opt/anaconda3/lib/python3.8/site-packages/pandas/core/reshape/concat.py\u001b[0m in \u001b[0;36mconcat\u001b[0;34m(objs, axis, join, ignore_index, keys, levels, names, verify_integrity, sort, copy)\u001b[0m\n\u001b[1;32m    269\u001b[0m     \u001b[0mValueError\u001b[0m\u001b[0;34m:\u001b[0m \u001b[0mIndexes\u001b[0m \u001b[0mhave\u001b[0m \u001b[0moverlapping\u001b[0m \u001b[0mvalues\u001b[0m\u001b[0;34m:\u001b[0m \u001b[0;34m[\u001b[0m\u001b[0;34m'a'\u001b[0m\u001b[0;34m]\u001b[0m\u001b[0;34m\u001b[0m\u001b[0;34m\u001b[0m\u001b[0m\n\u001b[1;32m    270\u001b[0m     \"\"\"\n\u001b[0;32m--> 271\u001b[0;31m     op = _Concatenator(\n\u001b[0m\u001b[1;32m    272\u001b[0m         \u001b[0mobjs\u001b[0m\u001b[0;34m,\u001b[0m\u001b[0;34m\u001b[0m\u001b[0;34m\u001b[0m\u001b[0m\n\u001b[1;32m    273\u001b[0m         \u001b[0maxis\u001b[0m\u001b[0;34m=\u001b[0m\u001b[0maxis\u001b[0m\u001b[0;34m,\u001b[0m\u001b[0;34m\u001b[0m\u001b[0;34m\u001b[0m\u001b[0m\n",
      "\u001b[0;32m/opt/anaconda3/lib/python3.8/site-packages/pandas/core/reshape/concat.py\u001b[0m in \u001b[0;36m__init__\u001b[0;34m(self, objs, axis, join, keys, levels, names, ignore_index, verify_integrity, copy, sort)\u001b[0m\n\u001b[1;32m    327\u001b[0m \u001b[0;34m\u001b[0m\u001b[0m\n\u001b[1;32m    328\u001b[0m         \u001b[0;32mif\u001b[0m \u001b[0mlen\u001b[0m\u001b[0;34m(\u001b[0m\u001b[0mobjs\u001b[0m\u001b[0;34m)\u001b[0m \u001b[0;34m==\u001b[0m \u001b[0;36m0\u001b[0m\u001b[0;34m:\u001b[0m\u001b[0;34m\u001b[0m\u001b[0;34m\u001b[0m\u001b[0m\n\u001b[0;32m--> 329\u001b[0;31m             \u001b[0;32mraise\u001b[0m \u001b[0mValueError\u001b[0m\u001b[0;34m(\u001b[0m\u001b[0;34m\"No objects to concatenate\"\u001b[0m\u001b[0;34m)\u001b[0m\u001b[0;34m\u001b[0m\u001b[0;34m\u001b[0m\u001b[0m\n\u001b[0m\u001b[1;32m    330\u001b[0m \u001b[0;34m\u001b[0m\u001b[0m\n\u001b[1;32m    331\u001b[0m         \u001b[0;32mif\u001b[0m \u001b[0mkeys\u001b[0m \u001b[0;32mis\u001b[0m \u001b[0;32mNone\u001b[0m\u001b[0;34m:\u001b[0m\u001b[0;34m\u001b[0m\u001b[0;34m\u001b[0m\u001b[0m\n",
      "\u001b[0;31mValueError\u001b[0m: No objects to concatenate"
     ]
    }
   ],
   "source": [
    "# get opponent History\n",
    "last_5_opponent = match_summary_df[(match_summary_df['first_innings']==team) \n",
    "                                   & (match_summary_df['second_innings']==opponent)\n",
    "                                   & (match_summary_df['date']<match_date)\n",
    "                                  ].sort_values('date',ascending=False).head(5)\n",
    "\n",
    "last_5_location = match_summary_df[(match_summary_df['first_innings']==team) \n",
    "                                   & (match_summary_df['location']==location)\n",
    "                                   & (match_summary_df['date']<match_date)\n",
    "                                  ].sort_values('date',ascending=False).head(5)\n",
    "\n",
    "last_5_match = match_summary_df[(match_summary_df['first_innings']==team) \n",
    "                                   & (match_summary_df['date']<match_date)\n",
    "                                  ].sort_values('date',ascending=False).head(5)\n",
    "\n",
    "if last_5_opponent.shape[0]==0:\n",
    "    similar_opponent_list = find_similar_team(opponent,country_rank_df)\n",
    "    last_5_opponent = match_summary_df[(match_summary_df['first_innings']==team) \n",
    "                                   & (match_summary_df['second_innings'].isin(similar_opponent_list))\n",
    "                                   & (match_summary_df['date']<match_date)\n",
    "                                  ].sort_values('date',ascending=False).head(5)\n",
    "if last_5_location.shape[0]==0:\n",
    "    similar_team_list = find_similar_team(team,country_rank_df)\n",
    "    #last_5_location = pd.DataFrame(last_5_match)\n",
    "    last_5_location = match_summary_df[(match_summary_df['first_innings'].isin(similar_team_list)) \n",
    "                                   & (match_summary_df['location']==location)\n",
    "                                   & (match_summary_df['date']<match_date)\n",
    "                                  ].sort_values('date',ascending=False).head(5)\n",
    "    location_team_list = similar_team_list\n",
    "else:\n",
    "    location_team_list = [team]\n",
    "    \n",
    "opponent_base,opponent_trend,opponent_trend_predict,opponent_mean = get_trend(last_5_opponent,'team',[team],'total')\n",
    "location_base,location_trend,location_trend_predict,location_mean = get_trend(last_5_location,'team',location_team_list,'total')\n",
    "current_base,current_trend,current_trend_predict,current_mean = get_trend(last_5_match,'team',[team],'total')\n",
    "\n",
    "\n"
   ]
  },
  {
   "cell_type": "code",
   "execution_count": 20,
   "metadata": {},
   "outputs": [
    {
     "data": {
      "text/html": [
       "<div>\n",
       "<style scoped>\n",
       "    .dataframe tbody tr th:only-of-type {\n",
       "        vertical-align: middle;\n",
       "    }\n",
       "\n",
       "    .dataframe tbody tr th {\n",
       "        vertical-align: top;\n",
       "    }\n",
       "\n",
       "    .dataframe thead th {\n",
       "        text-align: right;\n",
       "    }\n",
       "</style>\n",
       "<table border=\"1\" class=\"dataframe\">\n",
       "  <thead>\n",
       "    <tr style=\"text-align: right;\">\n",
       "      <th></th>\n",
       "      <th>match_id</th>\n",
       "      <th>date</th>\n",
       "      <th>location</th>\n",
       "      <th>first_innings</th>\n",
       "      <th>second_innings</th>\n",
       "      <th>winner</th>\n",
       "      <th>win_by</th>\n",
       "      <th>win_dif</th>\n",
       "      <th>toss_winner</th>\n",
       "      <th>player_of_match</th>\n",
       "      <th>train_data</th>\n",
       "    </tr>\n",
       "  </thead>\n",
       "  <tbody>\n",
       "    <tr>\n",
       "      <th>176</th>\n",
       "      <td>335354</td>\n",
       "      <td>2008-06-30</td>\n",
       "      <td>Karachi</td>\n",
       "      <td>Sri Lanka</td>\n",
       "      <td>Bangladesh</td>\n",
       "      <td>Sri Lanka</td>\n",
       "      <td>runs</td>\n",
       "      <td>158</td>\n",
       "      <td>Sri Lanka</td>\n",
       "      <td>ST Jayasuriya</td>\n",
       "      <td>True</td>\n",
       "    </tr>\n",
       "    <tr>\n",
       "      <th>168</th>\n",
       "      <td>335348</td>\n",
       "      <td>2008-06-25</td>\n",
       "      <td>Lahore</td>\n",
       "      <td>Sri Lanka</td>\n",
       "      <td>Bangladesh</td>\n",
       "      <td>Sri Lanka</td>\n",
       "      <td>runs</td>\n",
       "      <td>131</td>\n",
       "      <td>Bangladesh</td>\n",
       "      <td>KC Sangakkara</td>\n",
       "      <td>True</td>\n",
       "    </tr>\n",
       "    <tr>\n",
       "      <th>86</th>\n",
       "      <td>293483</td>\n",
       "      <td>2007-07-25</td>\n",
       "      <td>Colombo</td>\n",
       "      <td>Sri Lanka</td>\n",
       "      <td>Bangladesh</td>\n",
       "      <td>Sri Lanka</td>\n",
       "      <td>runs</td>\n",
       "      <td>39</td>\n",
       "      <td>Bangladesh</td>\n",
       "      <td>J Mubarak</td>\n",
       "      <td>True</td>\n",
       "    </tr>\n",
       "    <tr>\n",
       "      <th>84</th>\n",
       "      <td>293481</td>\n",
       "      <td>2007-07-20</td>\n",
       "      <td>Colombo</td>\n",
       "      <td>Sri Lanka</td>\n",
       "      <td>Bangladesh</td>\n",
       "      <td>Sri Lanka</td>\n",
       "      <td>runs</td>\n",
       "      <td>70</td>\n",
       "      <td>Bangladesh</td>\n",
       "      <td>CRD Fernando</td>\n",
       "      <td>True</td>\n",
       "    </tr>\n",
       "  </tbody>\n",
       "</table>\n",
       "</div>"
      ],
      "text/plain": [
       "     match_id       date location first_innings second_innings     winner  \\\n",
       "176    335354 2008-06-30  Karachi     Sri Lanka     Bangladesh  Sri Lanka   \n",
       "168    335348 2008-06-25   Lahore     Sri Lanka     Bangladesh  Sri Lanka   \n",
       "86     293483 2007-07-25  Colombo     Sri Lanka     Bangladesh  Sri Lanka   \n",
       "84     293481 2007-07-20  Colombo     Sri Lanka     Bangladesh  Sri Lanka   \n",
       "\n",
       "    win_by  win_dif toss_winner player_of_match  train_data  \n",
       "176   runs      158   Sri Lanka   ST Jayasuriya        True  \n",
       "168   runs      131  Bangladesh   KC Sangakkara        True  \n",
       "86    runs       39  Bangladesh       J Mubarak        True  \n",
       "84    runs       70  Bangladesh    CRD Fernando        True  "
      ]
     },
     "execution_count": 20,
     "metadata": {},
     "output_type": "execute_result"
    }
   ],
   "source": [
    "last_5_opponent = match_summary_df[(match_summary_df['first_innings']==team) \n",
    "                                   & (match_summary_df['second_innings']==opponent)\n",
    "                                   & (match_summary_df['date']<match_date)\n",
    "                                  ].sort_values('date',ascending=False).head(5)\n",
    "last_5_opponent"
   ]
  },
  {
   "cell_type": "code",
   "execution_count": 36,
   "metadata": {},
   "outputs": [
    {
     "data": {
      "text/plain": [
       "(165.99999999999997, 45.500000000000014, 439.0000000000001, 279.75)"
      ]
     },
     "execution_count": 36,
     "metadata": {},
     "output_type": "execute_result"
    },
    {
     "data": {
      "image/png": "[encoded data removed]",
      "text/plain": [
       "<Figure size 432x288 with 1 Axes>"
      ]
     },
     "metadata": {
      "needs_background": "light"
     },
     "output_type": "display_data"
    }
   ],
   "source": [
    "get_trend_debug(last_5_opponent,'team',[team],'total')"
   ]
  },
  {
   "cell_type": "code",
   "execution_count": 116,
   "metadata": {},
   "outputs": [],
   "source": [
    "# last_5_match.rename(columns={'winner':'winning_team'},inplace=True)\n",
    "# #last_5_match.sort_values(['date'],inplace=True)\n",
    "# selected_match_id_list = list(last_5_match['match_id'])\n",
    "# match_detail_list = []\n",
    "# for match_id in selected_match_id_list:\n",
    "#     if last_5_match[last_5_match['match_id']==match_id]['train_data'].values[0]==True:\n",
    "#         match_info = pd.read_csv('csv_data/train/'+str(match_id)+'.csv')\n",
    "#     else:\n",
    "#         match_info = pd.read_csv('csv_data/test/'+str(match_id)+'.csv')\n",
    "#     match_detail_list.append(match_info)\n",
    "# match_detail_df = pd.concat(match_detail_list)\n",
    "# match_detail_df.fillna('NA',inplace=True)\n",
    "\n",
    "# match_detail_df = last_5_match.merge(match_detail_df,how='inner',on='match_id')\n",
    "\n",
    "# #match_detail_df.sort_values('date',ascending=True,inplace=True)\n",
    "# sorted_df = match_detail_df[match_detail_df['team']==team].groupby('match_id').agg({'date': 'min', 'total': 'sum'}).reset_index()\n",
    "# sorted_df.sort_values('date',inplace=True)\n",
    "\n",
    "# y=np.array(sorted_df['total'])\n",
    "# x=np.array(range(sorted_df.shape[0])).reshape(-1,1)\n",
    "# linear_trend_model = LinearRegression()\n",
    "# linear_trend_model.fit(x,y)\n",
    "# base = linear_trend_model.intercept_\n",
    "# trend = linear_trend_model.coef_[0]\n",
    "# mean = sorted_df['total'].mean()\n"
   ]
  },
  {
   "cell_type": "code",
   "execution_count": 165,
   "metadata": {},
   "outputs": [
    {
     "data": {
      "text/plain": [
       "['Sri Lanka', 'Zimbabwe']"
      ]
     },
     "execution_count": 165,
     "metadata": {},
     "output_type": "execute_result"
    }
   ],
   "source": [
    "# match_year=pd.to_datetime(match_date).year\n",
    "# previous_year = match_year-1\n",
    "# country_rank_df = pd.read_csv('csv_data/country_rank_'+str(previous_year)+'.csv')\n",
    "# search_country = opponent\n",
    "# search_rank = country_rank_df[country_rank_df['country']==search_country]['rank'].values[0]\n",
    "# if search_rank == 1:\n",
    "#     similar_rank_list = [2]\n",
    "# elif search_rank == country_rank_df['rank'].max():\n",
    "#     similar_rank_list = [country_rank_df['rank'].max()-1]\n",
    "# else:\n",
    "#     similar_rank_list = [search_rank-1,search_rank+1]\n",
    "# list(country_rank_df[country_rank_df['rank'].isin(similar_rank_list)]['country'])\n",
    "    \n",
    "# #similar_country_list = "
   ]
  },
  {
   "cell_type": "markdown",
   "metadata": {},
   "source": [
    "# Loop"
   ]
  },
  {
   "cell_type": "code",
   "execution_count": 25,
   "metadata": {},
   "outputs": [
    {
     "data": {
      "application/vnd.jupyter.widget-view+json": {
       "model_id": "e568495a138f48a399768611fda8db45",
       "version_major": 2,
       "version_minor": 0
      },
      "text/plain": [
       "HBox(children=(FloatProgress(value=0.0, max=1171.0), HTML(value='')))"
      ]
     },
     "metadata": {},
     "output_type": "display_data"
    },
    {
     "name": "stdout",
     "output_type": "stream",
     "text": [
      "\n"
     ]
    }
   ],
   "source": [
    "feature_data=[]\n",
    "for selected_match_id in tqdm(match_id_list):\n",
    "    \n",
    "    noise = False\n",
    "    match_date = recent_match_summary_df[recent_match_summary_df['match_id']==selected_match_id]['date'].values[0]\n",
    "    team = recent_match_summary_df[recent_match_summary_df['match_id']==selected_match_id]['first_innings'].values[0]\n",
    "    opponent = recent_match_summary_df[recent_match_summary_df['match_id']==selected_match_id]['second_innings'].values[0]\n",
    "    location = recent_match_summary_df[recent_match_summary_df['match_id']==selected_match_id]['location'].values[0]\n",
    "\n",
    "    match_year=pd.to_datetime(match_date).year\n",
    "    previous_year = match_year-1\n",
    "    country_rank_df = pd.read_csv('csv_data/country_rank_'+str(previous_year)+'.csv')\n",
    "\n",
    "    if country_rank_df[country_rank_df['country']==team].shape[0]==0\\\n",
    "    or country_rank_df[country_rank_df['country']==opponent]['score'].shape[0]==0:\n",
    "        continue\n",
    "    \n",
    "    team_score = country_rank_df[country_rank_df['country']==team]['score'].values[0]\n",
    "    opponent_score = country_rank_df[country_rank_df['country']==opponent]['score'].values[0]\n",
    "\n",
    "    \n",
    "    if recent_match_summary_df[recent_match_summary_df['match_id']==selected_match_id]['train_data'].values[0]==True:\n",
    "        selected_match_details = pd.read_csv('csv_data/train/'+str(selected_match_id)+'.csv')\n",
    "    else:\n",
    "        selected_match_details = pd.read_csv('csv_data/test/'+str(selected_match_id)+'.csv')\n",
    "        \n",
    "        \n",
    "    runs_scored=selected_match_details[selected_match_details['team']==team]['total'].sum()\n",
    "    \n",
    "    #team batting strength\n",
    "    team_batsmaan_list = list(selected_match_details[selected_match_details['team']==team]['batsman'].unique())\n",
    "    batsman_rank_df = pd.read_csv('csv_data/batsman_perfromance_'+str(previous_year)+'.csv')\n",
    "    batsman_mean=batsman_rank_df[batsman_rank_df['batsman'].isin(team_batsmaan_list)]['batsman_score'].mean()\n",
    "    batsman_max=batsman_rank_df[batsman_rank_df['batsman'].isin(team_batsmaan_list)]['batsman_score'].max()\n",
    "\n",
    "    #opponent bawling strength\n",
    "    opponent_bowler_list = list(selected_match_details[selected_match_details['team']==team]['bowler'].unique())\n",
    "    bowler_rank_df = pd.read_csv('csv_data/bowler_perfromance_'+str(previous_year)+'.csv')\n",
    "    bowler_mean=bowler_rank_df[bowler_rank_df['bowler'].isin(opponent_bowler_list)]['bowler_score'].mean()\n",
    "    bowler_max=bowler_rank_df[bowler_rank_df['bowler'].isin(opponent_bowler_list)]['bowler_score'].max()\n",
    "\n",
    "\n",
    "    \n",
    "    \n",
    "    last_5_opponent = match_summary_df[(match_summary_df['first_innings']==team) \n",
    "                                   & (match_summary_df['second_innings']==opponent)\n",
    "                                   & (match_summary_df['date']<match_date)\n",
    "                                  ].sort_values('date',ascending=False).head(5)\n",
    "\n",
    "    last_5_location = match_summary_df[(match_summary_df['first_innings']==team) \n",
    "                                       & (match_summary_df['location']==location)\n",
    "                                       & (match_summary_df['date']<match_date)\n",
    "                                      ].sort_values('date',ascending=False).head(5)\n",
    "\n",
    "    last_5_match = match_summary_df[(match_summary_df['first_innings']==team) \n",
    "                                       & (match_summary_df['date']<match_date)\n",
    "                                      ].sort_values('date',ascending=False).head(5)\n",
    "\n",
    "    if last_5_opponent.shape[0]==0:\n",
    "        similar_opponent_list = find_similar_team(opponent,country_rank_df)\n",
    "        last_5_opponent = match_summary_df[(match_summary_df['first_innings']==team) \n",
    "                                       & (match_summary_df['second_innings'].isin(similar_opponent_list))\n",
    "                                       & (match_summary_df['date']<match_date)\n",
    "                                      ].sort_values('date',ascending=False).head(5)\n",
    "        noise = True\n",
    "    if last_5_location.shape[0]==0:\n",
    "        similar_team_list = find_similar_team(team,country_rank_df)\n",
    "        last_5_location = match_summary_df[(match_summary_df['first_innings'].isin(similar_team_list)) \n",
    "                                       & (match_summary_df['location']==location)\n",
    "                                       & (match_summary_df['date']<match_date)\n",
    "                                      ].sort_values('date',ascending=False).head(5)\n",
    "        location_team_list = similar_team_list\n",
    "        noise = True\n",
    "    else:\n",
    "        location_team_list = [team]\n",
    "        \n",
    "    if last_5_opponent.shape[0]==0 or last_5_location.shape[0]==0:\n",
    "        continue\n",
    "\n",
    "    opponent_base,opponent_trend,opponent_trend_predict,opponent_mean = get_trend(last_5_opponent,'team',[team],'total')\n",
    "    location_base,location_trend,location_trend_predict,location_mean = get_trend(last_5_location,'team',location_team_list,'total')\n",
    "    current_base,current_trend,current_trend_predict,current_mean = get_trend(last_5_match,'team',[team],'total')\n",
    "\n",
    "    feature_dict = {\n",
    "        'match_id':selected_match_id,\n",
    "        'match_date':match_date,\n",
    "        'team':team,\n",
    "        'opponent':opponent,\n",
    "        'location':location,\n",
    "        'team_score':team_score,\n",
    "        'opponent_score':opponent_score,\n",
    "        'opponent_base':opponent_base,\n",
    "        'opponent_trend':opponent_trend,\n",
    "        'opponent_trend_predict':opponent_trend_predict,\n",
    "        'opponent_mean':opponent_mean,\n",
    "        'location_base':location_base,\n",
    "        'location_trend':location_trend,\n",
    "        'location_trend_predict':location_trend_predict,\n",
    "        'location_mean':location_mean,\n",
    "        'current_base':current_base,\n",
    "        'current_trend':current_trend,\n",
    "        'current_trend_predict':current_trend_predict,\n",
    "        'current_mean':current_mean,\n",
    "        'batsman_mean':batsman_mean,\n",
    "        'batsman_max':batsman_max,\n",
    "        'bowler_mean':bowler_mean,\n",
    "        'bowler_max':bowler_max,\n",
    "        'is_train':recent_match_summary_df[recent_match_summary_df['match_id']==selected_match_id]['train_data'].values[0],\n",
    "        'noise':noise,\n",
    "        'runs_scored':runs_scored\n",
    "             \n",
    "    }\n",
    "    \n",
    "    feature_data.append(feature_dict)\n",
    "\n",
    "feature_df = pd.DataFrame(feature_data)\n",
    "feature_df.to_csv('csv_data/feature_first_innings.csv',index=False)\n"
   ]
  },
  {
   "cell_type": "code",
   "execution_count": 26,
   "metadata": {},
   "outputs": [],
   "source": [
    "#feature_df.to_csv('csv_data/feature_first_innings.csv',index=False)"
   ]
  },
  {
   "cell_type": "code",
   "execution_count": 27,
   "metadata": {},
   "outputs": [
    {
     "data": {
      "text/plain": [
       "(832, 26)"
      ]
     },
     "execution_count": 27,
     "metadata": {},
     "output_type": "execute_result"
    }
   ],
   "source": [
    "feature_df.shape"
   ]
  },
  {
   "cell_type": "code",
   "execution_count": 28,
   "metadata": {},
   "outputs": [
    {
     "data": {
      "text/plain": [
       "(723, 26)"
      ]
     },
     "execution_count": 28,
     "metadata": {},
     "output_type": "execute_result"
    }
   ],
   "source": [
    "feature_df[feature_df['is_train']==True].shape"
   ]
  },
  {
   "cell_type": "code",
   "execution_count": null,
   "metadata": {},
   "outputs": [],
   "source": []
  }
 ],
 "metadata": {
  "kernelspec": {
   "display_name": "Python 3",
   "language": "python",
   "name": "python3"
  },
  "language_info": {
   "codemirror_mode": {
    "name": "ipython",
    "version": 3
   },
   "file_extension": ".py",
   "mimetype": "text/x-python",
   "name": "python",
   "nbconvert_exporter": "python",
   "pygments_lexer": "ipython3",
   "version": "3.8.3"
  }
 },
 "nbformat": 4,
 "nbformat_minor": 4
}
