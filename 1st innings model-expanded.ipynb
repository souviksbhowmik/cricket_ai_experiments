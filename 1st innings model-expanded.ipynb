{
 "cells": [
  {
   "cell_type": "code",
   "execution_count": 103,
   "metadata": {},
   "outputs": [],
   "source": [
    "import pandas as pd\n",
    "import numpy as np\n",
    "from datetime import datetime\n",
    "from matplotlib import pyplot as plt\n",
    "from sklearn.preprocessing import MinMaxScaler\n",
    "from tqdm.notebook import tqdm\n",
    "\n",
    "from sklearn.linear_model import LinearRegression\n",
    "from sklearn.preprocessing import StandardScaler,MinMaxScaler\n",
    "from sklearn.metrics import mean_absolute_error"
   ]
  },
  {
   "cell_type": "markdown",
   "metadata": {},
   "source": [
    "# LinearRegression"
   ]
  },
  {
   "cell_type": "markdown",
   "metadata": {},
   "source": [
    "Observations from initial linear regression\n",
    "\n",
    "\n",
    "1. The scores are more important than the trends\n",
    "\n",
    "2. All combined is the best model\n",
    "\n",
    "3. Only trends is worse\n",
    "\n",
    "4. Only scores is close\n",
    "\n",
    "5. There is no variance. (So increase features)"
   ]
  },
  {
   "cell_type": "code",
   "execution_count": 104,
   "metadata": {},
   "outputs": [],
   "source": [
    "def mape(y_true,y_predict):\n",
    "    return np.sum((np.abs(y_true-y_predict)/y_true)*100)/len(y_true)"
   ]
  },
  {
   "cell_type": "code",
   "execution_count": 105,
   "metadata": {},
   "outputs": [],
   "source": [
    "custom_date_parser = lambda x: datetime.strptime(x, \"%Y-%m-%d\")\n",
    "feature_df = pd.read_csv('csv_data/first_innings_feature_expanded.csv',parse_dates=['match_date'],date_parser=custom_date_parser)\n",
    "\n",
    "team_df = pd.read_csv('csv_data/first_innings_team.csv')\n",
    "opponent_df = pd.read_csv('csv_data/first_innings_opponent.csv')\n",
    "team_batsman_df = pd.read_csv('csv_data/first_innings_batsman.csv')\n",
    "opponent_bowler_df= pd.read_csv('csv_data/first_innings_opponent_bowler.csv')\n",
    "\n",
    "#temporary correction code\n",
    "# team_df['match_id']=feature_df['match_id']\n",
    "# opponent_df['match_id']=feature_df['match_id']\n",
    "# team_batsman_df['match_id']=feature_df['match_id']\n",
    "# opponent_bowler_df['match_id']=feature_df['match_id']\n",
    "\n",
    "\n"
   ]
  },
  {
   "cell_type": "code",
   "execution_count": 106,
   "metadata": {},
   "outputs": [],
   "source": [
    "total_df = feature_df.merge(team_df,on='match_id',how='inner',suffixes=('','_team')).\\\n",
    "merge(opponent_df,on='match_id',how='inner',suffixes=('','_opp')).\\\n",
    "merge(team_batsman_df,on='match_id',how='inner',suffixes=('','_bat')).\\\n",
    "merge(opponent_bowler_df,on='match_id',how='inner',suffixes=('','_bow'))\n",
    "\n"
   ]
  },
  {
   "cell_type": "code",
   "execution_count": 110,
   "metadata": {},
   "outputs": [
    {
     "data": {
      "text/plain": [
       "((1129, 47), (1129, 20))"
      ]
     },
     "execution_count": 110,
     "metadata": {},
     "output_type": "execute_result"
    }
   ],
   "source": [
    "total_df.shape,feature_df.shape"
   ]
  },
  {
   "cell_type": "code",
   "execution_count": 118,
   "metadata": {},
   "outputs": [
    {
     "data": {
      "text/plain": [
       "(1024, (1024, 47))"
      ]
     },
     "execution_count": 118,
     "metadata": {},
     "output_type": "execute_result"
    }
   ],
   "source": [
    "total_df['match_id'].nunique(),total_df.shape"
   ]
  },
  {
   "cell_type": "code",
   "execution_count": 111,
   "metadata": {},
   "outputs": [
    {
     "data": {
      "text/plain": [
       "Index(['match_id', 'match_date', 'team', 'opponent', 'location', 'runs_scored',\n",
       "       'opponent_base', 'opponent_trend', 'opponent_trend_predict',\n",
       "       'opponent_mean', 'location_base', 'location_trend',\n",
       "       'location_trend_predict', 'location_mean', 'current_base',\n",
       "       'current_trend', 'current_trend_predict', 'current_mean', 'is_train',\n",
       "       'noise', 'country', 'win_ratio', 'effective_win_by_runs',\n",
       "       'effective_win_by_wickets', 'matches_played', 'win_count',\n",
       "       'country_opp', 'win_ratio_opp', 'effective_win_by_runs_opp',\n",
       "       'effective_win_by_wickets_opp', 'matches_played_opp', 'win_count_opp',\n",
       "       'total_runs', 'run_rate', 'average_score', 'opponent_variability',\n",
       "       'player_of_the_match', 'winning_contribution', 'run_rate_effectiveness',\n",
       "       'negative_rate', 'no_of_wickets', 'wickets_per_match',\n",
       "       'wickets_per_run', 'no_of_wins', 'opponent_variability_bow',\n",
       "       'winning_contribution_bow', 'winning_wicket_rate_contribution'],\n",
       "      dtype='object')"
      ]
     },
     "execution_count": 111,
     "metadata": {},
     "output_type": "execute_result"
    }
   ],
   "source": [
    "total_df.columns"
   ]
  },
  {
   "cell_type": "code",
   "execution_count": 112,
   "metadata": {},
   "outputs": [
    {
     "data": {
      "text/plain": [
       "match_id                             0\n",
       "match_date                           0\n",
       "team                                 0\n",
       "opponent                             0\n",
       "location                             0\n",
       "runs_scored                          0\n",
       "opponent_base                        0\n",
       "opponent_trend                       0\n",
       "opponent_trend_predict               0\n",
       "opponent_mean                        0\n",
       "location_base                        0\n",
       "location_trend                       0\n",
       "location_trend_predict               0\n",
       "location_mean                        0\n",
       "current_base                         0\n",
       "current_trend                        0\n",
       "current_trend_predict                0\n",
       "current_mean                         0\n",
       "is_train                             0\n",
       "noise                                0\n",
       "country                              0\n",
       "win_ratio                            0\n",
       "effective_win_by_runs                0\n",
       "effective_win_by_wickets             0\n",
       "matches_played                       0\n",
       "win_count                            0\n",
       "country_opp                          0\n",
       "win_ratio_opp                        0\n",
       "effective_win_by_runs_opp            0\n",
       "effective_win_by_wickets_opp         0\n",
       "matches_played_opp                   0\n",
       "win_count_opp                        0\n",
       "total_runs                           0\n",
       "run_rate                             0\n",
       "average_score                        0\n",
       "opponent_variability                 0\n",
       "player_of_the_match                  0\n",
       "winning_contribution                22\n",
       "run_rate_effectiveness              59\n",
       "negative_rate                        0\n",
       "no_of_wickets                        0\n",
       "wickets_per_match                    0\n",
       "wickets_per_run                      0\n",
       "no_of_wins                           0\n",
       "opponent_variability_bow             0\n",
       "winning_contribution_bow             0\n",
       "winning_wicket_rate_contribution    51\n",
       "dtype: int64"
      ]
     },
     "execution_count": 112,
     "metadata": {},
     "output_type": "execute_result"
    }
   ],
   "source": [
    "#feature_df.dropna(inplace=True)\n",
    "total_df.isnull().sum()"
   ]
  },
  {
   "cell_type": "code",
   "execution_count": 113,
   "metadata": {},
   "outputs": [],
   "source": [
    "total_df.dropna(inplace=True)"
   ]
  },
  {
   "cell_type": "code",
   "execution_count": 114,
   "metadata": {},
   "outputs": [
    {
     "data": {
      "text/plain": [
       "1024"
      ]
     },
     "execution_count": 114,
     "metadata": {},
     "output_type": "execute_result"
    }
   ],
   "source": [
    "total_df['match_id'].nunique()"
   ]
  },
  {
   "cell_type": "code",
   "execution_count": 202,
   "metadata": {},
   "outputs": [],
   "source": [
    "# feature_columns = ['team_score',\n",
    "#        'opponent_score', 'opponent_base', 'opponent_trend',\n",
    "#        'opponent_trend_predict', 'opponent_mean', 'location_base',\n",
    "#        'location_trend', 'location_trend_predict', 'location_mean',\n",
    "#        'current_base', 'current_trend', 'current_trend_predict',\n",
    "#        'current_mean', 'batsman_mean', 'batsman_max', 'bowler_mean',\n",
    "#        'bowler_max']\n",
    "\n",
    "feature_columns = [\n",
    "        'location_mean',  'run_rate', 'average_score', 'opponent_variability','wickets_per_run', ]\n",
    "       \n",
    "\n",
    "\n",
    "target_column = ['runs_scored']"
   ]
  },
  {
   "cell_type": "code",
   "execution_count": 203,
   "metadata": {},
   "outputs": [],
   "source": [
    "feature_df_train = total_df[total_df['is_train']==True]\n",
    "feature_df_test = total_df[total_df['is_train']==False]"
   ]
  },
  {
   "cell_type": "code",
   "execution_count": 204,
   "metadata": {},
   "outputs": [
    {
     "data": {
      "text/plain": [
       "location_mean           float64\n",
       "run_rate                float64\n",
       "average_score           float64\n",
       "opponent_variability    float64\n",
       "wickets_per_run         float64\n",
       "dtype: object"
      ]
     },
     "execution_count": 204,
     "metadata": {},
     "output_type": "execute_result"
    }
   ],
   "source": [
    "feature_df_train[feature_columns].dtypes"
   ]
  },
  {
   "cell_type": "code",
   "execution_count": 205,
   "metadata": {},
   "outputs": [
    {
     "data": {
      "text/plain": [
       "match_id                                     int64\n",
       "match_date                          datetime64[ns]\n",
       "team                                        object\n",
       "opponent                                    object\n",
       "location                                    object\n",
       "runs_scored                                  int64\n",
       "opponent_base                              float64\n",
       "opponent_trend                             float64\n",
       "opponent_trend_predict                     float64\n",
       "opponent_mean                              float64\n",
       "location_base                              float64\n",
       "location_trend                             float64\n",
       "location_trend_predict                     float64\n",
       "location_mean                              float64\n",
       "current_base                               float64\n",
       "current_trend                              float64\n",
       "current_trend_predict                      float64\n",
       "current_mean                               float64\n",
       "is_train                                      bool\n",
       "noise                                         bool\n",
       "country                                     object\n",
       "win_ratio                                  float64\n",
       "effective_win_by_runs                        int64\n",
       "effective_win_by_wickets                     int64\n",
       "matches_played                               int64\n",
       "win_count                                    int64\n",
       "country_opp                                 object\n",
       "win_ratio_opp                              float64\n",
       "effective_win_by_runs_opp                    int64\n",
       "effective_win_by_wickets_opp                 int64\n",
       "matches_played_opp                           int64\n",
       "win_count_opp                                int64\n",
       "total_runs                                 float64\n",
       "run_rate                                   float64\n",
       "average_score                              float64\n",
       "opponent_variability                       float64\n",
       "player_of_the_match                        float64\n",
       "winning_contribution                       float64\n",
       "run_rate_effectiveness                     float64\n",
       "negative_rate                              float64\n",
       "no_of_wickets                              float64\n",
       "wickets_per_match                          float64\n",
       "wickets_per_run                            float64\n",
       "no_of_wins                                 float64\n",
       "opponent_variability_bow                   float64\n",
       "winning_contribution_bow                   float64\n",
       "winning_wicket_rate_contribution           float64\n",
       "dtype: object"
      ]
     },
     "execution_count": 205,
     "metadata": {},
     "output_type": "execute_result"
    }
   ],
   "source": [
    "feature_df_train.dtypes"
   ]
  },
  {
   "cell_type": "code",
   "execution_count": 206,
   "metadata": {},
   "outputs": [],
   "source": [
    "scaler = StandardScaler()\n",
    "y_scaler = StandardScaler()\n",
    "x_train = scaler.fit_transform(feature_df_train[feature_columns])\n",
    "y_train = feature_df_train[target_column]\n",
    "y_train_sc = y_scaler.fit_transform(feature_df_train[target_column])\n",
    "\n",
    "x_test = scaler.transform(feature_df_test[feature_columns])\n",
    "y_test = feature_df_test[target_column]\n",
    "y_test_sc = y_scaler.transform(feature_df_test[target_column])\n",
    "\n",
    "\n",
    "\n",
    "\n",
    "# x_train = np.array(feature_df_train[feature_columns])\n",
    "# y_train = np.array(feature_df_train[target_column])\n",
    "\n",
    "# x_test = np.array(feature_df_test[feature_columns])\n",
    "# y_test = np.array(feature_df_test[target_column])\n",
    "\n",
    "\n"
   ]
  },
  {
   "cell_type": "code",
   "execution_count": 207,
   "metadata": {},
   "outputs": [
    {
     "data": {
      "text/plain": [
       "LinearRegression()"
      ]
     },
     "execution_count": 207,
     "metadata": {},
     "output_type": "execute_result"
    }
   ],
   "source": [
    "lr = LinearRegression()\n",
    "lr.fit(x_train,y_train)"
   ]
  },
  {
   "cell_type": "code",
   "execution_count": 208,
   "metadata": {},
   "outputs": [],
   "source": [
    "y_train_predict = lr.predict(x_train)\n",
    "y_test_predict = lr.predict(x_test)"
   ]
  },
  {
   "cell_type": "code",
   "execution_count": 209,
   "metadata": {},
   "outputs": [
    {
     "data": {
      "text/plain": [
       "47.419301645403884"
      ]
     },
     "execution_count": 209,
     "metadata": {},
     "output_type": "execute_result"
    }
   ],
   "source": [
    "mean_absolute_error(y_train,y_train_predict)"
   ]
  },
  {
   "cell_type": "code",
   "execution_count": 210,
   "metadata": {},
   "outputs": [
    {
     "data": {
      "text/plain": [
       "48.44396220648048"
      ]
     },
     "execution_count": 210,
     "metadata": {},
     "output_type": "execute_result"
    }
   ],
   "source": [
    "mean_absolute_error(y_test,y_test_predict)"
   ]
  },
  {
   "cell_type": "code",
   "execution_count": 211,
   "metadata": {},
   "outputs": [
    {
     "data": {
      "text/plain": [
       "23.113251645975332"
      ]
     },
     "execution_count": 211,
     "metadata": {},
     "output_type": "execute_result"
    }
   ],
   "source": [
    "mape(np.array(y_train),np.array(y_train_predict))"
   ]
  },
  {
   "cell_type": "code",
   "execution_count": 212,
   "metadata": {},
   "outputs": [
    {
     "data": {
      "text/plain": [
       "24.60888150275529"
      ]
     },
     "execution_count": 212,
     "metadata": {},
     "output_type": "execute_result"
    }
   ],
   "source": [
    "mape(np.array(y_test),np.array(y_test_predict))"
   ]
  },
  {
   "cell_type": "code",
   "execution_count": 213,
   "metadata": {},
   "outputs": [
    {
     "data": {
      "text/html": [
       "<div>\n",
       "<style scoped>\n",
       "    .dataframe tbody tr th:only-of-type {\n",
       "        vertical-align: middle;\n",
       "    }\n",
       "\n",
       "    .dataframe tbody tr th {\n",
       "        vertical-align: top;\n",
       "    }\n",
       "\n",
       "    .dataframe thead th {\n",
       "        text-align: right;\n",
       "    }\n",
       "</style>\n",
       "<table border=\"1\" class=\"dataframe\">\n",
       "  <thead>\n",
       "    <tr style=\"text-align: right;\">\n",
       "      <th></th>\n",
       "      <th>runs_scored</th>\n",
       "    </tr>\n",
       "  </thead>\n",
       "  <tbody>\n",
       "    <tr>\n",
       "      <th>933</th>\n",
       "      <td>371</td>\n",
       "    </tr>\n",
       "    <tr>\n",
       "      <th>934</th>\n",
       "      <td>319</td>\n",
       "    </tr>\n",
       "    <tr>\n",
       "      <th>935</th>\n",
       "      <td>364</td>\n",
       "    </tr>\n",
       "    <tr>\n",
       "      <th>936</th>\n",
       "      <td>288</td>\n",
       "    </tr>\n",
       "    <tr>\n",
       "      <th>937</th>\n",
       "      <td>298</td>\n",
       "    </tr>\n",
       "    <tr>\n",
       "      <th>...</th>\n",
       "      <td>...</td>\n",
       "    </tr>\n",
       "    <tr>\n",
       "      <th>1120</th>\n",
       "      <td>294</td>\n",
       "    </tr>\n",
       "    <tr>\n",
       "      <th>1121</th>\n",
       "      <td>231</td>\n",
       "    </tr>\n",
       "    <tr>\n",
       "      <th>1122</th>\n",
       "      <td>302</td>\n",
       "    </tr>\n",
       "    <tr>\n",
       "      <th>1127</th>\n",
       "      <td>374</td>\n",
       "    </tr>\n",
       "    <tr>\n",
       "      <th>1128</th>\n",
       "      <td>389</td>\n",
       "    </tr>\n",
       "  </tbody>\n",
       "</table>\n",
       "<p>177 rows × 1 columns</p>\n",
       "</div>"
      ],
      "text/plain": [
       "      runs_scored\n",
       "933           371\n",
       "934           319\n",
       "935           364\n",
       "936           288\n",
       "937           298\n",
       "...           ...\n",
       "1120          294\n",
       "1121          231\n",
       "1122          302\n",
       "1127          374\n",
       "1128          389\n",
       "\n",
       "[177 rows x 1 columns]"
      ]
     },
     "execution_count": 213,
     "metadata": {},
     "output_type": "execute_result"
    }
   ],
   "source": [
    "y_test"
   ]
  },
  {
   "cell_type": "code",
   "execution_count": 214,
   "metadata": {},
   "outputs": [],
   "source": [
    "compare_df = pd.DataFrame()\n",
    "compare_df['actual']=y_test['runs_scored']\n",
    "compare_df['predicted']=y_test_predict.reshape(-1)"
   ]
  },
  {
   "cell_type": "code",
   "execution_count": 215,
   "metadata": {},
   "outputs": [],
   "source": [
    "compare_df['percentage_error']=abs(compare_df['actual']-compare_df['predicted'])/compare_df['actual']"
   ]
  },
  {
   "cell_type": "code",
   "execution_count": 216,
   "metadata": {},
   "outputs": [
    {
     "data": {
      "text/html": [
       "<div>\n",
       "<style scoped>\n",
       "    .dataframe tbody tr th:only-of-type {\n",
       "        vertical-align: middle;\n",
       "    }\n",
       "\n",
       "    .dataframe tbody tr th {\n",
       "        vertical-align: top;\n",
       "    }\n",
       "\n",
       "    .dataframe thead th {\n",
       "        text-align: right;\n",
       "    }\n",
       "</style>\n",
       "<table border=\"1\" class=\"dataframe\">\n",
       "  <thead>\n",
       "    <tr style=\"text-align: right;\">\n",
       "      <th></th>\n",
       "      <th>actual</th>\n",
       "      <th>predicted</th>\n",
       "      <th>percentage_error</th>\n",
       "    </tr>\n",
       "  </thead>\n",
       "  <tbody>\n",
       "    <tr>\n",
       "      <th>933</th>\n",
       "      <td>371</td>\n",
       "      <td>256.740564</td>\n",
       "      <td>0.307977</td>\n",
       "    </tr>\n",
       "    <tr>\n",
       "      <th>934</th>\n",
       "      <td>319</td>\n",
       "      <td>311.114548</td>\n",
       "      <td>0.024719</td>\n",
       "    </tr>\n",
       "    <tr>\n",
       "      <th>935</th>\n",
       "      <td>364</td>\n",
       "      <td>307.254305</td>\n",
       "      <td>0.155895</td>\n",
       "    </tr>\n",
       "    <tr>\n",
       "      <th>936</th>\n",
       "      <td>288</td>\n",
       "      <td>270.262069</td>\n",
       "      <td>0.061590</td>\n",
       "    </tr>\n",
       "    <tr>\n",
       "      <th>937</th>\n",
       "      <td>298</td>\n",
       "      <td>284.722651</td>\n",
       "      <td>0.044555</td>\n",
       "    </tr>\n",
       "    <tr>\n",
       "      <th>...</th>\n",
       "      <td>...</td>\n",
       "      <td>...</td>\n",
       "      <td>...</td>\n",
       "    </tr>\n",
       "    <tr>\n",
       "      <th>1120</th>\n",
       "      <td>294</td>\n",
       "      <td>247.444750</td>\n",
       "      <td>0.158351</td>\n",
       "    </tr>\n",
       "    <tr>\n",
       "      <th>1121</th>\n",
       "      <td>231</td>\n",
       "      <td>260.704778</td>\n",
       "      <td>0.128592</td>\n",
       "    </tr>\n",
       "    <tr>\n",
       "      <th>1122</th>\n",
       "      <td>302</td>\n",
       "      <td>259.099443</td>\n",
       "      <td>0.142055</td>\n",
       "    </tr>\n",
       "    <tr>\n",
       "      <th>1127</th>\n",
       "      <td>374</td>\n",
       "      <td>289.810637</td>\n",
       "      <td>0.225105</td>\n",
       "    </tr>\n",
       "    <tr>\n",
       "      <th>1128</th>\n",
       "      <td>389</td>\n",
       "      <td>302.642273</td>\n",
       "      <td>0.221999</td>\n",
       "    </tr>\n",
       "  </tbody>\n",
       "</table>\n",
       "<p>177 rows × 3 columns</p>\n",
       "</div>"
      ],
      "text/plain": [
       "      actual   predicted  percentage_error\n",
       "933      371  256.740564          0.307977\n",
       "934      319  311.114548          0.024719\n",
       "935      364  307.254305          0.155895\n",
       "936      288  270.262069          0.061590\n",
       "937      298  284.722651          0.044555\n",
       "...      ...         ...               ...\n",
       "1120     294  247.444750          0.158351\n",
       "1121     231  260.704778          0.128592\n",
       "1122     302  259.099443          0.142055\n",
       "1127     374  289.810637          0.225105\n",
       "1128     389  302.642273          0.221999\n",
       "\n",
       "[177 rows x 3 columns]"
      ]
     },
     "execution_count": 216,
     "metadata": {},
     "output_type": "execute_result"
    }
   ],
   "source": [
    "compare_df"
   ]
  },
  {
   "cell_type": "code",
   "execution_count": 162,
   "metadata": {},
   "outputs": [],
   "source": [
    "compare_df['is_less']=compare_df['actual']>compare_df['predicted']"
   ]
  },
  {
   "cell_type": "code",
   "execution_count": 163,
   "metadata": {},
   "outputs": [
    {
     "data": {
      "text/plain": [
       "((94, 4), (177, 4))"
      ]
     },
     "execution_count": 163,
     "metadata": {},
     "output_type": "execute_result"
    }
   ],
   "source": [
    "compare_df[compare_df['is_less']==True].shape,compare_df.shape"
   ]
  },
  {
   "cell_type": "code",
   "execution_count": 164,
   "metadata": {},
   "outputs": [],
   "source": [
    "result_df =pd.concat([feature_df_test,compare_df],axis=1)"
   ]
  },
  {
   "cell_type": "code",
   "execution_count": 165,
   "metadata": {},
   "outputs": [
    {
     "data": {
      "text/html": [
       "<div>\n",
       "<style scoped>\n",
       "    .dataframe tbody tr th:only-of-type {\n",
       "        vertical-align: middle;\n",
       "    }\n",
       "\n",
       "    .dataframe tbody tr th {\n",
       "        vertical-align: top;\n",
       "    }\n",
       "\n",
       "    .dataframe thead th {\n",
       "        text-align: right;\n",
       "    }\n",
       "</style>\n",
       "<table border=\"1\" class=\"dataframe\">\n",
       "  <thead>\n",
       "    <tr style=\"text-align: right;\">\n",
       "      <th></th>\n",
       "      <th>match_id</th>\n",
       "      <th>match_date</th>\n",
       "      <th>team</th>\n",
       "      <th>opponent</th>\n",
       "      <th>location</th>\n",
       "      <th>runs_scored</th>\n",
       "      <th>opponent_base</th>\n",
       "      <th>opponent_trend</th>\n",
       "      <th>opponent_trend_predict</th>\n",
       "      <th>opponent_mean</th>\n",
       "      <th>...</th>\n",
       "      <th>wickets_per_match</th>\n",
       "      <th>wickets_per_run</th>\n",
       "      <th>no_of_wins</th>\n",
       "      <th>opponent_variability_bow</th>\n",
       "      <th>winning_contribution_bow</th>\n",
       "      <th>winning_wicket_rate_contribution</th>\n",
       "      <th>actual</th>\n",
       "      <th>predicted</th>\n",
       "      <th>percentage_error</th>\n",
       "      <th>is_less</th>\n",
       "    </tr>\n",
       "  </thead>\n",
       "  <tbody>\n",
       "    <tr>\n",
       "      <th>934</th>\n",
       "      <td>1153841</td>\n",
       "      <td>2019-01-05</td>\n",
       "      <td>New Zealand</td>\n",
       "      <td>Sri Lanka</td>\n",
       "      <td>Mount Maunganui</td>\n",
       "      <td>319</td>\n",
       "      <td>283.7</td>\n",
       "      <td>9.1</td>\n",
       "      <td>338.3</td>\n",
       "      <td>311.00</td>\n",
       "      <td>...</td>\n",
       "      <td>1.750000</td>\n",
       "      <td>0.040660</td>\n",
       "      <td>1.75</td>\n",
       "      <td>3.50</td>\n",
       "      <td>0.047297</td>\n",
       "      <td>0.284091</td>\n",
       "      <td>319</td>\n",
       "      <td>317.129601</td>\n",
       "      <td>0.005863</td>\n",
       "      <td>True</td>\n",
       "    </tr>\n",
       "    <tr>\n",
       "      <th>935</th>\n",
       "      <td>1153842</td>\n",
       "      <td>2019-01-08</td>\n",
       "      <td>New Zealand</td>\n",
       "      <td>Sri Lanka</td>\n",
       "      <td>Nelson</td>\n",
       "      <td>364</td>\n",
       "      <td>258.5</td>\n",
       "      <td>16.7</td>\n",
       "      <td>358.7</td>\n",
       "      <td>308.60</td>\n",
       "      <td>...</td>\n",
       "      <td>1.645833</td>\n",
       "      <td>0.041207</td>\n",
       "      <td>2.25</td>\n",
       "      <td>3.50</td>\n",
       "      <td>0.060811</td>\n",
       "      <td>0.269886</td>\n",
       "      <td>364</td>\n",
       "      <td>315.083618</td>\n",
       "      <td>0.134386</td>\n",
       "      <td>True</td>\n",
       "    </tr>\n",
       "    <tr>\n",
       "      <th>936</th>\n",
       "      <td>1144997</td>\n",
       "      <td>2019-01-12</td>\n",
       "      <td>Australia</td>\n",
       "      <td>India</td>\n",
       "      <td>Sydney</td>\n",
       "      <td>288</td>\n",
       "      <td>259.1</td>\n",
       "      <td>6.1</td>\n",
       "      <td>295.7</td>\n",
       "      <td>277.40</td>\n",
       "      <td>...</td>\n",
       "      <td>1.763622</td>\n",
       "      <td>0.042136</td>\n",
       "      <td>8.50</td>\n",
       "      <td>4.25</td>\n",
       "      <td>0.070675</td>\n",
       "      <td>0.210978</td>\n",
       "      <td>288</td>\n",
       "      <td>252.042947</td>\n",
       "      <td>0.124851</td>\n",
       "      <td>True</td>\n",
       "    </tr>\n",
       "    <tr>\n",
       "      <th>937</th>\n",
       "      <td>1144998</td>\n",
       "      <td>2019-01-15</td>\n",
       "      <td>Australia</td>\n",
       "      <td>India</td>\n",
       "      <td>Adelaide</td>\n",
       "      <td>298</td>\n",
       "      <td>305.9</td>\n",
       "      <td>-5.7</td>\n",
       "      <td>271.7</td>\n",
       "      <td>288.80</td>\n",
       "      <td>...</td>\n",
       "      <td>1.763622</td>\n",
       "      <td>0.036870</td>\n",
       "      <td>7.75</td>\n",
       "      <td>4.00</td>\n",
       "      <td>0.063291</td>\n",
       "      <td>0.204360</td>\n",
       "      <td>298</td>\n",
       "      <td>265.592598</td>\n",
       "      <td>0.108750</td>\n",
       "      <td>True</td>\n",
       "    </tr>\n",
       "    <tr>\n",
       "      <th>938</th>\n",
       "      <td>1144999</td>\n",
       "      <td>2019-01-18</td>\n",
       "      <td>Australia</td>\n",
       "      <td>India</td>\n",
       "      <td>Melbourne</td>\n",
       "      <td>230</td>\n",
       "      <td>297.6</td>\n",
       "      <td>-2.6</td>\n",
       "      <td>282.0</td>\n",
       "      <td>289.80</td>\n",
       "      <td>...</td>\n",
       "      <td>1.328205</td>\n",
       "      <td>0.035812</td>\n",
       "      <td>8.75</td>\n",
       "      <td>4.75</td>\n",
       "      <td>0.058371</td>\n",
       "      <td>0.168256</td>\n",
       "      <td>230</td>\n",
       "      <td>249.790758</td>\n",
       "      <td>0.086047</td>\n",
       "      <td>False</td>\n",
       "    </tr>\n",
       "    <tr>\n",
       "      <th>...</th>\n",
       "      <td>...</td>\n",
       "      <td>...</td>\n",
       "      <td>...</td>\n",
       "      <td>...</td>\n",
       "      <td>...</td>\n",
       "      <td>...</td>\n",
       "      <td>...</td>\n",
       "      <td>...</td>\n",
       "      <td>...</td>\n",
       "      <td>...</td>\n",
       "      <td>...</td>\n",
       "      <td>...</td>\n",
       "      <td>...</td>\n",
       "      <td>...</td>\n",
       "      <td>...</td>\n",
       "      <td>...</td>\n",
       "      <td>...</td>\n",
       "      <td>...</td>\n",
       "      <td>...</td>\n",
       "      <td>...</td>\n",
       "      <td>...</td>\n",
       "    </tr>\n",
       "    <tr>\n",
       "      <th>1106</th>\n",
       "      <td>1187684</td>\n",
       "      <td>2020-02-11</td>\n",
       "      <td>India</td>\n",
       "      <td>New Zealand</td>\n",
       "      <td>Mount Maunganui</td>\n",
       "      <td>296</td>\n",
       "      <td>171.0</td>\n",
       "      <td>20.6</td>\n",
       "      <td>294.6</td>\n",
       "      <td>232.80</td>\n",
       "      <td>...</td>\n",
       "      <td>1.564015</td>\n",
       "      <td>0.036011</td>\n",
       "      <td>6.25</td>\n",
       "      <td>6.75</td>\n",
       "      <td>0.063953</td>\n",
       "      <td>0.269830</td>\n",
       "      <td>296</td>\n",
       "      <td>297.499837</td>\n",
       "      <td>0.005067</td>\n",
       "      <td>False</td>\n",
       "    </tr>\n",
       "    <tr>\n",
       "      <th>1108</th>\n",
       "      <td>1213871</td>\n",
       "      <td>2020-02-22</td>\n",
       "      <td>West Indies</td>\n",
       "      <td>Sri Lanka</td>\n",
       "      <td>Colombo</td>\n",
       "      <td>289</td>\n",
       "      <td>161.0</td>\n",
       "      <td>18.3</td>\n",
       "      <td>252.5</td>\n",
       "      <td>206.75</td>\n",
       "      <td>...</td>\n",
       "      <td>1.188889</td>\n",
       "      <td>0.025742</td>\n",
       "      <td>2.75</td>\n",
       "      <td>5.00</td>\n",
       "      <td>0.061728</td>\n",
       "      <td>0.201684</td>\n",
       "      <td>289</td>\n",
       "      <td>271.839098</td>\n",
       "      <td>0.059380</td>\n",
       "      <td>True</td>\n",
       "    </tr>\n",
       "    <tr>\n",
       "      <th>1114</th>\n",
       "      <td>1185320</td>\n",
       "      <td>2020-03-04</td>\n",
       "      <td>Australia</td>\n",
       "      <td>South Africa</td>\n",
       "      <td>Bloemfontein</td>\n",
       "      <td>271</td>\n",
       "      <td>209.8</td>\n",
       "      <td>2.0</td>\n",
       "      <td>221.8</td>\n",
       "      <td>215.80</td>\n",
       "      <td>...</td>\n",
       "      <td>1.641369</td>\n",
       "      <td>0.037996</td>\n",
       "      <td>2.50</td>\n",
       "      <td>3.75</td>\n",
       "      <td>0.032362</td>\n",
       "      <td>0.179275</td>\n",
       "      <td>271</td>\n",
       "      <td>282.492827</td>\n",
       "      <td>0.042409</td>\n",
       "      <td>False</td>\n",
       "    </tr>\n",
       "    <tr>\n",
       "      <th>1116</th>\n",
       "      <td>1183537</td>\n",
       "      <td>2020-03-13</td>\n",
       "      <td>Australia</td>\n",
       "      <td>New Zealand</td>\n",
       "      <td>Sydney</td>\n",
       "      <td>258</td>\n",
       "      <td>275.0</td>\n",
       "      <td>-7.0</td>\n",
       "      <td>233.0</td>\n",
       "      <td>254.00</td>\n",
       "      <td>...</td>\n",
       "      <td>1.577904</td>\n",
       "      <td>0.038528</td>\n",
       "      <td>6.75</td>\n",
       "      <td>8.25</td>\n",
       "      <td>0.087209</td>\n",
       "      <td>0.192965</td>\n",
       "      <td>258</td>\n",
       "      <td>288.862083</td>\n",
       "      <td>0.119620</td>\n",
       "      <td>False</td>\n",
       "    </tr>\n",
       "    <tr>\n",
       "      <th>1121</th>\n",
       "      <td>1198239</td>\n",
       "      <td>2020-09-13</td>\n",
       "      <td>England</td>\n",
       "      <td>Australia</td>\n",
       "      <td>Manchester</td>\n",
       "      <td>231</td>\n",
       "      <td>369.9</td>\n",
       "      <td>-24.9</td>\n",
       "      <td>220.5</td>\n",
       "      <td>295.20</td>\n",
       "      <td>...</td>\n",
       "      <td>1.458929</td>\n",
       "      <td>0.029365</td>\n",
       "      <td>2.75</td>\n",
       "      <td>4.00</td>\n",
       "      <td>0.061798</td>\n",
       "      <td>0.218750</td>\n",
       "      <td>231</td>\n",
       "      <td>254.108046</td>\n",
       "      <td>0.100035</td>\n",
       "      <td>False</td>\n",
       "    </tr>\n",
       "  </tbody>\n",
       "</table>\n",
       "<p>85 rows × 51 columns</p>\n",
       "</div>"
      ],
      "text/plain": [
       "      match_id match_date         team      opponent         location  \\\n",
       "934    1153841 2019-01-05  New Zealand     Sri Lanka  Mount Maunganui   \n",
       "935    1153842 2019-01-08  New Zealand     Sri Lanka           Nelson   \n",
       "936    1144997 2019-01-12    Australia         India           Sydney   \n",
       "937    1144998 2019-01-15    Australia         India         Adelaide   \n",
       "938    1144999 2019-01-18    Australia         India        Melbourne   \n",
       "...        ...        ...          ...           ...              ...   \n",
       "1106   1187684 2020-02-11        India   New Zealand  Mount Maunganui   \n",
       "1108   1213871 2020-02-22  West Indies     Sri Lanka          Colombo   \n",
       "1114   1185320 2020-03-04    Australia  South Africa     Bloemfontein   \n",
       "1116   1183537 2020-03-13    Australia   New Zealand           Sydney   \n",
       "1121   1198239 2020-09-13      England     Australia       Manchester   \n",
       "\n",
       "      runs_scored  opponent_base  opponent_trend  opponent_trend_predict  \\\n",
       "934           319          283.7             9.1                   338.3   \n",
       "935           364          258.5            16.7                   358.7   \n",
       "936           288          259.1             6.1                   295.7   \n",
       "937           298          305.9            -5.7                   271.7   \n",
       "938           230          297.6            -2.6                   282.0   \n",
       "...           ...            ...             ...                     ...   \n",
       "1106          296          171.0            20.6                   294.6   \n",
       "1108          289          161.0            18.3                   252.5   \n",
       "1114          271          209.8             2.0                   221.8   \n",
       "1116          258          275.0            -7.0                   233.0   \n",
       "1121          231          369.9           -24.9                   220.5   \n",
       "\n",
       "      opponent_mean  ...  wickets_per_match  wickets_per_run  no_of_wins  \\\n",
       "934          311.00  ...           1.750000         0.040660        1.75   \n",
       "935          308.60  ...           1.645833         0.041207        2.25   \n",
       "936          277.40  ...           1.763622         0.042136        8.50   \n",
       "937          288.80  ...           1.763622         0.036870        7.75   \n",
       "938          289.80  ...           1.328205         0.035812        8.75   \n",
       "...             ...  ...                ...              ...         ...   \n",
       "1106         232.80  ...           1.564015         0.036011        6.25   \n",
       "1108         206.75  ...           1.188889         0.025742        2.75   \n",
       "1114         215.80  ...           1.641369         0.037996        2.50   \n",
       "1116         254.00  ...           1.577904         0.038528        6.75   \n",
       "1121         295.20  ...           1.458929         0.029365        2.75   \n",
       "\n",
       "      opponent_variability_bow  winning_contribution_bow  \\\n",
       "934                       3.50                  0.047297   \n",
       "935                       3.50                  0.060811   \n",
       "936                       4.25                  0.070675   \n",
       "937                       4.00                  0.063291   \n",
       "938                       4.75                  0.058371   \n",
       "...                        ...                       ...   \n",
       "1106                      6.75                  0.063953   \n",
       "1108                      5.00                  0.061728   \n",
       "1114                      3.75                  0.032362   \n",
       "1116                      8.25                  0.087209   \n",
       "1121                      4.00                  0.061798   \n",
       "\n",
       "      winning_wicket_rate_contribution  actual   predicted  percentage_error  \\\n",
       "934                           0.284091     319  317.129601          0.005863   \n",
       "935                           0.269886     364  315.083618          0.134386   \n",
       "936                           0.210978     288  252.042947          0.124851   \n",
       "937                           0.204360     298  265.592598          0.108750   \n",
       "938                           0.168256     230  249.790758          0.086047   \n",
       "...                                ...     ...         ...               ...   \n",
       "1106                          0.269830     296  297.499837          0.005067   \n",
       "1108                          0.201684     289  271.839098          0.059380   \n",
       "1114                          0.179275     271  282.492827          0.042409   \n",
       "1116                          0.192965     258  288.862083          0.119620   \n",
       "1121                          0.218750     231  254.108046          0.100035   \n",
       "\n",
       "      is_less  \n",
       "934      True  \n",
       "935      True  \n",
       "936      True  \n",
       "937      True  \n",
       "938     False  \n",
       "...       ...  \n",
       "1106    False  \n",
       "1108     True  \n",
       "1114    False  \n",
       "1116    False  \n",
       "1121    False  \n",
       "\n",
       "[85 rows x 51 columns]"
      ]
     },
     "execution_count": 165,
     "metadata": {},
     "output_type": "execute_result"
    }
   ],
   "source": [
    "result_df[result_df['percentage_error']<0.15]"
   ]
  },
  {
   "cell_type": "code",
   "execution_count": 166,
   "metadata": {},
   "outputs": [
    {
     "name": "stdout",
     "output_type": "stream",
     "text": [
      "New Zealand 20.309070047909724\n",
      "Australia 11.439872313526184\n",
      "South Africa 39.08748193024697\n",
      "Pakistan 30.378321860407237\n",
      "India 29.98145334528683\n",
      "United Arab Emirates 12.984281548121638\n",
      "West Indies 14.985897141434686\n",
      "Bangladesh 12.936016012204743\n",
      "Sri Lanka 21.5466637031942\n",
      "England 28.937236019011998\n",
      "Ireland 17.064778044826106\n",
      "Afghanistan 13.892645093395103\n",
      "Zimbabwe 14.8539380902467\n",
      "Scotland 1.9020442328688467\n",
      "Papua New Guinea 14.82377211174067\n",
      "United States of America 114.87245444391336\n",
      "Namibia 18.214530657442467\n",
      "Nepal 16.637484303872025\n",
      "Oman 20.538733333554312\n"
     ]
    }
   ],
   "source": [
    "for country in result_df['team'].unique():\n",
    "    predicted_series=result_df[result_df['team']==country]['predicted']\n",
    "    actual_series=result_df[result_df['team']==country]['actual']\n",
    "\n",
    "    print(country,mape(np.array(actual_series),np.array(predicted_series)))"
   ]
  },
  {
   "cell_type": "code",
   "execution_count": 167,
   "metadata": {},
   "outputs": [
    {
     "name": "stdout",
     "output_type": "stream",
     "text": [
      "New Zealand 76.28031013496022\n",
      "Australia 45.05123578941921\n",
      "South Africa 68.80186748698736\n",
      "Pakistan 77.5970855915845\n",
      "India 80.57913730253665\n",
      "United Arab Emirates 35.2514775104061\n",
      "West Indies 61.15109192774929\n",
      "Bangladesh 44.75468850139774\n",
      "Sri Lanka 70.44011303092525\n",
      "England 85.17195217856931\n",
      "Ireland 56.2200714031157\n",
      "Afghanistan 38.82009788756334\n",
      "Zimbabwe 45.254833995939045\n",
      "Scotland 13.435028842544403\n",
      "Papua New Guinea 9.192388155425117\n",
      "United States of America 95.14620328736193\n",
      "Namibia 45.254833995939045\n",
      "Nepal nan\n",
      "Oman nan\n"
     ]
    }
   ],
   "source": [
    "for country in result_df['team'].unique():\n",
    "    std = result_df[result_df['team']==country]['actual'].std()\n",
    "    print(country,std)"
   ]
  },
  {
   "cell_type": "markdown",
   "metadata": {},
   "source": [
    "# lasso"
   ]
  },
  {
   "cell_type": "code",
   "execution_count": 168,
   "metadata": {},
   "outputs": [],
   "source": [
    "from sklearn import linear_model"
   ]
  },
  {
   "cell_type": "code",
   "execution_count": 169,
   "metadata": {},
   "outputs": [
    {
     "data": {
      "text/plain": [
       "Lasso(alpha=0.3)"
      ]
     },
     "execution_count": 169,
     "metadata": {},
     "output_type": "execute_result"
    }
   ],
   "source": [
    "las = linear_model.Lasso(alpha=0.3)\n",
    "las.fit(x_train,y_train_sc)"
   ]
  },
  {
   "cell_type": "code",
   "execution_count": 170,
   "metadata": {},
   "outputs": [],
   "source": [
    "y_test_predict_ls = las.predict(x_test)\n",
    "y_train_predict_ls = las.predict(x_train)"
   ]
  },
  {
   "cell_type": "code",
   "execution_count": 171,
   "metadata": {},
   "outputs": [
    {
     "data": {
      "text/plain": [
       "4.604486422668232"
      ]
     },
     "execution_count": 171,
     "metadata": {},
     "output_type": "execute_result"
    }
   ],
   "source": [
    "mape(np.array(y_train_sc).reshape(-1),np.array(y_train_predict_ls))"
   ]
  },
  {
   "cell_type": "code",
   "execution_count": 172,
   "metadata": {},
   "outputs": [
    {
     "data": {
      "text/plain": [
       "3.9548022598870056"
      ]
     },
     "execution_count": 172,
     "metadata": {},
     "output_type": "execute_result"
    }
   ],
   "source": [
    "mape(np.array(y_test_sc).reshape(-1),np.array(y_test_predict_ls))"
   ]
  },
  {
   "cell_type": "code",
   "execution_count": 173,
   "metadata": {},
   "outputs": [],
   "source": [
    "y_test_predict_original=y_scaler.inverse_transform(y_test_predict_ls)\n",
    "#y_test_original = feature_df_test[target_column]"
   ]
  },
  {
   "cell_type": "code",
   "execution_count": 174,
   "metadata": {},
   "outputs": [
    {
     "data": {
      "text/plain": [
       "27.818898797291652"
      ]
     },
     "execution_count": 174,
     "metadata": {},
     "output_type": "execute_result"
    }
   ],
   "source": [
    "mape(np.array(y_test).reshape(-1),np.array(y_test_predict_original))"
   ]
  },
  {
   "cell_type": "code",
   "execution_count": 175,
   "metadata": {},
   "outputs": [
    {
     "data": {
      "text/plain": [
       "array([4.19446715e-18, 4.19446715e-18, 4.19446715e-18, 4.19446715e-18,\n",
       "       4.19446715e-18, 4.19446715e-18, 4.19446715e-18, 4.19446715e-18,\n",
       "       4.19446715e-18, 4.19446715e-18, 4.19446715e-18, 4.19446715e-18,\n",
       "       4.19446715e-18, 4.19446715e-18, 4.19446715e-18, 4.19446715e-18,\n",
       "       4.19446715e-18, 4.19446715e-18, 4.19446715e-18, 4.19446715e-18,\n",
       "       4.19446715e-18, 4.19446715e-18, 4.19446715e-18, 4.19446715e-18,\n",
       "       4.19446715e-18, 4.19446715e-18, 4.19446715e-18, 4.19446715e-18,\n",
       "       4.19446715e-18, 4.19446715e-18, 4.19446715e-18, 4.19446715e-18,\n",
       "       4.19446715e-18, 4.19446715e-18, 4.19446715e-18, 4.19446715e-18,\n",
       "       4.19446715e-18, 4.19446715e-18, 4.19446715e-18, 4.19446715e-18,\n",
       "       4.19446715e-18, 4.19446715e-18, 4.19446715e-18, 4.19446715e-18,\n",
       "       4.19446715e-18, 4.19446715e-18, 4.19446715e-18, 4.19446715e-18,\n",
       "       4.19446715e-18, 4.19446715e-18, 4.19446715e-18, 4.19446715e-18,\n",
       "       4.19446715e-18, 4.19446715e-18, 4.19446715e-18, 4.19446715e-18,\n",
       "       4.19446715e-18, 4.19446715e-18, 4.19446715e-18, 4.19446715e-18,\n",
       "       4.19446715e-18, 4.19446715e-18, 4.19446715e-18, 4.19446715e-18,\n",
       "       4.19446715e-18, 4.19446715e-18, 4.19446715e-18, 4.19446715e-18,\n",
       "       4.19446715e-18, 4.19446715e-18, 4.19446715e-18, 4.19446715e-18,\n",
       "       4.19446715e-18, 4.19446715e-18, 4.19446715e-18, 4.19446715e-18,\n",
       "       4.19446715e-18, 4.19446715e-18, 4.19446715e-18, 4.19446715e-18,\n",
       "       4.19446715e-18, 4.19446715e-18, 4.19446715e-18, 4.19446715e-18,\n",
       "       4.19446715e-18, 4.19446715e-18, 4.19446715e-18, 4.19446715e-18,\n",
       "       4.19446715e-18, 4.19446715e-18, 4.19446715e-18, 4.19446715e-18,\n",
       "       4.19446715e-18, 4.19446715e-18, 4.19446715e-18, 4.19446715e-18,\n",
       "       4.19446715e-18, 4.19446715e-18, 4.19446715e-18, 4.19446715e-18,\n",
       "       4.19446715e-18, 4.19446715e-18, 4.19446715e-18, 4.19446715e-18,\n",
       "       4.19446715e-18, 4.19446715e-18, 4.19446715e-18, 4.19446715e-18,\n",
       "       4.19446715e-18, 4.19446715e-18, 4.19446715e-18, 4.19446715e-18,\n",
       "       4.19446715e-18, 4.19446715e-18, 4.19446715e-18, 4.19446715e-18,\n",
       "       4.19446715e-18, 4.19446715e-18, 4.19446715e-18, 4.19446715e-18,\n",
       "       4.19446715e-18, 4.19446715e-18, 4.19446715e-18, 4.19446715e-18,\n",
       "       4.19446715e-18, 4.19446715e-18, 4.19446715e-18, 4.19446715e-18,\n",
       "       4.19446715e-18, 4.19446715e-18, 4.19446715e-18, 4.19446715e-18,\n",
       "       4.19446715e-18, 4.19446715e-18, 4.19446715e-18, 4.19446715e-18,\n",
       "       4.19446715e-18, 4.19446715e-18, 4.19446715e-18, 4.19446715e-18,\n",
       "       4.19446715e-18, 4.19446715e-18, 4.19446715e-18, 4.19446715e-18,\n",
       "       4.19446715e-18, 4.19446715e-18, 4.19446715e-18, 4.19446715e-18,\n",
       "       4.19446715e-18, 4.19446715e-18, 4.19446715e-18, 4.19446715e-18,\n",
       "       4.19446715e-18, 4.19446715e-18, 4.19446715e-18, 4.19446715e-18,\n",
       "       4.19446715e-18, 4.19446715e-18, 4.19446715e-18, 4.19446715e-18,\n",
       "       4.19446715e-18, 4.19446715e-18, 4.19446715e-18, 4.19446715e-18,\n",
       "       4.19446715e-18, 4.19446715e-18, 4.19446715e-18, 4.19446715e-18,\n",
       "       4.19446715e-18, 4.19446715e-18, 4.19446715e-18, 4.19446715e-18,\n",
       "       4.19446715e-18, 4.19446715e-18, 4.19446715e-18, 4.19446715e-18,\n",
       "       4.19446715e-18])"
      ]
     },
     "execution_count": 175,
     "metadata": {},
     "output_type": "execute_result"
    }
   ],
   "source": [
    "y_test_predict_ls"
   ]
  },
  {
   "cell_type": "code",
   "execution_count": 176,
   "metadata": {},
   "outputs": [
    {
     "data": {
      "text/plain": [
       "array([371, 319, 364, 288, 298, 230, 266, 203, 192, 324, 164, 243, 254,\n",
       "       161, 240,  92, 149, 252, 216, 240, 225, 232, 226, 139, 330, 360,\n",
       "       289, 202, 241, 247, 161, 418, 205, 161, 236, 113, 231, 231, 250,\n",
       "       256, 251, 223, 313, 216, 358, 272, 189, 187, 174, 280, 284, 266,\n",
       "       277, 327, 198, 381,  63, 261, 147, 373, 327, 247, 358, 292, 340,\n",
       "       351, 210, 305, 311, 105, 207, 136, 330, 348, 227, 244, 288, 318,\n",
       "       172, 386, 352, 307, 212, 334, 321, 397, 241, 381, 232, 224, 291,\n",
       "       308, 262, 285, 237, 268, 203, 243, 227, 337, 338, 254, 314, 177,\n",
       "       305, 217, 311, 242, 315, 264, 325, 269, 190, 239, 223, 314, 238,\n",
       "       294, 223, 242, 206, 180, 177, 219, 260, 305, 297, 164, 247, 146,\n",
       "       191, 194, 194, 247, 249, 202, 284, 282, 327, 245, 287, 387, 315,\n",
       "       170, 222, 180, 324, 237, 255, 340, 286, 259, 115, 149, 258, 347,\n",
       "       213, 273, 249, 256, 276, 296,  35, 289, 345, 291, 307, 321, 322,\n",
       "       271, 254, 258, 294, 231, 302, 374, 389])"
      ]
     },
     "execution_count": 176,
     "metadata": {},
     "output_type": "execute_result"
    }
   ],
   "source": [
    "np.array(y_test).reshape(-1)"
   ]
  },
  {
   "cell_type": "markdown",
   "metadata": {},
   "source": [
    "# XGBOOST"
   ]
  },
  {
   "cell_type": "code",
   "execution_count": 177,
   "metadata": {},
   "outputs": [],
   "source": [
    "import xgboost as xg"
   ]
  },
  {
   "cell_type": "code",
   "execution_count": 178,
   "metadata": {},
   "outputs": [],
   "source": [
    "train_dmatrix = xg.DMatrix(data = x_train, label = y_train) \n",
    "test_dmatrix = xg.DMatrix(data = x_test, label = y_test) "
   ]
  },
  {
   "cell_type": "code",
   "execution_count": 179,
   "metadata": {},
   "outputs": [],
   "source": [
    "param = {\"booster\":\"gblinear\", \"objective\":\"reg:linear\"} "
   ]
  },
  {
   "cell_type": "code",
   "execution_count": 180,
   "metadata": {},
   "outputs": [
    {
     "name": "stdout",
     "output_type": "stream",
     "text": [
      "[17:10:53] WARNING: /Users/travis/build/dmlc/xgboost/src/objective/regression_obj.cu:174: reg:linear is now deprecated in favor of reg:squarederror.\n",
      "[17:10:53] WARNING: /Users/travis/build/dmlc/xgboost/src/objective/regression_obj.cu:174: reg:linear is now deprecated in favor of reg:squarederror.\n"
     ]
    }
   ],
   "source": [
    "xgb_r = xg.train(params = param, dtrain = train_dmatrix, num_boost_round = 10) \n"
   ]
  },
  {
   "cell_type": "code",
   "execution_count": 184,
   "metadata": {},
   "outputs": [],
   "source": [
    "y_test_predict_xg = xgb_r.predict(test_dmatrix)\n",
    "y_train_predict_xg = xgb_r.predict(train_dmatrix)"
   ]
  },
  {
   "cell_type": "code",
   "execution_count": 185,
   "metadata": {},
   "outputs": [],
   "source": [
    "# y_train_predict_dt = xgb_r.predict(x_train)\n",
    "# y_test_predict_dt = xgb_r.predict(x_test)"
   ]
  },
  {
   "cell_type": "code",
   "execution_count": 186,
   "metadata": {},
   "outputs": [
    {
     "data": {
      "text/plain": [
       "47.379097890045685"
      ]
     },
     "execution_count": 186,
     "metadata": {},
     "output_type": "execute_result"
    }
   ],
   "source": [
    "mean_absolute_error(np.array(y_test),np.array(y_test_predict_xg))"
   ]
  },
  {
   "cell_type": "code",
   "execution_count": 187,
   "metadata": {},
   "outputs": [
    {
     "data": {
      "text/plain": [
       "24.069187019176173"
      ]
     },
     "execution_count": 187,
     "metadata": {},
     "output_type": "execute_result"
    }
   ],
   "source": [
    "mape(np.array(y_test).reshape(-1),y_test_predict_xg)"
   ]
  },
  {
   "cell_type": "code",
   "execution_count": 188,
   "metadata": {},
   "outputs": [
    {
     "data": {
      "text/plain": [
       "22.232527241609365"
      ]
     },
     "execution_count": 188,
     "metadata": {},
     "output_type": "execute_result"
    }
   ],
   "source": [
    "mape(np.array(y_train).reshape(-1),y_train_predict_xg)"
   ]
  },
  {
   "cell_type": "code",
   "execution_count": 189,
   "metadata": {},
   "outputs": [],
   "source": [
    "#y_test_predict_xg"
   ]
  },
  {
   "cell_type": "markdown",
   "metadata": {},
   "source": [
    "# Randomforest"
   ]
  },
  {
   "cell_type": "code",
   "execution_count": 190,
   "metadata": {},
   "outputs": [],
   "source": [
    "from sklearn.ensemble import RandomForestRegressor"
   ]
  },
  {
   "cell_type": "code",
   "execution_count": 191,
   "metadata": {},
   "outputs": [],
   "source": [
    "rf = RandomForestRegressor(max_depth=8,n_estimators=50,criterion='mae')"
   ]
  },
  {
   "cell_type": "code",
   "execution_count": 192,
   "metadata": {},
   "outputs": [
    {
     "name": "stderr",
     "output_type": "stream",
     "text": [
      "<ipython-input-192-895403b03771>:1: DataConversionWarning: A column-vector y was passed when a 1d array was expected. Please change the shape of y to (n_samples,), for example using ravel().\n",
      "  rf.fit(x_train,y_train)\n"
     ]
    },
    {
     "data": {
      "text/plain": [
       "RandomForestRegressor(criterion='mae', max_depth=8, n_estimators=50)"
      ]
     },
     "execution_count": 192,
     "metadata": {},
     "output_type": "execute_result"
    }
   ],
   "source": [
    "rf.fit(x_train,y_train)"
   ]
  },
  {
   "cell_type": "code",
   "execution_count": 193,
   "metadata": {},
   "outputs": [],
   "source": [
    "y_train_predict_rf=rf.predict(x_train)\n",
    "y_test_predict_rf= rf.predict(x_test)"
   ]
  },
  {
   "cell_type": "code",
   "execution_count": 194,
   "metadata": {},
   "outputs": [
    {
     "data": {
      "text/plain": [
       "24.95595654717835"
      ]
     },
     "execution_count": 194,
     "metadata": {},
     "output_type": "execute_result"
    }
   ],
   "source": [
    "mape(np.array(y_test).reshape(-1),y_test_predict_rf)"
   ]
  },
  {
   "cell_type": "code",
   "execution_count": 195,
   "metadata": {},
   "outputs": [
    {
     "data": {
      "text/plain": [
       "15.30899016596822"
      ]
     },
     "execution_count": 195,
     "metadata": {},
     "output_type": "execute_result"
    }
   ],
   "source": [
    "mape(np.array(y_train).reshape(-1),y_train_predict_rf)"
   ]
  },
  {
   "cell_type": "code",
   "execution_count": null,
   "metadata": {},
   "outputs": [],
   "source": []
  },
  {
   "cell_type": "code",
   "execution_count": null,
   "metadata": {},
   "outputs": [],
   "source": []
  },
  {
   "cell_type": "markdown",
   "metadata": {},
   "source": [
    "# statsmodel"
   ]
  },
  {
   "cell_type": "code",
   "execution_count": 196,
   "metadata": {},
   "outputs": [],
   "source": [
    "import statsmodels.api as sm"
   ]
  },
  {
   "cell_type": "code",
   "execution_count": 197,
   "metadata": {},
   "outputs": [],
   "source": [
    "model = sm.OLS(y_train, sm.add_constant(x_train)).fit()"
   ]
  },
  {
   "cell_type": "code",
   "execution_count": 198,
   "metadata": {},
   "outputs": [],
   "source": [
    "y_test_predicted_sm=model.predict(sm.add_constant(x_test))"
   ]
  },
  {
   "cell_type": "code",
   "execution_count": 199,
   "metadata": {},
   "outputs": [
    {
     "data": {
      "text/html": [
       "<table class=\"simpletable\">\n",
       "<caption>OLS Regression Results</caption>\n",
       "<tr>\n",
       "  <th>Dep. Variable:</th>       <td>runs_scored</td>   <th>  R-squared:         </th> <td>   0.177</td>\n",
       "</tr>\n",
       "<tr>\n",
       "  <th>Model:</th>                   <td>OLS</td>       <th>  Adj. R-squared:    </th> <td>   0.150</td>\n",
       "</tr>\n",
       "<tr>\n",
       "  <th>Method:</th>             <td>Least Squares</td>  <th>  F-statistic:       </th> <td>   6.762</td>\n",
       "</tr>\n",
       "<tr>\n",
       "  <th>Date:</th>             <td>Thu, 10 Dec 2020</td> <th>  Prob (F-statistic):</th> <td>1.56e-21</td>\n",
       "</tr>\n",
       "<tr>\n",
       "  <th>Time:</th>                 <td>17:11:28</td>     <th>  Log-Likelihood:    </th> <td> -4653.3</td>\n",
       "</tr>\n",
       "<tr>\n",
       "  <th>No. Observations:</th>      <td>   847</td>      <th>  AIC:               </th> <td>   9361.</td>\n",
       "</tr>\n",
       "<tr>\n",
       "  <th>Df Residuals:</th>          <td>   820</td>      <th>  BIC:               </th> <td>   9489.</td>\n",
       "</tr>\n",
       "<tr>\n",
       "  <th>Df Model:</th>              <td>    26</td>      <th>                     </th>     <td> </td>   \n",
       "</tr>\n",
       "<tr>\n",
       "  <th>Covariance Type:</th>      <td>nonrobust</td>    <th>                     </th>     <td> </td>   \n",
       "</tr>\n",
       "</table>\n",
       "<table class=\"simpletable\">\n",
       "<tr>\n",
       "    <td></td>       <th>coef</th>     <th>std err</th>      <th>t</th>      <th>P>|t|</th>  <th>[0.025</th>    <th>0.975]</th>  \n",
       "</tr>\n",
       "<tr>\n",
       "  <th>const</th> <td>  252.9787</td> <td>    2.055</td> <td>  123.099</td> <td> 0.000</td> <td>  248.945</td> <td>  257.013</td>\n",
       "</tr>\n",
       "<tr>\n",
       "  <th>x1</th>    <td>    6.3890</td> <td>    2.342</td> <td>    2.728</td> <td> 0.007</td> <td>    1.791</td> <td>   10.987</td>\n",
       "</tr>\n",
       "<tr>\n",
       "  <th>x2</th>    <td>   -3.3609</td> <td>    4.907</td> <td>   -0.685</td> <td> 0.494</td> <td>  -12.993</td> <td>    6.271</td>\n",
       "</tr>\n",
       "<tr>\n",
       "  <th>x3</th>    <td>    2.3739</td> <td>    4.264</td> <td>    0.557</td> <td> 0.578</td> <td>   -5.995</td> <td>   10.743</td>\n",
       "</tr>\n",
       "<tr>\n",
       "  <th>x4</th>    <td>   -2.5693</td> <td>    4.658</td> <td>   -0.552</td> <td> 0.581</td> <td>  -11.712</td> <td>    6.574</td>\n",
       "</tr>\n",
       "<tr>\n",
       "  <th>x5</th>    <td>   -6.8558</td> <td>   10.356</td> <td>   -0.662</td> <td> 0.508</td> <td>  -27.182</td> <td>   13.471</td>\n",
       "</tr>\n",
       "<tr>\n",
       "  <th>x6</th>    <td>   15.8630</td> <td>   14.135</td> <td>    1.122</td> <td> 0.262</td> <td>  -11.882</td> <td>   43.608</td>\n",
       "</tr>\n",
       "<tr>\n",
       "  <th>x7</th>    <td>    1.1785</td> <td>    4.802</td> <td>    0.245</td> <td> 0.806</td> <td>   -8.246</td> <td>   10.603</td>\n",
       "</tr>\n",
       "<tr>\n",
       "  <th>x8</th>    <td>   -7.7447</td> <td>    4.174</td> <td>   -1.855</td> <td> 0.064</td> <td>  -15.938</td> <td>    0.449</td>\n",
       "</tr>\n",
       "<tr>\n",
       "  <th>x9</th>    <td>   -4.2768</td> <td>    4.704</td> <td>   -0.909</td> <td> 0.364</td> <td>  -13.510</td> <td>    4.956</td>\n",
       "</tr>\n",
       "<tr>\n",
       "  <th>x10</th>   <td>  -18.5680</td> <td>    9.636</td> <td>   -1.927</td> <td> 0.054</td> <td>  -37.482</td> <td>    0.346</td>\n",
       "</tr>\n",
       "<tr>\n",
       "  <th>x11</th>   <td>   15.0751</td> <td>   14.479</td> <td>    1.041</td> <td> 0.298</td> <td>  -13.345</td> <td>   43.495</td>\n",
       "</tr>\n",
       "<tr>\n",
       "  <th>x12</th>   <td>   10.7572</td> <td>    5.689</td> <td>    1.891</td> <td> 0.059</td> <td>   -0.409</td> <td>   21.923</td>\n",
       "</tr>\n",
       "<tr>\n",
       "  <th>x13</th>   <td>    7.2037</td> <td>    3.280</td> <td>    2.196</td> <td> 0.028</td> <td>    0.765</td> <td>   13.642</td>\n",
       "</tr>\n",
       "<tr>\n",
       "  <th>x14</th>   <td>    6.6175</td> <td>    3.067</td> <td>    2.158</td> <td> 0.031</td> <td>    0.597</td> <td>   12.638</td>\n",
       "</tr>\n",
       "<tr>\n",
       "  <th>x15</th>   <td>   -8.9587</td> <td>    3.566</td> <td>   -2.512</td> <td> 0.012</td> <td>  -15.958</td> <td>   -1.960</td>\n",
       "</tr>\n",
       "<tr>\n",
       "  <th>x16</th>   <td>   -0.7336</td> <td>    4.216</td> <td>   -0.174</td> <td> 0.862</td> <td>   -9.009</td> <td>    7.542</td>\n",
       "</tr>\n",
       "<tr>\n",
       "  <th>x17</th>   <td>   -2.0640</td> <td>    3.824</td> <td>   -0.540</td> <td> 0.590</td> <td>   -9.571</td> <td>    5.443</td>\n",
       "</tr>\n",
       "<tr>\n",
       "  <th>x18</th>   <td>    1.0788</td> <td>    2.778</td> <td>    0.388</td> <td> 0.698</td> <td>   -4.375</td> <td>    6.532</td>\n",
       "</tr>\n",
       "<tr>\n",
       "  <th>x19</th>   <td>  -10.1653</td> <td>    3.196</td> <td>   -3.181</td> <td> 0.002</td> <td>  -16.439</td> <td>   -3.892</td>\n",
       "</tr>\n",
       "<tr>\n",
       "  <th>x20</th>   <td>    9.4236</td> <td>    6.745</td> <td>    1.397</td> <td> 0.163</td> <td>   -3.817</td> <td>   22.664</td>\n",
       "</tr>\n",
       "<tr>\n",
       "  <th>x21</th>   <td>   -8.8142</td> <td>    4.573</td> <td>   -1.927</td> <td> 0.054</td> <td>  -17.791</td> <td>    0.163</td>\n",
       "</tr>\n",
       "<tr>\n",
       "  <th>x22</th>   <td>   11.3541</td> <td>    4.385</td> <td>    2.589</td> <td> 0.010</td> <td>    2.747</td> <td>   19.961</td>\n",
       "</tr>\n",
       "<tr>\n",
       "  <th>x23</th>   <td>  -12.1922</td> <td>    7.261</td> <td>   -1.679</td> <td> 0.094</td> <td>  -26.445</td> <td>    2.060</td>\n",
       "</tr>\n",
       "<tr>\n",
       "  <th>x24</th>   <td>    6.4297</td> <td>    3.438</td> <td>    1.870</td> <td> 0.062</td> <td>   -0.319</td> <td>   13.178</td>\n",
       "</tr>\n",
       "<tr>\n",
       "  <th>x25</th>   <td>    0.8819</td> <td>    4.072</td> <td>    0.217</td> <td> 0.829</td> <td>   -7.111</td> <td>    8.874</td>\n",
       "</tr>\n",
       "<tr>\n",
       "  <th>x26</th>   <td>   -2.1696</td> <td>    2.990</td> <td>   -0.726</td> <td> 0.468</td> <td>   -8.039</td> <td>    3.700</td>\n",
       "</tr>\n",
       "</table>\n",
       "<table class=\"simpletable\">\n",
       "<tr>\n",
       "  <th>Omnibus:</th>       <td>11.004</td> <th>  Durbin-Watson:     </th> <td>   1.840</td>\n",
       "</tr>\n",
       "<tr>\n",
       "  <th>Prob(Omnibus):</th> <td> 0.004</td> <th>  Jarque-Bera (JB):  </th> <td>  12.444</td>\n",
       "</tr>\n",
       "<tr>\n",
       "  <th>Skew:</th>          <td>-0.202</td> <th>  Prob(JB):          </th> <td> 0.00199</td>\n",
       "</tr>\n",
       "<tr>\n",
       "  <th>Kurtosis:</th>      <td> 3.436</td> <th>  Cond. No.          </th> <td>    22.2</td>\n",
       "</tr>\n",
       "</table><br/><br/>Warnings:<br/>[1] Standard Errors assume that the covariance matrix of the errors is correctly specified."
      ],
      "text/plain": [
       "<class 'statsmodels.iolib.summary.Summary'>\n",
       "\"\"\"\n",
       "                            OLS Regression Results                            \n",
       "==============================================================================\n",
       "Dep. Variable:            runs_scored   R-squared:                       0.177\n",
       "Model:                            OLS   Adj. R-squared:                  0.150\n",
       "Method:                 Least Squares   F-statistic:                     6.762\n",
       "Date:                Thu, 10 Dec 2020   Prob (F-statistic):           1.56e-21\n",
       "Time:                        17:11:28   Log-Likelihood:                -4653.3\n",
       "No. Observations:                 847   AIC:                             9361.\n",
       "Df Residuals:                     820   BIC:                             9489.\n",
       "Df Model:                          26                                         \n",
       "Covariance Type:            nonrobust                                         \n",
       "==============================================================================\n",
       "                 coef    std err          t      P>|t|      [0.025      0.975]\n",
       "------------------------------------------------------------------------------\n",
       "const        252.9787      2.055    123.099      0.000     248.945     257.013\n",
       "x1             6.3890      2.342      2.728      0.007       1.791      10.987\n",
       "x2            -3.3609      4.907     -0.685      0.494     -12.993       6.271\n",
       "x3             2.3739      4.264      0.557      0.578      -5.995      10.743\n",
       "x4            -2.5693      4.658     -0.552      0.581     -11.712       6.574\n",
       "x5            -6.8558     10.356     -0.662      0.508     -27.182      13.471\n",
       "x6            15.8630     14.135      1.122      0.262     -11.882      43.608\n",
       "x7             1.1785      4.802      0.245      0.806      -8.246      10.603\n",
       "x8            -7.7447      4.174     -1.855      0.064     -15.938       0.449\n",
       "x9            -4.2768      4.704     -0.909      0.364     -13.510       4.956\n",
       "x10          -18.5680      9.636     -1.927      0.054     -37.482       0.346\n",
       "x11           15.0751     14.479      1.041      0.298     -13.345      43.495\n",
       "x12           10.7572      5.689      1.891      0.059      -0.409      21.923\n",
       "x13            7.2037      3.280      2.196      0.028       0.765      13.642\n",
       "x14            6.6175      3.067      2.158      0.031       0.597      12.638\n",
       "x15           -8.9587      3.566     -2.512      0.012     -15.958      -1.960\n",
       "x16           -0.7336      4.216     -0.174      0.862      -9.009       7.542\n",
       "x17           -2.0640      3.824     -0.540      0.590      -9.571       5.443\n",
       "x18            1.0788      2.778      0.388      0.698      -4.375       6.532\n",
       "x19          -10.1653      3.196     -3.181      0.002     -16.439      -3.892\n",
       "x20            9.4236      6.745      1.397      0.163      -3.817      22.664\n",
       "x21           -8.8142      4.573     -1.927      0.054     -17.791       0.163\n",
       "x22           11.3541      4.385      2.589      0.010       2.747      19.961\n",
       "x23          -12.1922      7.261     -1.679      0.094     -26.445       2.060\n",
       "x24            6.4297      3.438      1.870      0.062      -0.319      13.178\n",
       "x25            0.8819      4.072      0.217      0.829      -7.111       8.874\n",
       "x26           -2.1696      2.990     -0.726      0.468      -8.039       3.700\n",
       "==============================================================================\n",
       "Omnibus:                       11.004   Durbin-Watson:                   1.840\n",
       "Prob(Omnibus):                  0.004   Jarque-Bera (JB):               12.444\n",
       "Skew:                          -0.202   Prob(JB):                      0.00199\n",
       "Kurtosis:                       3.436   Cond. No.                         22.2\n",
       "==============================================================================\n",
       "\n",
       "Warnings:\n",
       "[1] Standard Errors assume that the covariance matrix of the errors is correctly specified.\n",
       "\"\"\""
      ]
     },
     "execution_count": 199,
     "metadata": {},
     "output_type": "execute_result"
    }
   ],
   "source": [
    "model.summary()"
   ]
  },
  {
   "cell_type": "code",
   "execution_count": 200,
   "metadata": {},
   "outputs": [
    {
     "data": {
      "text/plain": [
       "23.998004935171835"
      ]
     },
     "execution_count": 200,
     "metadata": {},
     "output_type": "execute_result"
    }
   ],
   "source": [
    "mape(np.array(y_test).reshape(-1),y_test_predicted_sm)\n"
   ]
  },
  {
   "cell_type": "code",
   "execution_count": 201,
   "metadata": {},
   "outputs": [
    {
     "data": {
      "text/plain": [
       "47.36892179267138"
      ]
     },
     "execution_count": 201,
     "metadata": {},
     "output_type": "execute_result"
    }
   ],
   "source": [
    "mean_absolute_error(np.array(y_test).reshape(-1),y_test_predicted_sm)"
   ]
  },
  {
   "cell_type": "markdown",
   "metadata": {},
   "source": [
    "# with PCA"
   ]
  },
  {
   "cell_type": "code",
   "execution_count": 1154,
   "metadata": {},
   "outputs": [],
   "source": [
    "from sklearn.decomposition import PCA\n",
    "from sklearn.linear_model import LinearRegression"
   ]
  },
  {
   "cell_type": "code",
   "execution_count": 1155,
   "metadata": {},
   "outputs": [],
   "source": [
    "pca_scaler = StandardScaler()"
   ]
  },
  {
   "cell_type": "code",
   "execution_count": 1156,
   "metadata": {},
   "outputs": [],
   "source": [
    "pca = PCA(n_components=2)"
   ]
  },
  {
   "cell_type": "code",
   "execution_count": 1157,
   "metadata": {},
   "outputs": [],
   "source": [
    "x_train_pca=pca.fit_transform(pca_scaler.fit_transform(x_train))"
   ]
  },
  {
   "cell_type": "code",
   "execution_count": 1158,
   "metadata": {},
   "outputs": [
    {
     "data": {
      "text/plain": [
       "LinearRegression()"
      ]
     },
     "execution_count": 1158,
     "metadata": {},
     "output_type": "execute_result"
    }
   ],
   "source": [
    "lr_pca = LinearRegression()\n",
    "lr_pca.fit(x_train_pca,y_train)"
   ]
  },
  {
   "cell_type": "code",
   "execution_count": 1159,
   "metadata": {},
   "outputs": [],
   "source": [
    "y_test_predict_pca =lr_pca.predict(pca.transform(pca_scaler.transform(x_test)))"
   ]
  },
  {
   "cell_type": "code",
   "execution_count": 1160,
   "metadata": {},
   "outputs": [
    {
     "data": {
      "text/plain": [
       "24.732481820472458"
      ]
     },
     "execution_count": 1160,
     "metadata": {},
     "output_type": "execute_result"
    }
   ],
   "source": [
    "mape(np.array(y_test),y_test_predict_pca)"
   ]
  },
  {
   "cell_type": "code",
   "execution_count": 1161,
   "metadata": {},
   "outputs": [],
   "source": [
    "#y_test_predict_pca.shape"
   ]
  },
  {
   "cell_type": "code",
   "execution_count": 1162,
   "metadata": {},
   "outputs": [],
   "source": [
    "#np.array(y_test).reshape(-1).shape"
   ]
  },
  {
   "cell_type": "markdown",
   "metadata": {},
   "source": [
    "# SVM"
   ]
  },
  {
   "cell_type": "code",
   "execution_count": 1163,
   "metadata": {},
   "outputs": [],
   "source": [
    "from sklearn.svm import SVR"
   ]
  },
  {
   "cell_type": "code",
   "execution_count": 1164,
   "metadata": {},
   "outputs": [],
   "source": [
    "svr = SVR(C=0.5, epsilon=0.01)"
   ]
  },
  {
   "cell_type": "code",
   "execution_count": 1165,
   "metadata": {},
   "outputs": [
    {
     "name": "stderr",
     "output_type": "stream",
     "text": [
      "/opt/anaconda3/lib/python3.8/site-packages/sklearn/utils/validation.py:73: DataConversionWarning: A column-vector y was passed when a 1d array was expected. Please change the shape of y to (n_samples, ), for example using ravel().\n",
      "  return f(**kwargs)\n"
     ]
    },
    {
     "data": {
      "text/plain": [
       "SVR(C=0.5, epsilon=0.01)"
      ]
     },
     "execution_count": 1165,
     "metadata": {},
     "output_type": "execute_result"
    }
   ],
   "source": [
    "svr.fit(x_train,y_train)"
   ]
  },
  {
   "cell_type": "code",
   "execution_count": 1166,
   "metadata": {},
   "outputs": [],
   "source": [
    "y_test_predict_svr =svr.predict(x_test)"
   ]
  },
  {
   "cell_type": "code",
   "execution_count": 1167,
   "metadata": {},
   "outputs": [
    {
     "data": {
      "text/plain": [
       "25.484214301334358"
      ]
     },
     "execution_count": 1167,
     "metadata": {},
     "output_type": "execute_result"
    }
   ],
   "source": [
    "mape(np.array(y_test).reshape(-1),y_test_predict_svr)"
   ]
  },
  {
   "cell_type": "code",
   "execution_count": null,
   "metadata": {},
   "outputs": [],
   "source": []
  },
  {
   "cell_type": "markdown",
   "metadata": {},
   "source": [
    "# polynomial regression"
   ]
  },
  {
   "cell_type": "code",
   "execution_count": 1168,
   "metadata": {},
   "outputs": [],
   "source": [
    "from sklearn import linear_model\n",
    "from sklearn.preprocessing import PolynomialFeatures"
   ]
  },
  {
   "cell_type": "code",
   "execution_count": 1186,
   "metadata": {},
   "outputs": [],
   "source": [
    "poly = PolynomialFeatures(2)"
   ]
  },
  {
   "cell_type": "code",
   "execution_count": 1187,
   "metadata": {},
   "outputs": [],
   "source": [
    "x_train_poly = poly.fit_transform(x_train)"
   ]
  },
  {
   "cell_type": "code",
   "execution_count": 1188,
   "metadata": {},
   "outputs": [],
   "source": [
    "lr_poly = LinearRegression()"
   ]
  },
  {
   "cell_type": "code",
   "execution_count": 1189,
   "metadata": {},
   "outputs": [
    {
     "data": {
      "text/plain": [
       "LinearRegression()"
      ]
     },
     "execution_count": 1189,
     "metadata": {},
     "output_type": "execute_result"
    }
   ],
   "source": [
    "lr_poly.fit(x_train_poly,y_train)"
   ]
  },
  {
   "cell_type": "code",
   "execution_count": 1190,
   "metadata": {},
   "outputs": [],
   "source": [
    "y_test_predict_poly = lr_poly.predict(poly.transform(x_test))\n",
    "y_train_predict_poly = lr_poly.predict(poly.transform(x_train))"
   ]
  },
  {
   "cell_type": "code",
   "execution_count": 1191,
   "metadata": {},
   "outputs": [
    {
     "data": {
      "text/plain": [
       "23.44766139579654"
      ]
     },
     "execution_count": 1191,
     "metadata": {},
     "output_type": "execute_result"
    }
   ],
   "source": [
    "mape(np.array(y_test),y_test_predict_poly)"
   ]
  },
  {
   "cell_type": "code",
   "execution_count": 1192,
   "metadata": {},
   "outputs": [
    {
     "data": {
      "text/plain": [
       "21.24022417431785"
      ]
     },
     "execution_count": 1192,
     "metadata": {},
     "output_type": "execute_result"
    }
   ],
   "source": [
    "mape(np.array(y_train),y_train_predict_poly)"
   ]
  },
  {
   "cell_type": "code",
   "execution_count": 1193,
   "metadata": {},
   "outputs": [],
   "source": [
    "compare_df = pd.DataFrame()\n",
    "compare_df['actual']=np.array(y_test).reshape(-1)\n",
    "compare_df['predict']=np.array(y_test_predict_poly)"
   ]
  },
  {
   "cell_type": "code",
   "execution_count": 1177,
   "metadata": {},
   "outputs": [
    {
     "data": {
      "text/html": [
       "<div>\n",
       "<style scoped>\n",
       "    .dataframe tbody tr th:only-of-type {\n",
       "        vertical-align: middle;\n",
       "    }\n",
       "\n",
       "    .dataframe tbody tr th {\n",
       "        vertical-align: top;\n",
       "    }\n",
       "\n",
       "    .dataframe thead th {\n",
       "        text-align: right;\n",
       "    }\n",
       "</style>\n",
       "<table border=\"1\" class=\"dataframe\">\n",
       "  <thead>\n",
       "    <tr style=\"text-align: right;\">\n",
       "      <th></th>\n",
       "      <th>actual</th>\n",
       "      <th>predict</th>\n",
       "    </tr>\n",
       "  </thead>\n",
       "  <tbody>\n",
       "    <tr>\n",
       "      <th>0</th>\n",
       "      <td>371</td>\n",
       "      <td>294.315819</td>\n",
       "    </tr>\n",
       "    <tr>\n",
       "      <th>1</th>\n",
       "      <td>319</td>\n",
       "      <td>294.215821</td>\n",
       "    </tr>\n",
       "    <tr>\n",
       "      <th>2</th>\n",
       "      <td>364</td>\n",
       "      <td>300.301850</td>\n",
       "    </tr>\n",
       "    <tr>\n",
       "      <th>3</th>\n",
       "      <td>288</td>\n",
       "      <td>270.437914</td>\n",
       "    </tr>\n",
       "    <tr>\n",
       "      <th>4</th>\n",
       "      <td>266</td>\n",
       "      <td>298.658391</td>\n",
       "    </tr>\n",
       "    <tr>\n",
       "      <th>...</th>\n",
       "      <td>...</td>\n",
       "      <td>...</td>\n",
       "    </tr>\n",
       "    <tr>\n",
       "      <th>133</th>\n",
       "      <td>180</td>\n",
       "      <td>204.664955</td>\n",
       "    </tr>\n",
       "    <tr>\n",
       "      <th>134</th>\n",
       "      <td>252</td>\n",
       "      <td>218.824205</td>\n",
       "    </tr>\n",
       "    <tr>\n",
       "      <th>135</th>\n",
       "      <td>325</td>\n",
       "      <td>309.958348</td>\n",
       "    </tr>\n",
       "    <tr>\n",
       "      <th>136</th>\n",
       "      <td>374</td>\n",
       "      <td>275.687084</td>\n",
       "    </tr>\n",
       "    <tr>\n",
       "      <th>137</th>\n",
       "      <td>389</td>\n",
       "      <td>321.612657</td>\n",
       "    </tr>\n",
       "  </tbody>\n",
       "</table>\n",
       "<p>138 rows × 2 columns</p>\n",
       "</div>"
      ],
      "text/plain": [
       "     actual     predict\n",
       "0       371  294.315819\n",
       "1       319  294.215821\n",
       "2       364  300.301850\n",
       "3       288  270.437914\n",
       "4       266  298.658391\n",
       "..      ...         ...\n",
       "133     180  204.664955\n",
       "134     252  218.824205\n",
       "135     325  309.958348\n",
       "136     374  275.687084\n",
       "137     389  321.612657\n",
       "\n",
       "[138 rows x 2 columns]"
      ]
     },
     "execution_count": 1177,
     "metadata": {},
     "output_type": "execute_result"
    }
   ],
   "source": [
    "compare_df"
   ]
  },
  {
   "cell_type": "code",
   "execution_count": 1178,
   "metadata": {},
   "outputs": [
    {
     "data": {
      "text/plain": [
       "(138,)"
      ]
     },
     "execution_count": 1178,
     "metadata": {},
     "output_type": "execute_result"
    }
   ],
   "source": [
    "np.array(y_test).reshape(-1).shape"
   ]
  },
  {
   "cell_type": "markdown",
   "metadata": {},
   "source": [
    "# Comparing trend predictions"
   ]
  },
  {
   "cell_type": "code",
   "execution_count": 1067,
   "metadata": {},
   "outputs": [
    {
     "data": {
      "text/plain": [
       "Index(['match_id', 'match_date', 'team', 'opponent', 'location', 'team_score',\n",
       "       'opponent_score', 'opponent_base', 'opponent_trend',\n",
       "       'opponent_trend_predict', 'opponent_mean', 'location_base',\n",
       "       'location_trend', 'location_trend_predict', 'location_mean',\n",
       "       'current_base', 'current_trend', 'current_trend_predict',\n",
       "       'current_mean', 'batsman_mean', 'batsman_max', 'bowler_mean',\n",
       "       'bowler_max', 'is_train', 'noise', 'runs_scored'],\n",
       "      dtype='object')"
      ]
     },
     "execution_count": 1067,
     "metadata": {},
     "output_type": "execute_result"
    }
   ],
   "source": [
    "feature_df.columns"
   ]
  },
  {
   "cell_type": "code",
   "execution_count": 1068,
   "metadata": {},
   "outputs": [
    {
     "data": {
      "text/html": [
       "<div>\n",
       "<style scoped>\n",
       "    .dataframe tbody tr th:only-of-type {\n",
       "        vertical-align: middle;\n",
       "    }\n",
       "\n",
       "    .dataframe tbody tr th {\n",
       "        vertical-align: top;\n",
       "    }\n",
       "\n",
       "    .dataframe thead th {\n",
       "        text-align: right;\n",
       "    }\n",
       "</style>\n",
       "<table border=\"1\" class=\"dataframe\">\n",
       "  <thead>\n",
       "    <tr style=\"text-align: right;\">\n",
       "      <th></th>\n",
       "      <th>opponent_trend_predict</th>\n",
       "      <th>runs_scored</th>\n",
       "    </tr>\n",
       "  </thead>\n",
       "  <tbody>\n",
       "    <tr>\n",
       "      <th>0</th>\n",
       "      <td>124.0</td>\n",
       "      <td>293</td>\n",
       "    </tr>\n",
       "    <tr>\n",
       "      <th>1</th>\n",
       "      <td>263.7</td>\n",
       "      <td>249</td>\n",
       "    </tr>\n",
       "    <tr>\n",
       "      <th>2</th>\n",
       "      <td>10.0</td>\n",
       "      <td>262</td>\n",
       "    </tr>\n",
       "    <tr>\n",
       "      <th>3</th>\n",
       "      <td>274.0</td>\n",
       "      <td>333</td>\n",
       "    </tr>\n",
       "    <tr>\n",
       "      <th>4</th>\n",
       "      <td>255.8</td>\n",
       "      <td>279</td>\n",
       "    </tr>\n",
       "    <tr>\n",
       "      <th>...</th>\n",
       "      <td>...</td>\n",
       "      <td>...</td>\n",
       "    </tr>\n",
       "    <tr>\n",
       "      <th>780</th>\n",
       "      <td>210.6</td>\n",
       "      <td>180</td>\n",
       "    </tr>\n",
       "    <tr>\n",
       "      <th>781</th>\n",
       "      <td>175.1</td>\n",
       "      <td>252</td>\n",
       "    </tr>\n",
       "    <tr>\n",
       "      <th>782</th>\n",
       "      <td>243.2</td>\n",
       "      <td>325</td>\n",
       "    </tr>\n",
       "    <tr>\n",
       "      <th>783</th>\n",
       "      <td>311.8</td>\n",
       "      <td>374</td>\n",
       "    </tr>\n",
       "    <tr>\n",
       "      <th>784</th>\n",
       "      <td>370.9</td>\n",
       "      <td>389</td>\n",
       "    </tr>\n",
       "  </tbody>\n",
       "</table>\n",
       "<p>762 rows × 2 columns</p>\n",
       "</div>"
      ],
      "text/plain": [
       "     opponent_trend_predict  runs_scored\n",
       "0                     124.0          293\n",
       "1                     263.7          249\n",
       "2                      10.0          262\n",
       "3                     274.0          333\n",
       "4                     255.8          279\n",
       "..                      ...          ...\n",
       "780                   210.6          180\n",
       "781                   175.1          252\n",
       "782                   243.2          325\n",
       "783                   311.8          374\n",
       "784                   370.9          389\n",
       "\n",
       "[762 rows x 2 columns]"
      ]
     },
     "execution_count": 1068,
     "metadata": {},
     "output_type": "execute_result"
    }
   ],
   "source": [
    "feature_df[['opponent_trend_predict','runs_scored']]"
   ]
  },
  {
   "cell_type": "code",
   "execution_count": 1070,
   "metadata": {},
   "outputs": [],
   "source": [
    "opponent_trend_predict = np.array(feature_df['opponent_trend_predict'])\n",
    "current_trend_predict = np.array(feature_df['current_trend_predict'])\n",
    "location_trend_predict = np.array(feature_df['location_trend_predict'])\n",
    "runs_scored = np.array(feature_df['runs_scored'])"
   ]
  },
  {
   "cell_type": "code",
   "execution_count": 1073,
   "metadata": {},
   "outputs": [
    {
     "data": {
      "text/plain": [
       "(34.431899956652344, 33.545952098392334, 36.5804185718854)"
      ]
     },
     "execution_count": 1073,
     "metadata": {},
     "output_type": "execute_result"
    }
   ],
   "source": [
    "mape(runs_scored,opponent_trend_predict),mape(runs_scored,current_trend_predict),mape(runs_scored,location_trend_predict)"
   ]
  },
  {
   "cell_type": "code",
   "execution_count": 1078,
   "metadata": {},
   "outputs": [],
   "source": [
    "max_predict = np.max(np.array(feature_df[['opponent_trend_predict','current_trend_predict','location_trend_predict']]),axis=1)\n",
    "min_predict = np.min(np.array(feature_df[['opponent_trend_predict','current_trend_predict','location_trend_predict']]),axis=1)\n",
    "mean_predict = np.mean(np.array(feature_df[['opponent_trend_predict','current_trend_predict','location_trend_predict']]),axis=1)\n"
   ]
  },
  {
   "cell_type": "code",
   "execution_count": 1080,
   "metadata": {},
   "outputs": [
    {
     "data": {
      "text/plain": [
       "(40.1016063772506, 34.66377592839274, 28.793546905523176)"
      ]
     },
     "execution_count": 1080,
     "metadata": {},
     "output_type": "execute_result"
    }
   ],
   "source": [
    "mape(runs_scored,max_predict),mape(runs_scored,min_predict),mape(runs_scored,mean_predict)"
   ]
  },
  {
   "cell_type": "code",
   "execution_count": null,
   "metadata": {},
   "outputs": [],
   "source": []
  },
  {
   "cell_type": "code",
   "execution_count": null,
   "metadata": {},
   "outputs": [],
   "source": []
  }
 ],
 "metadata": {
  "kernelspec": {
   "display_name": "Python 3",
   "language": "python",
   "name": "python3"
  },
  "language_info": {
   "codemirror_mode": {
    "name": "ipython",
    "version": 3
   },
   "file_extension": ".py",
   "mimetype": "text/x-python",
   "name": "python",
   "nbconvert_exporter": "python",
   "pygments_lexer": "ipython3",
   "version": "3.8.3"
  }
 },
 "nbformat": 4,
 "nbformat_minor": 4
}
