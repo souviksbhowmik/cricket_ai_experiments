{
 "cells": [
  {
   "cell_type": "code",
   "execution_count": 51,
   "metadata": {},
   "outputs": [],
   "source": [
    "import pandas as pd\n",
    "import numpy as np\n",
    "from datetime import datetime\n",
    "from matplotlib import pyplot as plt\n",
    "from sklearn.preprocessing import MinMaxScaler\n",
    "from tqdm.notebook import tqdm\n",
    "\n",
    "from sklearn.linear_model import LinearRegression\n",
    "from sklearn.preprocessing import StandardScaler,MinMaxScaler\n",
    "from sklearn.metrics import mean_absolute_error,mean_squared_error\n",
    "import pickle"
   ]
  },
  {
   "cell_type": "code",
   "execution_count": 52,
   "metadata": {},
   "outputs": [],
   "source": [
    "custom_date_parser = lambda x: datetime.strptime(x, \"%Y-%m-%d\")\n",
    "second_inn_feature_df = pd.read_csv('csv_data/feature_second_innings.csv',parse_dates=['match_date'],date_parser=custom_date_parser)"
   ]
  },
  {
   "cell_type": "code",
   "execution_count": 53,
   "metadata": {},
   "outputs": [],
   "source": [
    "second_inn_feature_df.dropna(inplace=True)"
   ]
  },
  {
   "cell_type": "code",
   "execution_count": 54,
   "metadata": {},
   "outputs": [],
   "source": [
    "result_df_train=pd.read_csv('csv_data/result_df_tran.csv',parse_dates=['match_date'],date_parser=custom_date_parser)\n",
    "result_df_test=pd.read_csv('csv_data/result_df_test.csv',parse_dates=['match_date'],date_parser=custom_date_parser)\n",
    "lr=pickle.load(open('first_innings_linear_regression.pkl','rb'))\n",
    "scaler = pickle.load(open('first_innings_linear_regression_scaler.pkl','rb'))"
   ]
  },
  {
   "cell_type": "code",
   "execution_count": 55,
   "metadata": {},
   "outputs": [],
   "source": [
    "feature_columns = ['team_score', 'opponent_score', 'location_base', 'location_mean','batsman_mean', 'batsman_max', 'bowler_mean']"
   ]
  },
  {
   "cell_type": "code",
   "execution_count": 56,
   "metadata": {},
   "outputs": [],
   "source": [
    "second_innings_predict = lr.predict(scaler.transform(second_inn_feature_df[feature_columns]))"
   ]
  },
  {
   "cell_type": "code",
   "execution_count": 57,
   "metadata": {},
   "outputs": [],
   "source": [
    "second_inn_result = pd.DataFrame(second_inn_feature_df)"
   ]
  },
  {
   "cell_type": "code",
   "execution_count": 58,
   "metadata": {},
   "outputs": [],
   "source": [
    "second_inn_result['second_innings_prediction']=second_innings_predict"
   ]
  },
  {
   "cell_type": "code",
   "execution_count": 59,
   "metadata": {},
   "outputs": [
    {
     "data": {
      "text/html": [
       "<div>\n",
       "<style scoped>\n",
       "    .dataframe tbody tr th:only-of-type {\n",
       "        vertical-align: middle;\n",
       "    }\n",
       "\n",
       "    .dataframe tbody tr th {\n",
       "        vertical-align: top;\n",
       "    }\n",
       "\n",
       "    .dataframe thead th {\n",
       "        text-align: right;\n",
       "    }\n",
       "</style>\n",
       "<table border=\"1\" class=\"dataframe\">\n",
       "  <thead>\n",
       "    <tr style=\"text-align: right;\">\n",
       "      <th></th>\n",
       "      <th>match_id</th>\n",
       "      <th>runs_scored</th>\n",
       "      <th>win</th>\n",
       "      <th>second_innings_prediction</th>\n",
       "    </tr>\n",
       "  </thead>\n",
       "  <tbody>\n",
       "    <tr>\n",
       "      <th>0</th>\n",
       "      <td>366711</td>\n",
       "      <td>129</td>\n",
       "      <td>1</td>\n",
       "      <td>239.728980</td>\n",
       "    </tr>\n",
       "    <tr>\n",
       "      <th>1</th>\n",
       "      <td>378753</td>\n",
       "      <td>167</td>\n",
       "      <td>0</td>\n",
       "      <td>202.865693</td>\n",
       "    </tr>\n",
       "    <tr>\n",
       "      <th>2</th>\n",
       "      <td>378755</td>\n",
       "      <td>151</td>\n",
       "      <td>1</td>\n",
       "      <td>239.246302</td>\n",
       "    </tr>\n",
       "    <tr>\n",
       "      <th>3</th>\n",
       "      <td>351684</td>\n",
       "      <td>272</td>\n",
       "      <td>1</td>\n",
       "      <td>228.247344</td>\n",
       "    </tr>\n",
       "    <tr>\n",
       "      <th>4</th>\n",
       "      <td>351685</td>\n",
       "      <td>244</td>\n",
       "      <td>0</td>\n",
       "      <td>241.117383</td>\n",
       "    </tr>\n",
       "  </tbody>\n",
       "</table>\n",
       "</div>"
      ],
      "text/plain": [
       "   match_id  runs_scored  win  second_innings_prediction\n",
       "0    366711          129    1                 239.728980\n",
       "1    378753          167    0                 202.865693\n",
       "2    378755          151    1                 239.246302\n",
       "3    351684          272    1                 228.247344\n",
       "4    351685          244    0                 241.117383"
      ]
     },
     "execution_count": 59,
     "metadata": {},
     "output_type": "execute_result"
    }
   ],
   "source": [
    "second_inn_result[['match_id','runs_scored','win','second_innings_prediction']].head()"
   ]
  },
  {
   "cell_type": "code",
   "execution_count": 60,
   "metadata": {},
   "outputs": [],
   "source": [
    "final_result_test=result_df_test.merge(second_inn_result,on='match_id',how='inner')"
   ]
  },
  {
   "cell_type": "code",
   "execution_count": 61,
   "metadata": {},
   "outputs": [],
   "source": [
    "final_result_test['predicted_win']=1*(final_result_test['second_innings_prediction']>final_result_test['first_innings_prediction'])"
   ]
  },
  {
   "cell_type": "code",
   "execution_count": 62,
   "metadata": {},
   "outputs": [
    {
     "data": {
      "text/plain": [
       "0.7339449541284404"
      ]
     },
     "execution_count": 62,
     "metadata": {},
     "output_type": "execute_result"
    }
   ],
   "source": [
    "(final_result_test['predicted_win']==final_result_test['win']).sum()/final_result_test.shape[0]"
   ]
  },
  {
   "cell_type": "code",
   "execution_count": 63,
   "metadata": {},
   "outputs": [],
   "source": [
    "final_result_train=result_df_train.merge(second_inn_result,on='match_id',how='inner')\n",
    "final_result_train['predicted_win']=1*(final_result_train['second_innings_prediction']>final_result_train['first_innings_prediction'])"
   ]
  },
  {
   "cell_type": "code",
   "execution_count": 64,
   "metadata": {},
   "outputs": [
    {
     "data": {
      "text/plain": [
       "0.7475728155339806"
      ]
     },
     "execution_count": 64,
     "metadata": {},
     "output_type": "execute_result"
    }
   ],
   "source": [
    "(final_result_train['predicted_win']==final_result_train['win']).sum()/final_result_train.shape[0]"
   ]
  },
  {
   "cell_type": "code",
   "execution_count": 65,
   "metadata": {},
   "outputs": [
    {
     "data": {
      "text/html": [
       "<div>\n",
       "<style scoped>\n",
       "    .dataframe tbody tr th:only-of-type {\n",
       "        vertical-align: middle;\n",
       "    }\n",
       "\n",
       "    .dataframe tbody tr th {\n",
       "        vertical-align: top;\n",
       "    }\n",
       "\n",
       "    .dataframe thead th {\n",
       "        text-align: right;\n",
       "    }\n",
       "</style>\n",
       "<table border=\"1\" class=\"dataframe\">\n",
       "  <thead>\n",
       "    <tr style=\"text-align: right;\">\n",
       "      <th></th>\n",
       "      <th>match_id</th>\n",
       "      <th>runs_scored_x</th>\n",
       "      <th>runs_scored_y</th>\n",
       "      <th>first_innings_prediction</th>\n",
       "      <th>second_innings_prediction</th>\n",
       "      <th>win</th>\n",
       "      <th>predicted_win</th>\n",
       "    </tr>\n",
       "  </thead>\n",
       "  <tbody>\n",
       "    <tr>\n",
       "      <th>0</th>\n",
       "      <td>351684</td>\n",
       "      <td>271</td>\n",
       "      <td>272</td>\n",
       "      <td>252.276262</td>\n",
       "      <td>228.247344</td>\n",
       "      <td>1</td>\n",
       "      <td>0</td>\n",
       "    </tr>\n",
       "    <tr>\n",
       "      <th>1</th>\n",
       "      <td>351685</td>\n",
       "      <td>249</td>\n",
       "      <td>244</td>\n",
       "      <td>266.305210</td>\n",
       "      <td>241.117383</td>\n",
       "      <td>0</td>\n",
       "      <td>0</td>\n",
       "    </tr>\n",
       "    <tr>\n",
       "      <th>2</th>\n",
       "      <td>385749</td>\n",
       "      <td>219</td>\n",
       "      <td>220</td>\n",
       "      <td>227.737850</td>\n",
       "      <td>312.299223</td>\n",
       "      <td>1</td>\n",
       "      <td>1</td>\n",
       "    </tr>\n",
       "    <tr>\n",
       "      <th>3</th>\n",
       "      <td>385750</td>\n",
       "      <td>290</td>\n",
       "      <td>161</td>\n",
       "      <td>236.115064</td>\n",
       "      <td>241.719478</td>\n",
       "      <td>0</td>\n",
       "      <td>1</td>\n",
       "    </tr>\n",
       "    <tr>\n",
       "      <th>4</th>\n",
       "      <td>378759</td>\n",
       "      <td>119</td>\n",
       "      <td>121</td>\n",
       "      <td>214.705063</td>\n",
       "      <td>253.447874</td>\n",
       "      <td>1</td>\n",
       "      <td>1</td>\n",
       "    </tr>\n",
       "    <tr>\n",
       "      <th>...</th>\n",
       "      <td>...</td>\n",
       "      <td>...</td>\n",
       "      <td>...</td>\n",
       "      <td>...</td>\n",
       "      <td>...</td>\n",
       "      <td>...</td>\n",
       "      <td>...</td>\n",
       "    </tr>\n",
       "    <tr>\n",
       "      <th>716</th>\n",
       "      <td>1157379</td>\n",
       "      <td>209</td>\n",
       "      <td>212</td>\n",
       "      <td>243.871615</td>\n",
       "      <td>270.152466</td>\n",
       "      <td>1</td>\n",
       "      <td>1</td>\n",
       "    </tr>\n",
       "    <tr>\n",
       "      <th>717</th>\n",
       "      <td>1144987</td>\n",
       "      <td>231</td>\n",
       "      <td>224</td>\n",
       "      <td>200.974774</td>\n",
       "      <td>271.975379</td>\n",
       "      <td>0</td>\n",
       "      <td>1</td>\n",
       "    </tr>\n",
       "    <tr>\n",
       "      <th>718</th>\n",
       "      <td>1144988</td>\n",
       "      <td>320</td>\n",
       "      <td>280</td>\n",
       "      <td>297.775833</td>\n",
       "      <td>208.376311</td>\n",
       "      <td>0</td>\n",
       "      <td>0</td>\n",
       "    </tr>\n",
       "    <tr>\n",
       "      <th>719</th>\n",
       "      <td>1153314</td>\n",
       "      <td>195</td>\n",
       "      <td>196</td>\n",
       "      <td>201.453530</td>\n",
       "      <td>276.961267</td>\n",
       "      <td>1</td>\n",
       "      <td>1</td>\n",
       "    </tr>\n",
       "    <tr>\n",
       "      <th>720</th>\n",
       "      <td>1153315</td>\n",
       "      <td>255</td>\n",
       "      <td>256</td>\n",
       "      <td>253.361504</td>\n",
       "      <td>205.110382</td>\n",
       "      <td>1</td>\n",
       "      <td>0</td>\n",
       "    </tr>\n",
       "  </tbody>\n",
       "</table>\n",
       "<p>721 rows × 7 columns</p>\n",
       "</div>"
      ],
      "text/plain": [
       "     match_id  runs_scored_x  runs_scored_y  first_innings_prediction  \\\n",
       "0      351684            271            272                252.276262   \n",
       "1      351685            249            244                266.305210   \n",
       "2      385749            219            220                227.737850   \n",
       "3      385750            290            161                236.115064   \n",
       "4      378759            119            121                214.705063   \n",
       "..        ...            ...            ...                       ...   \n",
       "716   1157379            209            212                243.871615   \n",
       "717   1144987            231            224                200.974774   \n",
       "718   1144988            320            280                297.775833   \n",
       "719   1153314            195            196                201.453530   \n",
       "720   1153315            255            256                253.361504   \n",
       "\n",
       "     second_innings_prediction  win  predicted_win  \n",
       "0                   228.247344    1              0  \n",
       "1                   241.117383    0              0  \n",
       "2                   312.299223    1              1  \n",
       "3                   241.719478    0              1  \n",
       "4                   253.447874    1              1  \n",
       "..                         ...  ...            ...  \n",
       "716                 270.152466    1              1  \n",
       "717                 271.975379    0              1  \n",
       "718                 208.376311    0              0  \n",
       "719                 276.961267    1              1  \n",
       "720                 205.110382    1              0  \n",
       "\n",
       "[721 rows x 7 columns]"
      ]
     },
     "execution_count": 65,
     "metadata": {},
     "output_type": "execute_result"
    }
   ],
   "source": [
    "final_result_train[['match_id','runs_scored_x','runs_scored_y','first_innings_prediction','second_innings_prediction','win','predicted_win']]"
   ]
  },
  {
   "cell_type": "code",
   "execution_count": 66,
   "metadata": {},
   "outputs": [
    {
     "data": {
      "text/plain": [
       "Index(['match_id', 'match_date_x', 'team_x', 'opponent_x', 'location_x',\n",
       "       'team_score_x', 'opponent_score_x', 'opponent_base_x',\n",
       "       'opponent_trend_x', 'opponent_trend_predict_x', 'opponent_mean_x',\n",
       "       'location_base_x', 'location_trend_x', 'location_trend_predict_x',\n",
       "       'location_mean_x', 'current_base_x', 'current_trend_x',\n",
       "       'current_trend_predict_x', 'current_mean_x', 'batsman_mean_x',\n",
       "       'batsman_max_x', 'bowler_mean_x', 'bowler_max_x', 'is_train_x',\n",
       "       'noise_x', 'runs_scored_x', 'first_innings_prediction', 'match_date_y',\n",
       "       'team_y', 'opponent_y', 'location_y', 'team_score_y',\n",
       "       'opponent_score_y', 'opponent_base_y', 'opponent_trend_y',\n",
       "       'opponent_trend_predict_y', 'opponent_mean_y', 'location_base_y',\n",
       "       'location_trend_y', 'location_trend_predict_y', 'location_mean_y',\n",
       "       'current_base_y', 'current_trend_y', 'current_trend_predict_y',\n",
       "       'current_mean_y', 'batsman_mean_y', 'batsman_max_y', 'bowler_mean_y',\n",
       "       'bowler_max_y', 'is_train_y', 'noise_y', 'target_score',\n",
       "       'runs_scored_y', 'win', 'second_innings_prediction', 'predicted_win'],\n",
       "      dtype='object')"
      ]
     },
     "execution_count": 66,
     "metadata": {},
     "output_type": "execute_result"
    }
   ],
   "source": [
    "final_result_test.columns"
   ]
  },
  {
   "cell_type": "code",
   "execution_count": 67,
   "metadata": {},
   "outputs": [
    {
     "data": {
      "text/plain": [
       "53"
      ]
     },
     "execution_count": 67,
     "metadata": {},
     "output_type": "execute_result"
    }
   ],
   "source": [
    "final_result_test['win'].sum()"
   ]
  },
  {
   "cell_type": "code",
   "execution_count": 68,
   "metadata": {},
   "outputs": [
    {
     "data": {
      "text/plain": [
       "(109, 56)"
      ]
     },
     "execution_count": 68,
     "metadata": {},
     "output_type": "execute_result"
    }
   ],
   "source": [
    "final_result_test.shape"
   ]
  },
  {
   "cell_type": "code",
   "execution_count": 69,
   "metadata": {},
   "outputs": [
    {
     "data": {
      "text/html": [
       "<div>\n",
       "<style scoped>\n",
       "    .dataframe tbody tr th:only-of-type {\n",
       "        vertical-align: middle;\n",
       "    }\n",
       "\n",
       "    .dataframe tbody tr th {\n",
       "        vertical-align: top;\n",
       "    }\n",
       "\n",
       "    .dataframe thead th {\n",
       "        text-align: right;\n",
       "    }\n",
       "</style>\n",
       "<table border=\"1\" class=\"dataframe\">\n",
       "  <thead>\n",
       "    <tr style=\"text-align: right;\">\n",
       "      <th></th>\n",
       "      <th>match_id</th>\n",
       "      <th>team</th>\n",
       "      <th>opponent</th>\n",
       "      <th>win</th>\n",
       "    </tr>\n",
       "  </thead>\n",
       "  <tbody>\n",
       "    <tr>\n",
       "      <th>0</th>\n",
       "      <td>366711</td>\n",
       "      <td>New Zealand</td>\n",
       "      <td>West Indies</td>\n",
       "      <td>1</td>\n",
       "    </tr>\n",
       "    <tr>\n",
       "      <th>1</th>\n",
       "      <td>378753</td>\n",
       "      <td>Bangladesh</td>\n",
       "      <td>Zimbabwe</td>\n",
       "      <td>0</td>\n",
       "    </tr>\n",
       "    <tr>\n",
       "      <th>2</th>\n",
       "      <td>378755</td>\n",
       "      <td>Bangladesh</td>\n",
       "      <td>Sri Lanka</td>\n",
       "      <td>1</td>\n",
       "    </tr>\n",
       "    <tr>\n",
       "      <th>3</th>\n",
       "      <td>351684</td>\n",
       "      <td>South Africa</td>\n",
       "      <td>Australia</td>\n",
       "      <td>1</td>\n",
       "    </tr>\n",
       "    <tr>\n",
       "      <th>4</th>\n",
       "      <td>351685</td>\n",
       "      <td>South Africa</td>\n",
       "      <td>Australia</td>\n",
       "      <td>0</td>\n",
       "    </tr>\n",
       "    <tr>\n",
       "      <th>...</th>\n",
       "      <td>...</td>\n",
       "      <td>...</td>\n",
       "      <td>...</td>\n",
       "      <td>...</td>\n",
       "    </tr>\n",
       "    <tr>\n",
       "      <th>1074</th>\n",
       "      <td>1198240</td>\n",
       "      <td>Australia</td>\n",
       "      <td>England</td>\n",
       "      <td>1</td>\n",
       "    </tr>\n",
       "    <tr>\n",
       "      <th>1075</th>\n",
       "      <td>1233461</td>\n",
       "      <td>Zimbabwe</td>\n",
       "      <td>Pakistan</td>\n",
       "      <td>0</td>\n",
       "    </tr>\n",
       "    <tr>\n",
       "      <th>1076</th>\n",
       "      <td>1233462</td>\n",
       "      <td>Pakistan</td>\n",
       "      <td>Zimbabwe</td>\n",
       "      <td>1</td>\n",
       "    </tr>\n",
       "    <tr>\n",
       "      <th>1077</th>\n",
       "      <td>1223955</td>\n",
       "      <td>India</td>\n",
       "      <td>Australia</td>\n",
       "      <td>0</td>\n",
       "    </tr>\n",
       "    <tr>\n",
       "      <th>1078</th>\n",
       "      <td>1223956</td>\n",
       "      <td>India</td>\n",
       "      <td>Australia</td>\n",
       "      <td>0</td>\n",
       "    </tr>\n",
       "  </tbody>\n",
       "</table>\n",
       "<p>1077 rows × 4 columns</p>\n",
       "</div>"
      ],
      "text/plain": [
       "      match_id          team     opponent  win\n",
       "0       366711   New Zealand  West Indies    1\n",
       "1       378753    Bangladesh     Zimbabwe    0\n",
       "2       378755    Bangladesh    Sri Lanka    1\n",
       "3       351684  South Africa    Australia    1\n",
       "4       351685  South Africa    Australia    0\n",
       "...        ...           ...          ...  ...\n",
       "1074   1198240     Australia      England    1\n",
       "1075   1233461      Zimbabwe     Pakistan    0\n",
       "1076   1233462      Pakistan     Zimbabwe    1\n",
       "1077   1223955         India    Australia    0\n",
       "1078   1223956         India    Australia    0\n",
       "\n",
       "[1077 rows x 4 columns]"
      ]
     },
     "execution_count": 69,
     "metadata": {},
     "output_type": "execute_result"
    }
   ],
   "source": [
    "second_inn_feature_df[['match_id','team','opponent','win']]"
   ]
  },
  {
   "cell_type": "code",
   "execution_count": null,
   "metadata": {},
   "outputs": [],
   "source": []
  },
  {
   "cell_type": "code",
   "execution_count": null,
   "metadata": {},
   "outputs": [],
   "source": []
  }
 ],
 "metadata": {
  "kernelspec": {
   "display_name": "Python 3",
   "language": "python",
   "name": "python3"
  },
  "language_info": {
   "codemirror_mode": {
    "name": "ipython",
    "version": 3
   },
   "file_extension": ".py",
   "mimetype": "text/x-python",
   "name": "python",
   "nbconvert_exporter": "python",
   "pygments_lexer": "ipython3",
   "version": "3.8.3"
  }
 },
 "nbformat": 4,
 "nbformat_minor": 4
}
