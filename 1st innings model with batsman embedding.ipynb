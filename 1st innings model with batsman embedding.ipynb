{
 "cells": [
  {
   "cell_type": "code",
   "execution_count": 1,
   "metadata": {},
   "outputs": [],
   "source": [
    "import pandas as pd\n",
    "import numpy as np\n",
    "from datetime import datetime\n",
    "from matplotlib import pyplot as plt\n",
    "from sklearn.preprocessing import MinMaxScaler\n",
    "from tqdm.notebook import tqdm\n",
    "import dateutil\n",
    "from sklearn.linear_model import LinearRegression\n",
    "from sklearn.preprocessing import OneHotEncoder\n",
    "\n",
    "from sklearn.metrics.pairwise import cosine_similarity\n",
    "import json\n",
    "import pickle\n",
    "\n",
    "from keras.models import model_from_json\n"
   ]
  },
  {
   "cell_type": "code",
   "execution_count": 2,
   "metadata": {},
   "outputs": [],
   "source": [
    "def mape(y_true,y_predict):\n",
    "    return np.sum((np.abs(y_true-y_predict)/y_true)*100)/len(y_true)"
   ]
  },
  {
   "cell_type": "code",
   "execution_count": 3,
   "metadata": {},
   "outputs": [],
   "source": [
    "def load_model(model_name):\n",
    "    # load json and create model\n",
    "    json_file = open(model_name+'.json', 'r')\n",
    "    loaded_model_json = json_file.read()\n",
    "    json_file.close()\n",
    "    loaded_model = model_from_json(loaded_model_json)\n",
    "    # load weights into new model\n",
    "    loaded_model.load_weights(model_name+\".h5\")\n",
    "    return loaded_model"
   ]
  },
  {
   "cell_type": "code",
   "execution_count": 4,
   "metadata": {},
   "outputs": [],
   "source": [
    "custom_date_parser = lambda x: datetime.strptime(x, \"%Y-%m-%d\")"
   ]
  },
  {
   "cell_type": "code",
   "execution_count": 5,
   "metadata": {},
   "outputs": [],
   "source": [
    "cutoff_start_year = '2013'\n",
    "cutoff_start_date = datetime.strptime(cutoff_start_year+'-01-01','%Y-%m-%d')"
   ]
  },
  {
   "cell_type": "code",
   "execution_count": 6,
   "metadata": {},
   "outputs": [
    {
     "data": {
      "text/plain": [
       "(781, 11)"
      ]
     },
     "execution_count": 6,
     "metadata": {},
     "output_type": "execute_result"
    }
   ],
   "source": [
    "match_summary_df = pd.read_csv('csv_data/match_list.csv',parse_dates=['date'],date_parser=custom_date_parser)\n",
    "recent_match_summary_df = match_summary_df[match_summary_df['date']>=cutoff_start_date]\n",
    "recent_match_summary_df.shape"
   ]
  },
  {
   "cell_type": "code",
   "execution_count": 7,
   "metadata": {},
   "outputs": [],
   "source": [
    "match_stats_df = pd.read_csv('csv_data/match_stats.csv')"
   ]
  },
  {
   "cell_type": "code",
   "execution_count": 8,
   "metadata": {},
   "outputs": [],
   "source": [
    "recent_match_summary_df=recent_match_summary_df.merge(match_stats_df,on='match_id',how='inner')\n",
    "recent_match_summary_df=recent_match_summary_df[recent_match_summary_df['first_innings']==recent_match_summary_df['team_statistics']]\n"
   ]
  },
  {
   "cell_type": "code",
   "execution_count": 9,
   "metadata": {},
   "outputs": [
    {
     "data": {
      "text/plain": [
       "Index(['match_id', 'date', 'location', 'first_innings', 'second_innings',\n",
       "       'winner', 'win_by', 'win_dif', 'toss_winner', 'player_of_match',\n",
       "       'train_data', 'team_statistics', 'batsman_1', 'batsman_1_runs',\n",
       "       'batsman_2', 'batsman_2_runs', 'batsman_3', 'batsman_3_runs',\n",
       "       'batsman_4', 'batsman_4_runs', 'batsman_5', 'batsman_5_runs',\n",
       "       'batsman_6', 'batsman_6_runs', 'batsman_7', 'batsman_7_runs',\n",
       "       'batsman_8', 'batsman_8_runs', 'batsman_9', 'batsman_9_runs',\n",
       "       'batsman_10', 'batsman_10_runs', 'batsman_11', 'batsman_11_runs',\n",
       "       'bowler_1', 'bowler_1_wickets', 'bowler_2', 'bowler_2_wickets',\n",
       "       'bowler_3', 'bowler_3_wickets', 'bowler_4', 'bowler_4_wickets',\n",
       "       'bowler_5', 'bowler_5_wickets', 'bowler_6', 'bowler_6_wickets',\n",
       "       'bowler_7', 'bowler_7_wickets', 'bowler_8', 'bowler_8_wickets',\n",
       "       'bowler_9', 'bowler_9_wickets', 'bowler_10', 'bowler_10_wickets',\n",
       "       'bowler_11', 'bowler_11_wickets', 'total_run', 'total_wickets'],\n",
       "      dtype='object')"
      ]
     },
     "execution_count": 9,
     "metadata": {},
     "output_type": "execute_result"
    }
   ],
   "source": [
    "recent_match_summary_df.columns"
   ]
  },
  {
   "cell_type": "code",
   "execution_count": 10,
   "metadata": {},
   "outputs": [],
   "source": [
    "country_enc_map=pickle.load(open('country_enc_map.pkl','rb'))\n",
    "batsman_enc_map = pickle.load(open('batsman_enc_map.pkl','rb'))\n",
    "loc_enc_map_for_batsman = pickle.load(open('loc_enc_map_for_batsman.pkl','rb'))"
   ]
  },
  {
   "cell_type": "code",
   "execution_count": 11,
   "metadata": {},
   "outputs": [],
   "source": [
    "def get_oh_pos(pos):\n",
    "    vec=np.zeros((11)).astype(int) \n",
    "    vec[pos-1]=1\n",
    "    return vec"
   ]
  },
  {
   "cell_type": "code",
   "execution_count": 12,
   "metadata": {},
   "outputs": [],
   "source": [
    "batsman_group_encode_model = load_model('batsman_group_encode_model')"
   ]
  },
  {
   "cell_type": "markdown",
   "metadata": {},
   "source": [
    "# Linear Regression with mean\\sum embedding"
   ]
  },
  {
   "cell_type": "code",
   "execution_count": 16,
   "metadata": {},
   "outputs": [],
   "source": [
    "from sklearn.linear_model import LinearRegression\n",
    "from sklearn.preprocessing import StandardScaler,MinMaxScaler\n",
    "from sklearn.metrics import mean_absolute_error,mean_squared_error"
   ]
  },
  {
   "cell_type": "code",
   "execution_count": 13,
   "metadata": {},
   "outputs": [
    {
     "data": {
      "text/html": [
       "<div>\n",
       "<style scoped>\n",
       "    .dataframe tbody tr th:only-of-type {\n",
       "        vertical-align: middle;\n",
       "    }\n",
       "\n",
       "    .dataframe tbody tr th {\n",
       "        vertical-align: top;\n",
       "    }\n",
       "\n",
       "    .dataframe thead th {\n",
       "        text-align: right;\n",
       "    }\n",
       "</style>\n",
       "<table border=\"1\" class=\"dataframe\">\n",
       "  <thead>\n",
       "    <tr style=\"text-align: right;\">\n",
       "      <th></th>\n",
       "      <th>match_id</th>\n",
       "      <th>date</th>\n",
       "      <th>location</th>\n",
       "      <th>first_innings</th>\n",
       "      <th>second_innings</th>\n",
       "      <th>winner</th>\n",
       "      <th>win_by</th>\n",
       "      <th>win_dif</th>\n",
       "      <th>toss_winner</th>\n",
       "      <th>player_of_match</th>\n",
       "      <th>...</th>\n",
       "      <th>bowler_8</th>\n",
       "      <th>bowler_8_wickets</th>\n",
       "      <th>bowler_9</th>\n",
       "      <th>bowler_9_wickets</th>\n",
       "      <th>bowler_10</th>\n",
       "      <th>bowler_10_wickets</th>\n",
       "      <th>bowler_11</th>\n",
       "      <th>bowler_11_wickets</th>\n",
       "      <th>total_run</th>\n",
       "      <th>total_wickets</th>\n",
       "    </tr>\n",
       "  </thead>\n",
       "  <tbody>\n",
       "    <tr>\n",
       "      <th>0</th>\n",
       "      <td>589309</td>\n",
       "      <td>2013-01-03</td>\n",
       "      <td>Kolkata</td>\n",
       "      <td>Pakistan</td>\n",
       "      <td>India</td>\n",
       "      <td>Pakistan</td>\n",
       "      <td>runs</td>\n",
       "      <td>85</td>\n",
       "      <td>India</td>\n",
       "      <td>Nasir Jamshed</td>\n",
       "      <td>...</td>\n",
       "      <td>not_bowled</td>\n",
       "      <td>0</td>\n",
       "      <td>not_bowled</td>\n",
       "      <td>0</td>\n",
       "      <td>not_bowled</td>\n",
       "      <td>0</td>\n",
       "      <td>not_bowled</td>\n",
       "      <td>0</td>\n",
       "      <td>250</td>\n",
       "      <td>10</td>\n",
       "    </tr>\n",
       "    <tr>\n",
       "      <th>2</th>\n",
       "      <td>589310</td>\n",
       "      <td>2013-01-06</td>\n",
       "      <td>Delhi</td>\n",
       "      <td>India</td>\n",
       "      <td>Pakistan</td>\n",
       "      <td>India</td>\n",
       "      <td>runs</td>\n",
       "      <td>10</td>\n",
       "      <td>India</td>\n",
       "      <td>MS Dhoni</td>\n",
       "      <td>...</td>\n",
       "      <td>not_bowled</td>\n",
       "      <td>0</td>\n",
       "      <td>not_bowled</td>\n",
       "      <td>0</td>\n",
       "      <td>not_bowled</td>\n",
       "      <td>0</td>\n",
       "      <td>not_bowled</td>\n",
       "      <td>0</td>\n",
       "      <td>167</td>\n",
       "      <td>10</td>\n",
       "    </tr>\n",
       "    <tr>\n",
       "      <th>4</th>\n",
       "      <td>565812</td>\n",
       "      <td>2013-01-11</td>\n",
       "      <td>Rajkot</td>\n",
       "      <td>England</td>\n",
       "      <td>India</td>\n",
       "      <td>England</td>\n",
       "      <td>runs</td>\n",
       "      <td>9</td>\n",
       "      <td>England</td>\n",
       "      <td>JC Tredwell</td>\n",
       "      <td>...</td>\n",
       "      <td>not_bowled</td>\n",
       "      <td>0</td>\n",
       "      <td>not_bowled</td>\n",
       "      <td>0</td>\n",
       "      <td>not_bowled</td>\n",
       "      <td>0</td>\n",
       "      <td>not_bowled</td>\n",
       "      <td>0</td>\n",
       "      <td>325</td>\n",
       "      <td>9</td>\n",
       "    </tr>\n",
       "    <tr>\n",
       "      <th>6</th>\n",
       "      <td>573014</td>\n",
       "      <td>2013-01-11</td>\n",
       "      <td>Melbourne Cricket Ground</td>\n",
       "      <td>Australia</td>\n",
       "      <td>Sri Lanka</td>\n",
       "      <td>Australia</td>\n",
       "      <td>runs</td>\n",
       "      <td>107</td>\n",
       "      <td>Australia</td>\n",
       "      <td>PJ Hughes</td>\n",
       "      <td>...</td>\n",
       "      <td>not_bowled</td>\n",
       "      <td>0</td>\n",
       "      <td>not_bowled</td>\n",
       "      <td>0</td>\n",
       "      <td>not_bowled</td>\n",
       "      <td>0</td>\n",
       "      <td>not_bowled</td>\n",
       "      <td>0</td>\n",
       "      <td>305</td>\n",
       "      <td>10</td>\n",
       "    </tr>\n",
       "    <tr>\n",
       "      <th>8</th>\n",
       "      <td>573015</td>\n",
       "      <td>2013-01-13</td>\n",
       "      <td>Adelaide Oval</td>\n",
       "      <td>Australia</td>\n",
       "      <td>Sri Lanka</td>\n",
       "      <td>Sri Lanka</td>\n",
       "      <td>wickets</td>\n",
       "      <td>8</td>\n",
       "      <td>Sri Lanka</td>\n",
       "      <td>HDRL Thirimanne</td>\n",
       "      <td>...</td>\n",
       "      <td>not_bowled</td>\n",
       "      <td>0</td>\n",
       "      <td>not_bowled</td>\n",
       "      <td>0</td>\n",
       "      <td>not_bowled</td>\n",
       "      <td>0</td>\n",
       "      <td>not_bowled</td>\n",
       "      <td>0</td>\n",
       "      <td>170</td>\n",
       "      <td>2</td>\n",
       "    </tr>\n",
       "  </tbody>\n",
       "</table>\n",
       "<p>5 rows × 58 columns</p>\n",
       "</div>"
      ],
      "text/plain": [
       "   match_id       date                  location first_innings second_innings  \\\n",
       "0    589309 2013-01-03                   Kolkata      Pakistan          India   \n",
       "2    589310 2013-01-06                     Delhi         India       Pakistan   \n",
       "4    565812 2013-01-11                    Rajkot       England          India   \n",
       "6    573014 2013-01-11  Melbourne Cricket Ground     Australia      Sri Lanka   \n",
       "8    573015 2013-01-13             Adelaide Oval     Australia      Sri Lanka   \n",
       "\n",
       "      winner   win_by  win_dif toss_winner  player_of_match  ...    bowler_8  \\\n",
       "0   Pakistan     runs       85       India    Nasir Jamshed  ...  not_bowled   \n",
       "2      India     runs       10       India         MS Dhoni  ...  not_bowled   \n",
       "4    England     runs        9     England      JC Tredwell  ...  not_bowled   \n",
       "6  Australia     runs      107   Australia        PJ Hughes  ...  not_bowled   \n",
       "8  Sri Lanka  wickets        8   Sri Lanka  HDRL Thirimanne  ...  not_bowled   \n",
       "\n",
       "  bowler_8_wickets    bowler_9  bowler_9_wickets   bowler_10  \\\n",
       "0                0  not_bowled                 0  not_bowled   \n",
       "2                0  not_bowled                 0  not_bowled   \n",
       "4                0  not_bowled                 0  not_bowled   \n",
       "6                0  not_bowled                 0  not_bowled   \n",
       "8                0  not_bowled                 0  not_bowled   \n",
       "\n",
       "   bowler_10_wickets   bowler_11  bowler_11_wickets total_run  total_wickets  \n",
       "0                  0  not_bowled                  0       250             10  \n",
       "2                  0  not_bowled                  0       167             10  \n",
       "4                  0  not_bowled                  0       325              9  \n",
       "6                  0  not_bowled                  0       305             10  \n",
       "8                  0  not_bowled                  0       170              2  \n",
       "\n",
       "[5 rows x 58 columns]"
      ]
     },
     "execution_count": 13,
     "metadata": {},
     "output_type": "execute_result"
    }
   ],
   "source": [
    "recent_match_summary_df.head()"
   ]
  },
  {
   "cell_type": "code",
   "execution_count": 14,
   "metadata": {},
   "outputs": [],
   "source": [
    "#recent_match_summary_df.iloc[recent_match_summary_df.shape[0]-1]"
   ]
  },
  {
   "cell_type": "code",
   "execution_count": 178,
   "metadata": {},
   "outputs": [
    {
     "data": {
      "application/vnd.jupyter.widget-view+json": {
       "model_id": "4ed7a17076d44b5bb25d0374ece4122b",
       "version_major": 2,
       "version_minor": 0
      },
      "text/plain": [
       "HBox(children=(FloatProgress(value=0.0, max=781.0), HTML(value='')))"
      ]
     },
     "metadata": {},
     "output_type": "display_data"
    },
    {
     "name": "stdout",
     "output_type": "stream",
     "text": [
      "\n"
     ]
    }
   ],
   "source": [
    "encoding_train_list = []\n",
    "encoding_test_list = []\n",
    "\n",
    "target_train_list = []\n",
    "target_test_list =[]\n",
    "no_of_rows = recent_match_summary_df.shape[0]\n",
    "#print(no_of_rows)\n",
    "for pos in tqdm(range(no_of_rows)):\n",
    "    match_details = recent_match_summary_df.iloc[pos]\n",
    "    location = match_details['location']\n",
    "    team = match_details['first_innings']\n",
    "    opposition = match_details['second_innings']\n",
    "    total_run = match_details['total_run']\n",
    "    is_train = match_details['train_data']\n",
    "    \n",
    "    loc_oh = loc_enc_map_for_batsman[location]\n",
    "    opposition_oh = country_enc_map[opposition]\n",
    "    \n",
    "    batsman_oh_list =[]\n",
    "    position_oh_list =[]\n",
    "    loc_oh_list =[]\n",
    "    opposition_oh_list =[]\n",
    "    #print('getting batsman details')\n",
    "    for bi in range(11):\n",
    "        batsman = match_details['batsman_'+str(bi+1)]\n",
    "        if batsman == 'not_batted':\n",
    "            break\n",
    "            #batsman_oh = batsman_enc_map[batsman]\n",
    "        else:\n",
    "            batsman_oh = batsman_enc_map[team.strip()+' '+batsman.strip()]\n",
    "        position_oh = get_oh_pos(bi+1)\n",
    "        \n",
    "        batsman_oh_list.append(batsman_oh)\n",
    "        position_oh_list.append(position_oh)\n",
    "        loc_oh_list.append(loc_oh)\n",
    "        opposition_oh_list.append(opposition_oh)\n",
    "        \n",
    "    batsman_mat = np.stack(batsman_oh_list)\n",
    "    position_mat = np.stack(position_oh_list)\n",
    "    loc_mat = np.stack(loc_oh_list)\n",
    "    opposition_mat = np.stack(opposition_oh_list)\n",
    "    #print('encoding')\n",
    "    batsman_group_enc_mat = batsman_group_encode_model.predict([batsman_mat,position_mat,loc_mat,opposition_mat])\n",
    "    batsman_mean =  batsman_group_enc_mat.sum(axis=0) \n",
    "    #batsman_mean = batsman_group_enc_mat.reshape(-1)\n",
    "    \n",
    "    if is_train:\n",
    "        encoding_train_list.append(batsman_mean)\n",
    "        target_train_list.append(total_run)\n",
    "    else:\n",
    "        encoding_test_list.append(batsman_mean)\n",
    "        target_test_list.append(total_run)\n",
    "    \n",
    "    \n",
    "    "
   ]
  },
  {
   "cell_type": "code",
   "execution_count": 179,
   "metadata": {},
   "outputs": [],
   "source": [
    "scaler = StandardScaler()\n",
    "\n",
    "encoding_mat_train = np.stack(encoding_train_list)\n",
    "train_x = scaler.fit_transform(encoding_mat_train)\n",
    "train_y = np.stack(target_train_list)\n",
    "\n",
    "encoding_mat_test = np.stack(encoding_test_list)\n",
    "test_x = scaler.transform(encoding_mat_test)\n",
    "test_y = np.stack(target_test_list)"
   ]
  },
  {
   "cell_type": "code",
   "execution_count": 180,
   "metadata": {},
   "outputs": [
    {
     "data": {
      "text/plain": [
       "LinearRegression()"
      ]
     },
     "execution_count": 180,
     "metadata": {},
     "output_type": "execute_result"
    }
   ],
   "source": [
    "lr = LinearRegression()\n",
    "#lr.fit(train_x,train_y)\n",
    "lr.fit(encoding_mat_train,train_y)"
   ]
  },
  {
   "cell_type": "code",
   "execution_count": 181,
   "metadata": {},
   "outputs": [],
   "source": [
    "#train_y_predict = lr.predict(train_x)\n",
    "#test_y_predict = lr.predict(test_x)\n",
    "\n",
    "train_y_predict = lr.predict(encoding_mat_train)\n",
    "test_y_predict = lr.predict(encoding_mat_test)"
   ]
  },
  {
   "cell_type": "code",
   "execution_count": 182,
   "metadata": {},
   "outputs": [
    {
     "data": {
      "text/plain": [
       "(15.954402022846267, 20.562788670042373)"
      ]
     },
     "execution_count": 182,
     "metadata": {},
     "output_type": "execute_result"
    }
   ],
   "source": [
    "mape(train_y,train_y_predict),mape(test_y,test_y_predict)"
   ]
  },
  {
   "cell_type": "code",
   "execution_count": 183,
   "metadata": {},
   "outputs": [
    {
     "data": {
      "text/plain": [
       "(165,)"
      ]
     },
     "execution_count": 183,
     "metadata": {},
     "output_type": "execute_result"
    }
   ],
   "source": [
    "test_y.shape"
   ]
  },
  {
   "cell_type": "code",
   "execution_count": 184,
   "metadata": {},
   "outputs": [
    {
     "data": {
      "text/plain": [
       "(33.747131942154525, 43.53522024443655)"
      ]
     },
     "execution_count": 184,
     "metadata": {},
     "output_type": "execute_result"
    }
   ],
   "source": [
    "mean_absolute_error(train_y,train_y_predict),mean_absolute_error(test_y,test_y_predict)"
   ]
  },
  {
   "cell_type": "markdown",
   "metadata": {},
   "source": [
    "# Combining with team embedding"
   ]
  },
  {
   "cell_type": "code",
   "execution_count": 124,
   "metadata": {},
   "outputs": [],
   "source": [
    "#country_enc_map=pickle.load(open('country_enc_map.pkl','rb'))\n",
    "loc_enc_map=pickle.load(open('loc_enc_map.pkl','rb'))\n",
    "group_encode_model_V2 = load_model('group_encode_model_V2')\n",
    "\n",
    "#v1\n",
    "enc_map = pickle.load(open('country_location_enc_map.pkl','rb'))\n",
    "group_encode_model_V1 = load_model('group_encode_model')"
   ]
  },
  {
   "cell_type": "code",
   "execution_count": 135,
   "metadata": {},
   "outputs": [
    {
     "data": {
      "application/vnd.jupyter.widget-view+json": {
       "model_id": "a9ba3b40f57443c3a3b42b64418f1244",
       "version_major": 2,
       "version_minor": 0
      },
      "text/plain": [
       "HBox(children=(FloatProgress(value=0.0, max=781.0), HTML(value='')))"
      ]
     },
     "metadata": {},
     "output_type": "display_data"
    },
    {
     "name": "stdout",
     "output_type": "stream",
     "text": [
      "\n"
     ]
    }
   ],
   "source": [
    "encoding_train_list = []\n",
    "encoding_test_list = []\n",
    "\n",
    "target_train_list = []\n",
    "target_test_list =[]\n",
    "no_of_rows = recent_match_summary_df.shape[0]\n",
    "#print(no_of_rows)\n",
    "for pos in tqdm(range(no_of_rows)):\n",
    "    match_details = recent_match_summary_df.iloc[pos]\n",
    "    location = match_details['location']\n",
    "    team = match_details['first_innings']\n",
    "    opposition = match_details['second_innings']\n",
    "    total_run = match_details['total_run']\n",
    "    is_train = match_details['train_data']\n",
    "    \n",
    "    loc_oh = loc_enc_map_for_batsman[location]\n",
    "    opposition_oh = country_enc_map[opposition]\n",
    "    \n",
    "    batsman_oh_list =[]\n",
    "    position_oh_list =[]\n",
    "    loc_oh_list =[]\n",
    "    opposition_oh_list =[]\n",
    "    #print('getting batsman details')\n",
    "    for bi in range(11):\n",
    "        batsman = match_details['batsman_'+str(bi+1)]\n",
    "        if batsman == 'not_batted':\n",
    "            break\n",
    "            #batsman_oh = batsman_enc_map[batsman]\n",
    "        else:\n",
    "            batsman_oh = batsman_enc_map[team.strip()+' '+batsman.strip()]\n",
    "        position_oh = get_oh_pos(bi+1)\n",
    "        \n",
    "        batsman_oh_list.append(batsman_oh)\n",
    "        position_oh_list.append(position_oh)\n",
    "        loc_oh_list.append(loc_oh)\n",
    "        opposition_oh_list.append(opposition_oh)\n",
    "        \n",
    "    batsman_mat = np.stack(batsman_oh_list)\n",
    "    position_mat = np.stack(position_oh_list)\n",
    "    loc_mat = np.stack(loc_oh_list)\n",
    "    opposition_mat = np.stack(opposition_oh_list)\n",
    "    #print('encoding')\n",
    "    batsman_group_enc_mat = batsman_group_encode_model.predict([batsman_mat,position_mat,loc_mat,opposition_mat])\n",
    "    batsman_mean =  batsman_group_enc_mat.sum(axis=0) \n",
    "    #batsman_mean = batsman_group_enc_mat.reshape(-1)\n",
    "    \n",
    "    ##create team_encoding with V2\n",
    "    \n",
    "    team_oh_v = np.array(country_enc_map[team]).reshape(1,-1)\n",
    "    opponent_oh_v = np.array(opposition_oh).reshape(1,-1)\n",
    "    if location not in loc_enc_map:\n",
    "        continue\n",
    "    loc_oh_v=np.array(loc_enc_map[location]).reshape(1,-1)\n",
    "    country_enc_vec = group_encode_model_V2.predict([team_oh_v,opponent_oh_v,loc_oh_v]).reshape(-1)\n",
    "\n",
    "    ##create team_encoding with V1\n",
    "    \n",
    "#     team_oh_v = np.array(enc_map[team]).reshape(1,-1)\n",
    "#     opponent_oh_v = np.array(enc_map[opposition]).reshape(1,-1)\n",
    "#     if location not in loc_enc_map:\n",
    "#         continue\n",
    "#     loc_oh_v=np.array(enc_map[location]).reshape(1,-1)\n",
    "#     country_enc_vec = group_encode_model_V1.predict([team_oh_v,opponent_oh_v,loc_oh_v]).reshape(-1)\n",
    "    \n",
    "    final_vector = np.concatenate([batsman_mean,country_enc_vec])\n",
    "    \n",
    "    if is_train:\n",
    "        encoding_train_list.append(final_vector)\n",
    "        target_train_list.append(total_run)\n",
    "    else:\n",
    "        encoding_test_list.append(final_vector)\n",
    "        target_test_list.append(total_run)"
   ]
  },
  {
   "cell_type": "code",
   "execution_count": 136,
   "metadata": {},
   "outputs": [],
   "source": [
    "scaler_exp = StandardScaler()\n",
    "\n",
    "encoding_mat_train = np.stack(encoding_train_list)\n",
    "train_x = scaler_exp.fit_transform(encoding_mat_train)\n",
    "train_y = np.stack(target_train_list)\n",
    "\n",
    "encoding_mat_test = np.stack(encoding_test_list)\n",
    "test_x = scaler_exp.transform(encoding_mat_test)\n",
    "test_y = np.stack(target_test_list)"
   ]
  },
  {
   "cell_type": "code",
   "execution_count": 137,
   "metadata": {},
   "outputs": [
    {
     "data": {
      "text/plain": [
       "LinearRegression()"
      ]
     },
     "execution_count": 137,
     "metadata": {},
     "output_type": "execute_result"
    }
   ],
   "source": [
    "lr_exp = LinearRegression()\n",
    "lr_exp.fit(train_x,train_y)\n",
    "#lr.fit(encoding_mat_train,train_y)"
   ]
  },
  {
   "cell_type": "code",
   "execution_count": 138,
   "metadata": {},
   "outputs": [],
   "source": [
    "train_y_predict = lr_exp.predict(train_x)\n",
    "test_y_predict = lr_exp.predict(test_x)\n",
    "\n",
    "#train_y_predict = lr.predict(encoding_mat_train)\n",
    "#test_y_predict = lr.predict(encoding_mat_test)"
   ]
  },
  {
   "cell_type": "code",
   "execution_count": 139,
   "metadata": {},
   "outputs": [
    {
     "data": {
      "text/plain": [
       "(15.183808804019803, 20.152482658521194)"
      ]
     },
     "execution_count": 139,
     "metadata": {},
     "output_type": "execute_result"
    }
   ],
   "source": [
    "mape(train_y,train_y_predict),mape(test_y,test_y_predict)"
   ]
  },
  {
   "cell_type": "markdown",
   "metadata": {},
   "source": []
  },
  {
   "cell_type": "markdown",
   "metadata": {},
   "source": [
    "# Combining with team embedding + engineered features"
   ]
  },
  {
   "cell_type": "code",
   "execution_count": 185,
   "metadata": {},
   "outputs": [],
   "source": [
    "#country_enc_map=pickle.load(open('country_enc_map.pkl','rb'))\n",
    "loc_enc_map=pickle.load(open('loc_enc_map.pkl','rb'))\n",
    "group_encode_model_V2 = load_model('group_encode_model_V2')\n",
    "\n",
    "#v1\n",
    "enc_map = pickle.load(open('country_location_enc_map.pkl','rb'))\n",
    "group_encode_model_V1 = load_model('group_encode_model')\n",
    "\n",
    "feature_df = pd.read_csv('csv_data/feature_first_innings.csv',parse_dates=['match_date'],date_parser=custom_date_parser)\n",
    "#feature_df.dropna(inplace=True)\n",
    "\n",
    "feature_columns = ['team_score', 'opponent_score', 'location_base', 'location_mean','batsman_mean', 'batsman_max', 'bowler_mean']\n",
    "       \n",
    "\n",
    "feature_match_id_list = list(feature_df['match_id'].unique())"
   ]
  },
  {
   "cell_type": "code",
   "execution_count": 194,
   "metadata": {},
   "outputs": [
    {
     "data": {
      "application/vnd.jupyter.widget-view+json": {
       "model_id": "ca815ef9a9b74a8bb7c8f7ea5bc52bd4",
       "version_major": 2,
       "version_minor": 0
      },
      "text/plain": [
       "HBox(children=(FloatProgress(value=0.0, max=781.0), HTML(value='')))"
      ]
     },
     "metadata": {},
     "output_type": "display_data"
    },
    {
     "name": "stdout",
     "output_type": "stream",
     "text": [
      "\n"
     ]
    }
   ],
   "source": [
    "match_id_train_list = []\n",
    "match_id_test_list = []\n",
    "\n",
    "encoding_train_list = []\n",
    "encoding_test_list = []\n",
    "\n",
    "target_train_list = []\n",
    "target_test_list =[]\n",
    "no_of_rows = recent_match_summary_df.shape[0]\n",
    "#print(no_of_rows)\n",
    "for pos in tqdm(range(no_of_rows)):\n",
    "    match_details = recent_match_summary_df.iloc[pos]\n",
    "    match_id = match_details['match_id']\n",
    "    if match_id not in feature_match_id_list:\n",
    "        continue\n",
    "    location = match_details['location']\n",
    "    team = match_details['first_innings']\n",
    "    opposition = match_details['second_innings']\n",
    "    total_run = match_details['total_run']\n",
    "    is_train = match_details['train_data']\n",
    "    \n",
    "    loc_oh = loc_enc_map_for_batsman[location]\n",
    "    opposition_oh = country_enc_map[opposition]\n",
    "    \n",
    "    batsman_oh_list =[]\n",
    "    position_oh_list =[]\n",
    "    loc_oh_list =[]\n",
    "    opposition_oh_list =[]\n",
    "    #print('getting batsman details')\n",
    "    for bi in range(11):\n",
    "        batsman = match_details['batsman_'+str(bi+1)]\n",
    "        if batsman == 'not_batted':\n",
    "            break\n",
    "            #batsman_oh = batsman_enc_map[batsman]\n",
    "        else:\n",
    "            batsman_oh = batsman_enc_map[team.strip()+' '+batsman.strip()]\n",
    "        position_oh = get_oh_pos(bi+1)\n",
    "        \n",
    "        batsman_oh_list.append(batsman_oh)\n",
    "        position_oh_list.append(position_oh)\n",
    "        loc_oh_list.append(loc_oh)\n",
    "        opposition_oh_list.append(opposition_oh)\n",
    "        \n",
    "    batsman_mat = np.stack(batsman_oh_list)\n",
    "    position_mat = np.stack(position_oh_list)\n",
    "    loc_mat = np.stack(loc_oh_list)\n",
    "    opposition_mat = np.stack(opposition_oh_list)\n",
    "    #print('encoding')\n",
    "    batsman_group_enc_mat = batsman_group_encode_model.predict([batsman_mat,position_mat,loc_mat,opposition_mat])\n",
    "    batsman_mean =  batsman_group_enc_mat.sum(axis=0) \n",
    "    #batsman_mean = batsman_group_enc_mat.reshape(-1)\n",
    "    \n",
    "    ##create team_encoding with V2\n",
    "    \n",
    "    team_oh_v = np.array(country_enc_map[team]).reshape(1,-1)\n",
    "    opponent_oh_v = np.array(opposition_oh).reshape(1,-1)\n",
    "    if location not in loc_enc_map:\n",
    "        continue\n",
    "    loc_oh_v=np.array(loc_enc_map[location]).reshape(1,-1)\n",
    "    country_enc_vec = group_encode_model_V2.predict([team_oh_v,opponent_oh_v,loc_oh_v]).reshape(-1)\n",
    "\n",
    "    ##create team_encoding with V1\n",
    "    \n",
    "#     team_oh_v = np.array(enc_map[team]).reshape(1,-1)\n",
    "#     opponent_oh_v = np.array(enc_map[opposition]).reshape(1,-1)\n",
    "#     if location not in loc_enc_map:\n",
    "#         continue\n",
    "#     loc_oh_v=np.array(enc_map[location]).reshape(1,-1)\n",
    "#     country_enc_vec = group_encode_model_V1.predict([team_oh_v,opponent_oh_v,loc_oh_v]).reshape(-1)\n",
    "    \n",
    "    #engineered_features\n",
    "    \n",
    "    feature_vector = np.array(feature_df[feature_df['match_id']==match_id][feature_columns]).reshape(-1)\n",
    "    \n",
    "    final_vector = np.concatenate([batsman_mean,country_enc_vec,feature_vector])\n",
    "    \n",
    "    if is_train:\n",
    "        encoding_train_list.append(final_vector)\n",
    "        target_train_list.append(total_run)\n",
    "        match_id_train_list.append(match_id)\n",
    "    else:\n",
    "        encoding_test_list.append(final_vector)\n",
    "        target_test_list.append(total_run)\n",
    "        match_id_test_list.append(match_id)"
   ]
  },
  {
   "cell_type": "code",
   "execution_count": 195,
   "metadata": {},
   "outputs": [],
   "source": [
    "scaler_exp_2 = StandardScaler()\n",
    "\n",
    "encoding_mat_train = np.stack(encoding_train_list)\n",
    "train_x = scaler_exp_2.fit_transform(encoding_mat_train)\n",
    "train_y = np.stack(target_train_list)\n",
    "\n",
    "encoding_mat_test = np.stack(encoding_test_list)\n",
    "test_x = scaler_exp_2.transform(encoding_mat_test)\n",
    "test_y = np.stack(target_test_list)"
   ]
  },
  {
   "cell_type": "code",
   "execution_count": 196,
   "metadata": {},
   "outputs": [
    {
     "data": {
      "text/plain": [
       "LinearRegression()"
      ]
     },
     "execution_count": 196,
     "metadata": {},
     "output_type": "execute_result"
    }
   ],
   "source": [
    "lr_exp_2 = LinearRegression()\n",
    "lr_exp_2.fit(train_x,train_y)\n",
    "#lr.fit(encoding_mat_train,train_y)"
   ]
  },
  {
   "cell_type": "code",
   "execution_count": 197,
   "metadata": {},
   "outputs": [],
   "source": [
    "train_y_predict = lr_exp_2.predict(train_x)\n",
    "test_y_predict = lr_exp_2.predict(test_x)\n",
    "\n",
    "#train_y_predict = lr.predict(encoding_mat_train)\n",
    "#test_y_predict = lr.predict(encoding_mat_test)"
   ]
  },
  {
   "cell_type": "code",
   "execution_count": 198,
   "metadata": {},
   "outputs": [
    {
     "data": {
      "text/plain": [
       "(14.8768839853773, 18.43278736845787)"
      ]
     },
     "execution_count": 198,
     "metadata": {},
     "output_type": "execute_result"
    }
   ],
   "source": [
    "mape(train_y,train_y_predict),mape(test_y,test_y_predict)"
   ]
  },
  {
   "cell_type": "code",
   "execution_count": 199,
   "metadata": {},
   "outputs": [
    {
     "data": {
      "text/plain": [
       "(32.11337307271952, 39.05964316798236)"
      ]
     },
     "execution_count": 199,
     "metadata": {},
     "output_type": "execute_result"
    }
   ],
   "source": [
    "mean_absolute_error(train_y,train_y_predict),mean_absolute_error(test_y,test_y_predict)"
   ]
  },
  {
   "cell_type": "code",
   "execution_count": 200,
   "metadata": {},
   "outputs": [
    {
     "data": {
      "text/plain": [
       "(109,)"
      ]
     },
     "execution_count": 200,
     "metadata": {},
     "output_type": "execute_result"
    }
   ],
   "source": [
    "test_y.shape"
   ]
  },
  {
   "cell_type": "code",
   "execution_count": 201,
   "metadata": {},
   "outputs": [],
   "source": [
    "pickle.dump(scaler_exp_2,open('scaler_combined_embedding_first_innings_regression.pkl','wb'))\n",
    "pickle.dump(lr_exp_2,open('combined_embedding_first_innings_regression.pkl','wb'))"
   ]
  },
  {
   "cell_type": "markdown",
   "metadata": {},
   "source": [
    "# Create a prediction output to be used with second innings"
   ]
  },
  {
   "cell_type": "code",
   "execution_count": 202,
   "metadata": {},
   "outputs": [],
   "source": [
    "embedding_prediction_train  = pd.DataFrame()\n",
    "embedding_prediction_test = pd.DataFrame()"
   ]
  },
  {
   "cell_type": "code",
   "execution_count": 203,
   "metadata": {},
   "outputs": [
    {
     "data": {
      "text/html": [
       "<div>\n",
       "<style scoped>\n",
       "    .dataframe tbody tr th:only-of-type {\n",
       "        vertical-align: middle;\n",
       "    }\n",
       "\n",
       "    .dataframe tbody tr th {\n",
       "        vertical-align: top;\n",
       "    }\n",
       "\n",
       "    .dataframe thead th {\n",
       "        text-align: right;\n",
       "    }\n",
       "</style>\n",
       "<table border=\"1\" class=\"dataframe\">\n",
       "  <thead>\n",
       "    <tr style=\"text-align: right;\">\n",
       "      <th></th>\n",
       "      <th>match_id</th>\n",
       "      <th>actual_first_innings_runs</th>\n",
       "      <th>predicted_first_innings_runs</th>\n",
       "    </tr>\n",
       "  </thead>\n",
       "  <tbody>\n",
       "    <tr>\n",
       "      <th>0</th>\n",
       "      <td>589310</td>\n",
       "      <td>167</td>\n",
       "      <td>197.353320</td>\n",
       "    </tr>\n",
       "    <tr>\n",
       "      <th>1</th>\n",
       "      <td>573014</td>\n",
       "      <td>305</td>\n",
       "      <td>317.553760</td>\n",
       "    </tr>\n",
       "    <tr>\n",
       "      <th>2</th>\n",
       "      <td>573015</td>\n",
       "      <td>170</td>\n",
       "      <td>226.370265</td>\n",
       "    </tr>\n",
       "    <tr>\n",
       "      <th>3</th>\n",
       "      <td>565813</td>\n",
       "      <td>285</td>\n",
       "      <td>262.486889</td>\n",
       "    </tr>\n",
       "    <tr>\n",
       "      <th>4</th>\n",
       "      <td>573016</td>\n",
       "      <td>74</td>\n",
       "      <td>191.690613</td>\n",
       "    </tr>\n",
       "  </tbody>\n",
       "</table>\n",
       "</div>"
      ],
      "text/plain": [
       "   match_id  actual_first_innings_runs  predicted_first_innings_runs\n",
       "0    589310                        167                    197.353320\n",
       "1    573014                        305                    317.553760\n",
       "2    573015                        170                    226.370265\n",
       "3    565813                        285                    262.486889\n",
       "4    573016                         74                    191.690613"
      ]
     },
     "execution_count": 203,
     "metadata": {},
     "output_type": "execute_result"
    }
   ],
   "source": [
    "embedding_prediction_train['match_id']=match_id_train_list\n",
    "embedding_prediction_train['actual_first_innings_runs']=target_train_list\n",
    "embedding_prediction_train['predicted_first_innings_runs']=train_y_predict\n",
    "embedding_prediction_train.head()"
   ]
  },
  {
   "cell_type": "code",
   "execution_count": 204,
   "metadata": {},
   "outputs": [
    {
     "data": {
      "text/html": [
       "<div>\n",
       "<style scoped>\n",
       "    .dataframe tbody tr th:only-of-type {\n",
       "        vertical-align: middle;\n",
       "    }\n",
       "\n",
       "    .dataframe tbody tr th {\n",
       "        vertical-align: top;\n",
       "    }\n",
       "\n",
       "    .dataframe thead th {\n",
       "        text-align: right;\n",
       "    }\n",
       "</style>\n",
       "<table border=\"1\" class=\"dataframe\">\n",
       "  <thead>\n",
       "    <tr style=\"text-align: right;\">\n",
       "      <th></th>\n",
       "      <th>match_id</th>\n",
       "      <th>actual_first_innings_runs</th>\n",
       "      <th>predicted_first_innings_runs</th>\n",
       "    </tr>\n",
       "  </thead>\n",
       "  <tbody>\n",
       "    <tr>\n",
       "      <th>0</th>\n",
       "      <td>1153840</td>\n",
       "      <td>371</td>\n",
       "      <td>317.416427</td>\n",
       "    </tr>\n",
       "    <tr>\n",
       "      <th>1</th>\n",
       "      <td>1153841</td>\n",
       "      <td>319</td>\n",
       "      <td>311.965355</td>\n",
       "    </tr>\n",
       "    <tr>\n",
       "      <th>2</th>\n",
       "      <td>1153842</td>\n",
       "      <td>364</td>\n",
       "      <td>379.835877</td>\n",
       "    </tr>\n",
       "    <tr>\n",
       "      <th>3</th>\n",
       "      <td>1144156</td>\n",
       "      <td>266</td>\n",
       "      <td>315.114730</td>\n",
       "    </tr>\n",
       "    <tr>\n",
       "      <th>4</th>\n",
       "      <td>1144157</td>\n",
       "      <td>203</td>\n",
       "      <td>250.437164</td>\n",
       "    </tr>\n",
       "  </tbody>\n",
       "</table>\n",
       "</div>"
      ],
      "text/plain": [
       "   match_id  actual_first_innings_runs  predicted_first_innings_runs\n",
       "0   1153840                        371                    317.416427\n",
       "1   1153841                        319                    311.965355\n",
       "2   1153842                        364                    379.835877\n",
       "3   1144156                        266                    315.114730\n",
       "4   1144157                        203                    250.437164"
      ]
     },
     "execution_count": 204,
     "metadata": {},
     "output_type": "execute_result"
    }
   ],
   "source": [
    "embedding_prediction_test['match_id']=match_id_test_list\n",
    "embedding_prediction_test['actual_first_innings_runs']=target_test_list\n",
    "embedding_prediction_test['predicted_first_innings_runs']=test_y_predict\n",
    "embedding_prediction_test.head()"
   ]
  },
  {
   "cell_type": "code",
   "execution_count": 207,
   "metadata": {},
   "outputs": [],
   "source": [
    "embedding_prediction_train.to_csv('csv_data/first_innings_embedding_prediction_train.csv',index=False)\n",
    "embedding_prediction_test.to_csv('csv_data/first_innings_embedding_prediction_test.csv',index=False)"
   ]
  },
  {
   "cell_type": "code",
   "execution_count": null,
   "metadata": {},
   "outputs": [],
   "source": []
  }
 ],
 "metadata": {
  "kernelspec": {
   "display_name": "tensor230",
   "language": "python",
   "name": "tensor230"
  },
  "language_info": {
   "codemirror_mode": {
    "name": "ipython",
    "version": 3
   },
   "file_extension": ".py",
   "mimetype": "text/x-python",
   "name": "python",
   "nbconvert_exporter": "python",
   "pygments_lexer": "ipython3",
   "version": "3.6.10"
  }
 },
 "nbformat": 4,
 "nbformat_minor": 4
}
