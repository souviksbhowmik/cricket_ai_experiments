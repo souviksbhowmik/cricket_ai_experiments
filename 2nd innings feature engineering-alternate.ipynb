{
 "cells": [
  {
   "cell_type": "markdown",
   "metadata": {},
   "source": [
    "In this notebook thesecond innnings feature engineering will consider the historical wins against , same team, location and and last 5"
   ]
  },
  {
   "cell_type": "code",
   "execution_count": 1,
   "metadata": {},
   "outputs": [],
   "source": [
    "import pandas as pd\n",
    "import numpy as np\n",
    "from datetime import datetime\n",
    "from matplotlib import pyplot as plt\n",
    "from sklearn.preprocessing import MinMaxScaler\n",
    "from tqdm.notebook import tqdm\n",
    "\n",
    "from sklearn.linear_model import LinearRegression"
   ]
  },
  {
   "cell_type": "code",
   "execution_count": 2,
   "metadata": {},
   "outputs": [],
   "source": [
    "#!ls csv_data/"
   ]
  },
  {
   "cell_type": "code",
   "execution_count": 3,
   "metadata": {},
   "outputs": [],
   "source": [
    "custom_date_parser = lambda x: datetime.strptime(x, \"%Y-%m-%d\")"
   ]
  },
  {
   "cell_type": "code",
   "execution_count": 4,
   "metadata": {},
   "outputs": [],
   "source": [
    "cutoff_start_year = '2009'\n",
    "cutoff_start_date = datetime.strptime(cutoff_start_year+'-01-01','%Y-%m-%d')"
   ]
  },
  {
   "cell_type": "code",
   "execution_count": 5,
   "metadata": {},
   "outputs": [],
   "source": [
    "match_summary_df = pd.read_csv('csv_data/match_list.csv',parse_dates=['date'],date_parser=custom_date_parser)\n",
    "#country_rank_df = pd.read_csv('csv_data/')"
   ]
  },
  {
   "cell_type": "code",
   "execution_count": 6,
   "metadata": {},
   "outputs": [
    {
     "data": {
      "text/plain": [
       "(1171, 11)"
      ]
     },
     "execution_count": 6,
     "metadata": {},
     "output_type": "execute_result"
    }
   ],
   "source": [
    "recent_match_summary_df = match_summary_df[match_summary_df['date']>=cutoff_start_date]\n",
    "recent_match_summary_df.shape"
   ]
  },
  {
   "cell_type": "code",
   "execution_count": 7,
   "metadata": {},
   "outputs": [
    {
     "data": {
      "text/html": [
       "<div>\n",
       "<style scoped>\n",
       "    .dataframe tbody tr th:only-of-type {\n",
       "        vertical-align: middle;\n",
       "    }\n",
       "\n",
       "    .dataframe tbody tr th {\n",
       "        vertical-align: top;\n",
       "    }\n",
       "\n",
       "    .dataframe thead th {\n",
       "        text-align: right;\n",
       "    }\n",
       "</style>\n",
       "<table border=\"1\" class=\"dataframe\">\n",
       "  <thead>\n",
       "    <tr style=\"text-align: right;\">\n",
       "      <th></th>\n",
       "      <th>match_id</th>\n",
       "      <th>date</th>\n",
       "      <th>location</th>\n",
       "      <th>first_innings</th>\n",
       "      <th>second_innings</th>\n",
       "      <th>winner</th>\n",
       "      <th>win_by</th>\n",
       "      <th>win_dif</th>\n",
       "      <th>toss_winner</th>\n",
       "      <th>player_of_match</th>\n",
       "      <th>train_data</th>\n",
       "    </tr>\n",
       "  </thead>\n",
       "  <tbody>\n",
       "    <tr>\n",
       "      <th>206</th>\n",
       "      <td>366711</td>\n",
       "      <td>2009-01-07</td>\n",
       "      <td>Wellington</td>\n",
       "      <td>West Indies</td>\n",
       "      <td>New Zealand</td>\n",
       "      <td>New Zealand</td>\n",
       "      <td>wickets</td>\n",
       "      <td>7</td>\n",
       "      <td>New Zealand</td>\n",
       "      <td>DL Vettori</td>\n",
       "      <td>True</td>\n",
       "    </tr>\n",
       "    <tr>\n",
       "      <th>207</th>\n",
       "      <td>378753</td>\n",
       "      <td>2009-01-10</td>\n",
       "      <td>Mirpur</td>\n",
       "      <td>Zimbabwe</td>\n",
       "      <td>Bangladesh</td>\n",
       "      <td>Zimbabwe</td>\n",
       "      <td>runs</td>\n",
       "      <td>38</td>\n",
       "      <td>Bangladesh</td>\n",
       "      <td>E Chigumbura</td>\n",
       "      <td>True</td>\n",
       "    </tr>\n",
       "    <tr>\n",
       "      <th>208</th>\n",
       "      <td>378755</td>\n",
       "      <td>2009-01-14</td>\n",
       "      <td>Mirpur</td>\n",
       "      <td>Sri Lanka</td>\n",
       "      <td>Bangladesh</td>\n",
       "      <td>Bangladesh</td>\n",
       "      <td>wickets</td>\n",
       "      <td>5</td>\n",
       "      <td>Bangladesh</td>\n",
       "      <td>Shakib Al Hasan</td>\n",
       "      <td>True</td>\n",
       "    </tr>\n",
       "    <tr>\n",
       "      <th>209</th>\n",
       "      <td>351684</td>\n",
       "      <td>2009-01-16</td>\n",
       "      <td>Melbourne Cricket Ground</td>\n",
       "      <td>Australia</td>\n",
       "      <td>South Africa</td>\n",
       "      <td>South Africa</td>\n",
       "      <td>wickets</td>\n",
       "      <td>3</td>\n",
       "      <td>Australia</td>\n",
       "      <td>JA Morkel</td>\n",
       "      <td>True</td>\n",
       "    </tr>\n",
       "    <tr>\n",
       "      <th>210</th>\n",
       "      <td>351685</td>\n",
       "      <td>2009-01-18</td>\n",
       "      <td>Hobart</td>\n",
       "      <td>Australia</td>\n",
       "      <td>South Africa</td>\n",
       "      <td>Australia</td>\n",
       "      <td>runs</td>\n",
       "      <td>5</td>\n",
       "      <td>South Africa</td>\n",
       "      <td>SE Marsh</td>\n",
       "      <td>True</td>\n",
       "    </tr>\n",
       "    <tr>\n",
       "      <th>...</th>\n",
       "      <td>...</td>\n",
       "      <td>...</td>\n",
       "      <td>...</td>\n",
       "      <td>...</td>\n",
       "      <td>...</td>\n",
       "      <td>...</td>\n",
       "      <td>...</td>\n",
       "      <td>...</td>\n",
       "      <td>...</td>\n",
       "      <td>...</td>\n",
       "      <td>...</td>\n",
       "    </tr>\n",
       "    <tr>\n",
       "      <th>1372</th>\n",
       "      <td>1198240</td>\n",
       "      <td>2020-09-16</td>\n",
       "      <td>Manchester</td>\n",
       "      <td>England</td>\n",
       "      <td>Australia</td>\n",
       "      <td>Australia</td>\n",
       "      <td>wickets</td>\n",
       "      <td>3</td>\n",
       "      <td>England</td>\n",
       "      <td>GJ Maxwell</td>\n",
       "      <td>False</td>\n",
       "    </tr>\n",
       "    <tr>\n",
       "      <th>1373</th>\n",
       "      <td>1233461</td>\n",
       "      <td>2020-10-30</td>\n",
       "      <td>Rawalpindi Cricket Stadium</td>\n",
       "      <td>Pakistan</td>\n",
       "      <td>Zimbabwe</td>\n",
       "      <td>Pakistan</td>\n",
       "      <td>runs</td>\n",
       "      <td>26</td>\n",
       "      <td>Pakistan</td>\n",
       "      <td>BRM Taylor</td>\n",
       "      <td>False</td>\n",
       "    </tr>\n",
       "    <tr>\n",
       "      <th>1374</th>\n",
       "      <td>1233462</td>\n",
       "      <td>2020-11-01</td>\n",
       "      <td>Rawalpindi Cricket Stadium</td>\n",
       "      <td>Zimbabwe</td>\n",
       "      <td>Pakistan</td>\n",
       "      <td>Pakistan</td>\n",
       "      <td>wickets</td>\n",
       "      <td>6</td>\n",
       "      <td>Zimbabwe</td>\n",
       "      <td>Iftikhar Ahmed</td>\n",
       "      <td>False</td>\n",
       "    </tr>\n",
       "    <tr>\n",
       "      <th>1375</th>\n",
       "      <td>1223955</td>\n",
       "      <td>2020-11-27</td>\n",
       "      <td>Sydney Cricket Ground</td>\n",
       "      <td>Australia</td>\n",
       "      <td>India</td>\n",
       "      <td>Australia</td>\n",
       "      <td>runs</td>\n",
       "      <td>66</td>\n",
       "      <td>Australia</td>\n",
       "      <td>SPD Smith</td>\n",
       "      <td>False</td>\n",
       "    </tr>\n",
       "    <tr>\n",
       "      <th>1376</th>\n",
       "      <td>1223956</td>\n",
       "      <td>2020-11-29</td>\n",
       "      <td>Sydney Cricket Ground</td>\n",
       "      <td>Australia</td>\n",
       "      <td>India</td>\n",
       "      <td>Australia</td>\n",
       "      <td>runs</td>\n",
       "      <td>51</td>\n",
       "      <td>Australia</td>\n",
       "      <td>SPD Smith</td>\n",
       "      <td>False</td>\n",
       "    </tr>\n",
       "  </tbody>\n",
       "</table>\n",
       "<p>1171 rows × 11 columns</p>\n",
       "</div>"
      ],
      "text/plain": [
       "      match_id       date                    location first_innings  \\\n",
       "206     366711 2009-01-07                  Wellington   West Indies   \n",
       "207     378753 2009-01-10                      Mirpur      Zimbabwe   \n",
       "208     378755 2009-01-14                      Mirpur     Sri Lanka   \n",
       "209     351684 2009-01-16    Melbourne Cricket Ground     Australia   \n",
       "210     351685 2009-01-18                      Hobart     Australia   \n",
       "...        ...        ...                         ...           ...   \n",
       "1372   1198240 2020-09-16                  Manchester       England   \n",
       "1373   1233461 2020-10-30  Rawalpindi Cricket Stadium      Pakistan   \n",
       "1374   1233462 2020-11-01  Rawalpindi Cricket Stadium      Zimbabwe   \n",
       "1375   1223955 2020-11-27       Sydney Cricket Ground     Australia   \n",
       "1376   1223956 2020-11-29       Sydney Cricket Ground     Australia   \n",
       "\n",
       "     second_innings        winner   win_by  win_dif   toss_winner  \\\n",
       "206     New Zealand   New Zealand  wickets        7   New Zealand   \n",
       "207      Bangladesh      Zimbabwe     runs       38    Bangladesh   \n",
       "208      Bangladesh    Bangladesh  wickets        5    Bangladesh   \n",
       "209    South Africa  South Africa  wickets        3     Australia   \n",
       "210    South Africa     Australia     runs        5  South Africa   \n",
       "...             ...           ...      ...      ...           ...   \n",
       "1372      Australia     Australia  wickets        3       England   \n",
       "1373       Zimbabwe      Pakistan     runs       26      Pakistan   \n",
       "1374       Pakistan      Pakistan  wickets        6      Zimbabwe   \n",
       "1375          India     Australia     runs       66     Australia   \n",
       "1376          India     Australia     runs       51     Australia   \n",
       "\n",
       "      player_of_match  train_data  \n",
       "206        DL Vettori        True  \n",
       "207      E Chigumbura        True  \n",
       "208   Shakib Al Hasan        True  \n",
       "209         JA Morkel        True  \n",
       "210          SE Marsh        True  \n",
       "...               ...         ...  \n",
       "1372       GJ Maxwell       False  \n",
       "1373       BRM Taylor       False  \n",
       "1374   Iftikhar Ahmed       False  \n",
       "1375        SPD Smith       False  \n",
       "1376        SPD Smith       False  \n",
       "\n",
       "[1171 rows x 11 columns]"
      ]
     },
     "execution_count": 7,
     "metadata": {},
     "output_type": "execute_result"
    }
   ],
   "source": [
    "recent_match_summary_df"
   ]
  },
  {
   "cell_type": "code",
   "execution_count": 8,
   "metadata": {},
   "outputs": [],
   "source": [
    "match_id_list = list(recent_match_summary_df['match_id'])"
   ]
  },
  {
   "cell_type": "markdown",
   "metadata": {},
   "source": [
    "# Feature Engineering functions"
   ]
  },
  {
   "cell_type": "code",
   "execution_count": 9,
   "metadata": {},
   "outputs": [],
   "source": [
    "def get_trend(input_df,team_opponent,team_name,target_field):\n",
    "    input_df.rename(columns={'winner':'winning_team'},inplace=True)\n",
    "\n",
    "    selected_match_id_list = list(input_df['match_id'])\n",
    "    match_detail_list = []\n",
    "    for match_id in selected_match_id_list:\n",
    "        if input_df[input_df['match_id']==match_id]['train_data'].values[0]==True:\n",
    "            match_info = pd.read_csv('csv_data/train/'+str(match_id)+'.csv')\n",
    "        else:\n",
    "            match_info = pd.read_csv('csv_data/test/'+str(match_id)+'.csv')\n",
    "        match_detail_list.append(match_info)\n",
    "    match_detail_df = pd.concat(match_detail_list)\n",
    "    match_detail_df.fillna('NA',inplace=True)\n",
    "\n",
    "    match_detail_df = input_df.merge(match_detail_df,how='inner',on='match_id')\n",
    "\n",
    "\n",
    "    sorted_df = match_detail_df[match_detail_df[team_opponent].isin(team_name)].groupby('match_id').agg({'date': 'min', target_field: 'sum'}).reset_index()\n",
    "    sorted_df.sort_values('date',inplace=True)\n",
    "\n",
    "    y=np.array(sorted_df[target_field])\n",
    "    x=np.array(range(sorted_df.shape[0])).reshape(-1,1)+1\n",
    "    linear_trend_model = LinearRegression()\n",
    "    linear_trend_model.fit(x,y)\n",
    "    next_instance_num = x.shape[0]+1\n",
    "    \n",
    "    base = linear_trend_model.intercept_\n",
    "    trend = linear_trend_model.coef_[0]\n",
    "    trend_predict = linear_trend_model.predict(np.array([next_instance_num]).reshape(-1,1))[0]\n",
    "    mean = sorted_df[target_field].mean()\n",
    "    \n",
    "    return base,trend,trend_predict,mean\n",
    "\n",
    "\n",
    "    \n",
    "    "
   ]
  },
  {
   "cell_type": "code",
   "execution_count": 10,
   "metadata": {},
   "outputs": [],
   "source": [
    "def find_similar_team(search_country,country_rank_df):\n",
    "    search_rank = country_rank_df[country_rank_df['country']==search_country]['rank'].values[0]\n",
    "    if search_rank == 1:\n",
    "        similar_rank_list = [2]\n",
    "    elif search_rank == country_rank_df['rank'].max():\n",
    "        similar_rank_list = [country_rank_df['rank'].max()-1]\n",
    "    else:\n",
    "        similar_rank_list = [search_rank-1,search_rank+1]\n",
    "    return list(country_rank_df[country_rank_df['rank'].isin(similar_rank_list)]['country'])\n",
    "    "
   ]
  },
  {
   "cell_type": "markdown",
   "metadata": {},
   "source": [
    "# Jump to loop"
   ]
  },
  {
   "cell_type": "code",
   "execution_count": 12,
   "metadata": {},
   "outputs": [],
   "source": [
    "selected_match_id = match_id_list[0]"
   ]
  },
  {
   "cell_type": "code",
   "execution_count": 15,
   "metadata": {},
   "outputs": [
    {
     "data": {
      "text/plain": [
       "(numpy.datetime64('2009-01-07T00:00:00.000000000'),\n",
       " 'New Zealand',\n",
       " 'West Indies',\n",
       " 'Wellington',\n",
       " 2.279844646651876,\n",
       " 1.1489262410949157,\n",
       " 129,\n",
       " 2.103325943017618,\n",
       " 2.3551695098504952,\n",
       " 2.909076698775037,\n",
       " 3.7980564485857617,\n",
       " 128,\n",
       " 1)"
      ]
     },
     "execution_count": 15,
     "metadata": {},
     "output_type": "execute_result"
    }
   ],
   "source": [
    "match_date = recent_match_summary_df[recent_match_summary_df['match_id']==selected_match_id]['date'].values[0]\n",
    "team = recent_match_summary_df[recent_match_summary_df['match_id']==selected_match_id]['second_innings'].values[0]\n",
    "opponent = recent_match_summary_df[recent_match_summary_df['match_id']==selected_match_id]['first_innings'].values[0]\n",
    "location = recent_match_summary_df[recent_match_summary_df['match_id']==selected_match_id]['location'].values[0]\n",
    "\n",
    "match_year=pd.to_datetime(match_date).year\n",
    "previous_year = match_year-1\n",
    "country_rank_df = pd.read_csv('csv_data/country_rank_'+str(previous_year)+'.csv')\n",
    "\n",
    "team_score = country_rank_df[country_rank_df['country']==team]['score'].values[0]\n",
    "opponent_score = country_rank_df[country_rank_df['country']==opponent]['score'].values[0]\n",
    "\n",
    "#selected_match_details = pd.read_csv('csv_data')\n",
    "if recent_match_summary_df[recent_match_summary_df['match_id']==selected_match_id]['train_data'].values[0]==True:\n",
    "    selected_match_details = pd.read_csv('csv_data/train/'+str(selected_match_id)+'.csv')\n",
    "else:\n",
    "    selected_match_details = pd.read_csv('csv_data/test/'+str(selected_match_id)+'.csv')\n",
    "runs_scored=selected_match_details[selected_match_details['team']==team]['total'].sum()\n",
    "\n",
    "#team batting strength\n",
    "team_batsmaan_list = list(selected_match_details[selected_match_details['team']==team]['batsman'].unique())\n",
    "batsman_rank_df = pd.read_csv('csv_data/batsman_perfromance_'+str(previous_year)+'.csv')\n",
    "batsman_mean=batsman_rank_df[batsman_rank_df['batsman'].isin(team_batsmaan_list)]['batsman_score'].mean()\n",
    "batsman_max=batsman_rank_df[batsman_rank_df['batsman'].isin(team_batsmaan_list)]['batsman_score'].max()\n",
    "\n",
    "#opponent bawling strength\n",
    "opponent_bowler_list = list(selected_match_details[selected_match_details['team']==team]['bowler'].unique())\n",
    "bowler_rank_df = pd.read_csv('csv_data/bowler_perfromance_'+str(previous_year)+'.csv')\n",
    "bowler_mean=bowler_rank_df[bowler_rank_df['bowler'].isin(opponent_bowler_list)]['bowler_score'].mean()\n",
    "bowler_max=bowler_rank_df[bowler_rank_df['bowler'].isin(opponent_bowler_list)]['bowler_score'].max()\n",
    "\n",
    "#target score\n",
    "target_score = selected_match_details[selected_match_details['team']==opponent]['total'].sum()\n",
    "\n",
    "#win\n",
    "if recent_match_summary_df[recent_match_summary_df['match_id']==selected_match_id]['winner'].values[0]\\\n",
    "    ==recent_match_summary_df[recent_match_summary_df['match_id']==selected_match_id]['second_innings'].values[0]:\n",
    "        win=1\n",
    "else:\n",
    "    win=0\n",
    "\n",
    "match_date,team,opponent,location,team_score,opponent_score,runs_scored,batsman_mean,batsman_max,bowler_mean,bowler_max,target_score,win\n",
    "\n"
   ]
  },
  {
   "cell_type": "code",
   "execution_count": 16,
   "metadata": {},
   "outputs": [],
   "source": [
    "#selected_match_details"
   ]
  },
  {
   "cell_type": "code",
   "execution_count": 17,
   "metadata": {},
   "outputs": [
    {
     "data": {
      "text/plain": [
       "Index(['match_id', 'innings', 'team', 'opponent', 'ball', 'batsman',\n",
       "       'non_striker', 'bowler', 'scored_runs', 'extras', 'total', 'extra_type',\n",
       "       'wicket', 'wicket_type', 'player_out', 'fielders', 'winner'],\n",
       "      dtype='object')"
      ]
     },
     "execution_count": 17,
     "metadata": {},
     "output_type": "execute_result"
    }
   ],
   "source": [
    "selected_match_details.columns"
   ]
  },
  {
   "cell_type": "code",
   "execution_count": 23,
   "metadata": {},
   "outputs": [],
   "source": [
    "# get opponent History\n",
    "last_5_opponent = match_summary_df[(match_summary_df['second_innings']==team) \n",
    "                                   & (match_summary_df['first_innings']==opponent)\n",
    "                                   & (match_summary_df['date']<match_date)\n",
    "                                  ].sort_values('date',ascending=False).head(5)\n",
    "\n",
    "last_5_location = match_summary_df[(match_summary_df['second_innings']==team) \n",
    "                                   & (match_summary_df['location']==location)\n",
    "                                   & (match_summary_df['date']<match_date)\n",
    "                                  ].sort_values('date',ascending=False).head(5)\n",
    "\n",
    "last_5_match = match_summary_df[(match_summary_df['second_innings']==team) \n",
    "                                   & (match_summary_df['date']<match_date)\n",
    "                                  ].sort_values('date',ascending=False).head(5)\n",
    "\n",
    "if last_5_opponent.shape[0]==0:\n",
    "    last_5_opponent = pd.DataFrame(last_5_match)\n",
    "    \n",
    "if last_5_location.shape[0]==0:\n",
    "    last_5_location = pd.DataFrame(last_5_match)\n",
    "    \n",
    "\n",
    "last_5_opponent_win_ratio = last_5_opponent[last_5_opponent['winner']==team].shape[0]/last_5_opponent.shape[0]\n",
    "last_5_location_win_ratio = last_5_location[last_5_location['winner']==team].shape[0]/last_5_location.shape[0]\n",
    "last_5_match_win_ratio = last_5_match[last_5_match['winner']==team].shape[0]/last_5_match.shape[0]"
   ]
  },
  {
   "cell_type": "code",
   "execution_count": 22,
   "metadata": {},
   "outputs": [
    {
     "data": {
      "text/html": [
       "<div>\n",
       "<style scoped>\n",
       "    .dataframe tbody tr th:only-of-type {\n",
       "        vertical-align: middle;\n",
       "    }\n",
       "\n",
       "    .dataframe tbody tr th {\n",
       "        vertical-align: top;\n",
       "    }\n",
       "\n",
       "    .dataframe thead th {\n",
       "        text-align: right;\n",
       "    }\n",
       "</style>\n",
       "<table border=\"1\" class=\"dataframe\">\n",
       "  <thead>\n",
       "    <tr style=\"text-align: right;\">\n",
       "      <th></th>\n",
       "      <th>match_id</th>\n",
       "      <th>date</th>\n",
       "      <th>location</th>\n",
       "      <th>first_innings</th>\n",
       "      <th>second_innings</th>\n",
       "      <th>winner</th>\n",
       "      <th>win_by</th>\n",
       "      <th>win_dif</th>\n",
       "      <th>toss_winner</th>\n",
       "      <th>player_of_match</th>\n",
       "      <th>train_data</th>\n",
       "    </tr>\n",
       "  </thead>\n",
       "  <tbody>\n",
       "    <tr>\n",
       "      <th>49</th>\n",
       "      <td>247483</td>\n",
       "      <td>2007-03-29</td>\n",
       "      <td>Antigua</td>\n",
       "      <td>West Indies</td>\n",
       "      <td>New Zealand</td>\n",
       "      <td>New Zealand</td>\n",
       "      <td>wickets</td>\n",
       "      <td>7</td>\n",
       "      <td>New Zealand</td>\n",
       "      <td>JDP Oram</td>\n",
       "      <td>True</td>\n",
       "    </tr>\n",
       "  </tbody>\n",
       "</table>\n",
       "</div>"
      ],
      "text/plain": [
       "    match_id       date location first_innings second_innings       winner  \\\n",
       "49    247483 2007-03-29  Antigua   West Indies    New Zealand  New Zealand   \n",
       "\n",
       "     win_by  win_dif  toss_winner player_of_match  train_data  \n",
       "49  wickets        7  New Zealand        JDP Oram        True  "
      ]
     },
     "execution_count": 22,
     "metadata": {},
     "output_type": "execute_result"
    }
   ],
   "source": [
    "#last_5_opponent[last_5_opponent['winner']==team]"
   ]
  },
  {
   "cell_type": "code",
   "execution_count": 116,
   "metadata": {},
   "outputs": [],
   "source": [
    "# last_5_match.rename(columns={'winner':'winning_team'},inplace=True)\n",
    "# #last_5_match.sort_values(['date'],inplace=True)\n",
    "# selected_match_id_list = list(last_5_match['match_id'])\n",
    "# match_detail_list = []\n",
    "# for match_id in selected_match_id_list:\n",
    "#     if last_5_match[last_5_match['match_id']==match_id]['train_data'].values[0]==True:\n",
    "#         match_info = pd.read_csv('csv_data/train/'+str(match_id)+'.csv')\n",
    "#     else:\n",
    "#         match_info = pd.read_csv('csv_data/test/'+str(match_id)+'.csv')\n",
    "#     match_detail_list.append(match_info)\n",
    "# match_detail_df = pd.concat(match_detail_list)\n",
    "# match_detail_df.fillna('NA',inplace=True)\n",
    "\n",
    "# match_detail_df = last_5_match.merge(match_detail_df,how='inner',on='match_id')\n",
    "\n",
    "# #match_detail_df.sort_values('date',ascending=True,inplace=True)\n",
    "# sorted_df = match_detail_df[match_detail_df['team']==team].groupby('match_id').agg({'date': 'min', 'total': 'sum'}).reset_index()\n",
    "# sorted_df.sort_values('date',inplace=True)\n",
    "\n",
    "# y=np.array(sorted_df['total'])\n",
    "# x=np.array(range(sorted_df.shape[0])).reshape(-1,1)\n",
    "# linear_trend_model = LinearRegression()\n",
    "# linear_trend_model.fit(x,y)\n",
    "# base = linear_trend_model.intercept_\n",
    "# trend = linear_trend_model.coef_[0]\n",
    "# mean = sorted_df['total'].mean()\n"
   ]
  },
  {
   "cell_type": "code",
   "execution_count": 165,
   "metadata": {},
   "outputs": [
    {
     "data": {
      "text/plain": [
       "['Sri Lanka', 'Zimbabwe']"
      ]
     },
     "execution_count": 165,
     "metadata": {},
     "output_type": "execute_result"
    }
   ],
   "source": [
    "# match_year=pd.to_datetime(match_date).year\n",
    "# previous_year = match_year-1\n",
    "# country_rank_df = pd.read_csv('csv_data/country_rank_'+str(previous_year)+'.csv')\n",
    "# search_country = opponent\n",
    "# search_rank = country_rank_df[country_rank_df['country']==search_country]['rank'].values[0]\n",
    "# if search_rank == 1:\n",
    "#     similar_rank_list = [2]\n",
    "# elif search_rank == country_rank_df['rank'].max():\n",
    "#     similar_rank_list = [country_rank_df['rank'].max()-1]\n",
    "# else:\n",
    "#     similar_rank_list = [search_rank-1,search_rank+1]\n",
    "# list(country_rank_df[country_rank_df['rank'].isin(similar_rank_list)]['country'])\n",
    "    \n",
    "# #similar_country_list = "
   ]
  },
  {
   "cell_type": "markdown",
   "metadata": {},
   "source": [
    "# Loop"
   ]
  },
  {
   "cell_type": "code",
   "execution_count": 11,
   "metadata": {},
   "outputs": [
    {
     "data": {
      "application/vnd.jupyter.widget-view+json": {
       "model_id": "0b4cec8479734959a6812c5a5b97ba64",
       "version_major": 2,
       "version_minor": 0
      },
      "text/plain": [
       "HBox(children=(FloatProgress(value=0.0, max=1171.0), HTML(value='')))"
      ]
     },
     "metadata": {},
     "output_type": "display_data"
    },
    {
     "name": "stdout",
     "output_type": "stream",
     "text": [
      "\n"
     ]
    }
   ],
   "source": [
    "feature_data=[]\n",
    "for selected_match_id in tqdm(match_id_list):\n",
    "    \n",
    "    noise = False\n",
    "    match_date = recent_match_summary_df[recent_match_summary_df['match_id']==selected_match_id]['date'].values[0]\n",
    "    team = recent_match_summary_df[recent_match_summary_df['match_id']==selected_match_id]['second_innings'].values[0]\n",
    "    opponent = recent_match_summary_df[recent_match_summary_df['match_id']==selected_match_id]['first_innings'].values[0]\n",
    "    location = recent_match_summary_df[recent_match_summary_df['match_id']==selected_match_id]['location'].values[0]\n",
    "\n",
    "\n",
    "    match_year=pd.to_datetime(match_date).year\n",
    "    previous_year = match_year-1\n",
    "    country_rank_df = pd.read_csv('csv_data/country_rank_'+str(previous_year)+'.csv')\n",
    "\n",
    "    if country_rank_df[country_rank_df['country']==team].shape[0]==0\\\n",
    "    or country_rank_df[country_rank_df['country']==opponent]['score'].shape[0]==0:\n",
    "        continue\n",
    "    \n",
    "    team_score = country_rank_df[country_rank_df['country']==team]['score'].values[0]\n",
    "    opponent_score = country_rank_df[country_rank_df['country']==opponent]['score'].values[0]\n",
    "\n",
    "    \n",
    "    if recent_match_summary_df[recent_match_summary_df['match_id']==selected_match_id]['train_data'].values[0]==True:\n",
    "        selected_match_details = pd.read_csv('csv_data/train/'+str(selected_match_id)+'.csv')\n",
    "    else:\n",
    "        selected_match_details = pd.read_csv('csv_data/test/'+str(selected_match_id)+'.csv')\n",
    "        \n",
    "        \n",
    "    runs_scored=selected_match_details[selected_match_details['team']==team]['total'].sum()\n",
    "    \n",
    "    #team batting strength\n",
    "    team_batsmaan_list = list(selected_match_details[selected_match_details['team']==team]['batsman'].unique())\n",
    "    batsman_rank_df = pd.read_csv('csv_data/batsman_perfromance_'+str(previous_year)+'.csv')\n",
    "    batsman_mean=batsman_rank_df[batsman_rank_df['batsman'].isin(team_batsmaan_list)]['batsman_score'].mean()\n",
    "    batsman_max=batsman_rank_df[batsman_rank_df['batsman'].isin(team_batsmaan_list)]['batsman_score'].max()\n",
    "\n",
    "    #opponent bowling strength\n",
    "    opponent_bowler_list = list(selected_match_details[selected_match_details['team']==team]['bowler'].unique())\n",
    "    bowler_rank_df = pd.read_csv('csv_data/bowler_perfromance_'+str(previous_year)+'.csv')\n",
    "    bowler_mean=bowler_rank_df[bowler_rank_df['bowler'].isin(opponent_bowler_list)]['bowler_score'].mean()\n",
    "    bowler_max=bowler_rank_df[bowler_rank_df['bowler'].isin(opponent_bowler_list)]['bowler_score'].max()\n",
    "    \n",
    "    #target score\n",
    "    target_score = selected_match_details[selected_match_details['team']==opponent]['total'].sum()\n",
    "    \n",
    "    #win\n",
    "    if recent_match_summary_df[recent_match_summary_df['match_id']==selected_match_id]['winner'].values[0]\\\n",
    "    ==recent_match_summary_df[recent_match_summary_df['match_id']==selected_match_id]['second_innings'].values[0]:\n",
    "        win=1\n",
    "    else:\n",
    "        win=0\n",
    "\n",
    "\n",
    "\n",
    "    \n",
    "    \n",
    "    # get opponent History\n",
    "    last_5_opponent = match_summary_df[(match_summary_df['second_innings']==team) \n",
    "                                       & (match_summary_df['first_innings']==opponent)\n",
    "                                       & (match_summary_df['date']<match_date)\n",
    "                                      ].sort_values('date',ascending=False).head(5)\n",
    "\n",
    "    last_5_location = match_summary_df[(match_summary_df['second_innings']==team) \n",
    "                                       & (match_summary_df['location']==location)\n",
    "                                       & (match_summary_df['date']<match_date)\n",
    "                                      ].sort_values('date',ascending=False).head(5)\n",
    "\n",
    "    last_5_match = match_summary_df[(match_summary_df['second_innings']==team) \n",
    "                                       & (match_summary_df['date']<match_date)\n",
    "                                      ].sort_values('date',ascending=False).head(5)\n",
    "\n",
    "    if last_5_opponent.shape[0]==0:\n",
    "        last_5_opponent = pd.DataFrame(last_5_match)\n",
    "\n",
    "    if last_5_location.shape[0]==0:\n",
    "        last_5_location = pd.DataFrame(last_5_match)\n",
    "        \n",
    "    if last_5_match.shape[0]==0:\n",
    "        continue\n",
    "\n",
    "\n",
    "    last_5_opponent_win_ratio = last_5_opponent[last_5_opponent['winner']==team].shape[0]/last_5_opponent.shape[0]\n",
    "    last_5_location_win_ratio = last_5_location[last_5_location['winner']==team].shape[0]/last_5_location.shape[0]\n",
    "    last_5_match_win_ratio = last_5_match[last_5_match['winner']==team].shape[0]/last_5_match.shape[0]\n",
    "    \n",
    "    feature_dict = {\n",
    "        'match_id':selected_match_id,\n",
    "        'match_date':match_date,\n",
    "        'team':team,\n",
    "        'opponent':opponent,\n",
    "        'location':location,\n",
    "        'team_score':team_score,\n",
    "        'opponent_win_ratio':last_5_opponent_win_ratio,\n",
    "        'location_win_ratio':last_5_location_win_ratio,\n",
    "        'last_5_match_win_ratio':last_5_match_win_ratio,\n",
    "        'batsman_mean':batsman_mean,\n",
    "        'batsman_max':batsman_max,\n",
    "        'bowler_mean':bowler_mean,\n",
    "        'bowler_max':bowler_max,\n",
    "        'is_train':recent_match_summary_df[recent_match_summary_df['match_id']==selected_match_id]['train_data'].values[0],\n",
    "        'noise':noise,\n",
    "        'target_score':target_score,\n",
    "        'runs_scored':runs_scored,\n",
    "        'win':win\n",
    "             \n",
    "    }\n",
    "    \n",
    "    feature_data.append(feature_dict)\n",
    "\n",
    "feature_df = pd.DataFrame(feature_data)\n",
    "feature_df.to_csv('csv_data/feature_second_innings_alt.csv',index=False)\n"
   ]
  },
  {
   "cell_type": "code",
   "execution_count": 26,
   "metadata": {},
   "outputs": [],
   "source": [
    "#feature_df.to_csv('csv_data/feature_first_innings.csv',index=False)"
   ]
  },
  {
   "cell_type": "code",
   "execution_count": 13,
   "metadata": {},
   "outputs": [
    {
     "data": {
      "text/plain": [
       "(1078, 18)"
      ]
     },
     "execution_count": 13,
     "metadata": {},
     "output_type": "execute_result"
    }
   ],
   "source": [
    "feature_df.shape"
   ]
  },
  {
   "cell_type": "code",
   "execution_count": 28,
   "metadata": {},
   "outputs": [
    {
     "data": {
      "text/plain": [
       "(723, 26)"
      ]
     },
     "execution_count": 28,
     "metadata": {},
     "output_type": "execute_result"
    }
   ],
   "source": [
    "feature_df[feature_df['is_train']==True].shape"
   ]
  },
  {
   "cell_type": "code",
   "execution_count": null,
   "metadata": {},
   "outputs": [],
   "source": []
  }
 ],
 "metadata": {
  "kernelspec": {
   "display_name": "Python 3",
   "language": "python",
   "name": "python3"
  },
  "language_info": {
   "codemirror_mode": {
    "name": "ipython",
    "version": 3
   },
   "file_extension": ".py",
   "mimetype": "text/x-python",
   "name": "python",
   "nbconvert_exporter": "python",
   "pygments_lexer": "ipython3",
   "version": "3.8.3"
  }
 },
 "nbformat": 4,
 "nbformat_minor": 4
}
