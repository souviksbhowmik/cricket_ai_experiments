{
 "cells": [
  {
   "cell_type": "code",
   "execution_count": 1,
   "metadata": {},
   "outputs": [],
   "source": [
    "import pandas as pd\n",
    "import numpy as np\n",
    "from datetime import datetime\n",
    "from matplotlib import pyplot as plt\n",
    "from sklearn.preprocessing import MinMaxScaler\n",
    "from tqdm.notebook import tqdm"
   ]
  },
  {
   "cell_type": "code",
   "execution_count": 2,
   "metadata": {},
   "outputs": [],
   "source": [
    "custom_date_parser = lambda x: datetime.strptime(x, \"%Y-%m-%d\")\n",
    "match_list_df = pd.read_csv('csv_data/match_list.csv',parse_dates=['date'],date_parser=custom_date_parser)"
   ]
  },
  {
   "cell_type": "markdown",
   "metadata": {},
   "source": [
    "# Jump to outer loop"
   ]
  },
  {
   "cell_type": "code",
   "execution_count": 42,
   "metadata": {},
   "outputs": [],
   "source": [
    "year='2013'\n",
    "performance_cutoff_date_start = datetime.strptime(year+'-01-01','%Y-%m-%d')\n",
    "performance_cutoff_date_end = datetime.strptime(year+'-12-31','%Y-%m-%d')\n",
    "scaler = MinMaxScaler()\n"
   ]
  },
  {
   "cell_type": "code",
   "execution_count": 43,
   "metadata": {},
   "outputs": [],
   "source": [
    "country_rank = pd.read_csv('csv_data/country_rank_'+year+'.csv')"
   ]
  },
  {
   "cell_type": "code",
   "execution_count": 44,
   "metadata": {},
   "outputs": [],
   "source": [
    "country_list = list(country_rank['country'])"
   ]
  },
  {
   "cell_type": "markdown",
   "metadata": {},
   "source": [
    "# Jump to loop"
   ]
  },
  {
   "cell_type": "code",
   "execution_count": 32,
   "metadata": {},
   "outputs": [
    {
     "data": {
      "text/plain": [
       "'England'"
      ]
     },
     "execution_count": 32,
     "metadata": {},
     "output_type": "execute_result"
    }
   ],
   "source": [
    "selected_country = country_list[0]\n",
    "selected_country"
   ]
  },
  {
   "cell_type": "code",
   "execution_count": 7,
   "metadata": {},
   "outputs": [],
   "source": [
    "country_games = match_list_df[(match_list_df['date']>=performance_cutoff_date_start) \n",
    "                             & (match_list_df['date']<=performance_cutoff_date_end)\n",
    "                             & ( (match_list_df['first_innings']==selected_country)\n",
    "                                |(match_list_df['second_innings']==selected_country)\n",
    "                             )]"
   ]
  },
  {
   "cell_type": "code",
   "execution_count": 8,
   "metadata": {},
   "outputs": [
    {
     "data": {
      "text/html": [
       "<div>\n",
       "<style scoped>\n",
       "    .dataframe tbody tr th:only-of-type {\n",
       "        vertical-align: middle;\n",
       "    }\n",
       "\n",
       "    .dataframe tbody tr th {\n",
       "        vertical-align: top;\n",
       "    }\n",
       "\n",
       "    .dataframe thead th {\n",
       "        text-align: right;\n",
       "    }\n",
       "</style>\n",
       "<table border=\"1\" class=\"dataframe\">\n",
       "  <thead>\n",
       "    <tr style=\"text-align: right;\">\n",
       "      <th></th>\n",
       "      <th>match_id</th>\n",
       "      <th>date</th>\n",
       "      <th>location</th>\n",
       "      <th>first_innings</th>\n",
       "      <th>second_innings</th>\n",
       "      <th>winner</th>\n",
       "      <th>win_by</th>\n",
       "      <th>win_dif</th>\n",
       "      <th>toss_winner</th>\n",
       "      <th>player_of_match</th>\n",
       "      <th>train_data</th>\n",
       "    </tr>\n",
       "  </thead>\n",
       "  <tbody>\n",
       "    <tr>\n",
       "      <th>257</th>\n",
       "      <td>800471</td>\n",
       "      <td>2016-02-06</td>\n",
       "      <td>Port Elizabeth</td>\n",
       "      <td>South Africa</td>\n",
       "      <td>England</td>\n",
       "      <td>England</td>\n",
       "      <td>wickets</td>\n",
       "      <td>5</td>\n",
       "      <td>South Africa</td>\n",
       "      <td>AD Hales</td>\n",
       "      <td>True</td>\n",
       "    </tr>\n",
       "    <tr>\n",
       "      <th>261</th>\n",
       "      <td>800473</td>\n",
       "      <td>2016-02-09</td>\n",
       "      <td>Centurion</td>\n",
       "      <td>England</td>\n",
       "      <td>South Africa</td>\n",
       "      <td>South Africa</td>\n",
       "      <td>wickets</td>\n",
       "      <td>7</td>\n",
       "      <td>England</td>\n",
       "      <td>Q de Kock</td>\n",
       "      <td>True</td>\n",
       "    </tr>\n",
       "    <tr>\n",
       "      <th>262</th>\n",
       "      <td>800475</td>\n",
       "      <td>2016-02-12</td>\n",
       "      <td>Johannesburg</td>\n",
       "      <td>England</td>\n",
       "      <td>South Africa</td>\n",
       "      <td>South Africa</td>\n",
       "      <td>wickets</td>\n",
       "      <td>1</td>\n",
       "      <td>South Africa</td>\n",
       "      <td>CH Morris</td>\n",
       "      <td>True</td>\n",
       "    </tr>\n",
       "    <tr>\n",
       "      <th>263</th>\n",
       "      <td>800477</td>\n",
       "      <td>2016-02-14</td>\n",
       "      <td>Cape Town</td>\n",
       "      <td>England</td>\n",
       "      <td>South Africa</td>\n",
       "      <td>South Africa</td>\n",
       "      <td>wickets</td>\n",
       "      <td>5</td>\n",
       "      <td>South Africa</td>\n",
       "      <td>AB de Villiers</td>\n",
       "      <td>True</td>\n",
       "    </tr>\n",
       "    <tr>\n",
       "      <th>279</th>\n",
       "      <td>946545</td>\n",
       "      <td>2016-06-20</td>\n",
       "      <td>Leicester</td>\n",
       "      <td>Pakistan</td>\n",
       "      <td>England</td>\n",
       "      <td>England</td>\n",
       "      <td>wickets</td>\n",
       "      <td>7</td>\n",
       "      <td>England</td>\n",
       "      <td>HC Knight</td>\n",
       "      <td>True</td>\n",
       "    </tr>\n",
       "    <tr>\n",
       "      <th>281</th>\n",
       "      <td>946547</td>\n",
       "      <td>2016-06-22</td>\n",
       "      <td>Worcester</td>\n",
       "      <td>England</td>\n",
       "      <td>Pakistan</td>\n",
       "      <td>England</td>\n",
       "      <td>runs</td>\n",
       "      <td>212</td>\n",
       "      <td>Pakistan</td>\n",
       "      <td>TT Beaumont</td>\n",
       "      <td>True</td>\n",
       "    </tr>\n",
       "    <tr>\n",
       "      <th>282</th>\n",
       "      <td>913625</td>\n",
       "      <td>2016-06-24</td>\n",
       "      <td>Birmingham</td>\n",
       "      <td>Sri Lanka</td>\n",
       "      <td>England</td>\n",
       "      <td>England</td>\n",
       "      <td>wickets</td>\n",
       "      <td>10</td>\n",
       "      <td>Sri Lanka</td>\n",
       "      <td>JJ Roy</td>\n",
       "      <td>True</td>\n",
       "    </tr>\n",
       "    <tr>\n",
       "      <th>285</th>\n",
       "      <td>946549</td>\n",
       "      <td>2016-06-27</td>\n",
       "      <td>Taunton</td>\n",
       "      <td>England</td>\n",
       "      <td>Pakistan</td>\n",
       "      <td>England</td>\n",
       "      <td>runs</td>\n",
       "      <td>202</td>\n",
       "      <td>England</td>\n",
       "      <td>TT Beaumont</td>\n",
       "      <td>True</td>\n",
       "    </tr>\n",
       "    <tr>\n",
       "      <th>286</th>\n",
       "      <td>913631</td>\n",
       "      <td>2016-07-02</td>\n",
       "      <td>Cardiff</td>\n",
       "      <td>England</td>\n",
       "      <td>Sri Lanka</td>\n",
       "      <td>England</td>\n",
       "      <td>runs</td>\n",
       "      <td>122</td>\n",
       "      <td>Sri Lanka</td>\n",
       "      <td>JC Buttler</td>\n",
       "      <td>True</td>\n",
       "    </tr>\n",
       "    <tr>\n",
       "      <th>296</th>\n",
       "      <td>913655</td>\n",
       "      <td>2016-08-27</td>\n",
       "      <td>London</td>\n",
       "      <td>Pakistan</td>\n",
       "      <td>England</td>\n",
       "      <td>England</td>\n",
       "      <td>wickets</td>\n",
       "      <td>4</td>\n",
       "      <td>Pakistan</td>\n",
       "      <td>JE Root</td>\n",
       "      <td>True</td>\n",
       "    </tr>\n",
       "    <tr>\n",
       "      <th>298</th>\n",
       "      <td>913657</td>\n",
       "      <td>2016-08-30</td>\n",
       "      <td>Nottingham</td>\n",
       "      <td>England</td>\n",
       "      <td>Pakistan</td>\n",
       "      <td>England</td>\n",
       "      <td>runs</td>\n",
       "      <td>169</td>\n",
       "      <td>England</td>\n",
       "      <td>AD Hales</td>\n",
       "      <td>True</td>\n",
       "    </tr>\n",
       "    <tr>\n",
       "      <th>300</th>\n",
       "      <td>913659</td>\n",
       "      <td>2016-09-01</td>\n",
       "      <td>Leeds</td>\n",
       "      <td>Pakistan</td>\n",
       "      <td>England</td>\n",
       "      <td>England</td>\n",
       "      <td>wickets</td>\n",
       "      <td>4</td>\n",
       "      <td>Pakistan</td>\n",
       "      <td>JM Bairstow</td>\n",
       "      <td>True</td>\n",
       "    </tr>\n",
       "    <tr>\n",
       "      <th>302</th>\n",
       "      <td>913661</td>\n",
       "      <td>2016-09-04</td>\n",
       "      <td>Cardiff</td>\n",
       "      <td>England</td>\n",
       "      <td>Pakistan</td>\n",
       "      <td>Pakistan</td>\n",
       "      <td>wickets</td>\n",
       "      <td>4</td>\n",
       "      <td>Pakistan</td>\n",
       "      <td>Sarfraz Ahmed</td>\n",
       "      <td>True</td>\n",
       "    </tr>\n",
       "    <tr>\n",
       "      <th>316</th>\n",
       "      <td>1029819</td>\n",
       "      <td>2016-10-07</td>\n",
       "      <td>Mirpur</td>\n",
       "      <td>England</td>\n",
       "      <td>Bangladesh</td>\n",
       "      <td>England</td>\n",
       "      <td>runs</td>\n",
       "      <td>21</td>\n",
       "      <td>England</td>\n",
       "      <td>JT Ball</td>\n",
       "      <td>True</td>\n",
       "    </tr>\n",
       "    <tr>\n",
       "      <th>317</th>\n",
       "      <td>1029821</td>\n",
       "      <td>2016-10-09</td>\n",
       "      <td>Mirpur</td>\n",
       "      <td>Bangladesh</td>\n",
       "      <td>England</td>\n",
       "      <td>Bangladesh</td>\n",
       "      <td>runs</td>\n",
       "      <td>34</td>\n",
       "      <td>England</td>\n",
       "      <td>Mashrafe Mortaza</td>\n",
       "      <td>True</td>\n",
       "    </tr>\n",
       "    <tr>\n",
       "      <th>320</th>\n",
       "      <td>1029823</td>\n",
       "      <td>2016-10-12</td>\n",
       "      <td>Chittagong</td>\n",
       "      <td>Bangladesh</td>\n",
       "      <td>England</td>\n",
       "      <td>England</td>\n",
       "      <td>wickets</td>\n",
       "      <td>4</td>\n",
       "      <td>England</td>\n",
       "      <td>AU Rashid</td>\n",
       "      <td>True</td>\n",
       "    </tr>\n",
       "    <tr>\n",
       "      <th>333</th>\n",
       "      <td>1062580</td>\n",
       "      <td>2016-11-09</td>\n",
       "      <td>Colombo</td>\n",
       "      <td>Sri Lanka</td>\n",
       "      <td>England</td>\n",
       "      <td>England</td>\n",
       "      <td>wickets</td>\n",
       "      <td>8</td>\n",
       "      <td>Sri Lanka</td>\n",
       "      <td>NaN</td>\n",
       "      <td>True</td>\n",
       "    </tr>\n",
       "    <tr>\n",
       "      <th>336</th>\n",
       "      <td>1059195</td>\n",
       "      <td>2016-11-15</td>\n",
       "      <td>Colombo</td>\n",
       "      <td>Sri Lanka</td>\n",
       "      <td>England</td>\n",
       "      <td>England</td>\n",
       "      <td>wickets</td>\n",
       "      <td>5</td>\n",
       "      <td>Sri Lanka</td>\n",
       "      <td>NaN</td>\n",
       "      <td>True</td>\n",
       "    </tr>\n",
       "    <tr>\n",
       "      <th>339</th>\n",
       "      <td>1059196</td>\n",
       "      <td>2016-11-17</td>\n",
       "      <td>Colombo</td>\n",
       "      <td>England</td>\n",
       "      <td>Sri Lanka</td>\n",
       "      <td>England</td>\n",
       "      <td>runs</td>\n",
       "      <td>162</td>\n",
       "      <td>England</td>\n",
       "      <td>NaN</td>\n",
       "      <td>True</td>\n",
       "    </tr>\n",
       "  </tbody>\n",
       "</table>\n",
       "</div>"
      ],
      "text/plain": [
       "     match_id       date        location first_innings second_innings  \\\n",
       "257    800471 2016-02-06  Port Elizabeth  South Africa        England   \n",
       "261    800473 2016-02-09       Centurion       England   South Africa   \n",
       "262    800475 2016-02-12    Johannesburg       England   South Africa   \n",
       "263    800477 2016-02-14       Cape Town       England   South Africa   \n",
       "279    946545 2016-06-20       Leicester      Pakistan        England   \n",
       "281    946547 2016-06-22       Worcester       England       Pakistan   \n",
       "282    913625 2016-06-24      Birmingham     Sri Lanka        England   \n",
       "285    946549 2016-06-27         Taunton       England       Pakistan   \n",
       "286    913631 2016-07-02         Cardiff       England      Sri Lanka   \n",
       "296    913655 2016-08-27          London      Pakistan        England   \n",
       "298    913657 2016-08-30      Nottingham       England       Pakistan   \n",
       "300    913659 2016-09-01           Leeds      Pakistan        England   \n",
       "302    913661 2016-09-04         Cardiff       England       Pakistan   \n",
       "316   1029819 2016-10-07          Mirpur       England     Bangladesh   \n",
       "317   1029821 2016-10-09          Mirpur    Bangladesh        England   \n",
       "320   1029823 2016-10-12      Chittagong    Bangladesh        England   \n",
       "333   1062580 2016-11-09         Colombo     Sri Lanka        England   \n",
       "336   1059195 2016-11-15         Colombo     Sri Lanka        England   \n",
       "339   1059196 2016-11-17         Colombo       England      Sri Lanka   \n",
       "\n",
       "           winner   win_by  win_dif   toss_winner   player_of_match  \\\n",
       "257       England  wickets        5  South Africa          AD Hales   \n",
       "261  South Africa  wickets        7       England         Q de Kock   \n",
       "262  South Africa  wickets        1  South Africa         CH Morris   \n",
       "263  South Africa  wickets        5  South Africa    AB de Villiers   \n",
       "279       England  wickets        7       England         HC Knight   \n",
       "281       England     runs      212      Pakistan       TT Beaumont   \n",
       "282       England  wickets       10     Sri Lanka            JJ Roy   \n",
       "285       England     runs      202       England       TT Beaumont   \n",
       "286       England     runs      122     Sri Lanka        JC Buttler   \n",
       "296       England  wickets        4      Pakistan           JE Root   \n",
       "298       England     runs      169       England          AD Hales   \n",
       "300       England  wickets        4      Pakistan       JM Bairstow   \n",
       "302      Pakistan  wickets        4      Pakistan     Sarfraz Ahmed   \n",
       "316       England     runs       21       England           JT Ball   \n",
       "317    Bangladesh     runs       34       England  Mashrafe Mortaza   \n",
       "320       England  wickets        4       England         AU Rashid   \n",
       "333       England  wickets        8     Sri Lanka               NaN   \n",
       "336       England  wickets        5     Sri Lanka               NaN   \n",
       "339       England     runs      162       England               NaN   \n",
       "\n",
       "     train_data  \n",
       "257        True  \n",
       "261        True  \n",
       "262        True  \n",
       "263        True  \n",
       "279        True  \n",
       "281        True  \n",
       "282        True  \n",
       "285        True  \n",
       "286        True  \n",
       "296        True  \n",
       "298        True  \n",
       "300        True  \n",
       "302        True  \n",
       "316        True  \n",
       "317        True  \n",
       "320        True  \n",
       "333        True  \n",
       "336        True  \n",
       "339        True  "
      ]
     },
     "execution_count": 8,
     "metadata": {},
     "output_type": "execute_result"
    }
   ],
   "source": [
    "country_games"
   ]
  },
  {
   "cell_type": "code",
   "execution_count": 9,
   "metadata": {},
   "outputs": [],
   "source": [
    "match_id_list = list(country_games['match_id'])"
   ]
  },
  {
   "cell_type": "code",
   "execution_count": 10,
   "metadata": {},
   "outputs": [],
   "source": [
    "match_stat_list = []\n",
    "for match_id in match_id_list:\n",
    "    match_df = pd.read_csv('csv_data/train/'+str(match_id)+'.csv')\n",
    "    match_stat_list.append(match_df)"
   ]
  },
  {
   "cell_type": "code",
   "execution_count": 11,
   "metadata": {},
   "outputs": [],
   "source": [
    "match_stat_df = pd.concat(match_stat_list)"
   ]
  },
  {
   "cell_type": "code",
   "execution_count": 12,
   "metadata": {},
   "outputs": [],
   "source": [
    "match_stat_df.fillna('NA',inplace=True)"
   ]
  },
  {
   "cell_type": "code",
   "execution_count": 13,
   "metadata": {},
   "outputs": [],
   "source": [
    "match_stat_df = match_stat_df.merge(country_games,how='inner',on='match_id')"
   ]
  },
  {
   "cell_type": "code",
   "execution_count": 14,
   "metadata": {},
   "outputs": [
    {
     "data": {
      "text/html": [
       "<div>\n",
       "<style scoped>\n",
       "    .dataframe tbody tr th:only-of-type {\n",
       "        vertical-align: middle;\n",
       "    }\n",
       "\n",
       "    .dataframe tbody tr th {\n",
       "        vertical-align: top;\n",
       "    }\n",
       "\n",
       "    .dataframe thead th {\n",
       "        text-align: right;\n",
       "    }\n",
       "</style>\n",
       "<table border=\"1\" class=\"dataframe\">\n",
       "  <thead>\n",
       "    <tr style=\"text-align: right;\">\n",
       "      <th></th>\n",
       "      <th>match_id</th>\n",
       "      <th>innings</th>\n",
       "      <th>team</th>\n",
       "      <th>opponent</th>\n",
       "      <th>ball</th>\n",
       "      <th>batsman</th>\n",
       "      <th>non_striker</th>\n",
       "      <th>bowler</th>\n",
       "      <th>scored_runs</th>\n",
       "      <th>extras</th>\n",
       "      <th>...</th>\n",
       "      <th>date</th>\n",
       "      <th>location</th>\n",
       "      <th>first_innings</th>\n",
       "      <th>second_innings</th>\n",
       "      <th>winner_y</th>\n",
       "      <th>win_by</th>\n",
       "      <th>win_dif</th>\n",
       "      <th>toss_winner</th>\n",
       "      <th>player_of_match</th>\n",
       "      <th>train_data</th>\n",
       "    </tr>\n",
       "  </thead>\n",
       "  <tbody>\n",
       "    <tr>\n",
       "      <th>0</th>\n",
       "      <td>800471</td>\n",
       "      <td>1st innings</td>\n",
       "      <td>South Africa</td>\n",
       "      <td>England</td>\n",
       "      <td>0.1</td>\n",
       "      <td>HM Amla</td>\n",
       "      <td>Q de Kock</td>\n",
       "      <td>RJW Topley</td>\n",
       "      <td>0</td>\n",
       "      <td>0</td>\n",
       "      <td>...</td>\n",
       "      <td>2016-02-06</td>\n",
       "      <td>Port Elizabeth</td>\n",
       "      <td>South Africa</td>\n",
       "      <td>England</td>\n",
       "      <td>England</td>\n",
       "      <td>wickets</td>\n",
       "      <td>5</td>\n",
       "      <td>South Africa</td>\n",
       "      <td>AD Hales</td>\n",
       "      <td>True</td>\n",
       "    </tr>\n",
       "    <tr>\n",
       "      <th>1</th>\n",
       "      <td>800471</td>\n",
       "      <td>1st innings</td>\n",
       "      <td>South Africa</td>\n",
       "      <td>England</td>\n",
       "      <td>0.2</td>\n",
       "      <td>HM Amla</td>\n",
       "      <td>Q de Kock</td>\n",
       "      <td>RJW Topley</td>\n",
       "      <td>0</td>\n",
       "      <td>0</td>\n",
       "      <td>...</td>\n",
       "      <td>2016-02-06</td>\n",
       "      <td>Port Elizabeth</td>\n",
       "      <td>South Africa</td>\n",
       "      <td>England</td>\n",
       "      <td>England</td>\n",
       "      <td>wickets</td>\n",
       "      <td>5</td>\n",
       "      <td>South Africa</td>\n",
       "      <td>AD Hales</td>\n",
       "      <td>True</td>\n",
       "    </tr>\n",
       "    <tr>\n",
       "      <th>2</th>\n",
       "      <td>800471</td>\n",
       "      <td>1st innings</td>\n",
       "      <td>South Africa</td>\n",
       "      <td>England</td>\n",
       "      <td>0.3</td>\n",
       "      <td>HM Amla</td>\n",
       "      <td>Q de Kock</td>\n",
       "      <td>RJW Topley</td>\n",
       "      <td>0</td>\n",
       "      <td>0</td>\n",
       "      <td>...</td>\n",
       "      <td>2016-02-06</td>\n",
       "      <td>Port Elizabeth</td>\n",
       "      <td>South Africa</td>\n",
       "      <td>England</td>\n",
       "      <td>England</td>\n",
       "      <td>wickets</td>\n",
       "      <td>5</td>\n",
       "      <td>South Africa</td>\n",
       "      <td>AD Hales</td>\n",
       "      <td>True</td>\n",
       "    </tr>\n",
       "    <tr>\n",
       "      <th>3</th>\n",
       "      <td>800471</td>\n",
       "      <td>1st innings</td>\n",
       "      <td>South Africa</td>\n",
       "      <td>England</td>\n",
       "      <td>0.4</td>\n",
       "      <td>HM Amla</td>\n",
       "      <td>Q de Kock</td>\n",
       "      <td>RJW Topley</td>\n",
       "      <td>0</td>\n",
       "      <td>0</td>\n",
       "      <td>...</td>\n",
       "      <td>2016-02-06</td>\n",
       "      <td>Port Elizabeth</td>\n",
       "      <td>South Africa</td>\n",
       "      <td>England</td>\n",
       "      <td>England</td>\n",
       "      <td>wickets</td>\n",
       "      <td>5</td>\n",
       "      <td>South Africa</td>\n",
       "      <td>AD Hales</td>\n",
       "      <td>True</td>\n",
       "    </tr>\n",
       "    <tr>\n",
       "      <th>4</th>\n",
       "      <td>800471</td>\n",
       "      <td>1st innings</td>\n",
       "      <td>South Africa</td>\n",
       "      <td>England</td>\n",
       "      <td>0.5</td>\n",
       "      <td>HM Amla</td>\n",
       "      <td>Q de Kock</td>\n",
       "      <td>RJW Topley</td>\n",
       "      <td>0</td>\n",
       "      <td>0</td>\n",
       "      <td>...</td>\n",
       "      <td>2016-02-06</td>\n",
       "      <td>Port Elizabeth</td>\n",
       "      <td>South Africa</td>\n",
       "      <td>England</td>\n",
       "      <td>England</td>\n",
       "      <td>wickets</td>\n",
       "      <td>5</td>\n",
       "      <td>South Africa</td>\n",
       "      <td>AD Hales</td>\n",
       "      <td>True</td>\n",
       "    </tr>\n",
       "  </tbody>\n",
       "</table>\n",
       "<p>5 rows × 27 columns</p>\n",
       "</div>"
      ],
      "text/plain": [
       "   match_id      innings          team opponent  ball  batsman non_striker  \\\n",
       "0    800471  1st innings  South Africa  England   0.1  HM Amla   Q de Kock   \n",
       "1    800471  1st innings  South Africa  England   0.2  HM Amla   Q de Kock   \n",
       "2    800471  1st innings  South Africa  England   0.3  HM Amla   Q de Kock   \n",
       "3    800471  1st innings  South Africa  England   0.4  HM Amla   Q de Kock   \n",
       "4    800471  1st innings  South Africa  England   0.5  HM Amla   Q de Kock   \n",
       "\n",
       "       bowler  scored_runs  extras  ...       date        location  \\\n",
       "0  RJW Topley            0       0  ... 2016-02-06  Port Elizabeth   \n",
       "1  RJW Topley            0       0  ... 2016-02-06  Port Elizabeth   \n",
       "2  RJW Topley            0       0  ... 2016-02-06  Port Elizabeth   \n",
       "3  RJW Topley            0       0  ... 2016-02-06  Port Elizabeth   \n",
       "4  RJW Topley            0       0  ... 2016-02-06  Port Elizabeth   \n",
       "\n",
       "   first_innings second_innings winner_y   win_by  win_dif   toss_winner  \\\n",
       "0   South Africa        England  England  wickets        5  South Africa   \n",
       "1   South Africa        England  England  wickets        5  South Africa   \n",
       "2   South Africa        England  England  wickets        5  South Africa   \n",
       "3   South Africa        England  England  wickets        5  South Africa   \n",
       "4   South Africa        England  England  wickets        5  South Africa   \n",
       "\n",
       "  player_of_match train_data  \n",
       "0        AD Hales       True  \n",
       "1        AD Hales       True  \n",
       "2        AD Hales       True  \n",
       "3        AD Hales       True  \n",
       "4        AD Hales       True  \n",
       "\n",
       "[5 rows x 27 columns]"
      ]
     },
     "execution_count": 14,
     "metadata": {},
     "output_type": "execute_result"
    }
   ],
   "source": [
    "match_stat_df.head()"
   ]
  },
  {
   "cell_type": "code",
   "execution_count": 15,
   "metadata": {},
   "outputs": [
    {
     "data": {
      "text/plain": [
       "Index(['match_id', 'innings', 'team', 'opponent', 'ball', 'batsman',\n",
       "       'non_striker', 'bowler', 'scored_runs', 'extras', 'total', 'extra_type',\n",
       "       'wicket', 'wicket_type', 'player_out', 'fielders', 'winner_x', 'date',\n",
       "       'location', 'first_innings', 'second_innings', 'winner_y', 'win_by',\n",
       "       'win_dif', 'toss_winner', 'player_of_match', 'train_data'],\n",
       "      dtype='object')"
      ]
     },
     "execution_count": 15,
     "metadata": {},
     "output_type": "execute_result"
    }
   ],
   "source": [
    "match_stat_df.columns"
   ]
  },
  {
   "cell_type": "code",
   "execution_count": 16,
   "metadata": {},
   "outputs": [
    {
     "data": {
      "text/plain": [
       "['RJW Topley',\n",
       " 'DJ Willey',\n",
       " 'BA Stokes',\n",
       " 'AU Rashid',\n",
       " 'MM Ali',\n",
       " 'CJ Jordan',\n",
       " 'SCJ Broad',\n",
       " 'CR Woakes',\n",
       " 'KH Brunt',\n",
       " 'A Shrubsole',\n",
       " 'KL Cross',\n",
       " 'NR Sciver',\n",
       " 'LA Marsh',\n",
       " 'HC Knight',\n",
       " 'GA Elwiss',\n",
       " 'LE Plunkett',\n",
       " 'JE Root',\n",
       " 'A Hartley',\n",
       " 'MA Wood',\n",
       " 'LA Dawson',\n",
       " 'JT Ball',\n",
       " 'BA Langston',\n",
       " 'D Hazell']"
      ]
     },
     "execution_count": 16,
     "metadata": {},
     "output_type": "execute_result"
    }
   ],
   "source": [
    "bowler_list = list(match_stat_df[match_stat_df['opponent']==selected_country]['bowler'].unique())\n",
    "bowler_list"
   ]
  },
  {
   "cell_type": "code",
   "execution_count": 17,
   "metadata": {},
   "outputs": [],
   "source": [
    "selected_bowler = bowler_list[0]"
   ]
  },
  {
   "cell_type": "code",
   "execution_count": 18,
   "metadata": {},
   "outputs": [
    {
     "name": "stderr",
     "output_type": "stream",
     "text": [
      "/opt/anaconda3/lib/python3.8/site-packages/pandas/core/frame.py:4125: SettingWithCopyWarning: \n",
      "A value is trying to be set on a copy of a slice from a DataFrame\n",
      "\n",
      "See the caveats in the documentation: https://pandas.pydata.org/pandas-docs/stable/user_guide/indexing.html#returning-a-view-versus-a-copy\n",
      "  return super().rename(\n"
     ]
    }
   ],
   "source": [
    "bowler_df = match_stat_df[match_stat_df['bowler']==selected_bowler]\n",
    "total_runs = bowler_df['total'].sum()\n",
    "\n",
    "run_rate = total_runs/bowler_df.shape[0]\n",
    "#run_rate_inverse = 1/run_rate\n",
    "negative_rate = -run_rate\n",
    "\n",
    "# no_of_wickets,wicket_rate,wicket_per_runs\n",
    "no_of_wickets = bowler_df['wicket'].sum()-bowler_df[bowler_df['wicket_type']=='run out'].shape[0]\n",
    "wickets_per_match = no_of_wickets/len(list(bowler_df['match_id'].unique()))\n",
    "wickets_per_run = no_of_wickets/total_runs\n",
    "\n",
    "\n",
    "team_score = country_rank[country_rank['country']==selected_country]['score'].values[0]\n",
    "#opponent_mean\n",
    "\n",
    "bowler_df.rename(columns={'team':'country'},inplace=True)\n",
    "bowler_df=bowler_df.merge(country_rank,on='country',how='inner')\n",
    "opponent_mean = bowler_df[['match_id','country','score']].groupby(['match_id']).min().reset_index()['score'].mean()\n",
    "matches_played = len(list(bowler_df['match_id'].unique()))\n",
    "player_of_the_match = country_games[country_games['player_of_match']==selected_bowler].shape[0]\n",
    "\n",
    "#winning contribution(effectiveness)-% of wickets taken in winning matches\n",
    "country_win_list = list(country_games[country_games['winner']==selected_country]['match_id'])\n",
    "winning_match_df = match_stat_df[match_stat_df['match_id'].isin(country_win_list)]\n",
    "\n",
    "winning_contribution = winning_match_df[winning_match_df['bowler']==selected_bowler]['wicket'].sum()/winning_match_df['wicket'].sum()\n",
    "\n",
    "#winning_wicket_per_run rate contribution\n",
    "#winning wicket_per_match contirbution\n",
    "\n",
    "team_wickets_per_run = winning_match_df[winning_match_df['opponent']==selected_country]['wicket'].sum()/winning_match_df[winning_match_df['opponent']==selected_country]['total'].sum()\n",
    "bowler_wicket_per_run = winning_match_df[winning_match_df['bowler']==selected_bowler]['wicket'].sum()/winning_match_df[winning_match_df['bowler']==selected_bowler]['total'].sum()\n",
    "winning_wicket_per_run_rate_contribution = bowler_wicket_per_run/team_wickets_per_run\n",
    "\n",
    "team_wicket_per_match = winning_match_df[winning_match_df['opponent']==selected_country]['wicket'].sum()/len(list(winning_match_df['match_id'].unique()))\n",
    "bowler_wicket_per_match = winning_match_df[winning_match_df['bowler']==selected_bowler]['wicket'].sum()/winning_match_df[winning_match_df['bowler']==selected_bowler]['match_id'].nunique()\n",
    "winning_wicket_per_match_contribution = bowler_wicket_per_match/team_wicket_per_match\n",
    "\n",
    "#consistency\n",
    "consistency = 1/match_stat_df[match_stat_df['bowler']==selected_bowler].groupby(['match_id'])['wicket'].sum().reset_index()['wicket'].std()\n",
    "\n",
    "no_of_wins=winning_match_df[winning_match_df['bowler']==selected_bowler]['match_id'].nunique()\n",
    "\n",
    "# total_runs,run_rate,team_score,opponent_mean,matches_played,player_of_the_match,winning_contribution,run_rate_effectiveness"
   ]
  },
  {
   "cell_type": "code",
   "execution_count": 19,
   "metadata": {},
   "outputs": [
    {
     "data": {
      "text/plain": [
       "177"
      ]
     },
     "execution_count": 19,
     "metadata": {},
     "output_type": "execute_result"
    }
   ],
   "source": [
    "total_runs"
   ]
  },
  {
   "cell_type": "code",
   "execution_count": 20,
   "metadata": {},
   "outputs": [
    {
     "data": {
      "text/html": [
       "<div>\n",
       "<style scoped>\n",
       "    .dataframe tbody tr th:only-of-type {\n",
       "        vertical-align: middle;\n",
       "    }\n",
       "\n",
       "    .dataframe tbody tr th {\n",
       "        vertical-align: top;\n",
       "    }\n",
       "\n",
       "    .dataframe thead th {\n",
       "        text-align: right;\n",
       "    }\n",
       "</style>\n",
       "<table border=\"1\" class=\"dataframe\">\n",
       "  <thead>\n",
       "    <tr style=\"text-align: right;\">\n",
       "      <th></th>\n",
       "      <th>match_id</th>\n",
       "      <th>innings</th>\n",
       "      <th>team</th>\n",
       "      <th>opponent</th>\n",
       "      <th>ball</th>\n",
       "      <th>batsman</th>\n",
       "      <th>non_striker</th>\n",
       "      <th>bowler</th>\n",
       "      <th>scored_runs</th>\n",
       "      <th>extras</th>\n",
       "      <th>...</th>\n",
       "      <th>date</th>\n",
       "      <th>location</th>\n",
       "      <th>first_innings</th>\n",
       "      <th>second_innings</th>\n",
       "      <th>winner_y</th>\n",
       "      <th>win_by</th>\n",
       "      <th>win_dif</th>\n",
       "      <th>toss_winner</th>\n",
       "      <th>player_of_match</th>\n",
       "      <th>train_data</th>\n",
       "    </tr>\n",
       "  </thead>\n",
       "  <tbody>\n",
       "    <tr>\n",
       "      <th>0</th>\n",
       "      <td>800471</td>\n",
       "      <td>1st innings</td>\n",
       "      <td>South Africa</td>\n",
       "      <td>England</td>\n",
       "      <td>0.1</td>\n",
       "      <td>HM Amla</td>\n",
       "      <td>Q de Kock</td>\n",
       "      <td>RJW Topley</td>\n",
       "      <td>0</td>\n",
       "      <td>0</td>\n",
       "      <td>...</td>\n",
       "      <td>2016-02-06</td>\n",
       "      <td>Port Elizabeth</td>\n",
       "      <td>South Africa</td>\n",
       "      <td>England</td>\n",
       "      <td>England</td>\n",
       "      <td>wickets</td>\n",
       "      <td>5</td>\n",
       "      <td>South Africa</td>\n",
       "      <td>AD Hales</td>\n",
       "      <td>True</td>\n",
       "    </tr>\n",
       "    <tr>\n",
       "      <th>1</th>\n",
       "      <td>800471</td>\n",
       "      <td>1st innings</td>\n",
       "      <td>South Africa</td>\n",
       "      <td>England</td>\n",
       "      <td>0.2</td>\n",
       "      <td>HM Amla</td>\n",
       "      <td>Q de Kock</td>\n",
       "      <td>RJW Topley</td>\n",
       "      <td>0</td>\n",
       "      <td>0</td>\n",
       "      <td>...</td>\n",
       "      <td>2016-02-06</td>\n",
       "      <td>Port Elizabeth</td>\n",
       "      <td>South Africa</td>\n",
       "      <td>England</td>\n",
       "      <td>England</td>\n",
       "      <td>wickets</td>\n",
       "      <td>5</td>\n",
       "      <td>South Africa</td>\n",
       "      <td>AD Hales</td>\n",
       "      <td>True</td>\n",
       "    </tr>\n",
       "    <tr>\n",
       "      <th>2</th>\n",
       "      <td>800471</td>\n",
       "      <td>1st innings</td>\n",
       "      <td>South Africa</td>\n",
       "      <td>England</td>\n",
       "      <td>0.3</td>\n",
       "      <td>HM Amla</td>\n",
       "      <td>Q de Kock</td>\n",
       "      <td>RJW Topley</td>\n",
       "      <td>0</td>\n",
       "      <td>0</td>\n",
       "      <td>...</td>\n",
       "      <td>2016-02-06</td>\n",
       "      <td>Port Elizabeth</td>\n",
       "      <td>South Africa</td>\n",
       "      <td>England</td>\n",
       "      <td>England</td>\n",
       "      <td>wickets</td>\n",
       "      <td>5</td>\n",
       "      <td>South Africa</td>\n",
       "      <td>AD Hales</td>\n",
       "      <td>True</td>\n",
       "    </tr>\n",
       "    <tr>\n",
       "      <th>3</th>\n",
       "      <td>800471</td>\n",
       "      <td>1st innings</td>\n",
       "      <td>South Africa</td>\n",
       "      <td>England</td>\n",
       "      <td>0.4</td>\n",
       "      <td>HM Amla</td>\n",
       "      <td>Q de Kock</td>\n",
       "      <td>RJW Topley</td>\n",
       "      <td>0</td>\n",
       "      <td>0</td>\n",
       "      <td>...</td>\n",
       "      <td>2016-02-06</td>\n",
       "      <td>Port Elizabeth</td>\n",
       "      <td>South Africa</td>\n",
       "      <td>England</td>\n",
       "      <td>England</td>\n",
       "      <td>wickets</td>\n",
       "      <td>5</td>\n",
       "      <td>South Africa</td>\n",
       "      <td>AD Hales</td>\n",
       "      <td>True</td>\n",
       "    </tr>\n",
       "    <tr>\n",
       "      <th>4</th>\n",
       "      <td>800471</td>\n",
       "      <td>1st innings</td>\n",
       "      <td>South Africa</td>\n",
       "      <td>England</td>\n",
       "      <td>0.5</td>\n",
       "      <td>HM Amla</td>\n",
       "      <td>Q de Kock</td>\n",
       "      <td>RJW Topley</td>\n",
       "      <td>0</td>\n",
       "      <td>0</td>\n",
       "      <td>...</td>\n",
       "      <td>2016-02-06</td>\n",
       "      <td>Port Elizabeth</td>\n",
       "      <td>South Africa</td>\n",
       "      <td>England</td>\n",
       "      <td>England</td>\n",
       "      <td>wickets</td>\n",
       "      <td>5</td>\n",
       "      <td>South Africa</td>\n",
       "      <td>AD Hales</td>\n",
       "      <td>True</td>\n",
       "    </tr>\n",
       "    <tr>\n",
       "      <th>...</th>\n",
       "      <td>...</td>\n",
       "      <td>...</td>\n",
       "      <td>...</td>\n",
       "      <td>...</td>\n",
       "      <td>...</td>\n",
       "      <td>...</td>\n",
       "      <td>...</td>\n",
       "      <td>...</td>\n",
       "      <td>...</td>\n",
       "      <td>...</td>\n",
       "      <td>...</td>\n",
       "      <td>...</td>\n",
       "      <td>...</td>\n",
       "      <td>...</td>\n",
       "      <td>...</td>\n",
       "      <td>...</td>\n",
       "      <td>...</td>\n",
       "      <td>...</td>\n",
       "      <td>...</td>\n",
       "      <td>...</td>\n",
       "      <td>...</td>\n",
       "    </tr>\n",
       "    <tr>\n",
       "      <th>10721</th>\n",
       "      <td>1059196</td>\n",
       "      <td>2nd innings</td>\n",
       "      <td>Sri Lanka</td>\n",
       "      <td>England</td>\n",
       "      <td>32.3</td>\n",
       "      <td>SIP Fernando</td>\n",
       "      <td>WGAKK Kulasuriya</td>\n",
       "      <td>A Hartley</td>\n",
       "      <td>0</td>\n",
       "      <td>0</td>\n",
       "      <td>...</td>\n",
       "      <td>2016-11-17</td>\n",
       "      <td>Colombo</td>\n",
       "      <td>England</td>\n",
       "      <td>Sri Lanka</td>\n",
       "      <td>England</td>\n",
       "      <td>runs</td>\n",
       "      <td>162</td>\n",
       "      <td>England</td>\n",
       "      <td>NaN</td>\n",
       "      <td>True</td>\n",
       "    </tr>\n",
       "    <tr>\n",
       "      <th>10722</th>\n",
       "      <td>1059196</td>\n",
       "      <td>2nd innings</td>\n",
       "      <td>Sri Lanka</td>\n",
       "      <td>England</td>\n",
       "      <td>32.4</td>\n",
       "      <td>SIP Fernando</td>\n",
       "      <td>WGAKK Kulasuriya</td>\n",
       "      <td>A Hartley</td>\n",
       "      <td>0</td>\n",
       "      <td>0</td>\n",
       "      <td>...</td>\n",
       "      <td>2016-11-17</td>\n",
       "      <td>Colombo</td>\n",
       "      <td>England</td>\n",
       "      <td>Sri Lanka</td>\n",
       "      <td>England</td>\n",
       "      <td>runs</td>\n",
       "      <td>162</td>\n",
       "      <td>England</td>\n",
       "      <td>NaN</td>\n",
       "      <td>True</td>\n",
       "    </tr>\n",
       "    <tr>\n",
       "      <th>10723</th>\n",
       "      <td>1059196</td>\n",
       "      <td>2nd innings</td>\n",
       "      <td>Sri Lanka</td>\n",
       "      <td>England</td>\n",
       "      <td>32.5</td>\n",
       "      <td>SIP Fernando</td>\n",
       "      <td>WGAKK Kulasuriya</td>\n",
       "      <td>A Hartley</td>\n",
       "      <td>0</td>\n",
       "      <td>0</td>\n",
       "      <td>...</td>\n",
       "      <td>2016-11-17</td>\n",
       "      <td>Colombo</td>\n",
       "      <td>England</td>\n",
       "      <td>Sri Lanka</td>\n",
       "      <td>England</td>\n",
       "      <td>runs</td>\n",
       "      <td>162</td>\n",
       "      <td>England</td>\n",
       "      <td>NaN</td>\n",
       "      <td>True</td>\n",
       "    </tr>\n",
       "    <tr>\n",
       "      <th>10724</th>\n",
       "      <td>1059196</td>\n",
       "      <td>2nd innings</td>\n",
       "      <td>Sri Lanka</td>\n",
       "      <td>England</td>\n",
       "      <td>32.6</td>\n",
       "      <td>SIP Fernando</td>\n",
       "      <td>WGAKK Kulasuriya</td>\n",
       "      <td>A Hartley</td>\n",
       "      <td>0</td>\n",
       "      <td>0</td>\n",
       "      <td>...</td>\n",
       "      <td>2016-11-17</td>\n",
       "      <td>Colombo</td>\n",
       "      <td>England</td>\n",
       "      <td>Sri Lanka</td>\n",
       "      <td>England</td>\n",
       "      <td>runs</td>\n",
       "      <td>162</td>\n",
       "      <td>England</td>\n",
       "      <td>NaN</td>\n",
       "      <td>True</td>\n",
       "    </tr>\n",
       "    <tr>\n",
       "      <th>10725</th>\n",
       "      <td>1059196</td>\n",
       "      <td>2nd innings</td>\n",
       "      <td>Sri Lanka</td>\n",
       "      <td>England</td>\n",
       "      <td>33.1</td>\n",
       "      <td>WGAKK Kulasuriya</td>\n",
       "      <td>SIP Fernando</td>\n",
       "      <td>D Hazell</td>\n",
       "      <td>0</td>\n",
       "      <td>0</td>\n",
       "      <td>...</td>\n",
       "      <td>2016-11-17</td>\n",
       "      <td>Colombo</td>\n",
       "      <td>England</td>\n",
       "      <td>Sri Lanka</td>\n",
       "      <td>England</td>\n",
       "      <td>runs</td>\n",
       "      <td>162</td>\n",
       "      <td>England</td>\n",
       "      <td>NaN</td>\n",
       "      <td>True</td>\n",
       "    </tr>\n",
       "  </tbody>\n",
       "</table>\n",
       "<p>7808 rows × 27 columns</p>\n",
       "</div>"
      ],
      "text/plain": [
       "       match_id      innings          team opponent  ball           batsman  \\\n",
       "0        800471  1st innings  South Africa  England   0.1           HM Amla   \n",
       "1        800471  1st innings  South Africa  England   0.2           HM Amla   \n",
       "2        800471  1st innings  South Africa  England   0.3           HM Amla   \n",
       "3        800471  1st innings  South Africa  England   0.4           HM Amla   \n",
       "4        800471  1st innings  South Africa  England   0.5           HM Amla   \n",
       "...         ...          ...           ...      ...   ...               ...   \n",
       "10721   1059196  2nd innings     Sri Lanka  England  32.3      SIP Fernando   \n",
       "10722   1059196  2nd innings     Sri Lanka  England  32.4      SIP Fernando   \n",
       "10723   1059196  2nd innings     Sri Lanka  England  32.5      SIP Fernando   \n",
       "10724   1059196  2nd innings     Sri Lanka  England  32.6      SIP Fernando   \n",
       "10725   1059196  2nd innings     Sri Lanka  England  33.1  WGAKK Kulasuriya   \n",
       "\n",
       "            non_striker      bowler  scored_runs  extras  ...       date  \\\n",
       "0             Q de Kock  RJW Topley            0       0  ... 2016-02-06   \n",
       "1             Q de Kock  RJW Topley            0       0  ... 2016-02-06   \n",
       "2             Q de Kock  RJW Topley            0       0  ... 2016-02-06   \n",
       "3             Q de Kock  RJW Topley            0       0  ... 2016-02-06   \n",
       "4             Q de Kock  RJW Topley            0       0  ... 2016-02-06   \n",
       "...                 ...         ...          ...     ...  ...        ...   \n",
       "10721  WGAKK Kulasuriya   A Hartley            0       0  ... 2016-11-17   \n",
       "10722  WGAKK Kulasuriya   A Hartley            0       0  ... 2016-11-17   \n",
       "10723  WGAKK Kulasuriya   A Hartley            0       0  ... 2016-11-17   \n",
       "10724  WGAKK Kulasuriya   A Hartley            0       0  ... 2016-11-17   \n",
       "10725      SIP Fernando    D Hazell            0       0  ... 2016-11-17   \n",
       "\n",
       "             location  first_innings second_innings winner_y   win_by  \\\n",
       "0      Port Elizabeth   South Africa        England  England  wickets   \n",
       "1      Port Elizabeth   South Africa        England  England  wickets   \n",
       "2      Port Elizabeth   South Africa        England  England  wickets   \n",
       "3      Port Elizabeth   South Africa        England  England  wickets   \n",
       "4      Port Elizabeth   South Africa        England  England  wickets   \n",
       "...               ...            ...            ...      ...      ...   \n",
       "10721         Colombo        England      Sri Lanka  England     runs   \n",
       "10722         Colombo        England      Sri Lanka  England     runs   \n",
       "10723         Colombo        England      Sri Lanka  England     runs   \n",
       "10724         Colombo        England      Sri Lanka  England     runs   \n",
       "10725         Colombo        England      Sri Lanka  England     runs   \n",
       "\n",
       "       win_dif   toss_winner player_of_match train_data  \n",
       "0            5  South Africa        AD Hales       True  \n",
       "1            5  South Africa        AD Hales       True  \n",
       "2            5  South Africa        AD Hales       True  \n",
       "3            5  South Africa        AD Hales       True  \n",
       "4            5  South Africa        AD Hales       True  \n",
       "...        ...           ...             ...        ...  \n",
       "10721      162       England             NaN       True  \n",
       "10722      162       England             NaN       True  \n",
       "10723      162       England             NaN       True  \n",
       "10724      162       England             NaN       True  \n",
       "10725      162       England             NaN       True  \n",
       "\n",
       "[7808 rows x 27 columns]"
      ]
     },
     "execution_count": 20,
     "metadata": {},
     "output_type": "execute_result"
    }
   ],
   "source": [
    "winning_match_df"
   ]
  },
  {
   "cell_type": "code",
   "execution_count": 21,
   "metadata": {},
   "outputs": [
    {
     "data": {
      "text/html": [
       "<div>\n",
       "<style scoped>\n",
       "    .dataframe tbody tr th:only-of-type {\n",
       "        vertical-align: middle;\n",
       "    }\n",
       "\n",
       "    .dataframe tbody tr th {\n",
       "        vertical-align: top;\n",
       "    }\n",
       "\n",
       "    .dataframe thead th {\n",
       "        text-align: right;\n",
       "    }\n",
       "</style>\n",
       "<table border=\"1\" class=\"dataframe\">\n",
       "  <thead>\n",
       "    <tr style=\"text-align: right;\">\n",
       "      <th></th>\n",
       "      <th>match_id</th>\n",
       "      <th>innings</th>\n",
       "      <th>country</th>\n",
       "      <th>opponent</th>\n",
       "      <th>ball</th>\n",
       "      <th>batsman</th>\n",
       "      <th>non_striker</th>\n",
       "      <th>bowler</th>\n",
       "      <th>scored_runs</th>\n",
       "      <th>extras</th>\n",
       "      <th>...</th>\n",
       "      <th>toss_winner</th>\n",
       "      <th>player_of_match</th>\n",
       "      <th>train_data</th>\n",
       "      <th>win_ratio</th>\n",
       "      <th>effective_win_by_runs</th>\n",
       "      <th>effective_win_by_wickets</th>\n",
       "      <th>matches_played</th>\n",
       "      <th>win_count</th>\n",
       "      <th>score</th>\n",
       "      <th>rank</th>\n",
       "    </tr>\n",
       "  </thead>\n",
       "  <tbody>\n",
       "    <tr>\n",
       "      <th>0</th>\n",
       "      <td>800471</td>\n",
       "      <td>1st innings</td>\n",
       "      <td>South Africa</td>\n",
       "      <td>England</td>\n",
       "      <td>0.1</td>\n",
       "      <td>HM Amla</td>\n",
       "      <td>Q de Kock</td>\n",
       "      <td>RJW Topley</td>\n",
       "      <td>0</td>\n",
       "      <td>0</td>\n",
       "      <td>...</td>\n",
       "      <td>South Africa</td>\n",
       "      <td>AD Hales</td>\n",
       "      <td>True</td>\n",
       "      <td>0.538462</td>\n",
       "      <td>127</td>\n",
       "      <td>12</td>\n",
       "      <td>26</td>\n",
       "      <td>14</td>\n",
       "      <td>2.469542</td>\n",
       "      <td>3</td>\n",
       "    </tr>\n",
       "    <tr>\n",
       "      <th>1</th>\n",
       "      <td>800471</td>\n",
       "      <td>1st innings</td>\n",
       "      <td>South Africa</td>\n",
       "      <td>England</td>\n",
       "      <td>0.2</td>\n",
       "      <td>HM Amla</td>\n",
       "      <td>Q de Kock</td>\n",
       "      <td>RJW Topley</td>\n",
       "      <td>0</td>\n",
       "      <td>0</td>\n",
       "      <td>...</td>\n",
       "      <td>South Africa</td>\n",
       "      <td>AD Hales</td>\n",
       "      <td>True</td>\n",
       "      <td>0.538462</td>\n",
       "      <td>127</td>\n",
       "      <td>12</td>\n",
       "      <td>26</td>\n",
       "      <td>14</td>\n",
       "      <td>2.469542</td>\n",
       "      <td>3</td>\n",
       "    </tr>\n",
       "    <tr>\n",
       "      <th>2</th>\n",
       "      <td>800471</td>\n",
       "      <td>1st innings</td>\n",
       "      <td>South Africa</td>\n",
       "      <td>England</td>\n",
       "      <td>0.3</td>\n",
       "      <td>HM Amla</td>\n",
       "      <td>Q de Kock</td>\n",
       "      <td>RJW Topley</td>\n",
       "      <td>0</td>\n",
       "      <td>0</td>\n",
       "      <td>...</td>\n",
       "      <td>South Africa</td>\n",
       "      <td>AD Hales</td>\n",
       "      <td>True</td>\n",
       "      <td>0.538462</td>\n",
       "      <td>127</td>\n",
       "      <td>12</td>\n",
       "      <td>26</td>\n",
       "      <td>14</td>\n",
       "      <td>2.469542</td>\n",
       "      <td>3</td>\n",
       "    </tr>\n",
       "    <tr>\n",
       "      <th>3</th>\n",
       "      <td>800471</td>\n",
       "      <td>1st innings</td>\n",
       "      <td>South Africa</td>\n",
       "      <td>England</td>\n",
       "      <td>0.4</td>\n",
       "      <td>HM Amla</td>\n",
       "      <td>Q de Kock</td>\n",
       "      <td>RJW Topley</td>\n",
       "      <td>0</td>\n",
       "      <td>0</td>\n",
       "      <td>...</td>\n",
       "      <td>South Africa</td>\n",
       "      <td>AD Hales</td>\n",
       "      <td>True</td>\n",
       "      <td>0.538462</td>\n",
       "      <td>127</td>\n",
       "      <td>12</td>\n",
       "      <td>26</td>\n",
       "      <td>14</td>\n",
       "      <td>2.469542</td>\n",
       "      <td>3</td>\n",
       "    </tr>\n",
       "    <tr>\n",
       "      <th>4</th>\n",
       "      <td>800471</td>\n",
       "      <td>1st innings</td>\n",
       "      <td>South Africa</td>\n",
       "      <td>England</td>\n",
       "      <td>0.5</td>\n",
       "      <td>HM Amla</td>\n",
       "      <td>Q de Kock</td>\n",
       "      <td>RJW Topley</td>\n",
       "      <td>0</td>\n",
       "      <td>0</td>\n",
       "      <td>...</td>\n",
       "      <td>South Africa</td>\n",
       "      <td>AD Hales</td>\n",
       "      <td>True</td>\n",
       "      <td>0.538462</td>\n",
       "      <td>127</td>\n",
       "      <td>12</td>\n",
       "      <td>26</td>\n",
       "      <td>14</td>\n",
       "      <td>2.469542</td>\n",
       "      <td>3</td>\n",
       "    </tr>\n",
       "    <tr>\n",
       "      <th>...</th>\n",
       "      <td>...</td>\n",
       "      <td>...</td>\n",
       "      <td>...</td>\n",
       "      <td>...</td>\n",
       "      <td>...</td>\n",
       "      <td>...</td>\n",
       "      <td>...</td>\n",
       "      <td>...</td>\n",
       "      <td>...</td>\n",
       "      <td>...</td>\n",
       "      <td>...</td>\n",
       "      <td>...</td>\n",
       "      <td>...</td>\n",
       "      <td>...</td>\n",
       "      <td>...</td>\n",
       "      <td>...</td>\n",
       "      <td>...</td>\n",
       "      <td>...</td>\n",
       "      <td>...</td>\n",
       "      <td>...</td>\n",
       "      <td>...</td>\n",
       "    </tr>\n",
       "    <tr>\n",
       "      <th>182</th>\n",
       "      <td>800477</td>\n",
       "      <td>2nd innings</td>\n",
       "      <td>South Africa</td>\n",
       "      <td>England</td>\n",
       "      <td>42.3</td>\n",
       "      <td>AB de Villiers</td>\n",
       "      <td>D Wiese</td>\n",
       "      <td>RJW Topley</td>\n",
       "      <td>2</td>\n",
       "      <td>0</td>\n",
       "      <td>...</td>\n",
       "      <td>South Africa</td>\n",
       "      <td>AB de Villiers</td>\n",
       "      <td>True</td>\n",
       "      <td>0.538462</td>\n",
       "      <td>127</td>\n",
       "      <td>12</td>\n",
       "      <td>26</td>\n",
       "      <td>14</td>\n",
       "      <td>2.469542</td>\n",
       "      <td>3</td>\n",
       "    </tr>\n",
       "    <tr>\n",
       "      <th>183</th>\n",
       "      <td>800477</td>\n",
       "      <td>2nd innings</td>\n",
       "      <td>South Africa</td>\n",
       "      <td>England</td>\n",
       "      <td>42.4</td>\n",
       "      <td>AB de Villiers</td>\n",
       "      <td>D Wiese</td>\n",
       "      <td>RJW Topley</td>\n",
       "      <td>1</td>\n",
       "      <td>0</td>\n",
       "      <td>...</td>\n",
       "      <td>South Africa</td>\n",
       "      <td>AB de Villiers</td>\n",
       "      <td>True</td>\n",
       "      <td>0.538462</td>\n",
       "      <td>127</td>\n",
       "      <td>12</td>\n",
       "      <td>26</td>\n",
       "      <td>14</td>\n",
       "      <td>2.469542</td>\n",
       "      <td>3</td>\n",
       "    </tr>\n",
       "    <tr>\n",
       "      <th>184</th>\n",
       "      <td>800477</td>\n",
       "      <td>2nd innings</td>\n",
       "      <td>South Africa</td>\n",
       "      <td>England</td>\n",
       "      <td>42.5</td>\n",
       "      <td>D Wiese</td>\n",
       "      <td>AB de Villiers</td>\n",
       "      <td>RJW Topley</td>\n",
       "      <td>0</td>\n",
       "      <td>1</td>\n",
       "      <td>...</td>\n",
       "      <td>South Africa</td>\n",
       "      <td>AB de Villiers</td>\n",
       "      <td>True</td>\n",
       "      <td>0.538462</td>\n",
       "      <td>127</td>\n",
       "      <td>12</td>\n",
       "      <td>26</td>\n",
       "      <td>14</td>\n",
       "      <td>2.469542</td>\n",
       "      <td>3</td>\n",
       "    </tr>\n",
       "    <tr>\n",
       "      <th>185</th>\n",
       "      <td>800477</td>\n",
       "      <td>2nd innings</td>\n",
       "      <td>South Africa</td>\n",
       "      <td>England</td>\n",
       "      <td>42.6</td>\n",
       "      <td>D Wiese</td>\n",
       "      <td>AB de Villiers</td>\n",
       "      <td>RJW Topley</td>\n",
       "      <td>0</td>\n",
       "      <td>0</td>\n",
       "      <td>...</td>\n",
       "      <td>South Africa</td>\n",
       "      <td>AB de Villiers</td>\n",
       "      <td>True</td>\n",
       "      <td>0.538462</td>\n",
       "      <td>127</td>\n",
       "      <td>12</td>\n",
       "      <td>26</td>\n",
       "      <td>14</td>\n",
       "      <td>2.469542</td>\n",
       "      <td>3</td>\n",
       "    </tr>\n",
       "    <tr>\n",
       "      <th>186</th>\n",
       "      <td>800477</td>\n",
       "      <td>2nd innings</td>\n",
       "      <td>South Africa</td>\n",
       "      <td>England</td>\n",
       "      <td>42.7</td>\n",
       "      <td>D Wiese</td>\n",
       "      <td>AB de Villiers</td>\n",
       "      <td>RJW Topley</td>\n",
       "      <td>2</td>\n",
       "      <td>0</td>\n",
       "      <td>...</td>\n",
       "      <td>South Africa</td>\n",
       "      <td>AB de Villiers</td>\n",
       "      <td>True</td>\n",
       "      <td>0.538462</td>\n",
       "      <td>127</td>\n",
       "      <td>12</td>\n",
       "      <td>26</td>\n",
       "      <td>14</td>\n",
       "      <td>2.469542</td>\n",
       "      <td>3</td>\n",
       "    </tr>\n",
       "  </tbody>\n",
       "</table>\n",
       "<p>187 rows × 34 columns</p>\n",
       "</div>"
      ],
      "text/plain": [
       "     match_id      innings       country opponent  ball         batsman  \\\n",
       "0      800471  1st innings  South Africa  England   0.1         HM Amla   \n",
       "1      800471  1st innings  South Africa  England   0.2         HM Amla   \n",
       "2      800471  1st innings  South Africa  England   0.3         HM Amla   \n",
       "3      800471  1st innings  South Africa  England   0.4         HM Amla   \n",
       "4      800471  1st innings  South Africa  England   0.5         HM Amla   \n",
       "..        ...          ...           ...      ...   ...             ...   \n",
       "182    800477  2nd innings  South Africa  England  42.3  AB de Villiers   \n",
       "183    800477  2nd innings  South Africa  England  42.4  AB de Villiers   \n",
       "184    800477  2nd innings  South Africa  England  42.5         D Wiese   \n",
       "185    800477  2nd innings  South Africa  England  42.6         D Wiese   \n",
       "186    800477  2nd innings  South Africa  England  42.7         D Wiese   \n",
       "\n",
       "        non_striker      bowler  scored_runs  extras  ...   toss_winner  \\\n",
       "0         Q de Kock  RJW Topley            0       0  ...  South Africa   \n",
       "1         Q de Kock  RJW Topley            0       0  ...  South Africa   \n",
       "2         Q de Kock  RJW Topley            0       0  ...  South Africa   \n",
       "3         Q de Kock  RJW Topley            0       0  ...  South Africa   \n",
       "4         Q de Kock  RJW Topley            0       0  ...  South Africa   \n",
       "..              ...         ...          ...     ...  ...           ...   \n",
       "182         D Wiese  RJW Topley            2       0  ...  South Africa   \n",
       "183         D Wiese  RJW Topley            1       0  ...  South Africa   \n",
       "184  AB de Villiers  RJW Topley            0       1  ...  South Africa   \n",
       "185  AB de Villiers  RJW Topley            0       0  ...  South Africa   \n",
       "186  AB de Villiers  RJW Topley            2       0  ...  South Africa   \n",
       "\n",
       "    player_of_match  train_data win_ratio effective_win_by_runs  \\\n",
       "0          AD Hales        True  0.538462                   127   \n",
       "1          AD Hales        True  0.538462                   127   \n",
       "2          AD Hales        True  0.538462                   127   \n",
       "3          AD Hales        True  0.538462                   127   \n",
       "4          AD Hales        True  0.538462                   127   \n",
       "..              ...         ...       ...                   ...   \n",
       "182  AB de Villiers        True  0.538462                   127   \n",
       "183  AB de Villiers        True  0.538462                   127   \n",
       "184  AB de Villiers        True  0.538462                   127   \n",
       "185  AB de Villiers        True  0.538462                   127   \n",
       "186  AB de Villiers        True  0.538462                   127   \n",
       "\n",
       "    effective_win_by_wickets  matches_played win_count     score rank  \n",
       "0                         12              26        14  2.469542    3  \n",
       "1                         12              26        14  2.469542    3  \n",
       "2                         12              26        14  2.469542    3  \n",
       "3                         12              26        14  2.469542    3  \n",
       "4                         12              26        14  2.469542    3  \n",
       "..                       ...             ...       ...       ...  ...  \n",
       "182                       12              26        14  2.469542    3  \n",
       "183                       12              26        14  2.469542    3  \n",
       "184                       12              26        14  2.469542    3  \n",
       "185                       12              26        14  2.469542    3  \n",
       "186                       12              26        14  2.469542    3  \n",
       "\n",
       "[187 rows x 34 columns]"
      ]
     },
     "execution_count": 21,
     "metadata": {},
     "output_type": "execute_result"
    }
   ],
   "source": [
    "#bowler_df = match_stat_df[match_stat_df['bowler']==selected_bowler]\n",
    "#match_stat_df[match_stat_df['wicket']==1]['extra_type'].unique()\n",
    "bowler_df"
   ]
  },
  {
   "cell_type": "code",
   "execution_count": 22,
   "metadata": {},
   "outputs": [],
   "source": [
    "#batsman_df"
   ]
  },
  {
   "cell_type": "code",
   "execution_count": 23,
   "metadata": {},
   "outputs": [],
   "source": [
    "#country_list"
   ]
  },
  {
   "cell_type": "markdown",
   "metadata": {},
   "source": [
    "# loop"
   ]
  },
  {
   "cell_type": "code",
   "execution_count": 45,
   "metadata": {},
   "outputs": [
    {
     "data": {
      "application/vnd.jupyter.widget-view+json": {
       "model_id": "b55f45c479584396b9e4b90470b016aa",
       "version_major": 2,
       "version_minor": 0
      },
      "text/plain": [
       "HBox(children=(FloatProgress(value=0.0, max=13.0), HTML(value='')))"
      ]
     },
     "metadata": {},
     "output_type": "display_data"
    },
    {
     "data": {
      "application/vnd.jupyter.widget-view+json": {
       "model_id": "a8c5561a5d5442e8a2c984d3e6406ab4",
       "version_major": 2,
       "version_minor": 0
      },
      "text/plain": [
       "HBox(children=(FloatProgress(value=0.0, max=24.0), HTML(value='')))"
      ]
     },
     "metadata": {},
     "output_type": "display_data"
    },
    {
     "name": "stderr",
     "output_type": "stream",
     "text": [
      "/opt/anaconda3/lib/python3.8/site-packages/pandas/core/frame.py:4125: SettingWithCopyWarning: \n",
      "A value is trying to be set on a copy of a slice from a DataFrame\n",
      "\n",
      "See the caveats in the documentation: https://pandas.pydata.org/pandas-docs/stable/user_guide/indexing.html#returning-a-view-versus-a-copy\n",
      "  return super().rename(\n",
      "<ipython-input-45-ac9a5d2585cf>:61: RuntimeWarning: invalid value encountered in long_scalars\n",
      "  bowler_wicket_per_run = winning_match_df[winning_match_df['bowler']==selected_bowler]['wicket'].sum()/winning_match_df[winning_match_df['bowler']==selected_bowler]['total'].sum()\n",
      "<ipython-input-45-ac9a5d2585cf>:65: RuntimeWarning: invalid value encountered in long_scalars\n",
      "  bowler_wicket_per_match = winning_match_df[winning_match_df['bowler']==selected_bowler]['wicket'].sum()/winning_match_df[winning_match_df['bowler']==selected_bowler]['match_id'].nunique()\n"
     ]
    },
    {
     "name": "stdout",
     "output_type": "stream",
     "text": [
      "\n"
     ]
    },
    {
     "data": {
      "application/vnd.jupyter.widget-view+json": {
       "model_id": "e9bf9a2bc29f49f3b4a98d91e24e52b3",
       "version_major": 2,
       "version_minor": 0
      },
      "text/plain": [
       "HBox(children=(FloatProgress(value=0.0, max=25.0), HTML(value='')))"
      ]
     },
     "metadata": {},
     "output_type": "display_data"
    },
    {
     "name": "stdout",
     "output_type": "stream",
     "text": [
      "\n"
     ]
    },
    {
     "data": {
      "application/vnd.jupyter.widget-view+json": {
       "model_id": "976233b3c11b4b6ab086a1a4586ee6be",
       "version_major": 2,
       "version_minor": 0
      },
      "text/plain": [
       "HBox(children=(FloatProgress(value=0.0, max=26.0), HTML(value='')))"
      ]
     },
     "metadata": {},
     "output_type": "display_data"
    },
    {
     "name": "stdout",
     "output_type": "stream",
     "text": [
      "\n"
     ]
    },
    {
     "data": {
      "application/vnd.jupyter.widget-view+json": {
       "model_id": "74769e84c22f47a089f4abe178c24dc9",
       "version_major": 2,
       "version_minor": 0
      },
      "text/plain": [
       "HBox(children=(FloatProgress(value=0.0, max=24.0), HTML(value='')))"
      ]
     },
     "metadata": {},
     "output_type": "display_data"
    },
    {
     "name": "stdout",
     "output_type": "stream",
     "text": [
      "\n"
     ]
    },
    {
     "data": {
      "application/vnd.jupyter.widget-view+json": {
       "model_id": "df1d16f2c11744f0b117af0c2a807eb1",
       "version_major": 2,
       "version_minor": 0
      },
      "text/plain": [
       "HBox(children=(FloatProgress(value=0.0, max=26.0), HTML(value='')))"
      ]
     },
     "metadata": {},
     "output_type": "display_data"
    },
    {
     "name": "stdout",
     "output_type": "stream",
     "text": [
      "\n"
     ]
    },
    {
     "data": {
      "application/vnd.jupyter.widget-view+json": {
       "model_id": "e0e63a5680344b10bf0413d0fab68b15",
       "version_major": 2,
       "version_minor": 0
      },
      "text/plain": [
       "HBox(children=(FloatProgress(value=0.0, max=29.0), HTML(value='')))"
      ]
     },
     "metadata": {},
     "output_type": "display_data"
    },
    {
     "name": "stdout",
     "output_type": "stream",
     "text": [
      "\n"
     ]
    },
    {
     "data": {
      "application/vnd.jupyter.widget-view+json": {
       "model_id": "319691bd7d0c4b76bbd7a60cb753e27f",
       "version_major": 2,
       "version_minor": 0
      },
      "text/plain": [
       "HBox(children=(FloatProgress(value=0.0, max=24.0), HTML(value='')))"
      ]
     },
     "metadata": {},
     "output_type": "display_data"
    },
    {
     "name": "stdout",
     "output_type": "stream",
     "text": [
      "\n"
     ]
    },
    {
     "data": {
      "application/vnd.jupyter.widget-view+json": {
       "model_id": "7deb7a82704945c998bf47734c293838",
       "version_major": 2,
       "version_minor": 0
      },
      "text/plain": [
       "HBox(children=(FloatProgress(value=0.0, max=25.0), HTML(value='')))"
      ]
     },
     "metadata": {},
     "output_type": "display_data"
    },
    {
     "name": "stdout",
     "output_type": "stream",
     "text": [
      "\n"
     ]
    },
    {
     "data": {
      "application/vnd.jupyter.widget-view+json": {
       "model_id": "0d270bf4cb154d0f8cd517c98bc0c57a",
       "version_major": 2,
       "version_minor": 0
      },
      "text/plain": [
       "HBox(children=(FloatProgress(value=0.0, max=20.0), HTML(value='')))"
      ]
     },
     "metadata": {},
     "output_type": "display_data"
    },
    {
     "name": "stdout",
     "output_type": "stream",
     "text": [
      "\n"
     ]
    },
    {
     "data": {
      "application/vnd.jupyter.widget-view+json": {
       "model_id": "9e8f1aaf8e2b487a96f7cbfaf2e22894",
       "version_major": 2,
       "version_minor": 0
      },
      "text/plain": [
       "HBox(children=(FloatProgress(value=0.0, max=18.0), HTML(value='')))"
      ]
     },
     "metadata": {},
     "output_type": "display_data"
    },
    {
     "name": "stdout",
     "output_type": "stream",
     "text": [
      "\n"
     ]
    },
    {
     "data": {
      "application/vnd.jupyter.widget-view+json": {
       "model_id": "a669e49b65df483686e96040c3c92373",
       "version_major": 2,
       "version_minor": 0
      },
      "text/plain": [
       "HBox(children=(FloatProgress(value=0.0, max=15.0), HTML(value='')))"
      ]
     },
     "metadata": {},
     "output_type": "display_data"
    },
    {
     "name": "stdout",
     "output_type": "stream",
     "text": [
      "\n"
     ]
    },
    {
     "data": {
      "application/vnd.jupyter.widget-view+json": {
       "model_id": "51b1d2c3a9a44981b51bcf317d57ee4a",
       "version_major": 2,
       "version_minor": 0
      },
      "text/plain": [
       "HBox(children=(FloatProgress(value=0.0, max=7.0), HTML(value='')))"
      ]
     },
     "metadata": {},
     "output_type": "display_data"
    },
    {
     "name": "stderr",
     "output_type": "stream",
     "text": [
      "<ipython-input-45-ac9a5d2585cf>:60: RuntimeWarning: invalid value encountered in long_scalars\n",
      "  team_wickets_per_run = winning_match_df[winning_match_df['opponent']==selected_country]['wicket'].sum()/winning_match_df[winning_match_df['opponent']==selected_country]['total'].sum()\n",
      "<ipython-input-45-ac9a5d2585cf>:64: RuntimeWarning: invalid value encountered in long_scalars\n",
      "  team_wicket_per_match = winning_match_df[winning_match_df['opponent']==selected_country]['wicket'].sum()/winning_match_df['match_id'].nunique()\n"
     ]
    },
    {
     "name": "stdout",
     "output_type": "stream",
     "text": [
      "\n"
     ]
    },
    {
     "data": {
      "application/vnd.jupyter.widget-view+json": {
       "model_id": "b917a7fa950f43609a893a4cac688ed9",
       "version_major": 2,
       "version_minor": 0
      },
      "text/plain": [
       "HBox(children=(FloatProgress(value=0.0, max=10.0), HTML(value='')))"
      ]
     },
     "metadata": {},
     "output_type": "display_data"
    },
    {
     "name": "stdout",
     "output_type": "stream",
     "text": [
      "\n",
      "\n"
     ]
    }
   ],
   "source": [
    "bowler_performance_list = []\n",
    "for selected_country in tqdm(country_list):\n",
    "    #print(selected_country)\n",
    "    country_games = match_list_df[(match_list_df['date']>=performance_cutoff_date_start) \n",
    "                             & (match_list_df['date']<=performance_cutoff_date_end)\n",
    "                             & ( (match_list_df['first_innings']==selected_country)\n",
    "                                |(match_list_df['second_innings']==selected_country)\n",
    "                             )]\n",
    "    match_id_list = list(country_games['match_id'])\n",
    "    match_stat_list = []\n",
    "    for match_id in match_id_list:\n",
    "        if country_games[country_games['match_id']==match_id]['train_data'].values[0] == True:\n",
    "            match_df = pd.read_csv('csv_data/train/'+str(match_id)+'.csv')\n",
    "        else:\n",
    "            match_df = pd.read_csv('csv_data/test/'+str(match_id)+'.csv')\n",
    "        match_stat_list.append(match_df)\n",
    "            \n",
    "    \n",
    "    match_stat_df = pd.concat(match_stat_list)\n",
    "    match_stat_df.fillna('NA',inplace=True)\n",
    "\n",
    "    match_stat_df = match_stat_df.merge(country_games,how='inner',on='match_id')\n",
    "    bowler_list = list(match_stat_df[match_stat_df['opponent']==selected_country]['bowler'].unique())\n",
    "\n",
    "    for selected_bowler in tqdm(bowler_list):\n",
    "        #print(selected_batsman)\n",
    "\n",
    "        bowler_df = match_stat_df[match_stat_df['bowler']==selected_bowler]\n",
    "        total_runs = bowler_df['total'].sum()\n",
    "        run_rate = total_runs/bowler_df.shape[0]\n",
    "        negative_rate = -run_rate\n",
    "\n",
    "        # no_of_wickets,wicket_rate,wicket_per_runs\n",
    "        no_of_wickets = bowler_df['wicket'].sum()-bowler_df[bowler_df['wicket_type']=='run out'].shape[0]\n",
    "        wickets_per_match = no_of_wickets/len(list(bowler_df['match_id'].unique()))\n",
    "        wickets_per_run = no_of_wickets/total_runs\n",
    "\n",
    "\n",
    "        team_score = country_rank[country_rank['country']==selected_country]['score'].values[0]\n",
    "        #opponent_mean\n",
    "\n",
    "        bowler_df.rename(columns={'team':'country'},inplace=True)\n",
    "        bowler_df=bowler_df.merge(country_rank,on='country',how='inner')\n",
    "        opponent_mean = bowler_df[['match_id','country','score']].groupby(['match_id']).min().reset_index()['score'].mean()\n",
    "        matches_played = len(list(bowler_df['match_id'].unique()))\n",
    "        player_of_the_match = country_games[country_games['player_of_match']==selected_bowler].shape[0]\n",
    "\n",
    "        #winning contribution(effectiveness)-% of wickets taken in winning matches\n",
    "        country_win_list = list(country_games[country_games['winner']==selected_country]['match_id'])\n",
    "        winning_match_df = match_stat_df[match_stat_df['match_id'].isin(country_win_list)]\n",
    "\n",
    "        if winning_match_df['wicket'].sum() !=0:\n",
    "            winning_contribution = winning_match_df[winning_match_df['bowler']==selected_bowler]['wicket'].sum()/winning_match_df['wicket'].sum()\n",
    "        else:\n",
    "            winning_contribution = 0\n",
    "        \n",
    "        #winning_wicket_per_run rate contribution\n",
    "        #winning wicket_per_match contirbution\n",
    " \n",
    "        team_wickets_per_run = winning_match_df[winning_match_df['opponent']==selected_country]['wicket'].sum()/winning_match_df[winning_match_df['opponent']==selected_country]['total'].sum()\n",
    "        bowler_wicket_per_run = winning_match_df[winning_match_df['bowler']==selected_bowler]['wicket'].sum()/winning_match_df[winning_match_df['bowler']==selected_bowler]['total'].sum()\n",
    "        winning_wicket_per_run_rate_contribution = bowler_wicket_per_run/team_wickets_per_run\n",
    "\n",
    "        team_wicket_per_match = winning_match_df[winning_match_df['opponent']==selected_country]['wicket'].sum()/winning_match_df['match_id'].nunique()\n",
    "        bowler_wicket_per_match = winning_match_df[winning_match_df['bowler']==selected_bowler]['wicket'].sum()/winning_match_df[winning_match_df['bowler']==selected_bowler]['match_id'].nunique()\n",
    "        winning_wicket_per_match_contribution = bowler_wicket_per_match/team_wicket_per_match\n",
    "        \n",
    "        no_of_wins=winning_match_df[winning_match_df['bowler']==selected_bowler]['match_id'].nunique()\n",
    "        #consistency\n",
    "        #consistency = 1/match_stat_df[match_stat_df['bowler']==selected_bowler].groupby(['match_id'])['wicket'].sum().reset_index()['wicket'].std()\n",
    "\n",
    "        bowler_dict = {\n",
    "            'bowler':selected_bowler,\n",
    "            'country':selected_country,\n",
    "            'negative_rate':negative_rate,\n",
    "            'no_of_wickets':no_of_wickets,\n",
    "            'wickets_per_match':wickets_per_match,\n",
    "            'wickets_per_run':wickets_per_run,\n",
    "            'no_of_wins':no_of_wins,\n",
    "            'team_score':team_score,\n",
    "            'opponent_mean':opponent_mean,\n",
    "            'winning_contribution':winning_contribution,\n",
    "            'winning_wicket_rate_contribution':winning_wicket_per_match_contribution,\n",
    "            \n",
    "            \n",
    "        }\n",
    "\n",
    "        bowler_performance_list.append(bowler_dict)\n",
    "        \n",
    "bowler_performance_df = pd.DataFrame(bowler_performance_list)\n",
    "bowler_performance_df.fillna(0,inplace=True)\n",
    "bowler_performance_df['bowler_score']=scaler.fit_transform(bowler_performance_df.drop(columns=['bowler','country'])).sum(axis=1)\n",
    "bowler_performance_df.sort_values('bowler_score',ascending=False,inplace=True)\n",
    "bowler_performance_df.to_csv('csv_data/bowler_perfromance_'+year+'.csv',index=False)\n",
    "\n"
   ]
  },
  {
   "cell_type": "code",
   "execution_count": 46,
   "metadata": {},
   "outputs": [],
   "source": [
    "#country_games[country_games['match_id']==match_id]['train_data'].values[0]"
   ]
  },
  {
   "cell_type": "code",
   "execution_count": 47,
   "metadata": {},
   "outputs": [
    {
     "data": {
      "text/html": [
       "<div>\n",
       "<style scoped>\n",
       "    .dataframe tbody tr th:only-of-type {\n",
       "        vertical-align: middle;\n",
       "    }\n",
       "\n",
       "    .dataframe tbody tr th {\n",
       "        vertical-align: top;\n",
       "    }\n",
       "\n",
       "    .dataframe thead th {\n",
       "        text-align: right;\n",
       "    }\n",
       "</style>\n",
       "<table border=\"1\" class=\"dataframe\">\n",
       "  <thead>\n",
       "    <tr style=\"text-align: right;\">\n",
       "      <th></th>\n",
       "      <th>bowler</th>\n",
       "      <th>country</th>\n",
       "      <th>negative_rate</th>\n",
       "      <th>no_of_wickets</th>\n",
       "      <th>wickets_per_match</th>\n",
       "      <th>wickets_per_run</th>\n",
       "      <th>no_of_wins</th>\n",
       "      <th>team_score</th>\n",
       "      <th>opponent_mean</th>\n",
       "      <th>winning_contribution</th>\n",
       "      <th>winning_wicket_rate_contribution</th>\n",
       "      <th>bowler_score</th>\n",
       "    </tr>\n",
       "  </thead>\n",
       "  <tbody>\n",
       "    <tr>\n",
       "      <th>5</th>\n",
       "      <td>RA Jadeja</td>\n",
       "      <td>India</td>\n",
       "      <td>-0.712786</td>\n",
       "      <td>45</td>\n",
       "      <td>1.551724</td>\n",
       "      <td>0.038995</td>\n",
       "      <td>19</td>\n",
       "      <td>3.123274</td>\n",
       "      <td>2.306804</td>\n",
       "      <td>0.140741</td>\n",
       "      <td>0.229885</td>\n",
       "      <td>6.399021</td>\n",
       "    </tr>\n",
       "    <tr>\n",
       "      <th>79</th>\n",
       "      <td>Saeed Ajmal</td>\n",
       "      <td>Pakistan</td>\n",
       "      <td>-0.687032</td>\n",
       "      <td>55</td>\n",
       "      <td>1.964286</td>\n",
       "      <td>0.049909</td>\n",
       "      <td>13</td>\n",
       "      <td>2.833494</td>\n",
       "      <td>2.467780</td>\n",
       "      <td>0.105263</td>\n",
       "      <td>0.228222</td>\n",
       "      <td>6.276592</td>\n",
       "    </tr>\n",
       "    <tr>\n",
       "      <th>27</th>\n",
       "      <td>R McLaren</td>\n",
       "      <td>South Africa</td>\n",
       "      <td>-0.817621</td>\n",
       "      <td>42</td>\n",
       "      <td>1.909091</td>\n",
       "      <td>0.045259</td>\n",
       "      <td>13</td>\n",
       "      <td>3.026762</td>\n",
       "      <td>2.677940</td>\n",
       "      <td>0.116466</td>\n",
       "      <td>0.228797</td>\n",
       "      <td>6.125251</td>\n",
       "    </tr>\n",
       "    <tr>\n",
       "      <th>76</th>\n",
       "      <td>Junaid Khan</td>\n",
       "      <td>Pakistan</td>\n",
       "      <td>-0.817167</td>\n",
       "      <td>44</td>\n",
       "      <td>1.913043</td>\n",
       "      <td>0.046218</td>\n",
       "      <td>12</td>\n",
       "      <td>2.833494</td>\n",
       "      <td>2.369989</td>\n",
       "      <td>0.112782</td>\n",
       "      <td>0.264901</td>\n",
       "      <td>5.985333</td>\n",
       "    </tr>\n",
       "    <tr>\n",
       "      <th>179</th>\n",
       "      <td>MJ McClenaghan</td>\n",
       "      <td>New Zealand</td>\n",
       "      <td>-0.864567</td>\n",
       "      <td>32</td>\n",
       "      <td>2.909091</td>\n",
       "      <td>0.058288</td>\n",
       "      <td>6</td>\n",
       "      <td>1.666228</td>\n",
       "      <td>2.637294</td>\n",
       "      <td>0.170000</td>\n",
       "      <td>0.288136</td>\n",
       "      <td>5.825006</td>\n",
       "    </tr>\n",
       "    <tr>\n",
       "      <th>...</th>\n",
       "      <td>...</td>\n",
       "      <td>...</td>\n",
       "      <td>...</td>\n",
       "      <td>...</td>\n",
       "      <td>...</td>\n",
       "      <td>...</td>\n",
       "      <td>...</td>\n",
       "      <td>...</td>\n",
       "      <td>...</td>\n",
       "      <td>...</td>\n",
       "      <td>...</td>\n",
       "      <td>...</td>\n",
       "    </tr>\n",
       "    <tr>\n",
       "      <th>272</th>\n",
       "      <td>K Kamyuka</td>\n",
       "      <td>Canada</td>\n",
       "      <td>-0.750000</td>\n",
       "      <td>0</td>\n",
       "      <td>0.000000</td>\n",
       "      <td>0.000000</td>\n",
       "      <td>0</td>\n",
       "      <td>0.642389</td>\n",
       "      <td>0.000000</td>\n",
       "      <td>0.000000</td>\n",
       "      <td>0.000000</td>\n",
       "      <td>0.833333</td>\n",
       "    </tr>\n",
       "    <tr>\n",
       "      <th>267</th>\n",
       "      <td>N Dutta</td>\n",
       "      <td>Canada</td>\n",
       "      <td>-0.815789</td>\n",
       "      <td>0</td>\n",
       "      <td>0.000000</td>\n",
       "      <td>0.000000</td>\n",
       "      <td>0</td>\n",
       "      <td>0.642389</td>\n",
       "      <td>0.000000</td>\n",
       "      <td>0.000000</td>\n",
       "      <td>0.000000</td>\n",
       "      <td>0.807018</td>\n",
       "    </tr>\n",
       "    <tr>\n",
       "      <th>269</th>\n",
       "      <td>Raza-ur-Rehman</td>\n",
       "      <td>Canada</td>\n",
       "      <td>-0.821429</td>\n",
       "      <td>0</td>\n",
       "      <td>0.000000</td>\n",
       "      <td>0.000000</td>\n",
       "      <td>0</td>\n",
       "      <td>0.642389</td>\n",
       "      <td>0.000000</td>\n",
       "      <td>0.000000</td>\n",
       "      <td>0.000000</td>\n",
       "      <td>0.804762</td>\n",
       "    </tr>\n",
       "    <tr>\n",
       "      <th>264</th>\n",
       "      <td>Rizwan Cheema</td>\n",
       "      <td>Canada</td>\n",
       "      <td>-0.875000</td>\n",
       "      <td>0</td>\n",
       "      <td>0.000000</td>\n",
       "      <td>0.000000</td>\n",
       "      <td>0</td>\n",
       "      <td>0.642389</td>\n",
       "      <td>0.000000</td>\n",
       "      <td>0.000000</td>\n",
       "      <td>0.000000</td>\n",
       "      <td>0.783333</td>\n",
       "    </tr>\n",
       "    <tr>\n",
       "      <th>271</th>\n",
       "      <td>HS Baidwan</td>\n",
       "      <td>Canada</td>\n",
       "      <td>-1.045455</td>\n",
       "      <td>0</td>\n",
       "      <td>0.000000</td>\n",
       "      <td>0.000000</td>\n",
       "      <td>0</td>\n",
       "      <td>0.642389</td>\n",
       "      <td>0.000000</td>\n",
       "      <td>0.000000</td>\n",
       "      <td>0.000000</td>\n",
       "      <td>0.715152</td>\n",
       "    </tr>\n",
       "  </tbody>\n",
       "</table>\n",
       "<p>273 rows × 12 columns</p>\n",
       "</div>"
      ],
      "text/plain": [
       "             bowler       country  negative_rate  no_of_wickets  \\\n",
       "5         RA Jadeja         India      -0.712786             45   \n",
       "79      Saeed Ajmal      Pakistan      -0.687032             55   \n",
       "27        R McLaren  South Africa      -0.817621             42   \n",
       "76      Junaid Khan      Pakistan      -0.817167             44   \n",
       "179  MJ McClenaghan   New Zealand      -0.864567             32   \n",
       "..              ...           ...            ...            ...   \n",
       "272       K Kamyuka        Canada      -0.750000              0   \n",
       "267         N Dutta        Canada      -0.815789              0   \n",
       "269  Raza-ur-Rehman        Canada      -0.821429              0   \n",
       "264   Rizwan Cheema        Canada      -0.875000              0   \n",
       "271      HS Baidwan        Canada      -1.045455              0   \n",
       "\n",
       "     wickets_per_match  wickets_per_run  no_of_wins  team_score  \\\n",
       "5             1.551724         0.038995          19    3.123274   \n",
       "79            1.964286         0.049909          13    2.833494   \n",
       "27            1.909091         0.045259          13    3.026762   \n",
       "76            1.913043         0.046218          12    2.833494   \n",
       "179           2.909091         0.058288           6    1.666228   \n",
       "..                 ...              ...         ...         ...   \n",
       "272           0.000000         0.000000           0    0.642389   \n",
       "267           0.000000         0.000000           0    0.642389   \n",
       "269           0.000000         0.000000           0    0.642389   \n",
       "264           0.000000         0.000000           0    0.642389   \n",
       "271           0.000000         0.000000           0    0.642389   \n",
       "\n",
       "     opponent_mean  winning_contribution  winning_wicket_rate_contribution  \\\n",
       "5         2.306804              0.140741                          0.229885   \n",
       "79        2.467780              0.105263                          0.228222   \n",
       "27        2.677940              0.116466                          0.228797   \n",
       "76        2.369989              0.112782                          0.264901   \n",
       "179       2.637294              0.170000                          0.288136   \n",
       "..             ...                   ...                               ...   \n",
       "272       0.000000              0.000000                          0.000000   \n",
       "267       0.000000              0.000000                          0.000000   \n",
       "269       0.000000              0.000000                          0.000000   \n",
       "264       0.000000              0.000000                          0.000000   \n",
       "271       0.000000              0.000000                          0.000000   \n",
       "\n",
       "     bowler_score  \n",
       "5        6.399021  \n",
       "79       6.276592  \n",
       "27       6.125251  \n",
       "76       5.985333  \n",
       "179      5.825006  \n",
       "..            ...  \n",
       "272      0.833333  \n",
       "267      0.807018  \n",
       "269      0.804762  \n",
       "264      0.783333  \n",
       "271      0.715152  \n",
       "\n",
       "[273 rows x 12 columns]"
      ]
     },
     "execution_count": 47,
     "metadata": {},
     "output_type": "execute_result"
    }
   ],
   "source": [
    "bowler_performance_df"
   ]
  },
  {
   "cell_type": "markdown",
   "metadata": {},
   "source": [
    "# Outer Loop"
   ]
  },
  {
   "cell_type": "code",
   "execution_count": null,
   "metadata": {},
   "outputs": [
    {
     "data": {
      "application/vnd.jupyter.widget-view+json": {
       "model_id": "e578db9c66ad4823af22f46f58279eeb",
       "version_major": 2,
       "version_minor": 0
      },
      "text/plain": [
       "HBox(children=(FloatProgress(value=0.0, max=12.0), HTML(value='')))"
      ]
     },
     "metadata": {},
     "output_type": "display_data"
    },
    {
     "data": {
      "application/vnd.jupyter.widget-view+json": {
       "model_id": "b78bda68eae14b26aba931870be4ac64",
       "version_major": 2,
       "version_minor": 0
      },
      "text/plain": [
       "HBox(children=(FloatProgress(value=0.0, max=11.0), HTML(value='')))"
      ]
     },
     "metadata": {},
     "output_type": "display_data"
    },
    {
     "data": {
      "application/vnd.jupyter.widget-view+json": {
       "model_id": "f8f7363f124e4ba58fdd587a639211c4",
       "version_major": 2,
       "version_minor": 0
      },
      "text/plain": [
       "HBox(children=(FloatProgress(value=0.0, max=17.0), HTML(value='')))"
      ]
     },
     "metadata": {},
     "output_type": "display_data"
    },
    {
     "name": "stderr",
     "output_type": "stream",
     "text": [
      "/opt/anaconda3/lib/python3.8/site-packages/pandas/core/frame.py:4125: SettingWithCopyWarning: \n",
      "A value is trying to be set on a copy of a slice from a DataFrame\n",
      "\n",
      "See the caveats in the documentation: https://pandas.pydata.org/pandas-docs/stable/user_guide/indexing.html#returning-a-view-versus-a-copy\n",
      "  return super().rename(\n",
      "<ipython-input-3-efc707fda7d1>:69: RuntimeWarning: invalid value encountered in long_scalars\n",
      "  bowler_wicket_per_run = winning_match_df[winning_match_df['bowler']==selected_bowler]['wicket'].sum()/winning_match_df[winning_match_df['bowler']==selected_bowler]['total'].sum()\n",
      "<ipython-input-3-efc707fda7d1>:73: RuntimeWarning: invalid value encountered in long_scalars\n",
      "  bowler_wicket_per_match = winning_match_df[winning_match_df['bowler']==selected_bowler]['wicket'].sum()/winning_match_df[winning_match_df['bowler']==selected_bowler]['match_id'].nunique()\n"
     ]
    },
    {
     "name": "stdout",
     "output_type": "stream",
     "text": [
      "\n"
     ]
    },
    {
     "data": {
      "application/vnd.jupyter.widget-view+json": {
       "model_id": "46b2d31b1a444d9aa226715a97a0bcb0",
       "version_major": 2,
       "version_minor": 0
      },
      "text/plain": [
       "HBox(children=(FloatProgress(value=0.0, max=19.0), HTML(value='')))"
      ]
     },
     "metadata": {},
     "output_type": "display_data"
    },
    {
     "name": "stdout",
     "output_type": "stream",
     "text": [
      "\n"
     ]
    },
    {
     "data": {
      "application/vnd.jupyter.widget-view+json": {
       "model_id": "d9c1be6d0901421fa2bd019ea6baf60b",
       "version_major": 2,
       "version_minor": 0
      },
      "text/plain": [
       "HBox(children=(FloatProgress(value=0.0, max=12.0), HTML(value='')))"
      ]
     },
     "metadata": {},
     "output_type": "display_data"
    },
    {
     "name": "stdout",
     "output_type": "stream",
     "text": [
      "\n"
     ]
    },
    {
     "data": {
      "application/vnd.jupyter.widget-view+json": {
       "model_id": "173e361eac764f11947742456de6a809",
       "version_major": 2,
       "version_minor": 0
      },
      "text/plain": [
       "HBox(children=(FloatProgress(value=0.0, max=15.0), HTML(value='')))"
      ]
     },
     "metadata": {},
     "output_type": "display_data"
    },
    {
     "name": "stdout",
     "output_type": "stream",
     "text": [
      "\n"
     ]
    },
    {
     "data": {
      "application/vnd.jupyter.widget-view+json": {
       "model_id": "38334df86a0a4ade951860c6b6000bc5",
       "version_major": 2,
       "version_minor": 0
      },
      "text/plain": [
       "HBox(children=(FloatProgress(value=0.0, max=18.0), HTML(value='')))"
      ]
     },
     "metadata": {},
     "output_type": "display_data"
    },
    {
     "name": "stdout",
     "output_type": "stream",
     "text": [
      "\n"
     ]
    },
    {
     "data": {
      "application/vnd.jupyter.widget-view+json": {
       "model_id": "f7eb4a54f7044c7590d98b5021d6a603",
       "version_major": 2,
       "version_minor": 0
      },
      "text/plain": [
       "HBox(children=(FloatProgress(value=0.0, max=11.0), HTML(value='')))"
      ]
     },
     "metadata": {},
     "output_type": "display_data"
    },
    {
     "name": "stdout",
     "output_type": "stream",
     "text": [
      "\n"
     ]
    },
    {
     "data": {
      "application/vnd.jupyter.widget-view+json": {
       "model_id": "f46c83fefce04201be234f18027bc9ce",
       "version_major": 2,
       "version_minor": 0
      },
      "text/plain": [
       "HBox(children=(FloatProgress(value=0.0, max=13.0), HTML(value='')))"
      ]
     },
     "metadata": {},
     "output_type": "display_data"
    },
    {
     "name": "stdout",
     "output_type": "stream",
     "text": [
      "\n"
     ]
    },
    {
     "data": {
      "application/vnd.jupyter.widget-view+json": {
       "model_id": "afc546405d9f49899977388531fb0762",
       "version_major": 2,
       "version_minor": 0
      },
      "text/plain": [
       "HBox(children=(FloatProgress(value=0.0, max=14.0), HTML(value='')))"
      ]
     },
     "metadata": {},
     "output_type": "display_data"
    },
    {
     "name": "stdout",
     "output_type": "stream",
     "text": [
      "\n"
     ]
    },
    {
     "data": {
      "application/vnd.jupyter.widget-view+json": {
       "model_id": "13c90668b0b1494dadc2d8761ab098a7",
       "version_major": 2,
       "version_minor": 0
      },
      "text/plain": [
       "HBox(children=(FloatProgress(value=0.0, max=16.0), HTML(value='')))"
      ]
     },
     "metadata": {},
     "output_type": "display_data"
    },
    {
     "name": "stdout",
     "output_type": "stream",
     "text": [
      "\n"
     ]
    },
    {
     "data": {
      "application/vnd.jupyter.widget-view+json": {
       "model_id": "83f52a9f65554b40adc7f7fd4c26b70d",
       "version_major": 2,
       "version_minor": 0
      },
      "text/plain": [
       "HBox(children=(FloatProgress(value=0.0, max=5.0), HTML(value='')))"
      ]
     },
     "metadata": {},
     "output_type": "display_data"
    },
    {
     "name": "stdout",
     "output_type": "stream",
     "text": [
      "\n"
     ]
    },
    {
     "name": "stderr",
     "output_type": "stream",
     "text": [
      "<ipython-input-3-efc707fda7d1>:68: RuntimeWarning: invalid value encountered in long_scalars\n",
      "  team_wickets_per_run = winning_match_df[winning_match_df['opponent']==selected_country]['wicket'].sum()/winning_match_df[winning_match_df['opponent']==selected_country]['total'].sum()\n",
      "<ipython-input-3-efc707fda7d1>:72: RuntimeWarning: invalid value encountered in long_scalars\n",
      "  team_wicket_per_match = winning_match_df[winning_match_df['opponent']==selected_country]['wicket'].sum()/winning_match_df['match_id'].nunique()\n"
     ]
    },
    {
     "data": {
      "application/vnd.jupyter.widget-view+json": {
       "model_id": "40e53f240698422eb57c2767b83aea1a",
       "version_major": 2,
       "version_minor": 0
      },
      "text/plain": [
       "HBox(children=(FloatProgress(value=0.0, max=15.0), HTML(value='')))"
      ]
     },
     "metadata": {},
     "output_type": "display_data"
    },
    {
     "name": "stdout",
     "output_type": "stream",
     "text": [
      "\n",
      "\n"
     ]
    },
    {
     "data": {
      "application/vnd.jupyter.widget-view+json": {
       "model_id": "69b895e3de554f32b83970270e4731cb",
       "version_major": 2,
       "version_minor": 0
      },
      "text/plain": [
       "HBox(children=(FloatProgress(value=0.0, max=14.0), HTML(value='')))"
      ]
     },
     "metadata": {},
     "output_type": "display_data"
    },
    {
     "data": {
      "application/vnd.jupyter.widget-view+json": {
       "model_id": "22fccd9c962a4ce2afeee9491e37a8c1",
       "version_major": 2,
       "version_minor": 0
      },
      "text/plain": [
       "HBox(children=(FloatProgress(value=0.0, max=24.0), HTML(value='')))"
      ]
     },
     "metadata": {},
     "output_type": "display_data"
    },
    {
     "name": "stderr",
     "output_type": "stream",
     "text": [
      "/opt/anaconda3/lib/python3.8/site-packages/pandas/core/frame.py:4125: SettingWithCopyWarning: \n",
      "A value is trying to be set on a copy of a slice from a DataFrame\n",
      "\n",
      "See the caveats in the documentation: https://pandas.pydata.org/pandas-docs/stable/user_guide/indexing.html#returning-a-view-versus-a-copy\n",
      "  return super().rename(\n",
      "<ipython-input-3-efc707fda7d1>:69: RuntimeWarning: invalid value encountered in long_scalars\n",
      "  bowler_wicket_per_run = winning_match_df[winning_match_df['bowler']==selected_bowler]['wicket'].sum()/winning_match_df[winning_match_df['bowler']==selected_bowler]['total'].sum()\n",
      "<ipython-input-3-efc707fda7d1>:73: RuntimeWarning: invalid value encountered in long_scalars\n",
      "  bowler_wicket_per_match = winning_match_df[winning_match_df['bowler']==selected_bowler]['wicket'].sum()/winning_match_df[winning_match_df['bowler']==selected_bowler]['match_id'].nunique()\n"
     ]
    },
    {
     "name": "stdout",
     "output_type": "stream",
     "text": [
      "\n"
     ]
    },
    {
     "data": {
      "application/vnd.jupyter.widget-view+json": {
       "model_id": "20067592cae14b01b39159c3642da458",
       "version_major": 2,
       "version_minor": 0
      },
      "text/plain": [
       "HBox(children=(FloatProgress(value=0.0, max=13.0), HTML(value='')))"
      ]
     },
     "metadata": {},
     "output_type": "display_data"
    },
    {
     "name": "stdout",
     "output_type": "stream",
     "text": [
      "\n"
     ]
    },
    {
     "data": {
      "application/vnd.jupyter.widget-view+json": {
       "model_id": "5adbda9e19e6415ea69353a206fd3a6b",
       "version_major": 2,
       "version_minor": 0
      },
      "text/plain": [
       "HBox(children=(FloatProgress(value=0.0, max=12.0), HTML(value='')))"
      ]
     },
     "metadata": {},
     "output_type": "display_data"
    },
    {
     "name": "stdout",
     "output_type": "stream",
     "text": [
      "\n"
     ]
    },
    {
     "data": {
      "application/vnd.jupyter.widget-view+json": {
       "model_id": "f055d622148f41ed96cb756f3c32a0b6",
       "version_major": 2,
       "version_minor": 0
      },
      "text/plain": [
       "HBox(children=(FloatProgress(value=0.0, max=21.0), HTML(value='')))"
      ]
     },
     "metadata": {},
     "output_type": "display_data"
    },
    {
     "name": "stdout",
     "output_type": "stream",
     "text": [
      "\n"
     ]
    },
    {
     "data": {
      "application/vnd.jupyter.widget-view+json": {
       "model_id": "7ad81e12ac5a45f49c1a9a5a0473755a",
       "version_major": 2,
       "version_minor": 0
      },
      "text/plain": [
       "HBox(children=(FloatProgress(value=0.0, max=7.0), HTML(value='')))"
      ]
     },
     "metadata": {},
     "output_type": "display_data"
    },
    {
     "name": "stdout",
     "output_type": "stream",
     "text": [
      "\n"
     ]
    },
    {
     "data": {
      "application/vnd.jupyter.widget-view+json": {
       "model_id": "62670d5f70b549a69f464f07cb3afe80",
       "version_major": 2,
       "version_minor": 0
      },
      "text/plain": [
       "HBox(children=(FloatProgress(value=0.0, max=7.0), HTML(value='')))"
      ]
     },
     "metadata": {},
     "output_type": "display_data"
    },
    {
     "name": "stdout",
     "output_type": "stream",
     "text": [
      "\n"
     ]
    },
    {
     "data": {
      "application/vnd.jupyter.widget-view+json": {
       "model_id": "cf99621c58fc4c408eedb6e44a8030d6",
       "version_major": 2,
       "version_minor": 0
      },
      "text/plain": [
       "HBox(children=(FloatProgress(value=0.0, max=17.0), HTML(value='')))"
      ]
     },
     "metadata": {},
     "output_type": "display_data"
    },
    {
     "name": "stdout",
     "output_type": "stream",
     "text": [
      "\n"
     ]
    },
    {
     "data": {
      "application/vnd.jupyter.widget-view+json": {
       "model_id": "d9205f6a2377491ea747a3ca8ecc4484",
       "version_major": 2,
       "version_minor": 0
      },
      "text/plain": [
       "HBox(children=(FloatProgress(value=0.0, max=14.0), HTML(value='')))"
      ]
     },
     "metadata": {},
     "output_type": "display_data"
    },
    {
     "name": "stdout",
     "output_type": "stream",
     "text": [
      "\n"
     ]
    },
    {
     "data": {
      "application/vnd.jupyter.widget-view+json": {
       "model_id": "b67c3cf5c7e241248d6f532df53ed2f3",
       "version_major": 2,
       "version_minor": 0
      },
      "text/plain": [
       "HBox(children=(FloatProgress(value=0.0, max=15.0), HTML(value='')))"
      ]
     },
     "metadata": {},
     "output_type": "display_data"
    },
    {
     "name": "stdout",
     "output_type": "stream",
     "text": [
      "\n"
     ]
    },
    {
     "data": {
      "application/vnd.jupyter.widget-view+json": {
       "model_id": "aeb442b91ace46ba8c25f64cb033afe2",
       "version_major": 2,
       "version_minor": 0
      },
      "text/plain": [
       "HBox(children=(FloatProgress(value=0.0, max=17.0), HTML(value='')))"
      ]
     },
     "metadata": {},
     "output_type": "display_data"
    },
    {
     "name": "stdout",
     "output_type": "stream",
     "text": [
      "\n"
     ]
    },
    {
     "data": {
      "application/vnd.jupyter.widget-view+json": {
       "model_id": "ed2cf4d07dbe45daa700881d5d1ffddc",
       "version_major": 2,
       "version_minor": 0
      },
      "text/plain": [
       "HBox(children=(FloatProgress(value=0.0, max=14.0), HTML(value='')))"
      ]
     },
     "metadata": {},
     "output_type": "display_data"
    },
    {
     "name": "stdout",
     "output_type": "stream",
     "text": [
      "\n"
     ]
    },
    {
     "data": {
      "application/vnd.jupyter.widget-view+json": {
       "model_id": "2c7382df97d543ce82eb6a00a50d62ae",
       "version_major": 2,
       "version_minor": 0
      },
      "text/plain": [
       "HBox(children=(FloatProgress(value=0.0, max=8.0), HTML(value='')))"
      ]
     },
     "metadata": {},
     "output_type": "display_data"
    },
    {
     "name": "stderr",
     "output_type": "stream",
     "text": [
      "<ipython-input-3-efc707fda7d1>:68: RuntimeWarning: invalid value encountered in long_scalars\n",
      "  team_wickets_per_run = winning_match_df[winning_match_df['opponent']==selected_country]['wicket'].sum()/winning_match_df[winning_match_df['opponent']==selected_country]['total'].sum()\n",
      "<ipython-input-3-efc707fda7d1>:72: RuntimeWarning: invalid value encountered in long_scalars\n",
      "  team_wicket_per_match = winning_match_df[winning_match_df['opponent']==selected_country]['wicket'].sum()/winning_match_df['match_id'].nunique()\n"
     ]
    },
    {
     "name": "stdout",
     "output_type": "stream",
     "text": [
      "\n"
     ]
    },
    {
     "data": {
      "application/vnd.jupyter.widget-view+json": {
       "model_id": "e272af5355244170bed020ca7fc66510",
       "version_major": 2,
       "version_minor": 0
      },
      "text/plain": [
       "HBox(children=(FloatProgress(value=0.0, max=18.0), HTML(value='')))"
      ]
     },
     "metadata": {},
     "output_type": "display_data"
    },
    {
     "name": "stdout",
     "output_type": "stream",
     "text": [
      "\n"
     ]
    },
    {
     "data": {
      "application/vnd.jupyter.widget-view+json": {
       "model_id": "c0e70ef6c1e5420daba28f64e375f2c4",
       "version_major": 2,
       "version_minor": 0
      },
      "text/plain": [
       "HBox(children=(FloatProgress(value=0.0, max=9.0), HTML(value='')))"
      ]
     },
     "metadata": {},
     "output_type": "display_data"
    },
    {
     "name": "stdout",
     "output_type": "stream",
     "text": [
      "\n",
      "\n"
     ]
    },
    {
     "data": {
      "application/vnd.jupyter.widget-view+json": {
       "model_id": "e7885ece8af847d6b03ebbdadb68816d",
       "version_major": 2,
       "version_minor": 0
      },
      "text/plain": [
       "HBox(children=(FloatProgress(value=0.0, max=14.0), HTML(value='')))"
      ]
     },
     "metadata": {},
     "output_type": "display_data"
    },
    {
     "data": {
      "application/vnd.jupyter.widget-view+json": {
       "model_id": "eb15bd86b4994608a5c0f4465fb9d012",
       "version_major": 2,
       "version_minor": 0
      },
      "text/plain": [
       "HBox(children=(FloatProgress(value=0.0, max=17.0), HTML(value='')))"
      ]
     },
     "metadata": {},
     "output_type": "display_data"
    },
    {
     "name": "stderr",
     "output_type": "stream",
     "text": [
      "/opt/anaconda3/lib/python3.8/site-packages/pandas/core/frame.py:4125: SettingWithCopyWarning: \n",
      "A value is trying to be set on a copy of a slice from a DataFrame\n",
      "\n",
      "See the caveats in the documentation: https://pandas.pydata.org/pandas-docs/stable/user_guide/indexing.html#returning-a-view-versus-a-copy\n",
      "  return super().rename(\n",
      "<ipython-input-3-efc707fda7d1>:69: RuntimeWarning: invalid value encountered in long_scalars\n",
      "  bowler_wicket_per_run = winning_match_df[winning_match_df['bowler']==selected_bowler]['wicket'].sum()/winning_match_df[winning_match_df['bowler']==selected_bowler]['total'].sum()\n",
      "<ipython-input-3-efc707fda7d1>:73: RuntimeWarning: invalid value encountered in long_scalars\n",
      "  bowler_wicket_per_match = winning_match_df[winning_match_df['bowler']==selected_bowler]['wicket'].sum()/winning_match_df[winning_match_df['bowler']==selected_bowler]['match_id'].nunique()\n"
     ]
    },
    {
     "name": "stdout",
     "output_type": "stream",
     "text": [
      "\n"
     ]
    },
    {
     "data": {
      "application/vnd.jupyter.widget-view+json": {
       "model_id": "e5a980819ece49fc92d35a8b85537c5d",
       "version_major": 2,
       "version_minor": 0
      },
      "text/plain": [
       "HBox(children=(FloatProgress(value=0.0, max=23.0), HTML(value='')))"
      ]
     },
     "metadata": {},
     "output_type": "display_data"
    },
    {
     "name": "stdout",
     "output_type": "stream",
     "text": [
      "\n"
     ]
    },
    {
     "data": {
      "application/vnd.jupyter.widget-view+json": {
       "model_id": "f8f6aa354eda41588fd4562c3453242d",
       "version_major": 2,
       "version_minor": 0
      },
      "text/plain": [
       "HBox(children=(FloatProgress(value=0.0, max=20.0), HTML(value='')))"
      ]
     },
     "metadata": {},
     "output_type": "display_data"
    },
    {
     "name": "stdout",
     "output_type": "stream",
     "text": [
      "\n"
     ]
    },
    {
     "data": {
      "application/vnd.jupyter.widget-view+json": {
       "model_id": "d19b890c328d4e1c857254268614f0fa",
       "version_major": 2,
       "version_minor": 0
      },
      "text/plain": [
       "HBox(children=(FloatProgress(value=0.0, max=13.0), HTML(value='')))"
      ]
     },
     "metadata": {},
     "output_type": "display_data"
    },
    {
     "name": "stdout",
     "output_type": "stream",
     "text": [
      "\n"
     ]
    },
    {
     "data": {
      "application/vnd.jupyter.widget-view+json": {
       "model_id": "ea6a1267db184d8ca9a6a679c0b07a20",
       "version_major": 2,
       "version_minor": 0
      },
      "text/plain": [
       "HBox(children=(FloatProgress(value=0.0, max=14.0), HTML(value='')))"
      ]
     },
     "metadata": {},
     "output_type": "display_data"
    },
    {
     "name": "stdout",
     "output_type": "stream",
     "text": [
      "\n"
     ]
    },
    {
     "data": {
      "application/vnd.jupyter.widget-view+json": {
       "model_id": "342945177cdc450aa0e88f6a56586612",
       "version_major": 2,
       "version_minor": 0
      },
      "text/plain": [
       "HBox(children=(FloatProgress(value=0.0, max=18.0), HTML(value='')))"
      ]
     },
     "metadata": {},
     "output_type": "display_data"
    },
    {
     "name": "stdout",
     "output_type": "stream",
     "text": [
      "\n"
     ]
    },
    {
     "data": {
      "application/vnd.jupyter.widget-view+json": {
       "model_id": "d7ee06da75e343b9bc57d10d09b93db6",
       "version_major": 2,
       "version_minor": 0
      },
      "text/plain": [
       "HBox(children=(FloatProgress(value=0.0, max=7.0), HTML(value='')))"
      ]
     },
     "metadata": {},
     "output_type": "display_data"
    },
    {
     "name": "stdout",
     "output_type": "stream",
     "text": [
      "\n"
     ]
    },
    {
     "data": {
      "application/vnd.jupyter.widget-view+json": {
       "model_id": "af5b45e8d42440deaf416c9f92342ed0",
       "version_major": 2,
       "version_minor": 0
      },
      "text/plain": [
       "HBox(children=(FloatProgress(value=0.0, max=8.0), HTML(value='')))"
      ]
     },
     "metadata": {},
     "output_type": "display_data"
    },
    {
     "name": "stdout",
     "output_type": "stream",
     "text": [
      "\n"
     ]
    },
    {
     "data": {
      "application/vnd.jupyter.widget-view+json": {
       "model_id": "535648bd13c74f59ad39acd1d08231eb",
       "version_major": 2,
       "version_minor": 0
      },
      "text/plain": [
       "HBox(children=(FloatProgress(value=0.0, max=12.0), HTML(value='')))"
      ]
     },
     "metadata": {},
     "output_type": "display_data"
    },
    {
     "name": "stdout",
     "output_type": "stream",
     "text": [
      "\n"
     ]
    },
    {
     "data": {
      "application/vnd.jupyter.widget-view+json": {
       "model_id": "23675ad324e14ad2835353b77f9086b3",
       "version_major": 2,
       "version_minor": 0
      },
      "text/plain": [
       "HBox(children=(FloatProgress(value=0.0, max=16.0), HTML(value='')))"
      ]
     },
     "metadata": {},
     "output_type": "display_data"
    },
    {
     "name": "stdout",
     "output_type": "stream",
     "text": [
      "\n"
     ]
    },
    {
     "data": {
      "application/vnd.jupyter.widget-view+json": {
       "model_id": "2051c3114a1a4fa6a7a72a8133668e82",
       "version_major": 2,
       "version_minor": 0
      },
      "text/plain": [
       "HBox(children=(FloatProgress(value=0.0, max=14.0), HTML(value='')))"
      ]
     },
     "metadata": {},
     "output_type": "display_data"
    },
    {
     "name": "stdout",
     "output_type": "stream",
     "text": [
      "\n"
     ]
    },
    {
     "data": {
      "application/vnd.jupyter.widget-view+json": {
       "model_id": "0c3a9c83196d4f3ea17fc4960e672400",
       "version_major": 2,
       "version_minor": 0
      },
      "text/plain": [
       "HBox(children=(FloatProgress(value=0.0, max=18.0), HTML(value='')))"
      ]
     },
     "metadata": {},
     "output_type": "display_data"
    },
    {
     "name": "stdout",
     "output_type": "stream",
     "text": [
      "\n"
     ]
    },
    {
     "data": {
      "application/vnd.jupyter.widget-view+json": {
       "model_id": "0da54519155e4cd8ab509627a8ff8aff",
       "version_major": 2,
       "version_minor": 0
      },
      "text/plain": [
       "HBox(children=(FloatProgress(value=0.0, max=7.0), HTML(value='')))"
      ]
     },
     "metadata": {},
     "output_type": "display_data"
    },
    {
     "name": "stdout",
     "output_type": "stream",
     "text": [
      "\n"
     ]
    },
    {
     "name": "stderr",
     "output_type": "stream",
     "text": [
      "<ipython-input-3-efc707fda7d1>:68: RuntimeWarning: invalid value encountered in long_scalars\n",
      "  team_wickets_per_run = winning_match_df[winning_match_df['opponent']==selected_country]['wicket'].sum()/winning_match_df[winning_match_df['opponent']==selected_country]['total'].sum()\n",
      "<ipython-input-3-efc707fda7d1>:72: RuntimeWarning: invalid value encountered in long_scalars\n",
      "  team_wicket_per_match = winning_match_df[winning_match_df['opponent']==selected_country]['wicket'].sum()/winning_match_df['match_id'].nunique()\n"
     ]
    },
    {
     "data": {
      "application/vnd.jupyter.widget-view+json": {
       "model_id": "9a89b5d7962541a7aaa15ebb998714fa",
       "version_major": 2,
       "version_minor": 0
      },
      "text/plain": [
       "HBox(children=(FloatProgress(value=0.0, max=7.0), HTML(value='')))"
      ]
     },
     "metadata": {},
     "output_type": "display_data"
    },
    {
     "name": "stdout",
     "output_type": "stream",
     "text": [
      "\n",
      "\n"
     ]
    },
    {
     "data": {
      "application/vnd.jupyter.widget-view+json": {
       "model_id": "39448815eace401b8737427d6a60619f",
       "version_major": 2,
       "version_minor": 0
      },
      "text/plain": [
       "HBox(children=(FloatProgress(value=0.0, max=14.0), HTML(value='')))"
      ]
     },
     "metadata": {},
     "output_type": "display_data"
    },
    {
     "data": {
      "application/vnd.jupyter.widget-view+json": {
       "model_id": "be289df1c5164f28abec1827f4b63830",
       "version_major": 2,
       "version_minor": 0
      },
      "text/plain": [
       "HBox(children=(FloatProgress(value=0.0, max=17.0), HTML(value='')))"
      ]
     },
     "metadata": {},
     "output_type": "display_data"
    },
    {
     "name": "stderr",
     "output_type": "stream",
     "text": [
      "/opt/anaconda3/lib/python3.8/site-packages/pandas/core/frame.py:4125: SettingWithCopyWarning: \n",
      "A value is trying to be set on a copy of a slice from a DataFrame\n",
      "\n",
      "See the caveats in the documentation: https://pandas.pydata.org/pandas-docs/stable/user_guide/indexing.html#returning-a-view-versus-a-copy\n",
      "  return super().rename(\n"
     ]
    },
    {
     "name": "stdout",
     "output_type": "stream",
     "text": [
      "\n"
     ]
    },
    {
     "data": {
      "application/vnd.jupyter.widget-view+json": {
       "model_id": "fca8d80dd95e4f39bb81e1d44ab54348",
       "version_major": 2,
       "version_minor": 0
      },
      "text/plain": [
       "HBox(children=(FloatProgress(value=0.0, max=24.0), HTML(value='')))"
      ]
     },
     "metadata": {},
     "output_type": "display_data"
    },
    {
     "name": "stderr",
     "output_type": "stream",
     "text": [
      "<ipython-input-3-efc707fda7d1>:69: RuntimeWarning: invalid value encountered in long_scalars\n",
      "  bowler_wicket_per_run = winning_match_df[winning_match_df['bowler']==selected_bowler]['wicket'].sum()/winning_match_df[winning_match_df['bowler']==selected_bowler]['total'].sum()\n",
      "<ipython-input-3-efc707fda7d1>:73: RuntimeWarning: invalid value encountered in long_scalars\n",
      "  bowler_wicket_per_match = winning_match_df[winning_match_df['bowler']==selected_bowler]['wicket'].sum()/winning_match_df[winning_match_df['bowler']==selected_bowler]['match_id'].nunique()\n"
     ]
    },
    {
     "name": "stdout",
     "output_type": "stream",
     "text": [
      "\n"
     ]
    },
    {
     "data": {
      "application/vnd.jupyter.widget-view+json": {
       "model_id": "a96c2917399f450f825a25dd99f59d84",
       "version_major": 2,
       "version_minor": 0
      },
      "text/plain": [
       "HBox(children=(FloatProgress(value=0.0, max=15.0), HTML(value='')))"
      ]
     },
     "metadata": {},
     "output_type": "display_data"
    },
    {
     "name": "stdout",
     "output_type": "stream",
     "text": [
      "\n"
     ]
    },
    {
     "data": {
      "application/vnd.jupyter.widget-view+json": {
       "model_id": "4c1fd3d5b9404aaf95c43ebb266eb8bf",
       "version_major": 2,
       "version_minor": 0
      },
      "text/plain": [
       "HBox(children=(FloatProgress(value=0.0, max=20.0), HTML(value='')))"
      ]
     },
     "metadata": {},
     "output_type": "display_data"
    },
    {
     "name": "stdout",
     "output_type": "stream",
     "text": [
      "\n"
     ]
    },
    {
     "data": {
      "application/vnd.jupyter.widget-view+json": {
       "model_id": "24ee2050d033442ca2f6311808ba6b83",
       "version_major": 2,
       "version_minor": 0
      },
      "text/plain": [
       "HBox(children=(FloatProgress(value=0.0, max=15.0), HTML(value='')))"
      ]
     },
     "metadata": {},
     "output_type": "display_data"
    },
    {
     "name": "stdout",
     "output_type": "stream",
     "text": [
      "\n"
     ]
    },
    {
     "data": {
      "application/vnd.jupyter.widget-view+json": {
       "model_id": "b8e6cec807e548bb89a9624714f3f21e",
       "version_major": 2,
       "version_minor": 0
      },
      "text/plain": [
       "HBox(children=(FloatProgress(value=0.0, max=10.0), HTML(value='')))"
      ]
     },
     "metadata": {},
     "output_type": "display_data"
    },
    {
     "name": "stdout",
     "output_type": "stream",
     "text": [
      "\n"
     ]
    },
    {
     "data": {
      "application/vnd.jupyter.widget-view+json": {
       "model_id": "d7cde3f1f88f4a818879e988b8d9eeba",
       "version_major": 2,
       "version_minor": 0
      },
      "text/plain": [
       "HBox(children=(FloatProgress(value=0.0, max=15.0), HTML(value='')))"
      ]
     },
     "metadata": {},
     "output_type": "display_data"
    },
    {
     "name": "stdout",
     "output_type": "stream",
     "text": [
      "\n"
     ]
    },
    {
     "data": {
      "application/vnd.jupyter.widget-view+json": {
       "model_id": "d8912320c8af460c9b932f954f04eb30",
       "version_major": 2,
       "version_minor": 0
      },
      "text/plain": [
       "HBox(children=(FloatProgress(value=0.0, max=10.0), HTML(value='')))"
      ]
     },
     "metadata": {},
     "output_type": "display_data"
    },
    {
     "name": "stdout",
     "output_type": "stream",
     "text": [
      "\n"
     ]
    },
    {
     "data": {
      "application/vnd.jupyter.widget-view+json": {
       "model_id": "98ceb148d93b4b4f8a521372fcd98535",
       "version_major": 2,
       "version_minor": 0
      },
      "text/plain": [
       "HBox(children=(FloatProgress(value=0.0, max=18.0), HTML(value='')))"
      ]
     },
     "metadata": {},
     "output_type": "display_data"
    },
    {
     "name": "stdout",
     "output_type": "stream",
     "text": [
      "\n"
     ]
    },
    {
     "data": {
      "application/vnd.jupyter.widget-view+json": {
       "model_id": "272ccc243b2b4a7f848bc2c5f6fcc4d2",
       "version_major": 2,
       "version_minor": 0
      },
      "text/plain": [
       "HBox(children=(FloatProgress(value=0.0, max=15.0), HTML(value='')))"
      ]
     },
     "metadata": {},
     "output_type": "display_data"
    },
    {
     "name": "stdout",
     "output_type": "stream",
     "text": [
      "\n"
     ]
    },
    {
     "data": {
      "application/vnd.jupyter.widget-view+json": {
       "model_id": "ed588992425e456f999251499b688fc7",
       "version_major": 2,
       "version_minor": 0
      },
      "text/plain": [
       "HBox(children=(FloatProgress(value=0.0, max=20.0), HTML(value='')))"
      ]
     },
     "metadata": {},
     "output_type": "display_data"
    },
    {
     "name": "stdout",
     "output_type": "stream",
     "text": [
      "\n"
     ]
    },
    {
     "data": {
      "application/vnd.jupyter.widget-view+json": {
       "model_id": "6514a8d60c214a3eab5d9d0522f60ac3",
       "version_major": 2,
       "version_minor": 0
      },
      "text/plain": [
       "HBox(children=(FloatProgress(value=0.0, max=12.0), HTML(value='')))"
      ]
     },
     "metadata": {},
     "output_type": "display_data"
    },
    {
     "name": "stdout",
     "output_type": "stream",
     "text": [
      "\n"
     ]
    },
    {
     "data": {
      "application/vnd.jupyter.widget-view+json": {
       "model_id": "806d24a91c4548ca930d1b7fc653f25d",
       "version_major": 2,
       "version_minor": 0
      },
      "text/plain": [
       "HBox(children=(FloatProgress(value=0.0, max=9.0), HTML(value='')))"
      ]
     },
     "metadata": {},
     "output_type": "display_data"
    },
    {
     "name": "stderr",
     "output_type": "stream",
     "text": [
      "<ipython-input-3-efc707fda7d1>:68: RuntimeWarning: invalid value encountered in long_scalars\n",
      "  team_wickets_per_run = winning_match_df[winning_match_df['opponent']==selected_country]['wicket'].sum()/winning_match_df[winning_match_df['opponent']==selected_country]['total'].sum()\n",
      "<ipython-input-3-efc707fda7d1>:72: RuntimeWarning: invalid value encountered in long_scalars\n",
      "  team_wicket_per_match = winning_match_df[winning_match_df['opponent']==selected_country]['wicket'].sum()/winning_match_df['match_id'].nunique()\n"
     ]
    },
    {
     "name": "stdout",
     "output_type": "stream",
     "text": [
      "\n"
     ]
    },
    {
     "data": {
      "application/vnd.jupyter.widget-view+json": {
       "model_id": "34c5323380784c4ca5a56290e38ad283",
       "version_major": 2,
       "version_minor": 0
      },
      "text/plain": [
       "HBox(children=(FloatProgress(value=0.0, max=9.0), HTML(value='')))"
      ]
     },
     "metadata": {},
     "output_type": "display_data"
    },
    {
     "name": "stdout",
     "output_type": "stream",
     "text": [
      "\n",
      "\n"
     ]
    },
    {
     "data": {
      "application/vnd.jupyter.widget-view+json": {
       "model_id": "d6e8d86d9d6d4bfd812e7f8706b1719b",
       "version_major": 2,
       "version_minor": 0
      },
      "text/plain": [
       "HBox(children=(FloatProgress(value=0.0, max=11.0), HTML(value='')))"
      ]
     },
     "metadata": {},
     "output_type": "display_data"
    },
    {
     "data": {
      "application/vnd.jupyter.widget-view+json": {
       "model_id": "d1135e3c2c654607bf3d1aad7e6e348e",
       "version_major": 2,
       "version_minor": 0
      },
      "text/plain": [
       "HBox(children=(FloatProgress(value=0.0, max=12.0), HTML(value='')))"
      ]
     },
     "metadata": {},
     "output_type": "display_data"
    },
    {
     "name": "stderr",
     "output_type": "stream",
     "text": [
      "/opt/anaconda3/lib/python3.8/site-packages/pandas/core/frame.py:4125: SettingWithCopyWarning: \n",
      "A value is trying to be set on a copy of a slice from a DataFrame\n",
      "\n",
      "See the caveats in the documentation: https://pandas.pydata.org/pandas-docs/stable/user_guide/indexing.html#returning-a-view-versus-a-copy\n",
      "  return super().rename(\n"
     ]
    },
    {
     "name": "stdout",
     "output_type": "stream",
     "text": [
      "\n"
     ]
    },
    {
     "name": "stderr",
     "output_type": "stream",
     "text": [
      "<ipython-input-3-efc707fda7d1>:69: RuntimeWarning: invalid value encountered in long_scalars\n",
      "  bowler_wicket_per_run = winning_match_df[winning_match_df['bowler']==selected_bowler]['wicket'].sum()/winning_match_df[winning_match_df['bowler']==selected_bowler]['total'].sum()\n",
      "<ipython-input-3-efc707fda7d1>:73: RuntimeWarning: invalid value encountered in long_scalars\n",
      "  bowler_wicket_per_match = winning_match_df[winning_match_df['bowler']==selected_bowler]['wicket'].sum()/winning_match_df[winning_match_df['bowler']==selected_bowler]['match_id'].nunique()\n"
     ]
    },
    {
     "data": {
      "application/vnd.jupyter.widget-view+json": {
       "model_id": "2e57335bd85c44128ac56437ade43c9b",
       "version_major": 2,
       "version_minor": 0
      },
      "text/plain": [
       "HBox(children=(FloatProgress(value=0.0, max=14.0), HTML(value='')))"
      ]
     },
     "metadata": {},
     "output_type": "display_data"
    },
    {
     "name": "stdout",
     "output_type": "stream",
     "text": [
      "\n"
     ]
    },
    {
     "data": {
      "application/vnd.jupyter.widget-view+json": {
       "model_id": "1d4c34d3105349e4812ffc38dbfe54b1",
       "version_major": 2,
       "version_minor": 0
      },
      "text/plain": [
       "HBox(children=(FloatProgress(value=0.0, max=17.0), HTML(value='')))"
      ]
     },
     "metadata": {},
     "output_type": "display_data"
    },
    {
     "name": "stdout",
     "output_type": "stream",
     "text": [
      "\n"
     ]
    },
    {
     "data": {
      "application/vnd.jupyter.widget-view+json": {
       "model_id": "7d100a2923e541c19c0264d32c239283",
       "version_major": 2,
       "version_minor": 0
      },
      "text/plain": [
       "HBox(children=(FloatProgress(value=0.0, max=20.0), HTML(value='')))"
      ]
     },
     "metadata": {},
     "output_type": "display_data"
    },
    {
     "name": "stdout",
     "output_type": "stream",
     "text": [
      "\n"
     ]
    },
    {
     "data": {
      "application/vnd.jupyter.widget-view+json": {
       "model_id": "73dc67d52f7f4a4e8143718cca70c0e4",
       "version_major": 2,
       "version_minor": 0
      },
      "text/plain": [
       "HBox(children=(FloatProgress(value=0.0, max=15.0), HTML(value='')))"
      ]
     },
     "metadata": {},
     "output_type": "display_data"
    },
    {
     "name": "stdout",
     "output_type": "stream",
     "text": [
      "\n"
     ]
    },
    {
     "data": {
      "application/vnd.jupyter.widget-view+json": {
       "model_id": "20d0eff56f8f4129a25b03237c81f451",
       "version_major": 2,
       "version_minor": 0
      },
      "text/plain": [
       "HBox(children=(FloatProgress(value=0.0, max=20.0), HTML(value='')))"
      ]
     },
     "metadata": {},
     "output_type": "display_data"
    },
    {
     "name": "stdout",
     "output_type": "stream",
     "text": [
      "\n"
     ]
    },
    {
     "data": {
      "application/vnd.jupyter.widget-view+json": {
       "model_id": "f4f31612606842369ff4d3a9847b92dc",
       "version_major": 2,
       "version_minor": 0
      },
      "text/plain": [
       "HBox(children=(FloatProgress(value=0.0, max=14.0), HTML(value='')))"
      ]
     },
     "metadata": {},
     "output_type": "display_data"
    },
    {
     "name": "stdout",
     "output_type": "stream",
     "text": [
      "\n"
     ]
    },
    {
     "data": {
      "application/vnd.jupyter.widget-view+json": {
       "model_id": "0a65d8cac2eb4ba7ac09e9a3cbb2e96c",
       "version_major": 2,
       "version_minor": 0
      },
      "text/plain": [
       "HBox(children=(FloatProgress(value=0.0, max=9.0), HTML(value='')))"
      ]
     },
     "metadata": {},
     "output_type": "display_data"
    },
    {
     "name": "stdout",
     "output_type": "stream",
     "text": [
      "\n"
     ]
    },
    {
     "data": {
      "application/vnd.jupyter.widget-view+json": {
       "model_id": "fa9663fe47bf4e4386ccdac29d087a24",
       "version_major": 2,
       "version_minor": 0
      },
      "text/plain": [
       "HBox(children=(FloatProgress(value=0.0, max=16.0), HTML(value='')))"
      ]
     },
     "metadata": {},
     "output_type": "display_data"
    },
    {
     "name": "stdout",
     "output_type": "stream",
     "text": [
      "\n"
     ]
    },
    {
     "data": {
      "application/vnd.jupyter.widget-view+json": {
       "model_id": "05592bf1ec2041aa9a83fa53f0c8ab62",
       "version_major": 2,
       "version_minor": 0
      },
      "text/plain": [
       "HBox(children=(FloatProgress(value=0.0, max=12.0), HTML(value='')))"
      ]
     },
     "metadata": {},
     "output_type": "display_data"
    },
    {
     "name": "stdout",
     "output_type": "stream",
     "text": [
      "\n"
     ]
    },
    {
     "data": {
      "application/vnd.jupyter.widget-view+json": {
       "model_id": "009dbd7a8fe343e4adf2f7c94673097a",
       "version_major": 2,
       "version_minor": 0
      },
      "text/plain": [
       "HBox(children=(FloatProgress(value=0.0, max=11.0), HTML(value='')))"
      ]
     },
     "metadata": {},
     "output_type": "display_data"
    },
    {
     "name": "stderr",
     "output_type": "stream",
     "text": [
      "<ipython-input-3-efc707fda7d1>:68: RuntimeWarning: invalid value encountered in long_scalars\n",
      "  team_wickets_per_run = winning_match_df[winning_match_df['opponent']==selected_country]['wicket'].sum()/winning_match_df[winning_match_df['opponent']==selected_country]['total'].sum()\n",
      "<ipython-input-3-efc707fda7d1>:72: RuntimeWarning: invalid value encountered in long_scalars\n",
      "  team_wicket_per_match = winning_match_df[winning_match_df['opponent']==selected_country]['wicket'].sum()/winning_match_df['match_id'].nunique()\n"
     ]
    },
    {
     "name": "stdout",
     "output_type": "stream",
     "text": [
      "\n",
      "\n"
     ]
    },
    {
     "data": {
      "application/vnd.jupyter.widget-view+json": {
       "model_id": "05b2ae3b62ec470c97ff497b41c2a69c",
       "version_major": 2,
       "version_minor": 0
      },
      "text/plain": [
       "HBox(children=(FloatProgress(value=0.0, max=13.0), HTML(value='')))"
      ]
     },
     "metadata": {},
     "output_type": "display_data"
    },
    {
     "data": {
      "application/vnd.jupyter.widget-view+json": {
       "model_id": "76b095e98fe8410190c14002ad0a5403",
       "version_major": 2,
       "version_minor": 0
      },
      "text/plain": [
       "HBox(children=(FloatProgress(value=0.0, max=16.0), HTML(value='')))"
      ]
     },
     "metadata": {},
     "output_type": "display_data"
    },
    {
     "name": "stderr",
     "output_type": "stream",
     "text": [
      "/opt/anaconda3/lib/python3.8/site-packages/pandas/core/frame.py:4125: SettingWithCopyWarning: \n",
      "A value is trying to be set on a copy of a slice from a DataFrame\n",
      "\n",
      "See the caveats in the documentation: https://pandas.pydata.org/pandas-docs/stable/user_guide/indexing.html#returning-a-view-versus-a-copy\n",
      "  return super().rename(\n",
      "<ipython-input-3-efc707fda7d1>:69: RuntimeWarning: invalid value encountered in long_scalars\n",
      "  bowler_wicket_per_run = winning_match_df[winning_match_df['bowler']==selected_bowler]['wicket'].sum()/winning_match_df[winning_match_df['bowler']==selected_bowler]['total'].sum()\n",
      "<ipython-input-3-efc707fda7d1>:73: RuntimeWarning: invalid value encountered in long_scalars\n",
      "  bowler_wicket_per_match = winning_match_df[winning_match_df['bowler']==selected_bowler]['wicket'].sum()/winning_match_df[winning_match_df['bowler']==selected_bowler]['match_id'].nunique()\n"
     ]
    },
    {
     "name": "stdout",
     "output_type": "stream",
     "text": [
      "\n"
     ]
    },
    {
     "data": {
      "application/vnd.jupyter.widget-view+json": {
       "model_id": "8e9adc91ab8d4ef89df5f332b6761197",
       "version_major": 2,
       "version_minor": 0
      },
      "text/plain": [
       "HBox(children=(FloatProgress(value=0.0, max=16.0), HTML(value='')))"
      ]
     },
     "metadata": {},
     "output_type": "display_data"
    },
    {
     "name": "stdout",
     "output_type": "stream",
     "text": [
      "\n"
     ]
    },
    {
     "data": {
      "application/vnd.jupyter.widget-view+json": {
       "model_id": "c6d017137d7c4f969066a0e410495a9f",
       "version_major": 2,
       "version_minor": 0
      },
      "text/plain": [
       "HBox(children=(FloatProgress(value=0.0, max=17.0), HTML(value='')))"
      ]
     },
     "metadata": {},
     "output_type": "display_data"
    },
    {
     "name": "stdout",
     "output_type": "stream",
     "text": [
      "\n"
     ]
    },
    {
     "data": {
      "application/vnd.jupyter.widget-view+json": {
       "model_id": "4632ad93b1774d8ead858d373822bcc0",
       "version_major": 2,
       "version_minor": 0
      },
      "text/plain": [
       "HBox(children=(FloatProgress(value=0.0, max=18.0), HTML(value='')))"
      ]
     },
     "metadata": {},
     "output_type": "display_data"
    },
    {
     "name": "stdout",
     "output_type": "stream",
     "text": [
      "\n"
     ]
    },
    {
     "data": {
      "application/vnd.jupyter.widget-view+json": {
       "model_id": "b44481d5540b4c7aa60f60b28966db09",
       "version_major": 2,
       "version_minor": 0
      },
      "text/plain": [
       "HBox(children=(FloatProgress(value=0.0, max=16.0), HTML(value='')))"
      ]
     },
     "metadata": {},
     "output_type": "display_data"
    },
    {
     "name": "stdout",
     "output_type": "stream",
     "text": [
      "\n"
     ]
    },
    {
     "data": {
      "application/vnd.jupyter.widget-view+json": {
       "model_id": "6e26fa7f2c7140a693a19bc2da9d09d8",
       "version_major": 2,
       "version_minor": 0
      },
      "text/plain": [
       "HBox(children=(FloatProgress(value=0.0, max=16.0), HTML(value='')))"
      ]
     },
     "metadata": {},
     "output_type": "display_data"
    },
    {
     "name": "stdout",
     "output_type": "stream",
     "text": [
      "\n"
     ]
    },
    {
     "data": {
      "application/vnd.jupyter.widget-view+json": {
       "model_id": "3052b28d129249469573a68aa36c85ad",
       "version_major": 2,
       "version_minor": 0
      },
      "text/plain": [
       "HBox(children=(FloatProgress(value=0.0, max=11.0), HTML(value='')))"
      ]
     },
     "metadata": {},
     "output_type": "display_data"
    },
    {
     "name": "stdout",
     "output_type": "stream",
     "text": [
      "\n"
     ]
    },
    {
     "data": {
      "application/vnd.jupyter.widget-view+json": {
       "model_id": "86300ef3f1894315896b889d371c193c",
       "version_major": 2,
       "version_minor": 0
      },
      "text/plain": [
       "HBox(children=(FloatProgress(value=0.0, max=16.0), HTML(value='')))"
      ]
     },
     "metadata": {},
     "output_type": "display_data"
    },
    {
     "name": "stdout",
     "output_type": "stream",
     "text": [
      "\n"
     ]
    },
    {
     "data": {
      "application/vnd.jupyter.widget-view+json": {
       "model_id": "0691bb1b70554cc0a3e7c389014fffe7",
       "version_major": 2,
       "version_minor": 0
      },
      "text/plain": [
       "HBox(children=(FloatProgress(value=0.0, max=14.0), HTML(value='')))"
      ]
     },
     "metadata": {},
     "output_type": "display_data"
    }
   ],
   "source": [
    "for year in tqdm(['2008','2009','2010','2011','2012','2013','2014','2015','2016','2017','2018','2019']):\n",
    "    performance_cutoff_date_start = datetime.strptime(year+'-01-01','%Y-%m-%d')\n",
    "    performance_cutoff_date_end = datetime.strptime(year+'-12-31','%Y-%m-%d')\n",
    "    scaler = MinMaxScaler()\n",
    "    country_rank = pd.read_csv('csv_data/country_rank_'+year+'.csv')\n",
    "    \n",
    "    country_list = list(country_rank['country'])\n",
    "    \n",
    "    bowler_performance_list = []\n",
    "    for selected_country in tqdm(country_list):\n",
    "        #print(selected_country)\n",
    "        country_games = match_list_df[(match_list_df['date']>=performance_cutoff_date_start) \n",
    "                                 & (match_list_df['date']<=performance_cutoff_date_end)\n",
    "                                 & ( (match_list_df['first_innings']==selected_country)\n",
    "                                    |(match_list_df['second_innings']==selected_country)\n",
    "                                 )]\n",
    "        match_id_list = list(country_games['match_id'])\n",
    "        match_stat_list = []\n",
    "        for match_id in match_id_list:\n",
    "            if country_games[country_games['match_id']==match_id]['train_data'].values[0] == True:\n",
    "                match_df = pd.read_csv('csv_data/train/'+str(match_id)+'.csv')\n",
    "            else:\n",
    "                match_df = pd.read_csv('csv_data/test/'+str(match_id)+'.csv')\n",
    "            match_stat_list.append(match_df)\n",
    "\n",
    "\n",
    "        match_stat_df = pd.concat(match_stat_list)\n",
    "        match_stat_df.fillna('NA',inplace=True)\n",
    "\n",
    "        match_stat_df = match_stat_df.merge(country_games,how='inner',on='match_id')\n",
    "        bowler_list = list(match_stat_df[match_stat_df['opponent']==selected_country]['bowler'].unique())\n",
    "\n",
    "        for selected_bowler in tqdm(bowler_list):\n",
    "            #print(selected_batsman)\n",
    "\n",
    "            bowler_df = match_stat_df[match_stat_df['bowler']==selected_bowler]\n",
    "            total_runs = bowler_df['total'].sum()\n",
    "            run_rate = total_runs/bowler_df.shape[0]\n",
    "            negative_rate = -run_rate\n",
    "\n",
    "            # no_of_wickets,wicket_rate,wicket_per_runs\n",
    "            no_of_wickets = bowler_df['wicket'].sum()-bowler_df[bowler_df['wicket_type']=='run out'].shape[0]\n",
    "            wickets_per_match = no_of_wickets/len(list(bowler_df['match_id'].unique()))\n",
    "            wickets_per_run = no_of_wickets/total_runs\n",
    "\n",
    "\n",
    "            team_score = country_rank[country_rank['country']==selected_country]['score'].values[0]\n",
    "            #opponent_mean\n",
    "\n",
    "            bowler_df.rename(columns={'team':'country'},inplace=True)\n",
    "            bowler_df=bowler_df.merge(country_rank,on='country',how='inner')\n",
    "            opponent_mean = bowler_df[['match_id','country','score']].groupby(['match_id']).min().reset_index()['score'].mean()\n",
    "            matches_played = len(list(bowler_df['match_id'].unique()))\n",
    "            player_of_the_match = country_games[country_games['player_of_match']==selected_bowler].shape[0]\n",
    "\n",
    "            #winning contribution(effectiveness)-% of wickets taken in winning matches\n",
    "            country_win_list = list(country_games[country_games['winner']==selected_country]['match_id'])\n",
    "            winning_match_df = match_stat_df[match_stat_df['match_id'].isin(country_win_list)]\n",
    "\n",
    "            if winning_match_df['wicket'].sum() !=0:\n",
    "                winning_contribution = winning_match_df[winning_match_df['bowler']==selected_bowler]['wicket'].sum()/winning_match_df['wicket'].sum()\n",
    "            else:\n",
    "                winning_contribution = 0\n",
    "\n",
    "            #winning_wicket_per_run rate contribution\n",
    "            #winning wicket_per_match contirbution\n",
    "\n",
    "            team_wickets_per_run = winning_match_df[winning_match_df['opponent']==selected_country]['wicket'].sum()/winning_match_df[winning_match_df['opponent']==selected_country]['total'].sum()\n",
    "            bowler_wicket_per_run = winning_match_df[winning_match_df['bowler']==selected_bowler]['wicket'].sum()/winning_match_df[winning_match_df['bowler']==selected_bowler]['total'].sum()\n",
    "            winning_wicket_per_run_rate_contribution = bowler_wicket_per_run/team_wickets_per_run\n",
    "\n",
    "            team_wicket_per_match = winning_match_df[winning_match_df['opponent']==selected_country]['wicket'].sum()/winning_match_df['match_id'].nunique()\n",
    "            bowler_wicket_per_match = winning_match_df[winning_match_df['bowler']==selected_bowler]['wicket'].sum()/winning_match_df[winning_match_df['bowler']==selected_bowler]['match_id'].nunique()\n",
    "            winning_wicket_per_match_contribution = bowler_wicket_per_match/team_wicket_per_match\n",
    "\n",
    "            no_of_wins=winning_match_df[winning_match_df['bowler']==selected_bowler]['match_id'].nunique()\n",
    "            #consistency\n",
    "            #consistency = 1/match_stat_df[match_stat_df['bowler']==selected_bowler].groupby(['match_id'])['wicket'].sum().reset_index()['wicket'].std()\n",
    "\n",
    "            bowler_dict = {\n",
    "                'bowler':selected_bowler,\n",
    "                'country':selected_country,\n",
    "                'negative_rate':negative_rate,\n",
    "                'no_of_wickets':no_of_wickets,\n",
    "                'wickets_per_match':wickets_per_match,\n",
    "                'wickets_per_run':wickets_per_run,\n",
    "                'no_of_wins':no_of_wins,\n",
    "                'team_score':team_score,\n",
    "                'opponent_mean':opponent_mean,\n",
    "                'winning_contribution':winning_contribution,\n",
    "                'winning_wicket_rate_contribution':winning_wicket_per_match_contribution,\n",
    "\n",
    "\n",
    "            }\n",
    "\n",
    "            bowler_performance_list.append(bowler_dict)\n",
    "\n",
    "    bowler_performance_df = pd.DataFrame(bowler_performance_list)\n",
    "    bowler_performance_df.fillna(0,inplace=True)\n",
    "    bowler_performance_df['bowler_score']=scaler.fit_transform(bowler_performance_df.drop(columns=['bowler','country'])).sum(axis=1)\n",
    "    bowler_performance_df.sort_values('bowler_score',ascending=False,inplace=True)\n",
    "    bowler_performance_df.to_csv('csv_data/bowler_perfromance_'+year+'.csv',index=False)\n",
    "\n",
    "\n"
   ]
  },
  {
   "cell_type": "code",
   "execution_count": null,
   "metadata": {},
   "outputs": [],
   "source": []
  }
 ],
 "metadata": {
  "kernelspec": {
   "display_name": "Python 3",
   "language": "python",
   "name": "python3"
  },
  "language_info": {
   "codemirror_mode": {
    "name": "ipython",
    "version": 3
   },
   "file_extension": ".py",
   "mimetype": "text/x-python",
   "name": "python",
   "nbconvert_exporter": "python",
   "pygments_lexer": "ipython3",
   "version": "3.8.3"
  }
 },
 "nbformat": 4,
 "nbformat_minor": 4
}
