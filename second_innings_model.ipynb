{
 "cells": [
  {
   "cell_type": "code",
   "execution_count": 1,
   "metadata": {},
   "outputs": [],
   "source": [
    "import pandas as pd\n",
    "import numpy as np\n",
    "from datetime import datetime\n",
    "from matplotlib import pyplot as plt\n",
    "from sklearn.preprocessing import MinMaxScaler\n",
    "from tqdm.notebook import tqdm\n",
    "\n",
    "from sklearn.linear_model import LinearRegression\n",
    "from sklearn.preprocessing import StandardScaler,MinMaxScaler\n",
    "from sklearn.metrics import mean_absolute_error,mean_squared_error,accuracy_score\n",
    "import pickle\n",
    "\n",
    "from sklearn.tree import DecisionTreeClassifier\n",
    "from sklearn.ensemble import GradientBoostingClassifier\n",
    "from sklearn.linear_model import LogisticRegression"
   ]
  },
  {
   "cell_type": "code",
   "execution_count": 2,
   "metadata": {},
   "outputs": [],
   "source": [
    "custom_date_parser = lambda x: datetime.strptime(x, \"%Y-%m-%d\")\n",
    "second_inn_feature_df = pd.read_csv('csv_data/feature_second_innings.csv',parse_dates=['match_date'],date_parser=custom_date_parser)"
   ]
  },
  {
   "cell_type": "code",
   "execution_count": 3,
   "metadata": {},
   "outputs": [],
   "source": [
    "second_inn_feature_df.dropna(inplace=True)"
   ]
  },
  {
   "cell_type": "code",
   "execution_count": 4,
   "metadata": {},
   "outputs": [],
   "source": [
    "first_inn_result_df_train=pd.read_csv('csv_data/result_df_tran.csv',parse_dates=['match_date'],date_parser=custom_date_parser)\n",
    "first_inn_result_df_test=pd.read_csv('csv_data/result_df_test.csv',parse_dates=['match_date'],date_parser=custom_date_parser)\n",
    "lr_first_innings=pickle.load(open('first_innings_linear_regression.pkl','rb'))\n",
    "scaler_first_innings = pickle.load(open('first_innings_linear_regression_scaler.pkl','rb'))"
   ]
  },
  {
   "cell_type": "code",
   "execution_count": 5,
   "metadata": {},
   "outputs": [],
   "source": [
    "first_innings_feature_columns = ['team_score', 'opponent_score', 'location_base', 'location_mean','batsman_mean', 'batsman_max', 'bowler_mean']"
   ]
  },
  {
   "cell_type": "code",
   "execution_count": 6,
   "metadata": {},
   "outputs": [],
   "source": [
    "second_inn_feature_train = second_inn_feature_df[second_inn_feature_df['is_train']==True]\n",
    "second_inn_feature_test = second_inn_feature_df[second_inn_feature_df['is_train']==False]"
   ]
  },
  {
   "cell_type": "code",
   "execution_count": 7,
   "metadata": {},
   "outputs": [
    {
     "data": {
      "text/plain": [
       "Index(['match_id', 'match_date', 'team', 'opponent', 'location', 'team_score',\n",
       "       'opponent_score', 'opponent_base', 'opponent_trend',\n",
       "       'opponent_trend_predict', 'opponent_mean', 'location_base',\n",
       "       'location_trend', 'location_trend_predict', 'location_mean',\n",
       "       'current_base', 'current_trend', 'current_trend_predict',\n",
       "       'current_mean', 'batsman_mean', 'batsman_max', 'bowler_mean',\n",
       "       'bowler_max', 'is_train', 'noise', 'target_score', 'runs_scored',\n",
       "       'win'],\n",
       "      dtype='object')"
      ]
     },
     "execution_count": 7,
     "metadata": {},
     "output_type": "execute_result"
    }
   ],
   "source": [
    "second_inn_feature_train.columns"
   ]
  },
  {
   "cell_type": "code",
   "execution_count": 8,
   "metadata": {},
   "outputs": [],
   "source": [
    "second_innings_feature_columns = ['team_score',\n",
    "       'opponent_score', 'opponent_base', 'opponent_trend',\n",
    "       'opponent_trend_predict', 'opponent_mean', 'location_base',\n",
    "       'location_trend', 'location_trend_predict', 'location_mean',\n",
    "       'current_base', 'current_trend', 'current_trend_predict',\n",
    "       'current_mean', 'batsman_mean', 'batsman_max', 'bowler_mean',\n",
    "       'bowler_max','target_score']\n",
    "\n",
    "# second_innings_feature_columns = ['team_score',\n",
    "#         'batsman_mean', 'batsman_max', 'bowler_mean',\n",
    "#        'target_score']\n",
    "\n",
    "second_innings_target = ['win']"
   ]
  },
  {
   "cell_type": "code",
   "execution_count": 9,
   "metadata": {},
   "outputs": [],
   "source": [
    "second_innings_scaler = StandardScaler()\n",
    "x_train = second_innings_scaler.fit_transform(second_inn_feature_train[second_innings_feature_columns])\n",
    "y_train = second_inn_feature_train[second_innings_target]\n",
    "\n",
    "x_test = second_innings_scaler.transform(second_inn_feature_test[second_innings_feature_columns])\n",
    "y_test = second_inn_feature_test[second_innings_target]\n"
   ]
  },
  {
   "cell_type": "code",
   "execution_count": 10,
   "metadata": {},
   "outputs": [
    {
     "name": "stderr",
     "output_type": "stream",
     "text": [
      "/opt/anaconda3/lib/python3.8/site-packages/sklearn/utils/validation.py:73: DataConversionWarning: A column-vector y was passed when a 1d array was expected. Please change the shape of y to (n_samples, ), for example using ravel().\n",
      "  return f(**kwargs)\n"
     ]
    },
    {
     "data": {
      "text/plain": [
       "LogisticRegression()"
      ]
     },
     "execution_count": 10,
     "metadata": {},
     "output_type": "execute_result"
    }
   ],
   "source": [
    "lgr = LogisticRegression()\n",
    "lgr.fit(x_train,y_train)"
   ]
  },
  {
   "cell_type": "code",
   "execution_count": 11,
   "metadata": {},
   "outputs": [],
   "source": [
    "y_train_predict_lgr = lgr.predict(x_train)\n",
    "y_test_predict_lgr = lgr.predict(x_test)"
   ]
  },
  {
   "cell_type": "code",
   "execution_count": 12,
   "metadata": {},
   "outputs": [
    {
     "data": {
      "text/plain": [
       "0.8493589743589743"
      ]
     },
     "execution_count": 12,
     "metadata": {},
     "output_type": "execute_result"
    }
   ],
   "source": [
    "accuracy_score(y_train,y_train_predict_lgr)"
   ]
  },
  {
   "cell_type": "code",
   "execution_count": 13,
   "metadata": {},
   "outputs": [
    {
     "data": {
      "text/plain": [
       "0.8297872340425532"
      ]
     },
     "execution_count": 13,
     "metadata": {},
     "output_type": "execute_result"
    }
   ],
   "source": [
    "accuracy_score(y_test,y_test_predict_lgr)"
   ]
  },
  {
   "cell_type": "code",
   "execution_count": null,
   "metadata": {},
   "outputs": [],
   "source": []
  },
  {
   "cell_type": "code",
   "execution_count": null,
   "metadata": {},
   "outputs": [],
   "source": []
  },
  {
   "cell_type": "markdown",
   "metadata": {},
   "source": [
    "# Combining with first innings results\n",
    "(from simple linear regression)"
   ]
  },
  {
   "cell_type": "code",
   "execution_count": 14,
   "metadata": {},
   "outputs": [],
   "source": [
    "second_inn_feature_test_copy = pd.DataFrame(second_inn_feature_test)\n",
    "second_inn_feature_train_copy = pd.DataFrame(second_inn_feature_train)"
   ]
  },
  {
   "cell_type": "code",
   "execution_count": 15,
   "metadata": {},
   "outputs": [],
   "source": [
    "\n",
    "second_inn_feature_test_copy = second_inn_feature_test_copy.merge(first_inn_result_df_test[['match_id','first_innings_prediction']],\n",
    "                                   on='match_id',\n",
    "                                   how='inner')\n",
    "second_inn_feature_train_copy = second_inn_feature_train_copy.merge(first_inn_result_df_train[['match_id','first_innings_prediction']],\n",
    "                                   on='match_id',\n",
    "                                   how='inner')\n",
    "\n",
    "second_inn_feature_test_copy['target_score'] = second_inn_feature_test_copy['first_innings_prediction']\n",
    "second_inn_feature_train_copy['target_score'] = second_inn_feature_train_copy['first_innings_prediction']"
   ]
  },
  {
   "cell_type": "code",
   "execution_count": 16,
   "metadata": {},
   "outputs": [],
   "source": [
    "x_train_copy = second_innings_scaler.transform(second_inn_feature_train_copy[second_innings_feature_columns])\n",
    "y_train_copy = second_inn_feature_train_copy[second_innings_target]\n",
    "\n",
    "x_test_copy = second_innings_scaler.transform(second_inn_feature_test_copy[second_innings_feature_columns])\n",
    "y_test_copy = second_inn_feature_test_copy[second_innings_target]"
   ]
  },
  {
   "cell_type": "code",
   "execution_count": 17,
   "metadata": {},
   "outputs": [],
   "source": [
    "y_train_copy_predict_lgr = lgr.predict(x_train_copy)\n",
    "y_test_copy_predict_lgr = lgr.predict(x_test_copy)"
   ]
  },
  {
   "cell_type": "code",
   "execution_count": 18,
   "metadata": {},
   "outputs": [
    {
     "data": {
      "text/plain": [
       "0.7668539325842697"
      ]
     },
     "execution_count": 18,
     "metadata": {},
     "output_type": "execute_result"
    }
   ],
   "source": [
    "accuracy_score(y_train_copy,y_train_copy_predict_lgr)"
   ]
  },
  {
   "cell_type": "code",
   "execution_count": 19,
   "metadata": {},
   "outputs": [
    {
     "data": {
      "text/plain": [
       "0.7798165137614679"
      ]
     },
     "execution_count": 19,
     "metadata": {},
     "output_type": "execute_result"
    }
   ],
   "source": [
    "accuracy_score(y_test_copy,y_test_copy_predict_lgr)"
   ]
  },
  {
   "cell_type": "markdown",
   "metadata": {},
   "source": [
    "# Combining with first innings results\n",
    "(obtained using best model-team embedding+batsman embedding+selected features)"
   ]
  },
  {
   "cell_type": "code",
   "execution_count": 24,
   "metadata": {},
   "outputs": [],
   "source": [
    "first_innings_emb_prediction_train = pd.read_csv('csv_data/first_innings_embedding_prediction_train.csv')\n",
    "first_innings_emb_prediction_test = pd.read_csv('csv_data/first_innings_embedding_prediction_test.csv')"
   ]
  },
  {
   "cell_type": "code",
   "execution_count": 25,
   "metadata": {},
   "outputs": [],
   "source": [
    "second_inn_feature_test_copy = pd.DataFrame(second_inn_feature_test)\n",
    "second_inn_feature_train_copy = pd.DataFrame(second_inn_feature_train)"
   ]
  },
  {
   "cell_type": "code",
   "execution_count": 26,
   "metadata": {},
   "outputs": [],
   "source": [
    "second_inn_feature_test_copy = second_inn_feature_test_copy.merge(first_innings_emb_prediction_test[['match_id','predicted_first_innings_runs']],\n",
    "                                   on='match_id',\n",
    "                                   how='inner')\n",
    "second_inn_feature_train_copy = second_inn_feature_train_copy.merge(first_innings_emb_prediction_train[['match_id','predicted_first_innings_runs']],\n",
    "                                   on='match_id',\n",
    "                                   how='inner')"
   ]
  },
  {
   "cell_type": "code",
   "execution_count": 27,
   "metadata": {},
   "outputs": [],
   "source": [
    "second_inn_feature_test_copy['target_score'] = second_inn_feature_test_copy['predicted_first_innings_runs']\n",
    "second_inn_feature_train_copy['target_score'] = second_inn_feature_train_copy['predicted_first_innings_runs']"
   ]
  },
  {
   "cell_type": "code",
   "execution_count": 28,
   "metadata": {},
   "outputs": [],
   "source": [
    "x_train_copy = second_innings_scaler.transform(second_inn_feature_train_copy[second_innings_feature_columns])\n",
    "y_train_copy = second_inn_feature_train_copy[second_innings_target]\n",
    "\n",
    "x_test_copy = second_innings_scaler.transform(second_inn_feature_test_copy[second_innings_feature_columns])\n",
    "y_test_copy = second_inn_feature_test_copy[second_innings_target]"
   ]
  },
  {
   "cell_type": "code",
   "execution_count": 29,
   "metadata": {},
   "outputs": [],
   "source": [
    "y_train_copy_predict_lgr = lgr.predict(x_train_copy)\n",
    "y_test_copy_predict_lgr = lgr.predict(x_test_copy)"
   ]
  },
  {
   "cell_type": "code",
   "execution_count": 30,
   "metadata": {},
   "outputs": [
    {
     "data": {
      "text/plain": [
       "(0.8100436681222707, 0.7889908256880734)"
      ]
     },
     "execution_count": 30,
     "metadata": {},
     "output_type": "execute_result"
    }
   ],
   "source": [
    "accuracy_score(y_train_copy,y_train_copy_predict_lgr),accuracy_score(y_test_copy,y_test_copy_predict_lgr)"
   ]
  },
  {
   "cell_type": "markdown",
   "metadata": {},
   "source": [
    "# playing with probability"
   ]
  },
  {
   "cell_type": "code",
   "execution_count": 150,
   "metadata": {},
   "outputs": [],
   "source": [
    "y_train_predict_lgr_proba = lgr.predict_proba(x_train)\n",
    "y_test_predict_lgr_proba = lgr.predict_proba(x_test)"
   ]
  },
  {
   "cell_type": "code",
   "execution_count": 151,
   "metadata": {},
   "outputs": [
    {
     "data": {
      "text/plain": [
       "(array([0.63285163, 0.36714837]), 0)"
      ]
     },
     "execution_count": 151,
     "metadata": {},
     "output_type": "execute_result"
    }
   ],
   "source": [
    "y_train_predict_lgr_proba[1],y_train_predict_lgr[1]"
   ]
  },
  {
   "cell_type": "code",
   "execution_count": 152,
   "metadata": {},
   "outputs": [
    {
     "data": {
      "text/plain": [
       "(936, 2)"
      ]
     },
     "execution_count": 152,
     "metadata": {},
     "output_type": "execute_result"
    }
   ],
   "source": [
    "y_train_predict_lgr_proba.shape"
   ]
  },
  {
   "cell_type": "code",
   "execution_count": 153,
   "metadata": {},
   "outputs": [],
   "source": [
    "ananlysis_df_train = pd.DataFrame()\n",
    "ananlysis_df_test = pd.DataFrame()\n",
    "\n",
    "ananlysis_df_train['actual']=y_train['win']\n",
    "ananlysis_df_train['predicted_probabilty_loose']=y_train_predict_lgr_proba[:,0]\n",
    "ananlysis_df_train['predicted_probabilty_win']=y_train_predict_lgr_proba[:,1]\n",
    "\n",
    "ananlysis_df_test['actual']=y_test['win']\n",
    "ananlysis_df_test['predicted_probabilty_loose']=y_test_predict_lgr_proba[:,0]\n",
    "ananlysis_df_test['predicted_probabilty_win']=y_test_predict_lgr_proba[:,1]"
   ]
  },
  {
   "cell_type": "code",
   "execution_count": 154,
   "metadata": {},
   "outputs": [],
   "source": [
    "ananlysis_df_train['proba_dif']=abs(ananlysis_df_train['predicted_probabilty_loose']-ananlysis_df_train['predicted_probabilty_win'])\n",
    "ananlysis_df_test['proba_dif']=abs(ananlysis_df_test['predicted_probabilty_loose']-ananlysis_df_test['predicted_probabilty_win'])"
   ]
  },
  {
   "cell_type": "code",
   "execution_count": 155,
   "metadata": {},
   "outputs": [
    {
     "data": {
      "text/plain": [
       "((936, 4), (141, 4))"
      ]
     },
     "execution_count": 155,
     "metadata": {},
     "output_type": "execute_result"
    }
   ],
   "source": [
    "ananlysis_df_train.shape,ananlysis_df_test.shape"
   ]
  },
  {
   "cell_type": "code",
   "execution_count": 156,
   "metadata": {},
   "outputs": [
    {
     "data": {
      "text/plain": [
       "((125, 4), (14, 4))"
      ]
     },
     "execution_count": 156,
     "metadata": {},
     "output_type": "execute_result"
    }
   ],
   "source": [
    "ananlysis_df_train[ananlysis_df_train['proba_dif']<=0.20].shape,ananlysis_df_test[ananlysis_df_test['proba_dif']<=0.20].shape\n",
    "\n"
   ]
  },
  {
   "cell_type": "code",
   "execution_count": 157,
   "metadata": {},
   "outputs": [],
   "source": [
    "ananlysis_df_train=ananlysis_df_train[ananlysis_df_train['proba_dif']>0.10]\n",
    "ananlysis_df_test = ananlysis_df_test[ananlysis_df_test['proba_dif']>0.10]"
   ]
  },
  {
   "cell_type": "code",
   "execution_count": 158,
   "metadata": {},
   "outputs": [],
   "source": [
    "ananlysis_df_train['prediction']=round(ananlysis_df_train['predicted_probabilty_win']).astype(int)\n",
    "ananlysis_df_test['prediction']=round(ananlysis_df_test['predicted_probabilty_win']).astype(int)"
   ]
  },
  {
   "cell_type": "code",
   "execution_count": 159,
   "metadata": {},
   "outputs": [
    {
     "data": {
      "text/plain": [
       "0.8727064220183486"
      ]
     },
     "execution_count": 159,
     "metadata": {},
     "output_type": "execute_result"
    }
   ],
   "source": [
    "ananlysis_df_train[ananlysis_df_train['prediction'] == ananlysis_df_train['actual']].shape[0]/ananlysis_df_train.shape[0]\n"
   ]
  },
  {
   "cell_type": "code",
   "execution_count": 160,
   "metadata": {},
   "outputs": [
    {
     "data": {
      "text/plain": [
       "0.8409090909090909"
      ]
     },
     "execution_count": 160,
     "metadata": {},
     "output_type": "execute_result"
    }
   ],
   "source": [
    "ananlysis_df_test[ananlysis_df_test['prediction'] == ananlysis_df_test['actual']].shape[0]/ananlysis_df_test.shape[0]"
   ]
  },
  {
   "cell_type": "code",
   "execution_count": null,
   "metadata": {},
   "outputs": [],
   "source": []
  },
  {
   "cell_type": "code",
   "execution_count": 20,
   "metadata": {},
   "outputs": [],
   "source": [
    "import pickle"
   ]
  },
  {
   "cell_type": "code",
   "execution_count": 22,
   "metadata": {},
   "outputs": [],
   "source": [
    "pickle.dump(lgr,open('second_innings_model_lrg.pkl','wb'))\n",
    "pickle.dump(second_innings_scaler,open('second_innings_scaler.pkl','wb'))"
   ]
  },
  {
   "cell_type": "markdown",
   "metadata": {},
   "source": [
    "# XGBoost"
   ]
  },
  {
   "cell_type": "code",
   "execution_count": 36,
   "metadata": {},
   "outputs": [],
   "source": [
    "import xgboost as xg\n",
    "from xgboost import XGBClassifier"
   ]
  },
  {
   "cell_type": "code",
   "execution_count": 65,
   "metadata": {},
   "outputs": [
    {
     "data": {
      "text/plain": [
       "XGBClassifier(base_score=0.5, booster='gbtree', colsample_bylevel=1,\n",
       "              colsample_bynode=1, colsample_bytree=1, gamma=0, gpu_id=-1,\n",
       "              importance_type='gain', interaction_constraints='',\n",
       "              learning_rate=0.300000012, max_delta_step=0, max_depth=3,\n",
       "              min_child_weight=1, missing=nan, monotone_constraints='()',\n",
       "              n_estimators=40, n_jobs=0, num_parallel_tree=1, random_state=0,\n",
       "              reg_alpha=0, reg_lambda=1, scale_pos_weight=1, subsample=1,\n",
       "              tree_method='exact', validate_parameters=1, verbosity=None)"
      ]
     },
     "execution_count": 65,
     "metadata": {},
     "output_type": "execute_result"
    }
   ],
   "source": [
    "xg_model = XGBClassifier(max_depth=3,n_estimators=40)\n",
    "xg_model.fit(x_train,y_train)"
   ]
  },
  {
   "cell_type": "code",
   "execution_count": 66,
   "metadata": {},
   "outputs": [],
   "source": [
    "y_train_predict_xg = xg_model.predict(x_train)\n",
    "y_test_predict_xg = xg_model.predict(x_test)"
   ]
  },
  {
   "cell_type": "code",
   "execution_count": 67,
   "metadata": {},
   "outputs": [
    {
     "data": {
      "text/plain": [
       "(0.9348290598290598, 0.8014184397163121)"
      ]
     },
     "execution_count": 67,
     "metadata": {},
     "output_type": "execute_result"
    }
   ],
   "source": [
    "accuracy_score(y_train,y_train_predict_xg),accuracy_score(y_test,y_test_predict_xg)"
   ]
  },
  {
   "cell_type": "markdown",
   "metadata": {},
   "source": [
    "# Random Forest"
   ]
  },
  {
   "cell_type": "code",
   "execution_count": 50,
   "metadata": {},
   "outputs": [],
   "source": [
    "from sklearn.ensemble import RandomForestClassifier"
   ]
  },
  {
   "cell_type": "code",
   "execution_count": 73,
   "metadata": {},
   "outputs": [],
   "source": [
    "rfc = RandomForestClassifier(max_depth=3)"
   ]
  },
  {
   "cell_type": "code",
   "execution_count": 74,
   "metadata": {},
   "outputs": [
    {
     "name": "stderr",
     "output_type": "stream",
     "text": [
      "<ipython-input-74-b87bb2ba9825>:1: DataConversionWarning: A column-vector y was passed when a 1d array was expected. Please change the shape of y to (n_samples,), for example using ravel().\n",
      "  rfc.fit(x_train,y_train)\n"
     ]
    },
    {
     "data": {
      "text/plain": [
       "RandomForestClassifier(max_depth=3)"
      ]
     },
     "execution_count": 74,
     "metadata": {},
     "output_type": "execute_result"
    }
   ],
   "source": [
    "rfc.fit(x_train,y_train)"
   ]
  },
  {
   "cell_type": "code",
   "execution_count": 75,
   "metadata": {},
   "outputs": [],
   "source": [
    "y_train_predict_rfc = rfc.predict(x_train)\n",
    "y_test_predict_rfc = rfc.predict(x_test)"
   ]
  },
  {
   "cell_type": "code",
   "execution_count": 76,
   "metadata": {},
   "outputs": [
    {
     "data": {
      "text/plain": [
       "(0.8322649572649573, 0.7304964539007093)"
      ]
     },
     "execution_count": 76,
     "metadata": {},
     "output_type": "execute_result"
    }
   ],
   "source": [
    "accuracy_score(y_train,y_train_predict_rfc),accuracy_score(y_test,y_test_predict_rfc)"
   ]
  },
  {
   "cell_type": "markdown",
   "metadata": {},
   "source": [
    "# SVM"
   ]
  },
  {
   "cell_type": "code",
   "execution_count": 78,
   "metadata": {},
   "outputs": [],
   "source": [
    "from sklearn import svm\n"
   ]
  },
  {
   "cell_type": "code",
   "execution_count": 115,
   "metadata": {},
   "outputs": [
    {
     "name": "stderr",
     "output_type": "stream",
     "text": [
      "/opt/anaconda3/lib/python3.8/site-packages/sklearn/utils/validation.py:73: DataConversionWarning: A column-vector y was passed when a 1d array was expected. Please change the shape of y to (n_samples, ), for example using ravel().\n",
      "  return f(**kwargs)\n"
     ]
    },
    {
     "data": {
      "text/plain": [
       "SVC(C=0.7, gamma='auto', kernel='linear')"
      ]
     },
     "execution_count": 115,
     "metadata": {},
     "output_type": "execute_result"
    }
   ],
   "source": [
    "clf = svm.SVC(C=0.7,gamma='auto',kernel='linear')\n",
    "clf.fit(x_train,y_train)"
   ]
  },
  {
   "cell_type": "code",
   "execution_count": 116,
   "metadata": {},
   "outputs": [],
   "source": [
    "y_train_predict_svm = clf.predict(x_train)\n",
    "y_test_predict_svm = clf.predict(x_test)"
   ]
  },
  {
   "cell_type": "code",
   "execution_count": 117,
   "metadata": {},
   "outputs": [
    {
     "data": {
      "text/plain": [
       "(0.8482905982905983, 0.8226950354609929)"
      ]
     },
     "execution_count": 117,
     "metadata": {},
     "output_type": "execute_result"
    }
   ],
   "source": [
    "accuracy_score(y_train,y_train_predict_svm),accuracy_score(y_test,y_test_predict_svm)"
   ]
  },
  {
   "cell_type": "code",
   "execution_count": null,
   "metadata": {},
   "outputs": [],
   "source": []
  },
  {
   "cell_type": "markdown",
   "metadata": {},
   "source": [
    "# statsmodel"
   ]
  },
  {
   "cell_type": "code",
   "execution_count": 137,
   "metadata": {},
   "outputs": [],
   "source": [
    "import statsmodels.api as sm "
   ]
  },
  {
   "cell_type": "code",
   "execution_count": 138,
   "metadata": {},
   "outputs": [
    {
     "name": "stdout",
     "output_type": "stream",
     "text": [
      "Warning: Maximum number of iterations has been exceeded.\n",
      "         Current function value: 0.363850\n",
      "         Iterations: 35\n"
     ]
    },
    {
     "name": "stderr",
     "output_type": "stream",
     "text": [
      "/opt/anaconda3/lib/python3.8/site-packages/statsmodels/base/model.py:567: ConvergenceWarning: Maximum Likelihood optimization failed to converge. Check mle_retvals\n",
      "  warn(\"Maximum Likelihood optimization failed to converge. \"\n"
     ]
    }
   ],
   "source": [
    "log_reg = sm.Logit(y_train, sm.add_constant(x_train)).fit() "
   ]
  },
  {
   "cell_type": "code",
   "execution_count": 139,
   "metadata": {},
   "outputs": [],
   "source": [
    "y_train_predict_stats = np.round(np.array(log_reg.predict(sm.add_constant(x_train))))\n",
    "y_test_predict_stats = np.round(np.array(log_reg.predict(sm.add_constant(x_test))))"
   ]
  },
  {
   "cell_type": "code",
   "execution_count": 140,
   "metadata": {},
   "outputs": [
    {
     "data": {
      "text/plain": [
       "(0.8461538461538461, 0.8297872340425532)"
      ]
     },
     "execution_count": 140,
     "metadata": {},
     "output_type": "execute_result"
    }
   ],
   "source": [
    "accuracy_score(y_train,y_train_predict_stats),accuracy_score(y_test,y_test_predict_stats)"
   ]
  },
  {
   "cell_type": "code",
   "execution_count": 141,
   "metadata": {},
   "outputs": [
    {
     "name": "stderr",
     "output_type": "stream",
     "text": [
      "/opt/anaconda3/lib/python3.8/site-packages/statsmodels/base/model.py:1354: RuntimeWarning: invalid value encountered in sqrt\n",
      "  bse_ = np.sqrt(np.diag(self.cov_params()))\n",
      "/opt/anaconda3/lib/python3.8/site-packages/scipy/stats/_distn_infrastructure.py:1932: RuntimeWarning: invalid value encountered in less_equal\n",
      "  cond2 = cond0 & (x <= _a)\n"
     ]
    },
    {
     "data": {
      "text/html": [
       "<table class=\"simpletable\">\n",
       "<caption>Logit Regression Results</caption>\n",
       "<tr>\n",
       "  <th>Dep. Variable:</th>          <td>win</td>       <th>  No. Observations:  </th>   <td>   936</td>  \n",
       "</tr>\n",
       "<tr>\n",
       "  <th>Model:</th>                 <td>Logit</td>      <th>  Df Residuals:      </th>   <td>   919</td>  \n",
       "</tr>\n",
       "<tr>\n",
       "  <th>Method:</th>                 <td>MLE</td>       <th>  Df Model:          </th>   <td>    16</td>  \n",
       "</tr>\n",
       "<tr>\n",
       "  <th>Date:</th>            <td>Mon, 14 Dec 2020</td> <th>  Pseudo R-squ.:     </th>   <td>0.4749</td>  \n",
       "</tr>\n",
       "<tr>\n",
       "  <th>Time:</th>                <td>13:42:07</td>     <th>  Log-Likelihood:    </th>  <td> -340.56</td> \n",
       "</tr>\n",
       "<tr>\n",
       "  <th>converged:</th>             <td>False</td>      <th>  LL-Null:           </th>  <td> -648.57</td> \n",
       "</tr>\n",
       "<tr>\n",
       "  <th>Covariance Type:</th>     <td>nonrobust</td>    <th>  LLR p-value:       </th> <td>9.143e-121</td>\n",
       "</tr>\n",
       "</table>\n",
       "<table class=\"simpletable\">\n",
       "<tr>\n",
       "    <td></td>       <th>coef</th>     <th>std err</th>      <th>z</th>      <th>P>|z|</th>  <th>[0.025</th>    <th>0.975]</th>  \n",
       "</tr>\n",
       "<tr>\n",
       "  <th>const</th> <td>    0.2652</td> <td>    0.100</td> <td>    2.664</td> <td> 0.008</td> <td>    0.070</td> <td>    0.460</td>\n",
       "</tr>\n",
       "<tr>\n",
       "  <th>x1</th>    <td>   -0.9447</td> <td>    0.166</td> <td>   -5.685</td> <td> 0.000</td> <td>   -1.270</td> <td>   -0.619</td>\n",
       "</tr>\n",
       "<tr>\n",
       "  <th>x2</th>    <td>    0.1016</td> <td>    0.140</td> <td>    0.726</td> <td> 0.468</td> <td>   -0.173</td> <td>    0.376</td>\n",
       "</tr>\n",
       "<tr>\n",
       "  <th>x3</th>    <td>    0.0373</td> <td>      nan</td> <td>      nan</td> <td>   nan</td> <td>      nan</td> <td>      nan</td>\n",
       "</tr>\n",
       "<tr>\n",
       "  <th>x4</th>    <td>    0.1613</td> <td>    0.348</td> <td>    0.463</td> <td> 0.643</td> <td>   -0.521</td> <td>    0.843</td>\n",
       "</tr>\n",
       "<tr>\n",
       "  <th>x5</th>    <td>    0.0571</td> <td>      nan</td> <td>      nan</td> <td>   nan</td> <td>      nan</td> <td>      nan</td>\n",
       "</tr>\n",
       "<tr>\n",
       "  <th>x6</th>    <td>    0.0958</td> <td>      nan</td> <td>      nan</td> <td>   nan</td> <td>      nan</td> <td>      nan</td>\n",
       "</tr>\n",
       "<tr>\n",
       "  <th>x7</th>    <td>    0.3765</td> <td> 5.92e+06</td> <td> 6.36e-08</td> <td> 1.000</td> <td>-1.16e+07</td> <td> 1.16e+07</td>\n",
       "</tr>\n",
       "<tr>\n",
       "  <th>x8</th>    <td>    0.3464</td> <td>    0.362</td> <td>    0.957</td> <td> 0.339</td> <td>   -0.363</td> <td>    1.056</td>\n",
       "</tr>\n",
       "<tr>\n",
       "  <th>x9</th>    <td>   -0.1617</td> <td> 6.01e+06</td> <td>-2.69e-08</td> <td> 1.000</td> <td>-1.18e+07</td> <td> 1.18e+07</td>\n",
       "</tr>\n",
       "<tr>\n",
       "  <th>x10</th>   <td>    0.1825</td> <td>  6.9e+06</td> <td> 2.65e-08</td> <td> 1.000</td> <td>-1.35e+07</td> <td> 1.35e+07</td>\n",
       "</tr>\n",
       "<tr>\n",
       "  <th>x11</th>   <td>   -0.8802</td> <td>      nan</td> <td>      nan</td> <td>   nan</td> <td>      nan</td> <td>      nan</td>\n",
       "</tr>\n",
       "<tr>\n",
       "  <th>x12</th>   <td>   -1.3996</td> <td>    1.155</td> <td>   -1.212</td> <td> 0.226</td> <td>   -3.664</td> <td>    0.865</td>\n",
       "</tr>\n",
       "<tr>\n",
       "  <th>x13</th>   <td>    0.9292</td> <td>      nan</td> <td>      nan</td> <td>   nan</td> <td>      nan</td> <td>      nan</td>\n",
       "</tr>\n",
       "<tr>\n",
       "  <th>x14</th>   <td>    0.0661</td> <td>      nan</td> <td>      nan</td> <td>   nan</td> <td>      nan</td> <td>      nan</td>\n",
       "</tr>\n",
       "<tr>\n",
       "  <th>x15</th>   <td>    3.4986</td> <td>    0.312</td> <td>   11.211</td> <td> 0.000</td> <td>    2.887</td> <td>    4.110</td>\n",
       "</tr>\n",
       "<tr>\n",
       "  <th>x16</th>   <td>   -1.7406</td> <td>    0.216</td> <td>   -8.065</td> <td> 0.000</td> <td>   -2.164</td> <td>   -1.318</td>\n",
       "</tr>\n",
       "<tr>\n",
       "  <th>x17</th>   <td>   -0.5442</td> <td>    0.218</td> <td>   -2.498</td> <td> 0.012</td> <td>   -0.971</td> <td>   -0.117</td>\n",
       "</tr>\n",
       "<tr>\n",
       "  <th>x18</th>   <td>   -0.1454</td> <td>    0.196</td> <td>   -0.742</td> <td> 0.458</td> <td>   -0.530</td> <td>    0.239</td>\n",
       "</tr>\n",
       "<tr>\n",
       "  <th>x19</th>   <td>   -1.7586</td> <td>    0.149</td> <td>  -11.777</td> <td> 0.000</td> <td>   -2.051</td> <td>   -1.466</td>\n",
       "</tr>\n",
       "</table>"
      ],
      "text/plain": [
       "<class 'statsmodels.iolib.summary.Summary'>\n",
       "\"\"\"\n",
       "                           Logit Regression Results                           \n",
       "==============================================================================\n",
       "Dep. Variable:                    win   No. Observations:                  936\n",
       "Model:                          Logit   Df Residuals:                      919\n",
       "Method:                           MLE   Df Model:                           16\n",
       "Date:                Mon, 14 Dec 2020   Pseudo R-squ.:                  0.4749\n",
       "Time:                        13:42:07   Log-Likelihood:                -340.56\n",
       "converged:                      False   LL-Null:                       -648.57\n",
       "Covariance Type:            nonrobust   LLR p-value:                9.143e-121\n",
       "==============================================================================\n",
       "                 coef    std err          z      P>|z|      [0.025      0.975]\n",
       "------------------------------------------------------------------------------\n",
       "const          0.2652      0.100      2.664      0.008       0.070       0.460\n",
       "x1            -0.9447      0.166     -5.685      0.000      -1.270      -0.619\n",
       "x2             0.1016      0.140      0.726      0.468      -0.173       0.376\n",
       "x3             0.0373        nan        nan        nan         nan         nan\n",
       "x4             0.1613      0.348      0.463      0.643      -0.521       0.843\n",
       "x5             0.0571        nan        nan        nan         nan         nan\n",
       "x6             0.0958        nan        nan        nan         nan         nan\n",
       "x7             0.3765   5.92e+06   6.36e-08      1.000   -1.16e+07    1.16e+07\n",
       "x8             0.3464      0.362      0.957      0.339      -0.363       1.056\n",
       "x9            -0.1617   6.01e+06  -2.69e-08      1.000   -1.18e+07    1.18e+07\n",
       "x10            0.1825    6.9e+06   2.65e-08      1.000   -1.35e+07    1.35e+07\n",
       "x11           -0.8802        nan        nan        nan         nan         nan\n",
       "x12           -1.3996      1.155     -1.212      0.226      -3.664       0.865\n",
       "x13            0.9292        nan        nan        nan         nan         nan\n",
       "x14            0.0661        nan        nan        nan         nan         nan\n",
       "x15            3.4986      0.312     11.211      0.000       2.887       4.110\n",
       "x16           -1.7406      0.216     -8.065      0.000      -2.164      -1.318\n",
       "x17           -0.5442      0.218     -2.498      0.012      -0.971      -0.117\n",
       "x18           -0.1454      0.196     -0.742      0.458      -0.530       0.239\n",
       "x19           -1.7586      0.149    -11.777      0.000      -2.051      -1.466\n",
       "==============================================================================\n",
       "\"\"\""
      ]
     },
     "execution_count": 141,
     "metadata": {},
     "output_type": "execute_result"
    }
   ],
   "source": [
    "log_reg.summary()"
   ]
  },
  {
   "cell_type": "code",
   "execution_count": 142,
   "metadata": {},
   "outputs": [],
   "source": [
    "#constant,x1,x15,x16,x17,x19"
   ]
  },
  {
   "cell_type": "markdown",
   "metadata": {},
   "source": [
    "# Naive Bayes"
   ]
  },
  {
   "cell_type": "code",
   "execution_count": 155,
   "metadata": {},
   "outputs": [],
   "source": [
    "from sklearn.naive_bayes import GaussianNB"
   ]
  },
  {
   "cell_type": "code",
   "execution_count": 157,
   "metadata": {},
   "outputs": [
    {
     "name": "stderr",
     "output_type": "stream",
     "text": [
      "/opt/anaconda3/lib/python3.8/site-packages/sklearn/utils/validation.py:73: DataConversionWarning: A column-vector y was passed when a 1d array was expected. Please change the shape of y to (n_samples, ), for example using ravel().\n",
      "  return f(**kwargs)\n"
     ]
    },
    {
     "data": {
      "text/plain": [
       "GaussianNB()"
      ]
     },
     "execution_count": 157,
     "metadata": {},
     "output_type": "execute_result"
    }
   ],
   "source": [
    "nb = GaussianNB()\n",
    "nb.fit(x_train,y_train)"
   ]
  },
  {
   "cell_type": "code",
   "execution_count": 158,
   "metadata": {},
   "outputs": [],
   "source": [
    "y_train_predict_nb = nb.predict(x_train)\n",
    "y_test_predict_nb = nb.predict(x_test)"
   ]
  },
  {
   "cell_type": "code",
   "execution_count": 159,
   "metadata": {},
   "outputs": [
    {
     "data": {
      "text/plain": [
       "(0.7510683760683761, 0.7092198581560284)"
      ]
     },
     "execution_count": 159,
     "metadata": {},
     "output_type": "execute_result"
    }
   ],
   "source": [
    "accuracy_score(y_train,y_train_predict_nb),accuracy_score(y_test,y_test_predict_nb)"
   ]
  },
  {
   "cell_type": "markdown",
   "metadata": {},
   "source": []
  },
  {
   "cell_type": "code",
   "execution_count": null,
   "metadata": {},
   "outputs": [],
   "source": []
  }
 ],
 "metadata": {
  "kernelspec": {
   "display_name": "Python 3",
   "language": "python",
   "name": "python3"
  },
  "language_info": {
   "codemirror_mode": {
    "name": "ipython",
    "version": 3
   },
   "file_extension": ".py",
   "mimetype": "text/x-python",
   "name": "python",
   "nbconvert_exporter": "python",
   "pygments_lexer": "ipython3",
   "version": "3.8.3"
  }
 },
 "nbformat": 4,
 "nbformat_minor": 4
}
